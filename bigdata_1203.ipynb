{
 "cells": [
  {
   "cell_type": "code",
   "execution_count": 2,
   "metadata": {},
   "outputs": [],
   "source": [
    "import warnings\n",
    "warnings.filterwarnings(\"ignore\")\n",
    "import pandas as pd \n",
    "data = pd.read_csv('C:/Users/MJ/Desktop/새 폴더 (2)/[2] 교재 data/breast-cancer-wisconsin.csv')"
   ]
  },
  {
   "cell_type": "code",
   "execution_count": 2,
   "metadata": {},
   "outputs": [
    {
     "data": {
      "text/html": [
       "<div>\n",
       "<style scoped>\n",
       "    .dataframe tbody tr th:only-of-type {\n",
       "        vertical-align: middle;\n",
       "    }\n",
       "\n",
       "    .dataframe tbody tr th {\n",
       "        vertical-align: top;\n",
       "    }\n",
       "\n",
       "    .dataframe thead th {\n",
       "        text-align: right;\n",
       "    }\n",
       "</style>\n",
       "<table border=\"1\" class=\"dataframe\">\n",
       "  <thead>\n",
       "    <tr style=\"text-align: right;\">\n",
       "      <th></th>\n",
       "      <th>code</th>\n",
       "      <th>Clump_Thickness</th>\n",
       "      <th>Cell_Size</th>\n",
       "      <th>Cell_Shape</th>\n",
       "      <th>Marginal_Adhesion</th>\n",
       "      <th>Single_Epithelial_Cell_Size</th>\n",
       "      <th>Bare_Nuclei</th>\n",
       "      <th>Bland_Chromatin</th>\n",
       "      <th>Normal_Nucleoli</th>\n",
       "      <th>Mitoses</th>\n",
       "      <th>Class</th>\n",
       "    </tr>\n",
       "  </thead>\n",
       "  <tbody>\n",
       "    <tr>\n",
       "      <th>0</th>\n",
       "      <td>1000025</td>\n",
       "      <td>5</td>\n",
       "      <td>1</td>\n",
       "      <td>1</td>\n",
       "      <td>1</td>\n",
       "      <td>2</td>\n",
       "      <td>1</td>\n",
       "      <td>3</td>\n",
       "      <td>1</td>\n",
       "      <td>1</td>\n",
       "      <td>0</td>\n",
       "    </tr>\n",
       "    <tr>\n",
       "      <th>1</th>\n",
       "      <td>1002945</td>\n",
       "      <td>5</td>\n",
       "      <td>4</td>\n",
       "      <td>4</td>\n",
       "      <td>5</td>\n",
       "      <td>7</td>\n",
       "      <td>10</td>\n",
       "      <td>3</td>\n",
       "      <td>2</td>\n",
       "      <td>1</td>\n",
       "      <td>0</td>\n",
       "    </tr>\n",
       "    <tr>\n",
       "      <th>2</th>\n",
       "      <td>1015425</td>\n",
       "      <td>3</td>\n",
       "      <td>1</td>\n",
       "      <td>1</td>\n",
       "      <td>1</td>\n",
       "      <td>2</td>\n",
       "      <td>2</td>\n",
       "      <td>3</td>\n",
       "      <td>1</td>\n",
       "      <td>1</td>\n",
       "      <td>0</td>\n",
       "    </tr>\n",
       "    <tr>\n",
       "      <th>3</th>\n",
       "      <td>1016277</td>\n",
       "      <td>6</td>\n",
       "      <td>8</td>\n",
       "      <td>8</td>\n",
       "      <td>1</td>\n",
       "      <td>3</td>\n",
       "      <td>4</td>\n",
       "      <td>3</td>\n",
       "      <td>7</td>\n",
       "      <td>1</td>\n",
       "      <td>0</td>\n",
       "    </tr>\n",
       "    <tr>\n",
       "      <th>4</th>\n",
       "      <td>1017023</td>\n",
       "      <td>4</td>\n",
       "      <td>1</td>\n",
       "      <td>1</td>\n",
       "      <td>3</td>\n",
       "      <td>2</td>\n",
       "      <td>1</td>\n",
       "      <td>3</td>\n",
       "      <td>1</td>\n",
       "      <td>1</td>\n",
       "      <td>0</td>\n",
       "    </tr>\n",
       "    <tr>\n",
       "      <th>...</th>\n",
       "      <td>...</td>\n",
       "      <td>...</td>\n",
       "      <td>...</td>\n",
       "      <td>...</td>\n",
       "      <td>...</td>\n",
       "      <td>...</td>\n",
       "      <td>...</td>\n",
       "      <td>...</td>\n",
       "      <td>...</td>\n",
       "      <td>...</td>\n",
       "      <td>...</td>\n",
       "    </tr>\n",
       "    <tr>\n",
       "      <th>678</th>\n",
       "      <td>776715</td>\n",
       "      <td>3</td>\n",
       "      <td>1</td>\n",
       "      <td>1</td>\n",
       "      <td>1</td>\n",
       "      <td>3</td>\n",
       "      <td>2</td>\n",
       "      <td>1</td>\n",
       "      <td>1</td>\n",
       "      <td>1</td>\n",
       "      <td>0</td>\n",
       "    </tr>\n",
       "    <tr>\n",
       "      <th>679</th>\n",
       "      <td>841769</td>\n",
       "      <td>2</td>\n",
       "      <td>1</td>\n",
       "      <td>1</td>\n",
       "      <td>1</td>\n",
       "      <td>2</td>\n",
       "      <td>1</td>\n",
       "      <td>1</td>\n",
       "      <td>1</td>\n",
       "      <td>1</td>\n",
       "      <td>0</td>\n",
       "    </tr>\n",
       "    <tr>\n",
       "      <th>680</th>\n",
       "      <td>888820</td>\n",
       "      <td>5</td>\n",
       "      <td>10</td>\n",
       "      <td>10</td>\n",
       "      <td>3</td>\n",
       "      <td>7</td>\n",
       "      <td>3</td>\n",
       "      <td>8</td>\n",
       "      <td>10</td>\n",
       "      <td>2</td>\n",
       "      <td>1</td>\n",
       "    </tr>\n",
       "    <tr>\n",
       "      <th>681</th>\n",
       "      <td>897471</td>\n",
       "      <td>4</td>\n",
       "      <td>8</td>\n",
       "      <td>6</td>\n",
       "      <td>4</td>\n",
       "      <td>3</td>\n",
       "      <td>4</td>\n",
       "      <td>10</td>\n",
       "      <td>6</td>\n",
       "      <td>1</td>\n",
       "      <td>1</td>\n",
       "    </tr>\n",
       "    <tr>\n",
       "      <th>682</th>\n",
       "      <td>897471</td>\n",
       "      <td>4</td>\n",
       "      <td>8</td>\n",
       "      <td>8</td>\n",
       "      <td>5</td>\n",
       "      <td>4</td>\n",
       "      <td>5</td>\n",
       "      <td>10</td>\n",
       "      <td>4</td>\n",
       "      <td>1</td>\n",
       "      <td>1</td>\n",
       "    </tr>\n",
       "  </tbody>\n",
       "</table>\n",
       "<p>683 rows × 11 columns</p>\n",
       "</div>"
      ],
      "text/plain": [
       "        code  Clump_Thickness  Cell_Size  Cell_Shape  Marginal_Adhesion  \\\n",
       "0    1000025                5          1           1                  1   \n",
       "1    1002945                5          4           4                  5   \n",
       "2    1015425                3          1           1                  1   \n",
       "3    1016277                6          8           8                  1   \n",
       "4    1017023                4          1           1                  3   \n",
       "..       ...              ...        ...         ...                ...   \n",
       "678   776715                3          1           1                  1   \n",
       "679   841769                2          1           1                  1   \n",
       "680   888820                5         10          10                  3   \n",
       "681   897471                4          8           6                  4   \n",
       "682   897471                4          8           8                  5   \n",
       "\n",
       "     Single_Epithelial_Cell_Size  Bare_Nuclei  Bland_Chromatin  \\\n",
       "0                              2            1                3   \n",
       "1                              7           10                3   \n",
       "2                              2            2                3   \n",
       "3                              3            4                3   \n",
       "4                              2            1                3   \n",
       "..                           ...          ...              ...   \n",
       "678                            3            2                1   \n",
       "679                            2            1                1   \n",
       "680                            7            3                8   \n",
       "681                            3            4               10   \n",
       "682                            4            5               10   \n",
       "\n",
       "     Normal_Nucleoli  Mitoses  Class  \n",
       "0                  1        1      0  \n",
       "1                  2        1      0  \n",
       "2                  1        1      0  \n",
       "3                  7        1      0  \n",
       "4                  1        1      0  \n",
       "..               ...      ...    ...  \n",
       "678                1        1      0  \n",
       "679                1        1      0  \n",
       "680               10        2      1  \n",
       "681                6        1      1  \n",
       "682                4        1      1  \n",
       "\n",
       "[683 rows x 11 columns]"
      ]
     },
     "execution_count": 2,
     "metadata": {},
     "output_type": "execute_result"
    }
   ],
   "source": [
    "data"
   ]
  },
  {
   "cell_type": "code",
   "execution_count": 3,
   "metadata": {},
   "outputs": [],
   "source": [
    "X=data[data.columns[1:10]]\n",
    "y=data[[\"Class\"]]"
   ]
  },
  {
   "cell_type": "code",
   "execution_count": 4,
   "metadata": {},
   "outputs": [
    {
     "data": {
      "text/html": [
       "<div>\n",
       "<style scoped>\n",
       "    .dataframe tbody tr th:only-of-type {\n",
       "        vertical-align: middle;\n",
       "    }\n",
       "\n",
       "    .dataframe tbody tr th {\n",
       "        vertical-align: top;\n",
       "    }\n",
       "\n",
       "    .dataframe thead th {\n",
       "        text-align: right;\n",
       "    }\n",
       "</style>\n",
       "<table border=\"1\" class=\"dataframe\">\n",
       "  <thead>\n",
       "    <tr style=\"text-align: right;\">\n",
       "      <th></th>\n",
       "      <th>Clump_Thickness</th>\n",
       "      <th>Cell_Size</th>\n",
       "      <th>Cell_Shape</th>\n",
       "      <th>Marginal_Adhesion</th>\n",
       "      <th>Single_Epithelial_Cell_Size</th>\n",
       "      <th>Bare_Nuclei</th>\n",
       "      <th>Bland_Chromatin</th>\n",
       "      <th>Normal_Nucleoli</th>\n",
       "      <th>Mitoses</th>\n",
       "    </tr>\n",
       "  </thead>\n",
       "  <tbody>\n",
       "    <tr>\n",
       "      <th>0</th>\n",
       "      <td>5</td>\n",
       "      <td>1</td>\n",
       "      <td>1</td>\n",
       "      <td>1</td>\n",
       "      <td>2</td>\n",
       "      <td>1</td>\n",
       "      <td>3</td>\n",
       "      <td>1</td>\n",
       "      <td>1</td>\n",
       "    </tr>\n",
       "    <tr>\n",
       "      <th>1</th>\n",
       "      <td>5</td>\n",
       "      <td>4</td>\n",
       "      <td>4</td>\n",
       "      <td>5</td>\n",
       "      <td>7</td>\n",
       "      <td>10</td>\n",
       "      <td>3</td>\n",
       "      <td>2</td>\n",
       "      <td>1</td>\n",
       "    </tr>\n",
       "    <tr>\n",
       "      <th>2</th>\n",
       "      <td>3</td>\n",
       "      <td>1</td>\n",
       "      <td>1</td>\n",
       "      <td>1</td>\n",
       "      <td>2</td>\n",
       "      <td>2</td>\n",
       "      <td>3</td>\n",
       "      <td>1</td>\n",
       "      <td>1</td>\n",
       "    </tr>\n",
       "    <tr>\n",
       "      <th>3</th>\n",
       "      <td>6</td>\n",
       "      <td>8</td>\n",
       "      <td>8</td>\n",
       "      <td>1</td>\n",
       "      <td>3</td>\n",
       "      <td>4</td>\n",
       "      <td>3</td>\n",
       "      <td>7</td>\n",
       "      <td>1</td>\n",
       "    </tr>\n",
       "    <tr>\n",
       "      <th>4</th>\n",
       "      <td>4</td>\n",
       "      <td>1</td>\n",
       "      <td>1</td>\n",
       "      <td>3</td>\n",
       "      <td>2</td>\n",
       "      <td>1</td>\n",
       "      <td>3</td>\n",
       "      <td>1</td>\n",
       "      <td>1</td>\n",
       "    </tr>\n",
       "    <tr>\n",
       "      <th>...</th>\n",
       "      <td>...</td>\n",
       "      <td>...</td>\n",
       "      <td>...</td>\n",
       "      <td>...</td>\n",
       "      <td>...</td>\n",
       "      <td>...</td>\n",
       "      <td>...</td>\n",
       "      <td>...</td>\n",
       "      <td>...</td>\n",
       "    </tr>\n",
       "    <tr>\n",
       "      <th>678</th>\n",
       "      <td>3</td>\n",
       "      <td>1</td>\n",
       "      <td>1</td>\n",
       "      <td>1</td>\n",
       "      <td>3</td>\n",
       "      <td>2</td>\n",
       "      <td>1</td>\n",
       "      <td>1</td>\n",
       "      <td>1</td>\n",
       "    </tr>\n",
       "    <tr>\n",
       "      <th>679</th>\n",
       "      <td>2</td>\n",
       "      <td>1</td>\n",
       "      <td>1</td>\n",
       "      <td>1</td>\n",
       "      <td>2</td>\n",
       "      <td>1</td>\n",
       "      <td>1</td>\n",
       "      <td>1</td>\n",
       "      <td>1</td>\n",
       "    </tr>\n",
       "    <tr>\n",
       "      <th>680</th>\n",
       "      <td>5</td>\n",
       "      <td>10</td>\n",
       "      <td>10</td>\n",
       "      <td>3</td>\n",
       "      <td>7</td>\n",
       "      <td>3</td>\n",
       "      <td>8</td>\n",
       "      <td>10</td>\n",
       "      <td>2</td>\n",
       "    </tr>\n",
       "    <tr>\n",
       "      <th>681</th>\n",
       "      <td>4</td>\n",
       "      <td>8</td>\n",
       "      <td>6</td>\n",
       "      <td>4</td>\n",
       "      <td>3</td>\n",
       "      <td>4</td>\n",
       "      <td>10</td>\n",
       "      <td>6</td>\n",
       "      <td>1</td>\n",
       "    </tr>\n",
       "    <tr>\n",
       "      <th>682</th>\n",
       "      <td>4</td>\n",
       "      <td>8</td>\n",
       "      <td>8</td>\n",
       "      <td>5</td>\n",
       "      <td>4</td>\n",
       "      <td>5</td>\n",
       "      <td>10</td>\n",
       "      <td>4</td>\n",
       "      <td>1</td>\n",
       "    </tr>\n",
       "  </tbody>\n",
       "</table>\n",
       "<p>683 rows × 9 columns</p>\n",
       "</div>"
      ],
      "text/plain": [
       "     Clump_Thickness  Cell_Size  Cell_Shape  Marginal_Adhesion  \\\n",
       "0                  5          1           1                  1   \n",
       "1                  5          4           4                  5   \n",
       "2                  3          1           1                  1   \n",
       "3                  6          8           8                  1   \n",
       "4                  4          1           1                  3   \n",
       "..               ...        ...         ...                ...   \n",
       "678                3          1           1                  1   \n",
       "679                2          1           1                  1   \n",
       "680                5         10          10                  3   \n",
       "681                4          8           6                  4   \n",
       "682                4          8           8                  5   \n",
       "\n",
       "     Single_Epithelial_Cell_Size  Bare_Nuclei  Bland_Chromatin  \\\n",
       "0                              2            1                3   \n",
       "1                              7           10                3   \n",
       "2                              2            2                3   \n",
       "3                              3            4                3   \n",
       "4                              2            1                3   \n",
       "..                           ...          ...              ...   \n",
       "678                            3            2                1   \n",
       "679                            2            1                1   \n",
       "680                            7            3                8   \n",
       "681                            3            4               10   \n",
       "682                            4            5               10   \n",
       "\n",
       "     Normal_Nucleoli  Mitoses  \n",
       "0                  1        1  \n",
       "1                  2        1  \n",
       "2                  1        1  \n",
       "3                  7        1  \n",
       "4                  1        1  \n",
       "..               ...      ...  \n",
       "678                1        1  \n",
       "679                1        1  \n",
       "680               10        2  \n",
       "681                6        1  \n",
       "682                4        1  \n",
       "\n",
       "[683 rows x 9 columns]"
      ]
     },
     "execution_count": 4,
     "metadata": {},
     "output_type": "execute_result"
    }
   ],
   "source": [
    "X"
   ]
  },
  {
   "cell_type": "code",
   "execution_count": 5,
   "metadata": {},
   "outputs": [
    {
     "data": {
      "text/html": [
       "<div>\n",
       "<style scoped>\n",
       "    .dataframe tbody tr th:only-of-type {\n",
       "        vertical-align: middle;\n",
       "    }\n",
       "\n",
       "    .dataframe tbody tr th {\n",
       "        vertical-align: top;\n",
       "    }\n",
       "\n",
       "    .dataframe thead th {\n",
       "        text-align: right;\n",
       "    }\n",
       "</style>\n",
       "<table border=\"1\" class=\"dataframe\">\n",
       "  <thead>\n",
       "    <tr style=\"text-align: right;\">\n",
       "      <th></th>\n",
       "      <th>Class</th>\n",
       "    </tr>\n",
       "  </thead>\n",
       "  <tbody>\n",
       "    <tr>\n",
       "      <th>0</th>\n",
       "      <td>0</td>\n",
       "    </tr>\n",
       "    <tr>\n",
       "      <th>1</th>\n",
       "      <td>0</td>\n",
       "    </tr>\n",
       "    <tr>\n",
       "      <th>2</th>\n",
       "      <td>0</td>\n",
       "    </tr>\n",
       "    <tr>\n",
       "      <th>3</th>\n",
       "      <td>0</td>\n",
       "    </tr>\n",
       "    <tr>\n",
       "      <th>4</th>\n",
       "      <td>0</td>\n",
       "    </tr>\n",
       "    <tr>\n",
       "      <th>...</th>\n",
       "      <td>...</td>\n",
       "    </tr>\n",
       "    <tr>\n",
       "      <th>678</th>\n",
       "      <td>0</td>\n",
       "    </tr>\n",
       "    <tr>\n",
       "      <th>679</th>\n",
       "      <td>0</td>\n",
       "    </tr>\n",
       "    <tr>\n",
       "      <th>680</th>\n",
       "      <td>1</td>\n",
       "    </tr>\n",
       "    <tr>\n",
       "      <th>681</th>\n",
       "      <td>1</td>\n",
       "    </tr>\n",
       "    <tr>\n",
       "      <th>682</th>\n",
       "      <td>1</td>\n",
       "    </tr>\n",
       "  </tbody>\n",
       "</table>\n",
       "<p>683 rows × 1 columns</p>\n",
       "</div>"
      ],
      "text/plain": [
       "     Class\n",
       "0        0\n",
       "1        0\n",
       "2        0\n",
       "3        0\n",
       "4        0\n",
       "..     ...\n",
       "678      0\n",
       "679      0\n",
       "680      1\n",
       "681      1\n",
       "682      1\n",
       "\n",
       "[683 rows x 1 columns]"
      ]
     },
     "execution_count": 5,
     "metadata": {},
     "output_type": "execute_result"
    }
   ],
   "source": [
    "y"
   ]
  },
  {
   "cell_type": "code",
   "execution_count": 6,
   "metadata": {},
   "outputs": [],
   "source": [
    "from sklearn.model_selection import train_test_split\n",
    "X_train, X_test, y_train, y_test = train_test_split(X, y, stratify=y, random_state=42)"
   ]
  },
  {
   "cell_type": "code",
   "execution_count": 7,
   "metadata": {},
   "outputs": [],
   "source": [
    "from sklearn.preprocessing import MinMaxScaler\n",
    "scaler=MinMaxScaler()\n",
    "scaler.fit(X_train)\n",
    "X_scaled_train=scaler.transform(X_train)\n",
    "X_scaled_test=scaler.transform(X_test)"
   ]
  },
  {
   "cell_type": "code",
   "execution_count": 8,
   "metadata": {},
   "outputs": [
    {
     "data": {
      "text/plain": [
       "MinMaxScaler()"
      ]
     },
     "execution_count": 8,
     "metadata": {},
     "output_type": "execute_result"
    }
   ],
   "source": [
    "scaler"
   ]
  },
  {
   "cell_type": "code",
   "execution_count": 9,
   "metadata": {},
   "outputs": [
    {
     "data": {
      "text/plain": [
       "(array([[0.22222222, 0.        , 0.        , ..., 0.11111111, 0.11111111,\n",
       "         0.        ],\n",
       "        [0.        , 0.        , 0.        , ..., 0.22222222, 0.        ,\n",
       "         0.        ],\n",
       "        [0.44444444, 0.        , 0.        , ..., 0.22222222, 0.        ,\n",
       "         0.        ],\n",
       "        ...,\n",
       "        [1.        , 0.        , 0.        , ..., 0.44444444, 0.33333333,\n",
       "         0.        ],\n",
       "        [0.11111111, 0.        , 0.        , ..., 0.11111111, 0.        ,\n",
       "         0.        ],\n",
       "        [0.        , 0.        , 0.        , ..., 0.11111111, 0.        ,\n",
       "         0.        ]]),\n",
       " array([[0.44444444, 0.11111111, 0.11111111, ..., 0.11111111, 0.        ,\n",
       "         0.        ],\n",
       "        [0.33333333, 0.        , 0.        , ..., 0.22222222, 0.11111111,\n",
       "         0.        ],\n",
       "        [0.44444444, 0.11111111, 0.11111111, ..., 0.11111111, 0.11111111,\n",
       "         0.        ],\n",
       "        ...,\n",
       "        [0.66666667, 0.33333333, 0.55555556, ..., 0.33333333, 0.22222222,\n",
       "         0.        ],\n",
       "        [0.22222222, 0.        , 0.        , ..., 0.        , 0.        ,\n",
       "         0.        ],\n",
       "        [0.11111111, 0.        , 0.        , ..., 0.11111111, 0.        ,\n",
       "         0.        ]]))"
      ]
     },
     "execution_count": 9,
     "metadata": {},
     "output_type": "execute_result"
    }
   ],
   "source": [
    "X_scaled_train, X_scaled_test"
   ]
  },
  {
   "cell_type": "code",
   "execution_count": 10,
   "metadata": {},
   "outputs": [
    {
     "data": {
      "text/plain": [
       "0.97265625"
      ]
     },
     "execution_count": 10,
     "metadata": {},
     "output_type": "execute_result"
    }
   ],
   "source": [
    "from sklearn.linear_model import LogisticRegression\n",
    "model=LogisticRegression()\n",
    "model.fit(X_scaled_train, y_train)\n",
    "pred_train=model.predict(X_scaled_train)\n",
    "model.score(X_scaled_train, y_train)"
   ]
  },
  {
   "cell_type": "code",
   "execution_count": 11,
   "metadata": {},
   "outputs": [
    {
     "name": "stdout",
     "output_type": "stream",
     "text": [
      "훈련데이터 오차행렬:\n",
      " [[328   5]\n",
      " [  9 170]]\n"
     ]
    }
   ],
   "source": [
    "from sklearn.metrics import confusion_matrix\n",
    "confusion_train=confusion_matrix(y_train, pred_train)\n",
    "print(\"훈련데이터 오차행렬:\\n\", confusion_train)"
   ]
  },
  {
   "cell_type": "code",
   "execution_count": 12,
   "metadata": {},
   "outputs": [
    {
     "name": "stdout",
     "output_type": "stream",
     "text": [
      "분류예측 레포트:\n",
      "               precision    recall  f1-score   support\n",
      "\n",
      "           0       0.97      0.98      0.98       333\n",
      "           1       0.97      0.95      0.96       179\n",
      "\n",
      "    accuracy                           0.97       512\n",
      "   macro avg       0.97      0.97      0.97       512\n",
      "weighted avg       0.97      0.97      0.97       512\n",
      "\n"
     ]
    }
   ],
   "source": [
    "from sklearn.metrics import classification_report\n",
    "cfreport_train=classification_report(y_train, pred_train)\n",
    "print(\"분류예측 레포트:\\n\", cfreport_train)"
   ]
  },
  {
   "cell_type": "code",
   "execution_count": 13,
   "metadata": {},
   "outputs": [
    {
     "data": {
      "text/plain": [
       "0.9590643274853801"
      ]
     },
     "execution_count": 13,
     "metadata": {},
     "output_type": "execute_result"
    }
   ],
   "source": [
    "pred_test=model.predict(X_scaled_test)\n",
    "model.score(X_scaled_test, y_test)"
   ]
  },
  {
   "cell_type": "code",
   "execution_count": 14,
   "metadata": {},
   "outputs": [
    {
     "name": "stdout",
     "output_type": "stream",
     "text": [
      "테스트데이터 오차행렬:\n",
      " [[106   5]\n",
      " [  2  58]]\n"
     ]
    }
   ],
   "source": [
    "confusion_test=confusion_matrix(y_test, pred_test)\n",
    "print(\"테스트데이터 오차행렬:\\n\", confusion_test)"
   ]
  },
  {
   "cell_type": "code",
   "execution_count": 15,
   "metadata": {},
   "outputs": [
    {
     "name": "stdout",
     "output_type": "stream",
     "text": [
      "분류예측 레포트:\n",
      "               precision    recall  f1-score   support\n",
      "\n",
      "           0       0.98      0.95      0.97       111\n",
      "           1       0.92      0.97      0.94        60\n",
      "\n",
      "    accuracy                           0.96       171\n",
      "   macro avg       0.95      0.96      0.96       171\n",
      "weighted avg       0.96      0.96      0.96       171\n",
      "\n"
     ]
    }
   ],
   "source": [
    "from sklearn.metrics import classification_report\n",
    "cfreport_test=classification_report(y_test, pred_test)\n",
    "print(\"분류예측 레포트:\\n\", cfreport_test)"
   ]
  },
  {
   "cell_type": "code",
   "execution_count": 16,
   "metadata": {},
   "outputs": [
    {
     "data": {
      "text/plain": [
       "GridSearchCV(cv=5, estimator=LogisticRegression(),\n",
       "             param_grid={'C': [0.001, 0.01, 0.1, 1, 10, 100]})"
      ]
     },
     "execution_count": 16,
     "metadata": {},
     "output_type": "execute_result"
    }
   ],
   "source": [
    "param_grid={'C': [0.001, 0.01, 0.1, 1, 10, 100]}\n",
    "from sklearn.model_selection import GridSearchCV\n",
    "grid_search=GridSearchCV(LogisticRegression(), param_grid, cv=5)\n",
    "grid_search.fit(X_scaled_train, y_train)"
   ]
  },
  {
   "cell_type": "code",
   "execution_count": 17,
   "metadata": {},
   "outputs": [
    {
     "name": "stdout",
     "output_type": "stream",
     "text": [
      "Best Parameter: {'C': 10}\n",
      "Best Score: 0.9726\n",
      "TestSet Score: 0.9591\n"
     ]
    }
   ],
   "source": [
    "print(\"Best Parameter: {}\".format(grid_search.best_params_))\n",
    "print(\"Best Score: {:.4f}\".format(grid_search.best_score_))\n",
    "print(\"TestSet Score: {:.4f}\".format(grid_search.score(X_scaled_test, y_test)))"
   ]
  },
  {
   "cell_type": "code",
   "execution_count": 18,
   "metadata": {},
   "outputs": [
    {
     "data": {
      "text/plain": [
       "RandomizedSearchCV(cv=5, estimator=LogisticRegression(), n_iter=100,\n",
       "                   param_distributions={'C': <scipy.stats._distn_infrastructure.rv_frozen object at 0x0000021AEAB03608>})"
      ]
     },
     "execution_count": 18,
     "metadata": {},
     "output_type": "execute_result"
    }
   ],
   "source": [
    "from scipy.stats import randint\n",
    "param_distribs={'C': randint(low=0.001, high=100)}\n",
    "from sklearn.model_selection import RandomizedSearchCV\n",
    "random_search=RandomizedSearchCV(LogisticRegression(), param_distributions=param_distribs, n_iter=100, cv=5)\n",
    "random_search.fit(X_scaled_train, y_train)"
   ]
  },
  {
   "cell_type": "code",
   "execution_count": 19,
   "metadata": {},
   "outputs": [
    {
     "name": "stdout",
     "output_type": "stream",
     "text": [
      "Best Parameter: {'C': 12}\n",
      "Best Score: 0.9745\n",
      "Test Score: 0.9591\n"
     ]
    }
   ],
   "source": [
    "print(\"Best Parameter: {}\".format(random_search.best_params_))\n",
    "print(\"Best Score: {:.4f}\".format(random_search.best_score_))\n",
    "print(\"Test Score: {:.4f}\".format(random_search.score(X_scaled_test, y_test)))"
   ]
  },
  {
   "cell_type": "code",
   "execution_count": 20,
   "metadata": {},
   "outputs": [
    {
     "data": {
      "text/plain": [
       "0.984375"
      ]
     },
     "execution_count": 20,
     "metadata": {},
     "output_type": "execute_result"
    }
   ],
   "source": [
    "## Section 2. k-최근접 이웃법 KNN\n",
    "## part1. 분류\n",
    "from sklearn.neighbors import KNeighborsClassifier\n",
    "model=KNeighborsClassifier()\n",
    "model.fit(X_scaled_train, y_train)\n",
    "pred_train=model.predict(X_scaled_train)\n",
    "model.score(X_scaled_train, y_train)"
   ]
  },
  {
   "cell_type": "code",
   "execution_count": 21,
   "metadata": {},
   "outputs": [
    {
     "name": "stdout",
     "output_type": "stream",
     "text": [
      "훈련데이터 오차행렬:\n",
      " [[331   2]\n",
      " [  6 173]]\n"
     ]
    }
   ],
   "source": [
    "from sklearn.metrics import confusion_matrix\n",
    "confusion_train = confusion_matrix(y_train, pred_train)\n",
    "print(\"훈련데이터 오차행렬:\\n\", confusion_train)\n",
    "# 결과값을 보면 정상 0, 중 2명 오분류 환자 1 중 6명 오분류"
   ]
  },
  {
   "cell_type": "code",
   "execution_count": 22,
   "metadata": {},
   "outputs": [
    {
     "name": "stdout",
     "output_type": "stream",
     "text": [
      "분류예측 레포트:\n",
      "               precision    recall  f1-score   support\n",
      "\n",
      "           0       0.98      0.99      0.99       333\n",
      "           1       0.99      0.97      0.98       179\n",
      "\n",
      "    accuracy                           0.98       512\n",
      "   macro avg       0.99      0.98      0.98       512\n",
      "weighted avg       0.98      0.98      0.98       512\n",
      "\n"
     ]
    }
   ],
   "source": [
    "from sklearn.metrics import classification_report\n",
    "cfreport_train=classification_report(y_train, pred_train)\n",
    "print(\"분류예측 레포트:\\n\", cfreport_train)"
   ]
  },
  {
   "cell_type": "code",
   "execution_count": 23,
   "metadata": {},
   "outputs": [
    {
     "data": {
      "text/plain": [
       "0.9532163742690059"
      ]
     },
     "execution_count": 23,
     "metadata": {},
     "output_type": "execute_result"
    }
   ],
   "source": [
    "pred_test=model.predict(X_scaled_test)\n",
    "model.score(X_scaled_test, y_test)"
   ]
  },
  {
   "cell_type": "code",
   "execution_count": 24,
   "metadata": {},
   "outputs": [
    {
     "name": "stdout",
     "output_type": "stream",
     "text": [
      "테스트데이터 오차행렬:\n",
      " [[106   5]\n",
      " [  3  57]]\n"
     ]
    }
   ],
   "source": [
    "confusion_test=confusion_matrix(y_test, pred_test)\n",
    "print(\"테스트데이터 오차행렬:\\n\", confusion_test)"
   ]
  },
  {
   "cell_type": "code",
   "execution_count": 25,
   "metadata": {},
   "outputs": [
    {
     "name": "stdout",
     "output_type": "stream",
     "text": [
      "분류예측 레포트:\n",
      "               precision    recall  f1-score   support\n",
      "\n",
      "           0       0.97      0.95      0.96       111\n",
      "           1       0.92      0.95      0.93        60\n",
      "\n",
      "    accuracy                           0.95       171\n",
      "   macro avg       0.95      0.95      0.95       171\n",
      "weighted avg       0.95      0.95      0.95       171\n",
      "\n"
     ]
    }
   ],
   "source": [
    "# 테스트데이터셋의 평가지표 확인 \n",
    "from sklearn.metrics import classification_report\n",
    "cfreport_test=classification_report(y_test, pred_test)\n",
    "print(\"분류예측 레포트:\\n\", cfreport_test)"
   ]
  },
  {
   "cell_type": "code",
   "execution_count": 26,
   "metadata": {},
   "outputs": [
    {
     "data": {
      "text/plain": [
       "GridSearchCV(cv=5, estimator=KNeighborsClassifier(),\n",
       "             param_grid={'n_neighbors': [1, 3, 5, 7, 9, 11]})"
      ]
     },
     "execution_count": 26,
     "metadata": {},
     "output_type": "execute_result"
    }
   ],
   "source": [
    "## Grid Search\n",
    "param_grid={'n_neighbors': [1, 3, 5, 7, 9, 11]}\n",
    "from sklearn.model_selection import GridSearchCV\n",
    "grid_search=GridSearchCV(KNeighborsClassifier(), param_grid, cv=5)\n",
    "grid_search.fit(X_scaled_train, y_train)"
   ]
  },
  {
   "cell_type": "code",
   "execution_count": 27,
   "metadata": {},
   "outputs": [
    {
     "name": "stdout",
     "output_type": "stream",
     "text": [
      "Best Parameter: {'n_neighbors': 3}\n",
      "Best Score: 0.9824\n",
      "TestSet Score: 0.9532\n"
     ]
    }
   ],
   "source": [
    "print(\"Best Parameter: {}\".format(grid_search.best_params_))\n",
    "print(\"Best Score: {:.4f}\".format(grid_search.best_score_))\n",
    "print(\"TestSet Score: {:.4f}\".format(grid_search.score(X_scaled_test, y_test)))"
   ]
  },
  {
   "cell_type": "code",
   "execution_count": 28,
   "metadata": {},
   "outputs": [
    {
     "data": {
      "text/plain": [
       "RandomizedSearchCV(cv=5, estimator=KNeighborsClassifier(), n_iter=20,\n",
       "                   param_distributions={'n_neighbors': <scipy.stats._distn_infrastructure.rv_frozen object at 0x0000021AEAC3AC08>})"
      ]
     },
     "execution_count": 28,
     "metadata": {},
     "output_type": "execute_result"
    }
   ],
   "source": [
    "## Random Search \n",
    "from scipy.stats import randint\n",
    "param_distribs = {'n_neighbors': randint(low=1, high=20)}\n",
    "from sklearn.model_selection import RandomizedSearchCV\n",
    "random_search=RandomizedSearchCV(KNeighborsClassifier(), param_distributions=param_distribs, n_iter=20, cv=5)\n",
    "random_search.fit(X_scaled_train, y_train)"
   ]
  },
  {
   "cell_type": "code",
   "execution_count": 29,
   "metadata": {},
   "outputs": [
    {
     "name": "stdout",
     "output_type": "stream",
     "text": [
      "Best Parameter: {'n_neighbors': 3}\n",
      "Best Score: 0.9824\n",
      "TestSet Score: 0.9532\n"
     ]
    }
   ],
   "source": [
    "print(\"Best Parameter: {}\".format(random_search.best_params_))\n",
    "print(\"Best Score: {:.4f}\".format(random_search.best_score_))\n",
    "print(\"TestSet Score: {:.4f}\".format(random_search.score(X_scaled_test, y_test)))"
   ]
  },
  {
   "cell_type": "code",
   "execution_count": 30,
   "metadata": {},
   "outputs": [],
   "source": [
    "## KNN\n",
    "## part2. 회귀\n",
    "data2=pd.read_csv(\"C:/Users/MJ/Desktop/새 폴더 (2)/[2] 교재 data/house_price.csv\", encoding=\"utf-8\")\n",
    "X=data2[data2.columns[1:5]]\n",
    "y=data2[[\"house_value\"]]"
   ]
  },
  {
   "cell_type": "code",
   "execution_count": 31,
   "metadata": {},
   "outputs": [
    {
     "data": {
      "text/html": [
       "<div>\n",
       "<style scoped>\n",
       "    .dataframe tbody tr th:only-of-type {\n",
       "        vertical-align: middle;\n",
       "    }\n",
       "\n",
       "    .dataframe tbody tr th {\n",
       "        vertical-align: top;\n",
       "    }\n",
       "\n",
       "    .dataframe thead th {\n",
       "        text-align: right;\n",
       "    }\n",
       "</style>\n",
       "<table border=\"1\" class=\"dataframe\">\n",
       "  <thead>\n",
       "    <tr style=\"text-align: right;\">\n",
       "      <th></th>\n",
       "      <th>housing_age</th>\n",
       "      <th>income</th>\n",
       "      <th>bedrooms</th>\n",
       "      <th>households</th>\n",
       "      <th>rooms</th>\n",
       "      <th>house_value</th>\n",
       "    </tr>\n",
       "  </thead>\n",
       "  <tbody>\n",
       "    <tr>\n",
       "      <th>0</th>\n",
       "      <td>23</td>\n",
       "      <td>6.7770</td>\n",
       "      <td>0.141112</td>\n",
       "      <td>2.442244</td>\n",
       "      <td>8.103960</td>\n",
       "      <td>500000</td>\n",
       "    </tr>\n",
       "    <tr>\n",
       "      <th>1</th>\n",
       "      <td>49</td>\n",
       "      <td>6.0199</td>\n",
       "      <td>0.160984</td>\n",
       "      <td>2.726688</td>\n",
       "      <td>5.752412</td>\n",
       "      <td>500000</td>\n",
       "    </tr>\n",
       "    <tr>\n",
       "      <th>2</th>\n",
       "      <td>35</td>\n",
       "      <td>5.1155</td>\n",
       "      <td>0.249061</td>\n",
       "      <td>1.902676</td>\n",
       "      <td>3.888078</td>\n",
       "      <td>500000</td>\n",
       "    </tr>\n",
       "    <tr>\n",
       "      <th>3</th>\n",
       "      <td>32</td>\n",
       "      <td>4.7109</td>\n",
       "      <td>0.231383</td>\n",
       "      <td>1.913669</td>\n",
       "      <td>4.508393</td>\n",
       "      <td>500000</td>\n",
       "    </tr>\n",
       "    <tr>\n",
       "      <th>4</th>\n",
       "      <td>21</td>\n",
       "      <td>4.5625</td>\n",
       "      <td>0.255583</td>\n",
       "      <td>3.092664</td>\n",
       "      <td>4.667954</td>\n",
       "      <td>500000</td>\n",
       "    </tr>\n",
       "  </tbody>\n",
       "</table>\n",
       "</div>"
      ],
      "text/plain": [
       "   housing_age  income  bedrooms  households     rooms  house_value\n",
       "0           23  6.7770  0.141112    2.442244  8.103960       500000\n",
       "1           49  6.0199  0.160984    2.726688  5.752412       500000\n",
       "2           35  5.1155  0.249061    1.902676  3.888078       500000\n",
       "3           32  4.7109  0.231383    1.913669  4.508393       500000\n",
       "4           21  4.5625  0.255583    3.092664  4.667954       500000"
      ]
     },
     "execution_count": 31,
     "metadata": {},
     "output_type": "execute_result"
    }
   ],
   "source": [
    "data2.head()"
   ]
  },
  {
   "cell_type": "code",
   "execution_count": 32,
   "metadata": {},
   "outputs": [
    {
     "data": {
      "text/html": [
       "<div>\n",
       "<style scoped>\n",
       "    .dataframe tbody tr th:only-of-type {\n",
       "        vertical-align: middle;\n",
       "    }\n",
       "\n",
       "    .dataframe tbody tr th {\n",
       "        vertical-align: top;\n",
       "    }\n",
       "\n",
       "    .dataframe thead th {\n",
       "        text-align: right;\n",
       "    }\n",
       "</style>\n",
       "<table border=\"1\" class=\"dataframe\">\n",
       "  <thead>\n",
       "    <tr style=\"text-align: right;\">\n",
       "      <th></th>\n",
       "      <th>income</th>\n",
       "      <th>bedrooms</th>\n",
       "      <th>households</th>\n",
       "      <th>rooms</th>\n",
       "    </tr>\n",
       "  </thead>\n",
       "  <tbody>\n",
       "    <tr>\n",
       "      <th>0</th>\n",
       "      <td>6.7770</td>\n",
       "      <td>0.141112</td>\n",
       "      <td>2.442244</td>\n",
       "      <td>8.103960</td>\n",
       "    </tr>\n",
       "    <tr>\n",
       "      <th>1</th>\n",
       "      <td>6.0199</td>\n",
       "      <td>0.160984</td>\n",
       "      <td>2.726688</td>\n",
       "      <td>5.752412</td>\n",
       "    </tr>\n",
       "    <tr>\n",
       "      <th>2</th>\n",
       "      <td>5.1155</td>\n",
       "      <td>0.249061</td>\n",
       "      <td>1.902676</td>\n",
       "      <td>3.888078</td>\n",
       "    </tr>\n",
       "    <tr>\n",
       "      <th>3</th>\n",
       "      <td>4.7109</td>\n",
       "      <td>0.231383</td>\n",
       "      <td>1.913669</td>\n",
       "      <td>4.508393</td>\n",
       "    </tr>\n",
       "    <tr>\n",
       "      <th>4</th>\n",
       "      <td>4.5625</td>\n",
       "      <td>0.255583</td>\n",
       "      <td>3.092664</td>\n",
       "      <td>4.667954</td>\n",
       "    </tr>\n",
       "    <tr>\n",
       "      <th>...</th>\n",
       "      <td>...</td>\n",
       "      <td>...</td>\n",
       "      <td>...</td>\n",
       "      <td>...</td>\n",
       "    </tr>\n",
       "    <tr>\n",
       "      <th>17684</th>\n",
       "      <td>2.3013</td>\n",
       "      <td>0.214583</td>\n",
       "      <td>2.748299</td>\n",
       "      <td>4.897959</td>\n",
       "    </tr>\n",
       "    <tr>\n",
       "      <th>17685</th>\n",
       "      <td>2.6750</td>\n",
       "      <td>0.246622</td>\n",
       "      <td>3.428571</td>\n",
       "      <td>4.698413</td>\n",
       "    </tr>\n",
       "    <tr>\n",
       "      <th>17686</th>\n",
       "      <td>2.3667</td>\n",
       "      <td>0.340771</td>\n",
       "      <td>1.876812</td>\n",
       "      <td>3.572464</td>\n",
       "    </tr>\n",
       "    <tr>\n",
       "      <th>17687</th>\n",
       "      <td>2.1000</td>\n",
       "      <td>0.386107</td>\n",
       "      <td>2.987805</td>\n",
       "      <td>3.774390</td>\n",
       "    </tr>\n",
       "    <tr>\n",
       "      <th>17688</th>\n",
       "      <td>1.6607</td>\n",
       "      <td>0.286275</td>\n",
       "      <td>2.236842</td>\n",
       "      <td>6.710526</td>\n",
       "    </tr>\n",
       "  </tbody>\n",
       "</table>\n",
       "<p>17689 rows × 4 columns</p>\n",
       "</div>"
      ],
      "text/plain": [
       "       income  bedrooms  households     rooms\n",
       "0      6.7770  0.141112    2.442244  8.103960\n",
       "1      6.0199  0.160984    2.726688  5.752412\n",
       "2      5.1155  0.249061    1.902676  3.888078\n",
       "3      4.7109  0.231383    1.913669  4.508393\n",
       "4      4.5625  0.255583    3.092664  4.667954\n",
       "...       ...       ...         ...       ...\n",
       "17684  2.3013  0.214583    2.748299  4.897959\n",
       "17685  2.6750  0.246622    3.428571  4.698413\n",
       "17686  2.3667  0.340771    1.876812  3.572464\n",
       "17687  2.1000  0.386107    2.987805  3.774390\n",
       "17688  1.6607  0.286275    2.236842  6.710526\n",
       "\n",
       "[17689 rows x 4 columns]"
      ]
     },
     "execution_count": 32,
     "metadata": {},
     "output_type": "execute_result"
    }
   ],
   "source": [
    "X"
   ]
  },
  {
   "cell_type": "code",
   "execution_count": 33,
   "metadata": {},
   "outputs": [],
   "source": [
    "# train 데이터셋과 test 데이터셋을 나눠서 준비\n",
    "from sklearn.model_selection import train_test_split\n",
    "X_train, X_test, y_train, y_test = train_test_split(X, y, random_state=42)"
   ]
  },
  {
   "cell_type": "code",
   "execution_count": 34,
   "metadata": {},
   "outputs": [],
   "source": [
    "# 정규화 방법은 minmax사용하여 훈련데이터셋과 테스트데이터셋의 특성치 X 자료들을 반환한다.\n",
    "from sklearn.preprocessing import MinMaxScaler\n",
    "scaler = MinMaxScaler()\n",
    "scaler.fit(X_train)\n",
    "X_scaled_train=scaler.transform(X_train)\n",
    "X_scaled_test=scaler.transform(X_test)"
   ]
  },
  {
   "cell_type": "code",
   "execution_count": 35,
   "metadata": {},
   "outputs": [
    {
     "data": {
      "text/plain": [
       "array([[0.16562473, 0.21462821, 0.52074074, 0.44856746],\n",
       "       [0.37212937, 0.17975658, 0.32454019, 0.44769165],\n",
       "       [0.57311602, 0.13685236, 0.3616678 , 0.47640399],\n",
       "       ...,\n",
       "       [0.23197882, 0.3539297 , 0.55216706, 0.27983322],\n",
       "       [0.4880922 , 0.19402626, 0.24817999, 0.43532745],\n",
       "       [0.21204389, 0.23569145, 0.29933466, 0.31673877]])"
      ]
     },
     "execution_count": 35,
     "metadata": {},
     "output_type": "execute_result"
    }
   ],
   "source": [
    "X_scaled_train"
   ]
  },
  {
   "cell_type": "code",
   "execution_count": 36,
   "metadata": {},
   "outputs": [
    {
     "data": {
      "text/html": [
       "<div>\n",
       "<style scoped>\n",
       "    .dataframe tbody tr th:only-of-type {\n",
       "        vertical-align: middle;\n",
       "    }\n",
       "\n",
       "    .dataframe tbody tr th {\n",
       "        vertical-align: top;\n",
       "    }\n",
       "\n",
       "    .dataframe thead th {\n",
       "        text-align: right;\n",
       "    }\n",
       "</style>\n",
       "<table border=\"1\" class=\"dataframe\">\n",
       "  <thead>\n",
       "    <tr style=\"text-align: right;\">\n",
       "      <th></th>\n",
       "      <th>income</th>\n",
       "      <th>bedrooms</th>\n",
       "      <th>households</th>\n",
       "      <th>rooms</th>\n",
       "    </tr>\n",
       "  </thead>\n",
       "  <tbody>\n",
       "    <tr>\n",
       "      <th>17235</th>\n",
       "      <td>2.0577</td>\n",
       "      <td>0.185449</td>\n",
       "      <td>3.945455</td>\n",
       "      <td>6.372727</td>\n",
       "    </tr>\n",
       "    <tr>\n",
       "      <th>14220</th>\n",
       "      <td>4.0000</td>\n",
       "      <td>0.171566</td>\n",
       "      <td>2.741497</td>\n",
       "      <td>6.363946</td>\n",
       "    </tr>\n",
       "    <tr>\n",
       "      <th>3280</th>\n",
       "      <td>5.8904</td>\n",
       "      <td>0.154485</td>\n",
       "      <td>2.969325</td>\n",
       "      <td>6.651840</td>\n",
       "    </tr>\n",
       "    <tr>\n",
       "      <th>15279</th>\n",
       "      <td>0.9393</td>\n",
       "      <td>0.241460</td>\n",
       "      <td>3.257256</td>\n",
       "      <td>4.518470</td>\n",
       "    </tr>\n",
       "    <tr>\n",
       "      <th>14727</th>\n",
       "      <td>2.7143</td>\n",
       "      <td>0.194977</td>\n",
       "      <td>2.679287</td>\n",
       "      <td>6.385301</td>\n",
       "    </tr>\n",
       "    <tr>\n",
       "      <th>...</th>\n",
       "      <td>...</td>\n",
       "      <td>...</td>\n",
       "      <td>...</td>\n",
       "      <td>...</td>\n",
       "    </tr>\n",
       "    <tr>\n",
       "      <th>11284</th>\n",
       "      <td>3.0806</td>\n",
       "      <td>0.236803</td>\n",
       "      <td>3.984340</td>\n",
       "      <td>4.534676</td>\n",
       "    </tr>\n",
       "    <tr>\n",
       "      <th>11964</th>\n",
       "      <td>2.2019</td>\n",
       "      <td>0.265491</td>\n",
       "      <td>4.460648</td>\n",
       "      <td>4.333333</td>\n",
       "    </tr>\n",
       "    <tr>\n",
       "      <th>5390</th>\n",
       "      <td>2.6818</td>\n",
       "      <td>0.240909</td>\n",
       "      <td>4.138298</td>\n",
       "      <td>4.680851</td>\n",
       "    </tr>\n",
       "    <tr>\n",
       "      <th>860</th>\n",
       "      <td>5.0907</td>\n",
       "      <td>0.177247</td>\n",
       "      <td>2.272923</td>\n",
       "      <td>6.239971</td>\n",
       "    </tr>\n",
       "    <tr>\n",
       "      <th>15795</th>\n",
       "      <td>2.4943</td>\n",
       "      <td>0.193835</td>\n",
       "      <td>2.586826</td>\n",
       "      <td>5.050898</td>\n",
       "    </tr>\n",
       "  </tbody>\n",
       "</table>\n",
       "<p>13266 rows × 4 columns</p>\n",
       "</div>"
      ],
      "text/plain": [
       "       income  bedrooms  households     rooms\n",
       "17235  2.0577  0.185449    3.945455  6.372727\n",
       "14220  4.0000  0.171566    2.741497  6.363946\n",
       "3280   5.8904  0.154485    2.969325  6.651840\n",
       "15279  0.9393  0.241460    3.257256  4.518470\n",
       "14727  2.7143  0.194977    2.679287  6.385301\n",
       "...       ...       ...         ...       ...\n",
       "11284  3.0806  0.236803    3.984340  4.534676\n",
       "11964  2.2019  0.265491    4.460648  4.333333\n",
       "5390   2.6818  0.240909    4.138298  4.680851\n",
       "860    5.0907  0.177247    2.272923  6.239971\n",
       "15795  2.4943  0.193835    2.586826  5.050898\n",
       "\n",
       "[13266 rows x 4 columns]"
      ]
     },
     "execution_count": 36,
     "metadata": {},
     "output_type": "execute_result"
    }
   ],
   "source": [
    "X_train"
   ]
  },
  {
   "cell_type": "code",
   "execution_count": 37,
   "metadata": {},
   "outputs": [
    {
     "data": {
      "text/plain": [
       "0.6804607237174459"
      ]
     },
     "execution_count": 37,
     "metadata": {},
     "output_type": "execute_result"
    }
   ],
   "source": [
    "## 기본모델 적용 model에 할당 -> 훈련 fit  -> 예측 predict -> 성능 정확도 score\n",
    "## 회귀에서 정확도 R**2이다. 결정계수이고 0~1사의 값을 가지고 높수록 설명력 높다. 실제 y갑과 예측 y값이 일치한다. \n",
    "\n",
    "from sklearn.neighbors import KNeighborsRegressor\n",
    "model=KNeighborsRegressor()\n",
    "model.fit(X_scaled_train, y_train)\n",
    "pred_train=model.predict(X_scaled_train)\n",
    "model.score(X_scaled_train, y_train)"
   ]
  },
  {
   "cell_type": "code",
   "execution_count": 38,
   "metadata": {},
   "outputs": [
    {
     "data": {
      "text/plain": [
       "KNeighborsRegressor()"
      ]
     },
     "execution_count": 38,
     "metadata": {},
     "output_type": "execute_result"
    }
   ],
   "source": [
    "model.fit(X_scaled_train, y_train)"
   ]
  },
  {
   "cell_type": "code",
   "execution_count": 39,
   "metadata": {},
   "outputs": [
    {
     "data": {
      "text/plain": [
       "array([[0.16562473, 0.21462821, 0.52074074, 0.44856746],\n",
       "       [0.37212937, 0.17975658, 0.32454019, 0.44769165],\n",
       "       [0.57311602, 0.13685236, 0.3616678 , 0.47640399],\n",
       "       ...,\n",
       "       [0.23197882, 0.3539297 , 0.55216706, 0.27983322],\n",
       "       [0.4880922 , 0.19402626, 0.24817999, 0.43532745],\n",
       "       [0.21204389, 0.23569145, 0.29933466, 0.31673877]])"
      ]
     },
     "execution_count": 39,
     "metadata": {},
     "output_type": "execute_result"
    }
   ],
   "source": [
    "X_scaled_train"
   ]
  },
  {
   "cell_type": "code",
   "execution_count": 40,
   "metadata": {},
   "outputs": [
    {
     "data": {
      "text/plain": [
       "0.5541889571372401"
      ]
     },
     "execution_count": 40,
     "metadata": {},
     "output_type": "execute_result"
    }
   ],
   "source": [
    "## 테스트 데이터도 55%로 나쁘지는 않지만 훈련데이터 보다 13%정도 낮아서 다소 훈련데이터에 과대적합된 K값일 수도 있다.\n",
    "\n",
    "pred_test=model.predict(X_scaled_test)\n",
    "model.score(X_scaled_test, y_test)"
   ]
  },
  {
   "cell_type": "code",
   "execution_count": 41,
   "metadata": {},
   "outputs": [
    {
     "name": "stdout",
     "output_type": "stream",
     "text": [
      "훈련데이터 RMSE: 53952.69804097723\n",
      "테스트데이터 RMSE: 63831.91662964773\n"
     ]
    }
   ],
   "source": [
    "## RMSE(Root Mean Squared Error), 오차는 작을수록 좋은 모델이다. 훈련 53952, 테스트데이터 63831이므로 훈련데이터에 좀 더 적합되었음\n",
    "\n",
    "import numpy as np \n",
    "from sklearn.metrics import mean_squared_error\n",
    "MSE_train = mean_squared_error(y_train, pred_train)\n",
    "MSE_test = mean_squared_error(y_test, pred_test)\n",
    "print(\"훈련데이터 RMSE:\", np.sqrt(MSE_train))\n",
    "print(\"테스트데이터 RMSE:\", np.sqrt(MSE_test))"
   ]
  },
  {
   "cell_type": "code",
   "execution_count": 42,
   "metadata": {},
   "outputs": [
    {
     "data": {
      "text/plain": [
       "GridSearchCV(cv=5, estimator=KNeighborsRegressor(),\n",
       "             param_grid={'n_neighbors': [1, 3, 5, 7, 9, 11]})"
      ]
     },
     "execution_count": 42,
     "metadata": {},
     "output_type": "execute_result"
    }
   ],
   "source": [
    "## Grid Search\n",
    "\n",
    "param_grid={'n_neighbors': [1, 3, 5, 7, 9, 11]}\n",
    "from sklearn.model_selection import GridSearchCV\n",
    "grid_search=GridSearchCV(KNeighborsRegressor(), param_grid, cv=5)\n",
    "grid_search.fit(X_scaled_train, y_train)"
   ]
  },
  {
   "cell_type": "code",
   "execution_count": 43,
   "metadata": {},
   "outputs": [
    {
     "name": "stdout",
     "output_type": "stream",
     "text": [
      "Best Parameter: {'n_neighbors': 11}\n",
      "Best Score: 0.5638272489240468\n",
      "TestSet Score: 0.5880\n"
     ]
    }
   ],
   "source": [
    "## 분석결과 k=11일때 최적의 하이퍼파라미터이고 훈련데이터 정확도 56.4% 테스트데이터 정확도 58.8% \n",
    "## K 값이 더 커진 것은 다른 데이터에도 잘 맞는 일반화의 가능성이 더 높아진 모델임을 의미\n",
    "\n",
    "print(\"Best Parameter: {}\".format(grid_search.best_params_))\n",
    "print(\"Best Score: {}\".format(grid_search.best_score_))\n",
    "print(\"TestSet Score: {:.4f}\".format(grid_search.score(X_scaled_test, y_test)))"
   ]
  },
  {
   "cell_type": "code",
   "execution_count": 44,
   "metadata": {},
   "outputs": [
    {
     "data": {
      "text/plain": [
       "RandomizedSearchCV(cv=5, estimator=KNeighborsRegressor(), n_iter=20,\n",
       "                   param_distributions={'n_neighbors': <scipy.stats._distn_infrastructure.rv_frozen object at 0x0000021AEAC3A488>})"
      ]
     },
     "execution_count": 44,
     "metadata": {},
     "output_type": "execute_result"
    }
   ],
   "source": [
    "## Random Search\n",
    "\n",
    "param_distribs = {'n_neighbors': randint(low=1, high=20)}\n",
    "from sklearn.model_selection import RandomizedSearchCV\n",
    "random_search=RandomizedSearchCV(KNeighborsRegressor(), param_distributions=param_distribs, n_iter=20, cv=5)\n",
    "random_search.fit(X_scaled_train, y_train)"
   ]
  },
  {
   "cell_type": "code",
   "execution_count": 45,
   "metadata": {},
   "outputs": [
    {
     "name": "stdout",
     "output_type": "stream",
     "text": [
      "Best Parameter: {'n_neighbors': 19}\n",
      "Best Score: 0.5776685542345874\n",
      "TestSet Score: 0.6004\n"
     ]
    }
   ],
   "source": [
    "## k = 19일때 훈련데이터의 정확도 57.8% 테스트데이터의 정확도 60.04%으로 나왔다. k의 크기를 더 키워야지 더 좋은 모델이 찾아지는것으로 \n",
    "## 확인된다.\n",
    "\n",
    "print(\"Best Parameter: {}\".format(random_search.best_params_))\n",
    "print(\"Best Score: {}\".format(random_search.best_score_))\n",
    "print(\"TestSet Score: {:.4f}\".format(random_search.score(X_scaled_test, y_test)))"
   ]
  },
  {
   "cell_type": "code",
   "execution_count": 46,
   "metadata": {},
   "outputs": [
    {
     "data": {
      "text/plain": [
       "0.966796875"
      ]
     },
     "execution_count": 46,
     "metadata": {},
     "output_type": "execute_result"
    }
   ],
   "source": [
    "## Section03 나이브 베이즈 \n",
    "## 나이브베이즈란 조건부 확률과 베이즈 정리를 이용한 알고리즘이다. 나이브란 예측에 사용되는 특성치X 가 상호 독립적이라는 가정하에 \n",
    "## 확률 계산을 단순화하기 위해 나이브(naive, 단순 순진한 가정)라고 이름이 붙여진 것이다.\n",
    "\n",
    "## 하이퍼 파라미터는 var_smopthing이다. 안정적인 연산을 위해 분산에 더해지는 모든 특성치의 최대 분산 비율\n",
    "data = pd.read_csv('C:/Users/MJ/Desktop/새 폴더 (2)/[2] 교재 data/breast-cancer-wisconsin.csv')\n",
    "X=data[data.columns[1:10]]\n",
    "y=data[[\"Class\"]]\n",
    "from sklearn.model_selection import train_test_split\n",
    "X_train, X_test, y_train, y_test = train_test_split(X, y, stratify=y, random_state=42)\n",
    "from sklearn.preprocessing import MinMaxScaler\n",
    "scaler=MinMaxScaler()\n",
    "scaler.fit(X_train)\n",
    "X_scaled_train=scaler.transform(X_train)\n",
    "X_scaled_test=scaler.transform(X_test)\n",
    "\n",
    "\n",
    "\n",
    "from sklearn.naive_bayes import GaussianNB\n",
    "model=GaussianNB()\n",
    "model.fit(X_scaled_train, y_train)\n",
    "pred_train=model.predict(X_scaled_train)\n",
    "model.score(X_scaled_train, y_train)"
   ]
  },
  {
   "cell_type": "code",
   "execution_count": 47,
   "metadata": {},
   "outputs": [
    {
     "name": "stdout",
     "output_type": "stream",
     "text": [
      "훈련데이터 오차행렬:\n",
      " [[319  14]\n",
      " [  3 176]]\n"
     ]
    }
   ],
   "source": [
    "from sklearn.metrics import confusion_matrix\n",
    "confusion_train = confusion_matrix(y_train, pred_train)\n",
    "print(\"훈련데이터 오차행렬:\\n\", confusion_train)"
   ]
  },
  {
   "cell_type": "code",
   "execution_count": 48,
   "metadata": {},
   "outputs": [
    {
     "name": "stdout",
     "output_type": "stream",
     "text": [
      "분류예측 레포트:\n",
      "               precision    recall  f1-score   support\n",
      "\n",
      "           0       0.99      0.96      0.97       333\n",
      "           1       0.93      0.98      0.95       179\n",
      "\n",
      "    accuracy                           0.97       512\n",
      "   macro avg       0.96      0.97      0.96       512\n",
      "weighted avg       0.97      0.97      0.97       512\n",
      "\n"
     ]
    }
   ],
   "source": [
    "from sklearn.metrics import classification_report\n",
    "cfreport_train = classification_report(y_train, pred_train)\n",
    "print(\"분류예측 레포트:\\n\", cfreport_train)"
   ]
  },
  {
   "cell_type": "code",
   "execution_count": 49,
   "metadata": {},
   "outputs": [
    {
     "data": {
      "text/plain": [
       "0.9590643274853801"
      ]
     },
     "execution_count": 49,
     "metadata": {},
     "output_type": "execute_result"
    }
   ],
   "source": [
    "pred_test=model.predict(X_scaled_test)\n",
    "model.score(X_scaled_test, y_test)"
   ]
  },
  {
   "cell_type": "code",
   "execution_count": 50,
   "metadata": {},
   "outputs": [
    {
     "name": "stdout",
     "output_type": "stream",
     "text": [
      "테스트데이터 오차행렬:\n",
      " [[106   5]\n",
      " [  2  58]]\n"
     ]
    }
   ],
   "source": [
    "confusion_test=confusion_matrix(y_test, pred_test)\n",
    "print(\"테스트데이터 오차행렬:\\n\", confusion_test)"
   ]
  },
  {
   "cell_type": "code",
   "execution_count": 51,
   "metadata": {},
   "outputs": [
    {
     "name": "stdout",
     "output_type": "stream",
     "text": [
      "분류예측 레포트:\n",
      "               precision    recall  f1-score   support\n",
      "\n",
      "           0       0.98      0.95      0.97       111\n",
      "           1       0.92      0.97      0.94        60\n",
      "\n",
      "    accuracy                           0.96       171\n",
      "   macro avg       0.95      0.96      0.96       171\n",
      "weighted avg       0.96      0.96      0.96       171\n",
      "\n"
     ]
    }
   ],
   "source": [
    "from sklearn.metrics import classification_report\n",
    "cfreport_test=classification_report(y_test, pred_test)\n",
    "print(\"분류예측 레포트:\\n\", cfreport_test)"
   ]
  },
  {
   "cell_type": "code",
   "execution_count": 52,
   "metadata": {},
   "outputs": [
    {
     "data": {
      "text/plain": [
       "GridSearchCV(cv=5, estimator=GaussianNB(),\n",
       "             param_grid={'var_smoothing': [0, 1, 2, 3, 4, 5, 6, 7, 8, 9, 10]})"
      ]
     },
     "execution_count": 52,
     "metadata": {},
     "output_type": "execute_result"
    }
   ],
   "source": [
    "## Grid Search\n",
    "## 하이퍼 파라미터중 var_smoothing을 0~10까지 총 10개로 설정\n",
    "\n",
    "param_grid={'var_smoothing': [0, 1, 2, 3, 4, 5, 6, 7, 8, 9, 10]}\n",
    "from sklearn.model_selection import GridSearchCV\n",
    "grid_search=GridSearchCV(GaussianNB(), param_grid, cv=5)\n",
    "grid_search.fit(X_scaled_train, y_train)"
   ]
  },
  {
   "cell_type": "code",
   "execution_count": 53,
   "metadata": {},
   "outputs": [
    {
     "name": "stdout",
     "output_type": "stream",
     "text": [
      "Best Score: {'var_smoothing': 0}\n",
      "Best Score: 0.9649\n",
      "TestSet Score: 0.9591\n"
     ]
    }
   ],
   "source": [
    "print(\"Best Score: {}\".format(grid_search.best_params_))\n",
    "print(\"Best Score: {:.4f}\".format(grid_search.best_score_))\n",
    "print(\"TestSet Score: {:.4f}\".format(grid_search.score(X_scaled_test, y_test)))"
   ]
  },
  {
   "cell_type": "code",
   "execution_count": 54,
   "metadata": {},
   "outputs": [
    {
     "data": {
      "text/plain": [
       "RandomizedSearchCV(cv=5, estimator=GaussianNB(), n_iter=100,\n",
       "                   param_distributions={'var_smoothing': <scipy.stats._distn_infrastructure.rv_frozen object at 0x0000021AEBC62088>})"
      ]
     },
     "execution_count": 54,
     "metadata": {},
     "output_type": "execute_result"
    }
   ],
   "source": [
    "## Random Search\n",
    "## 0~20 까지중 랜덤으로 100번 수행\n",
    "from scipy.stats import randint\n",
    "param_distribs = {'var_smoothing': randint(low=0, high=20)}\n",
    "from sklearn.model_selection import RandomizedSearchCV\n",
    "random_search=RandomizedSearchCV(GaussianNB(), param_distributions=param_distribs, n_iter=100, cv=5)\n",
    "random_search.fit(X_scaled_train, y_train)"
   ]
  },
  {
   "cell_type": "code",
   "execution_count": 55,
   "metadata": {},
   "outputs": [
    {
     "name": "stdout",
     "output_type": "stream",
     "text": [
      "Best Parameter: {'var_smoothing': 0}\n",
      "Best Score: 0.9649\n",
      "TestSet Score: 0.9591\n"
     ]
    }
   ],
   "source": [
    "print(\"Best Parameter: {}\".format(random_search.best_params_))\n",
    "print(\"Best Score: {:.4f}\".format(random_search.best_score_))\n",
    "print(\"TestSet Score: {:.4f}\".format(random_search.score(X_scaled_test, y_test)))\n",
    "\n",
    "## 가우시안 나이브 베이즈의 분류 모델은 기본모델, 그리드탐색, 랜덤탐색에서 유사한 결과를 보인다. \n",
    "## 나이브 베이즈 모델은 성능이 좋은 모델은 아니다. 그러나 다른 모델과의 성능 비교를 위한 기저모델로 많이 활용되므로 알아둬야 한다."
   ]
  },
  {
   "cell_type": "code",
   "execution_count": 56,
   "metadata": {},
   "outputs": [
    {
     "data": {
      "text/plain": [
       "0.5455724466331763"
      ]
     },
     "execution_count": 56,
     "metadata": {},
     "output_type": "execute_result"
    }
   ],
   "source": [
    "## Part2. 회귀 Regression\n",
    "## house_price.csv 파일 가져오고 분류\n",
    "data2=pd.read_csv(\"C:/Users/MJ/Desktop/새 폴더 (2)/[2] 교재 data/house_price.csv\", encoding=\"utf-8\")\n",
    "X=data2[data2.columns[1:5]]\n",
    "y=data2[[\"house_value\"]]\n",
    "\n",
    "## train 데이터셋과 test 데이터셋을 나눠서 준비\n",
    "from sklearn.model_selection import train_test_split\n",
    "X_train, X_test, y_train, y_test = train_test_split(X, y, random_state=42)\n",
    "\n",
    "## 정규화 방법은 minmax사용하여 훈련데이터셋과 테스트데이터셋의 특성치 X 자료들을 반환한다.\n",
    "from sklearn.preprocessing import MinMaxScaler\n",
    "scaler = MinMaxScaler()\n",
    "scaler.fit(X_train)\n",
    "X_scaled_train=scaler.transform(X_train)\n",
    "X_scaled_test=scaler.transform(X_test)\n",
    "## 훈련데이터의 정확도는 54.6%이다.\n",
    "from sklearn.linear_model import BayesianRidge\n",
    "model=BayesianRidge()\n",
    "model.fit(X_scaled_train, y_train)\n",
    "pred_train=model.predict(X_scaled_train)\n",
    "model.score(X_scaled_train, y_train)"
   ]
  },
  {
   "cell_type": "code",
   "execution_count": 57,
   "metadata": {},
   "outputs": [
    {
     "data": {
      "text/plain": [
       "0.5626859871488648"
      ]
     },
     "execution_count": 57,
     "metadata": {},
     "output_type": "execute_result"
    }
   ],
   "source": [
    "## 정확도는 56.27%이다.\n",
    "pred_test=model.predict(X_scaled_test)\n",
    "model.score(X_scaled_test, y_test)"
   ]
  },
  {
   "cell_type": "code",
   "execution_count": 58,
   "metadata": {},
   "outputs": [
    {
     "name": "stdout",
     "output_type": "stream",
     "text": [
      "훈련데이터 RMSE: 64340.34302948542\n",
      "테스트데이터 RMSE: 63220.68115643447\n"
     ]
    }
   ],
   "source": [
    "## RMSE (Root Mean Squared Error)\n",
    "## 오차는 훈련데이터 64340 테스트데이터는 63220 \n",
    "\n",
    "import numpy as np\n",
    "from sklearn.metrics import mean_squared_error\n",
    "MSE_train = mean_squared_error(y_train, pred_train)\n",
    "MSE_test = mean_squared_error(y_test, pred_test)\n",
    "print(\"훈련데이터 RMSE:\", np.sqrt(MSE_train))\n",
    "print(\"테스트데이터 RMSE:\", np.sqrt(MSE_test))"
   ]
  },
  {
   "cell_type": "code",
   "execution_count": 59,
   "metadata": {},
   "outputs": [
    {
     "data": {
      "text/plain": [
       "GridSearchCV(cv=5, estimator=BayesianRidge(),\n",
       "             param_grid={'alpha_1': [1e-06, 1e-05, 0.0001, 0.001, 0.01, 0.1, 1,\n",
       "                                     2, 3, 4],\n",
       "                         'lambda_1': [1e-06, 1e-05, 0.0001, 0.001, 0.01, 0.1, 1,\n",
       "                                      2, 3, 4]})"
      ]
     },
     "execution_count": 59,
     "metadata": {},
     "output_type": "execute_result"
    }
   ],
   "source": [
    "## Grid Search\n",
    "param_grid={'alpha_1': [1e-06, 1e-05, 1e-04, 1e-03, 1e-02, 1e-01, 1, 2, 3, 4], 'lambda_1': [1e-06, 1e-05, 1e-04, 1e-03, 1e-02, 1e-01, 1, 2, 3, 4]}\n",
    "from sklearn.model_selection import GridSearchCV\n",
    "grid_search=GridSearchCV(BayesianRidge(), param_grid, cv=5)\n",
    "grid_search.fit(X_scaled_train, y_train)"
   ]
  },
  {
   "cell_type": "code",
   "execution_count": 60,
   "metadata": {},
   "outputs": [
    {
     "name": "stdout",
     "output_type": "stream",
     "text": [
      "Best Parameter: {'alpha_1': 4, 'lambda_1': 1e-06}\n",
      "Best Score: 0.5452\n",
      "TestSet Score: 0.5627\n"
     ]
    }
   ],
   "source": [
    "print(\"Best Parameter: {}\".format(grid_search.best_params_))\n",
    "print(\"Best Score: {:.4f}\".format(grid_search.best_score_))\n",
    "print(\"TestSet Score: {:.4f}\".format(grid_search.score(X_scaled_test, y_test)))"
   ]
  },
  {
   "cell_type": "code",
   "execution_count": 61,
   "metadata": {},
   "outputs": [
    {
     "data": {
      "text/plain": [
       "RandomizedSearchCV(cv=5, estimator=BayesianRidge(), n_iter=50,\n",
       "                   param_distributions={'alpha_1': <scipy.stats._distn_infrastructure.rv_frozen object at 0x0000021AEAC8E348>,\n",
       "                                        'lambda_1': <scipy.stats._distn_infrastructure.rv_frozen object at 0x0000021AEBCC9E88>})"
      ]
     },
     "execution_count": 61,
     "metadata": {},
     "output_type": "execute_result"
    }
   ],
   "source": [
    "## Random Search\n",
    "\n",
    "param_distribs = {'alpha_1': randint(low=1e-06, high=10), 'lambda_1': randint(low=1e-06, high=10)}\n",
    "from sklearn.model_selection import RandomizedSearchCV\n",
    "random_search=RandomizedSearchCV(BayesianRidge(), param_distribs, n_iter=50, cv=5)\n",
    "random_search.fit(X_scaled_train, y_train)"
   ]
  },
  {
   "cell_type": "code",
   "execution_count": 62,
   "metadata": {},
   "outputs": [
    {
     "name": "stdout",
     "output_type": "stream",
     "text": [
      "Best Parameter: {'alpha_1': 9, 'lambda_1': 0}\n",
      "Best Score: 0.5452\n",
      "TestSet Score: 0.5627\n"
     ]
    }
   ],
   "source": [
    "print(\"Best Parameter: {}\".format(random_search.best_params_))\n",
    "print(\"Best Score: {:.4f}\".format(random_search.best_score_))\n",
    "print(\"TestSet Score: {:.4f}\".format(random_search.score(X_scaled_test, y_test)))\n",
    "## 베이지안릿지모델은 회귀모델에서 자주 사용하는 알고리즘은 아니다."
   ]
  },
  {
   "cell_type": "code",
   "execution_count": 63,
   "metadata": {},
   "outputs": [],
   "source": [
    "## Section04 인공신경망\n",
    "## 인공신경망은 인간의 뉴런구조와 활성화 작동원리를 근간으로 input(자극)과 output(반응)과의 연관을 구현한 알고리즘 \n",
    "## 전통적인 알고리즘과 가장 큰 차이는 중간에 은닉층(hidden layer)과 노드(nodes)들을 깊고(deep) 넓게(wide) 두어 특성치로부터 \n",
    "## 분류와 회귀를 더 잘할 수 있도록 특징추출 및  분류 단계를 확장하는 역할을 할 수 있도록 한 모델\n",
    "## 인공신경망의 기초모델은 다층퍼셉트론을 수행 \n",
    "## 입력층과 출력층은 각각 특성치(X)와 레이블(y)을 말한다. 이 중간에 은닉층을 몇 개로 둘 것인지, 각 은닉층에 노드를 얼마나 둘 것인가\n",
    "## 핵심 파라미터이다. 이외에도 학습율, 활성화함수는 분류 혹은 회귀를 선형 혹은 로지스틱, relu등 분류 구분자의 특성을 말한다. \n",
    "\n",
    "data = pd.read_csv('C:/Users/MJ/Desktop/새 폴더 (2)/[2] 교재 data/breast-cancer-wisconsin.csv')\n",
    "X=data[data.columns[1:10]]\n",
    "y=data[[\"Class\"]]\n",
    "from sklearn.model_selection import train_test_split\n",
    "X_train, X_test, y_train, y_test = train_test_split(X, y, stratify=y, random_state=42)\n",
    "from sklearn.preprocessing import MinMaxScaler\n",
    "scaler=MinMaxScaler()\n",
    "scaler.fit(X_train)\n",
    "X_scaled_train=scaler.transform(X_train)\n",
    "X_scaled_test=scaler.transform(X_test)\n",
    "\n"
   ]
  },
  {
   "cell_type": "markdown",
   "metadata": {},
   "source": [
    "model=MLPClassifier()"
   ]
  },
  {
   "cell_type": "code",
   "execution_count": 64,
   "metadata": {},
   "outputs": [
    {
     "data": {
      "text/plain": [
       "0.974609375"
      ]
     },
     "execution_count": 64,
     "metadata": {},
     "output_type": "execute_result"
    }
   ],
   "source": [
    "from sklearn.neural_network import MLPClassifier\n",
    "model=MLPClassifier()\n",
    "model.fit(X_scaled_train, y_train)\n",
    "pred_train=model.predict(X_scaled_train)\n",
    "model.score(X_scaled_train, y_train)"
   ]
  },
  {
   "cell_type": "code",
   "execution_count": 65,
   "metadata": {},
   "outputs": [
    {
     "name": "stdout",
     "output_type": "stream",
     "text": [
      "훈련데이터 오차행렬:\n",
      " [[328   5]\n",
      " [  8 171]]\n"
     ]
    }
   ],
   "source": [
    "from sklearn.metrics import confusion_matrix\n",
    "confusion_train=confusion_matrix(y_train, pred_train)\n",
    "print(\"훈련데이터 오차행렬:\\n\", confusion_train)"
   ]
  },
  {
   "cell_type": "code",
   "execution_count": 66,
   "metadata": {},
   "outputs": [
    {
     "name": "stdout",
     "output_type": "stream",
     "text": [
      "분류예측 레포트:\n",
      "               precision    recall  f1-score   support\n",
      "\n",
      "           0       0.98      0.98      0.98       333\n",
      "           1       0.97      0.96      0.96       179\n",
      "\n",
      "    accuracy                           0.97       512\n",
      "   macro avg       0.97      0.97      0.97       512\n",
      "weighted avg       0.97      0.97      0.97       512\n",
      "\n"
     ]
    }
   ],
   "source": [
    "from sklearn.metrics import classification_report\n",
    "cfreport_train=classification_report(y_train, pred_train)\n",
    "print(\"분류예측 레포트:\\n\", cfreport_train)"
   ]
  },
  {
   "cell_type": "code",
   "execution_count": 67,
   "metadata": {},
   "outputs": [
    {
     "data": {
      "text/plain": [
       "0.9590643274853801"
      ]
     },
     "execution_count": 67,
     "metadata": {},
     "output_type": "execute_result"
    }
   ],
   "source": [
    "pred_test=model.predict(X_scaled_test)\n",
    "model.score(X_scaled_test, y_test)"
   ]
  },
  {
   "cell_type": "code",
   "execution_count": 68,
   "metadata": {},
   "outputs": [
    {
     "name": "stdout",
     "output_type": "stream",
     "text": [
      "테스트데이터 오차행렬:\n",
      " [[106   5]\n",
      " [  2  58]]\n"
     ]
    }
   ],
   "source": [
    "confusion_test=confusion_matrix(y_test, pred_test)\n",
    "print(\"테스트데이터 오차행렬:\\n\", confusion_test)"
   ]
  },
  {
   "cell_type": "code",
   "execution_count": 69,
   "metadata": {},
   "outputs": [
    {
     "name": "stdout",
     "output_type": "stream",
     "text": [
      "분류예측 레포트:\n",
      "               precision    recall  f1-score   support\n",
      "\n",
      "           0       0.98      0.95      0.97       111\n",
      "           1       0.92      0.97      0.94        60\n",
      "\n",
      "    accuracy                           0.96       171\n",
      "   macro avg       0.95      0.96      0.96       171\n",
      "weighted avg       0.96      0.96      0.96       171\n",
      "\n"
     ]
    }
   ],
   "source": [
    "from sklearn.metrics import classification_report\n",
    "cfreport_test=classification_report(y_test, pred_test)\n",
    "print(\"분류예측 레포트:\\n\", cfreport_test)"
   ]
  },
  {
   "cell_type": "code",
   "execution_count": 72,
   "metadata": {},
   "outputs": [
    {
     "data": {
      "text/plain": [
       "GridSearchCV(cv=5, estimator=MLPClassifier(),\n",
       "             param_grid={'activation': ['tanh', 'relu'],\n",
       "                         'hidden_layer_sizes': [10, 30, 50, 100],\n",
       "                         'solver': ['sgd', 'adam']})"
      ]
     },
     "execution_count": 72,
     "metadata": {},
     "output_type": "execute_result"
    }
   ],
   "source": [
    "## Grid Search\n",
    "##  hidden_layer_sizes(은닉층수), solver(옵티마이저), activation(활성화함수) 3가지 튜닝해보자\n",
    "## 은닉층 -10, 30, 50, 100 옵티마이저 -sgd, adm 활성화함수 -tanh, relu  의 16가지 조합으로 분석\n",
    "param_grid={'hidden_layer_sizes':[10, 30, 50, 100], 'solver':['sgd', 'adam'], 'activation':['tanh', 'relu']}\n",
    "from sklearn.model_selection import GridSearchCV\n",
    "grid_search=GridSearchCV(MLPClassifier(), param_grid, cv=5)\n",
    "grid_search.fit(X_scaled_train, y_train)"
   ]
  },
  {
   "cell_type": "code",
   "execution_count": 74,
   "metadata": {},
   "outputs": [
    {
     "name": "stdout",
     "output_type": "stream",
     "text": [
      "Best Parameter:{'activation': 'relu', 'hidden_layer_sizes': 30, 'solver': 'adam'}\n",
      "Best Score:0.9746\n",
      "TestSet Score:0.9591\n"
     ]
    }
   ],
   "source": [
    "## 최적의 하이퍼파라미터는 relu, 30, adam 입니다. \n",
    "## 정확도는 97.46%, 테스트데이터의 스코어 95.91%이다.\n",
    "\n",
    "print(\"Best Parameter:{}\".format(grid_search.best_params_))\n",
    "print(\"Best Score:{:.4f}\".format(grid_search.best_score_))\n",
    "print(\"TestSet Score:{:.4f}\".format(grid_search.score(X_scaled_test, y_test)))"
   ]
  },
  {
   "cell_type": "code",
   "execution_count": 75,
   "metadata": {},
   "outputs": [
    {
     "data": {
      "text/plain": [
       "RandomizedSearchCV(cv=5, estimator=MLPClassifier(),\n",
       "                   param_distributions={'activation': ['tanh', 'relu'],\n",
       "                                        'hidden_layer_sizes': <scipy.stats._distn_infrastructure.rv_frozen object at 0x0000021AEAAA0C08>,\n",
       "                                        'solver': ['sgd', 'adam']})"
      ]
     },
     "execution_count": 75,
     "metadata": {},
     "output_type": "execute_result"
    }
   ],
   "source": [
    "## Random Search\n",
    "## 랜덤탐색을 진행, solver, activation은 동일하게 2가지로 하면서 은닉층수(hidden_layer_sizes) \n",
    "## 10~100사이에서 10번으로 랜덤하게 설정 \n",
    "\n",
    "from scipy.stats import randint\n",
    "param_distribs={'hidden_layer_sizes':randint(low=10, high=100), 'solver':['sgd', 'adam'], 'activation':['tanh', 'relu']}\n",
    "from sklearn.model_selection import RandomizedSearchCV\n",
    "random_search=RandomizedSearchCV(MLPClassifier(), param_distributions=param_distribs, n_iter=10, cv=5)\n",
    "random_search.fit(X_scaled_train, y_train)"
   ]
  },
  {
   "cell_type": "code",
   "execution_count": 76,
   "metadata": {},
   "outputs": [
    {
     "name": "stdout",
     "output_type": "stream",
     "text": [
      "Best parameter:{'activation': 'relu', 'hidden_layer_sizes': 80, 'solver': 'adam'}\n",
      "Best Score:0.9726\n",
      "TestSet:0.9591\n"
     ]
    }
   ],
   "source": [
    "## best parameter relu, 80, adam\n",
    "## 훈련 97.26% 테스트 95.91%\n",
    "print(\"Best parameter:{}\".format(random_search.best_params_))\n",
    "print(\"Best Score:{:.4f}\".format(random_search.best_score_))\n",
    "print(\"TestSet:{:.4f}\".format(random_search.score(X_scaled_test, y_test)))"
   ]
  },
  {
   "cell_type": "code",
   "execution_count": 3,
   "metadata": {},
   "outputs": [
    {
     "data": {
      "text/plain": [
       "-2.656925617409971"
      ]
     },
     "execution_count": 3,
     "metadata": {},
     "output_type": "execute_result"
    }
   ],
   "source": [
    "## Part2. 회귀(Regression)\n",
    "## house_price.csv 파일 가져오고 분류\n",
    "data2=pd.read_csv(\"C:/Users/MJ/Desktop/새 폴더 (2)/[2] 교재 data/house_price.csv\", encoding=\"utf-8\")\n",
    "X=data2[data2.columns[1:5]]\n",
    "y=data2[[\"house_value\"]]\n",
    "\n",
    "## train 데이터셋과 test 데이터셋을 나눠서 준비\n",
    "from sklearn.model_selection import train_test_split\n",
    "X_train, X_test, y_train, y_test = train_test_split(X, y, random_state=42)\n",
    "\n",
    "## 정규화 방법은 minmax사용하여 훈련데이터셋과 테스트데이터셋의 특성치 X 자료들을 반환한다.\n",
    "from sklearn.preprocessing import MinMaxScaler\n",
    "scaler = MinMaxScaler()\n",
    "scaler.fit(X_train)\n",
    "X_scaled_train=scaler.transform(X_train)\n",
    "X_scaled_test=scaler.transform(X_test)\n",
    "\n",
    "\n",
    "from sklearn.neural_network import MLPRegressor\n",
    "model=MLPRegressor()\n",
    "model.fit(X_scaled_train, y_train)\n",
    "pred_train=model.predict(X_scaled_train)\n",
    "model.score(X_scaled_train, y_train)"
   ]
  },
  {
   "cell_type": "code",
   "execution_count": 4,
   "metadata": {},
   "outputs": [
    {
     "data": {
      "text/plain": [
       "-2.6153982713449553"
      ]
     },
     "execution_count": 4,
     "metadata": {},
     "output_type": "execute_result"
    }
   ],
   "source": [
    "pred_test=model.predict(X_scaled_test)\n",
    "model.score(X_scaled_test, y_test)\n",
    "## 훈련데이터, 테스트데이터 둘 다 이상하다. -262.54%는 말이 안된다. "
   ]
  },
  {
   "cell_type": "code",
   "execution_count": 6,
   "metadata": {},
   "outputs": [
    {
     "name": "stdout",
     "output_type": "stream",
     "text": [
      "훈련 데이터 RMSE:182519.43147647224\n",
      "테스트 데이터 RMSE:181777.67607731136\n"
     ]
    }
   ],
   "source": [
    "## RMSE (Root Mean Squared Error)\n",
    "import numpy as np \n",
    "from sklearn.metrics import mean_squared_error\n",
    "MSE_train = mean_squared_error(y_train, pred_train)\n",
    "MSE_test = mean_squared_error(y_test, pred_test)\n",
    "print(\"훈련 데이터 RMSE:{}\".format(np.sqrt(MSE_train)))\n",
    "print(\"테스트 데이터 RMSE:{}\".format(np.sqrt(MSE_test)))\n",
    "## 오차가 크다 좀 이상하다. "
   ]
  },
  {
   "cell_type": "code",
   "execution_count": 7,
   "metadata": {},
   "outputs": [
    {
     "data": {
      "text/plain": [
       "0.566197903746314"
      ]
     },
     "execution_count": 7,
     "metadata": {},
     "output_type": "execute_result"
    }
   ],
   "source": [
    "## 튜닝 모델 \n",
    "## 그리드 탐색과 랜덤탐색은 하이퍼파라미터가 매우 다양하여 최적 조합을 찾는 것이 힘들다. \n",
    "## 따라서 은닉층을 3개로 두어 각가 64개의 노드를 구성하는 조금 깊은 모델을 만들어 보자 \n",
    "## hidden_layer_sizes(64, 64, 64), 활성화 함수는 activation=\"relu\"\n",
    "from sklearn.neural_network import MLPRegressor\n",
    "model = MLPRegressor(hidden_layer_sizes=(64, 64, 64), activation=\"relu\", random_state=1, max_iter=2000)\n",
    "model.fit(X_scaled_train, y_train)\n",
    "pred_train=model.predict(X_scaled_train)\n",
    "model.score(X_scaled_train, y_train)\n",
    "## 56.62%로 조금 전 보다 훨씬 좋다. "
   ]
  },
  {
   "cell_type": "code",
   "execution_count": 8,
   "metadata": {},
   "outputs": [
    {
     "data": {
      "text/plain": [
       "0.584086684313508"
      ]
     },
     "execution_count": 8,
     "metadata": {},
     "output_type": "execute_result"
    }
   ],
   "source": [
    "pred_test=model.predict(X_scaled_test)\n",
    "model.score(X_scaled_test, y_test)\n",
    "## 테스트 데이터도 58.41%로 훨씬 좋게 나온다."
   ]
  },
  {
   "cell_type": "code",
   "execution_count": 9,
   "metadata": {},
   "outputs": [
    {
     "name": "stdout",
     "output_type": "stream",
     "text": [
      "훈련 데이터 RMSE:62863.255358058195\n",
      "테스트 데이터 RMSE:61654.37310884089\n"
     ]
    }
   ],
   "source": [
    "## RMSE(Root Mean Squared Error)\n",
    "import numpy as np \n",
    "from sklearn.metrics import mean_squared_error\n",
    "MSE_train = mean_squared_error(y_train, pred_train)\n",
    "MSE_test = mean_squared_error(y_test, pred_test)\n",
    "print(\"훈련 데이터 RMSE:{}\".format(np.sqrt(MSE_train)))\n",
    "print(\"테스트 데이터 RMSE:{}\".format(np.sqrt(MSE_test)))"
   ]
  },
  {
   "cell_type": "code",
   "execution_count": 2,
   "metadata": {},
   "outputs": [],
   "source": [
    "## 인공신경망 종합정리\n",
    "## 다층퍼셉트론은 딥러닝의 구조와 동일하나 하이퍼파라미터가 매우 많고 모델에 대한 깊은 이해가 있어야 한다.\n",
    "## 실제 다층퍼셉트론을 사용하기보다는 딥러닝을 활용해서 분류와 회귀의 문제를 수행\n",
    "## 은닉층, 노드의 수, 활성화함수 등을 다양하게 조합하여 수행해야지 좋은 선응을 가져오기 가능하다.\n",
    "import pandas as pd"
   ]
  },
  {
   "cell_type": "code",
   "execution_count": 3,
   "metadata": {},
   "outputs": [],
   "source": [
    "## Section 05 서포트 벡터머신\n",
    "data = pd.read_csv('C:/Users/MJ/Desktop/새 폴더 (2)/[2] 교재 data/breast-cancer-wisconsin.csv')\n",
    "X=data[data.columns[1:10]]\n",
    "y=data[[\"Class\"]]\n",
    "from sklearn.model_selection import train_test_split\n",
    "X_train, X_test, y_train, y_test = train_test_split(X, y, stratify=y, random_state=42)\n",
    "from sklearn.preprocessing import MinMaxScaler\n",
    "scaler=MinMaxScaler()\n",
    "scaler.fit(X_train)\n",
    "X_scaled_train=scaler.transform(X_train)\n",
    "X_scaled_test=scaler.transform(X_test)\n"
   ]
  },
  {
   "cell_type": "code",
   "execution_count": 13,
   "metadata": {},
   "outputs": [
    {
     "data": {
      "text/plain": [
       "0.984375"
      ]
     },
     "execution_count": 13,
     "metadata": {},
     "output_type": "execute_result"
    }
   ],
   "source": [
    "from sklearn.svm import SVC\n",
    "model=SVC()\n",
    "model.fit(X_scaled_train, y_train.values.ravel())\n",
    "pred_train=model.predict(X_scaled_train)\n",
    "model.score(X_scaled_train, y_train)"
   ]
  },
  {
   "cell_type": "code",
   "execution_count": 14,
   "metadata": {},
   "outputs": [
    {
     "name": "stdout",
     "output_type": "stream",
     "text": [
      "훈련데이터 오차행렬:\n",
      " [[329   4]\n",
      " [  4 175]]\n"
     ]
    }
   ],
   "source": [
    "from sklearn.metrics import confusion_matrix\n",
    "confusion_train = confusion_matrix(y_train, pred_train)\n",
    "print(\"훈련데이터 오차행렬:\\n\", confusion_train)"
   ]
  },
  {
   "cell_type": "code",
   "execution_count": 15,
   "metadata": {},
   "outputs": [
    {
     "name": "stdout",
     "output_type": "stream",
     "text": [
      "분류예측 레포트:\n",
      "               precision    recall  f1-score   support\n",
      "\n",
      "           0       0.99      0.99      0.99       333\n",
      "           1       0.98      0.98      0.98       179\n",
      "\n",
      "    accuracy                           0.98       512\n",
      "   macro avg       0.98      0.98      0.98       512\n",
      "weighted avg       0.98      0.98      0.98       512\n",
      "\n"
     ]
    }
   ],
   "source": [
    "from sklearn.metrics import classification_report\n",
    "cfreport_train=classification_report(y_train, pred_train)\n",
    "print(\"분류예측 레포트:\\n\", cfreport_train)"
   ]
  },
  {
   "cell_type": "code",
   "execution_count": 16,
   "metadata": {},
   "outputs": [
    {
     "data": {
      "text/plain": [
       "0.9649122807017544"
      ]
     },
     "execution_count": 16,
     "metadata": {},
     "output_type": "execute_result"
    }
   ],
   "source": [
    "pred_test=model.predict(X_scaled_test)\n",
    "model.score(X_scaled_test, y_test)"
   ]
  },
  {
   "cell_type": "code",
   "execution_count": 17,
   "metadata": {},
   "outputs": [
    {
     "name": "stdout",
     "output_type": "stream",
     "text": [
      "테스트데이터 오차행렬:\n",
      " [[106   5]\n",
      " [  1  59]]\n"
     ]
    }
   ],
   "source": [
    "confusion_test = confusion_matrix(y_test, pred_test)\n",
    "print(\"테스트데이터 오차행렬:\\n\", confusion_test)"
   ]
  },
  {
   "cell_type": "code",
   "execution_count": 18,
   "metadata": {},
   "outputs": [
    {
     "name": "stdout",
     "output_type": "stream",
     "text": [
      "분류예측 레포트 :\n",
      "               precision    recall  f1-score   support\n",
      "\n",
      "           0       0.99      0.95      0.97       111\n",
      "           1       0.92      0.98      0.95        60\n",
      "\n",
      "    accuracy                           0.96       171\n",
      "   macro avg       0.96      0.97      0.96       171\n",
      "weighted avg       0.97      0.96      0.97       171\n",
      "\n"
     ]
    }
   ],
   "source": [
    "from sklearn.metrics import classification_report \n",
    "cfreport_test=classification_report(y_test, pred_test)\n",
    "print(\"분류예측 레포트 :\\n\", cfreport_test)"
   ]
  },
  {
   "cell_type": "code",
   "execution_count": 20,
   "metadata": {},
   "outputs": [
    {
     "data": {
      "text/plain": [
       "GridSearchCV(cv=5, estimator=SVC(),\n",
       "             param_grid=[{'C': [0.001, 0.01, 0.1, 1, 10, 100],\n",
       "                          'gamma': [0.001, 0.01, 0.1, 1, 10, 100],\n",
       "                          'kernel': ['rbf']},\n",
       "                         {'C': [0.001, 0.01, 0.1, 1, 10, 100],\n",
       "                          'gamma': [0.001, 0.01, 0.1, 1, 10, 100],\n",
       "                          'kernel': ['linear']}])"
      ]
     },
     "execution_count": 20,
     "metadata": {},
     "output_type": "execute_result"
    }
   ],
   "source": [
    "## Grid Search\n",
    "## 하이퍼파라미터 중 kernel을 rbf와 linear로 하면서 C는 0.001, 0.01, 0.1, 1, 10, 100 \n",
    "## gamma는 0.001, 0.01, 0.1, 1, 10, 100 이렇게 조합하면서 그리드탐색을 진행한다.\n",
    "param_grid=[{'kernel':['rbf'], 'C':[0.001, 0.01, 0.1, 1, 10, 100], 'gamma':[0.001, 0.01, 0.1, 1, 10, 100]},\n",
    "            {'kernel':['linear'], 'C':[0.001, 0.01, 0.1, 1, 10, 100], 'gamma':[0.001, 0.01, 0.1, 1, 10, 100]}]\n",
    "from sklearn.model_selection import GridSearchCV\n",
    "grid_search=GridSearchCV(SVC(), param_grid, cv=5)\n",
    "grid_search.fit(X_scaled_train, y_train.values.ravel())"
   ]
  },
  {
   "cell_type": "code",
   "execution_count": 21,
   "metadata": {},
   "outputs": [
    {
     "name": "stdout",
     "output_type": "stream",
     "text": [
      "Best Parameter: {'C': 100, 'gamma': 0.01, 'kernel': 'rbf'}\n",
      "Best Score: 0.9745669141442985\n",
      "TestSet Score: 0.9591\n"
     ]
    }
   ],
   "source": [
    "print(\"Best Parameter: {}\".format(grid_search.best_params_))\n",
    "print(\"Best Score: {}\".format(grid_search.best_score_))\n",
    "print(\"TestSet Score: {:.4f}\".format(grid_search.score(X_scaled_test, y_test)))"
   ]
  },
  {
   "cell_type": "code",
   "execution_count": 28,
   "metadata": {},
   "outputs": [
    {
     "name": "stderr",
     "output_type": "stream",
     "text": [
      "C:\\Users\\MJ\\anaconda3\\lib\\site-packages\\sklearn\\model_selection\\_validation.py:372: FitFailedWarning: \n",
      "10 fits failed out of a total of 500.\n",
      "The score on these train-test partitions for these parameters will be set to nan.\n",
      "If these failures are not expected, you can try to debug them by setting error_score='raise'.\n",
      "\n",
      "Below are more details about the failures:\n",
      "--------------------------------------------------------------------------------\n",
      "10 fits failed with the following error:\n",
      "Traceback (most recent call last):\n",
      "  File \"C:\\Users\\MJ\\anaconda3\\lib\\site-packages\\sklearn\\model_selection\\_validation.py\", line 681, in _fit_and_score\n",
      "    estimator.fit(X_train, y_train, **fit_params)\n",
      "  File \"C:\\Users\\MJ\\anaconda3\\lib\\site-packages\\sklearn\\svm\\_base.py\", line 255, in fit\n",
      "    fit(X, y, sample_weight, solver_type, kernel, random_seed=seed)\n",
      "  File \"C:\\Users\\MJ\\anaconda3\\lib\\site-packages\\sklearn\\svm\\_base.py\", line 333, in _dense_fit\n",
      "    random_seed=random_seed,\n",
      "  File \"sklearn\\svm\\_libsvm.pyx\", line 192, in sklearn.svm._libsvm.fit\n",
      "ValueError: C <= 0\n",
      "\n",
      "  warnings.warn(some_fits_failed_message, FitFailedWarning)\n",
      "C:\\Users\\MJ\\anaconda3\\lib\\site-packages\\sklearn\\model_selection\\_search.py:972: UserWarning: One or more of the test scores are non-finite: [0.96282125 0.95309347 0.89061489 0.90034266 0.87690843 0.91795165\n",
      " 0.9394822  0.86325909 0.93752142 0.89061489 0.88867314 0.85933752\n",
      " 0.91208833 0.9394822  0.87886922 0.92967828 0.93359985 0.86325909\n",
      " 0.9394822  0.96089853 0.95893775 0.86908433 0.95309347 0.90034266\n",
      " 0.923834   0.87298686 0.91012755 0.94530744 0.65039025 0.87298686\n",
      " 0.89061489 0.87690843 0.91208833 0.96282125 0.86325909 0.88671235\n",
      " 0.89061489 0.86714259 0.90816676 0.90230345        nan 0.91208833\n",
      " 0.90230345 0.89061489 0.88475157 0.90816676 0.90034266 0.86714259\n",
      " 0.94726823 0.87104512 0.86325909 0.86714259 0.88671235 0.93163906\n",
      " 0.88867314 0.91012755 0.95309347 0.93359985 0.87690843 0.95309347\n",
      " 0.90424519 0.91012755 0.87690843 0.89061489 0.86325909 0.89840091\n",
      " 0.96089853 0.89061489 0.89061489 0.94142395 0.94530744 0.96480107\n",
      " 0.91208833 0.87690843 0.86908433 0.86714259 0.94726823 0.94142395\n",
      " 0.86714259 0.86325909 0.94142395 0.88279079 0.88279079 0.90230345\n",
      " 0.91012755 0.95697697 0.923834   0.95309347        nan 0.87886922\n",
      " 0.87298686 0.86325909 0.87298686 0.88671235 0.95309347 0.95309347\n",
      " 0.92967828 0.86325909 0.95309347 0.86908433]\n",
      "  category=UserWarning,\n"
     ]
    },
    {
     "data": {
      "text/plain": [
       "RandomizedSearchCV(cv=5, estimator=SVC(), n_iter=100,\n",
       "                   param_distributions={'C': <scipy.stats._distn_infrastructure.rv_frozen object at 0x0000028A082A1E08>,\n",
       "                                        'gamma': <scipy.stats._distn_infrastructure.rv_frozen object at 0x0000028A082A1F08>,\n",
       "                                        'kernel': ['rbf']})"
      ]
     },
     "execution_count": 28,
     "metadata": {},
     "output_type": "execute_result"
    }
   ],
   "source": [
    "## Random Search\n",
    "## kernel 'rbf', C 0.001~100, gamma 0.001~100 에서 100번 무작위 모델 수행\n",
    "\n",
    "from scipy.stats import randint\n",
    "param_distribs={'kernel':['rbf'], 'C':randint(low=0.001, high=100), 'gamma':randint(low=0, high=100)}\n",
    "from sklearn.model_selection import RandomizedSearchCV\n",
    "random_search = RandomizedSearchCV(SVC(), param_distributions=param_distribs, n_iter=100, cv=5)\n",
    "random_search.fit(X_scaled_train, y_train.values.ravel())"
   ]
  },
  {
   "cell_type": "code",
   "execution_count": 29,
   "metadata": {},
   "outputs": [
    {
     "name": "stdout",
     "output_type": "stream",
     "text": [
      "Best Parameter: {'C': 41, 'gamma': 5, 'kernel': 'rbf'}\n",
      "Best Score: 0.9648\n",
      "TestSet Score: 0.9649\n"
     ]
    }
   ],
   "source": [
    "print(\"Best Parameter: {}\".format(random_search.best_params_))\n",
    "print(\"Best Score: {:.4f}\".format(random_search.best_score_))\n",
    "print(\"TestSet Score: {:.4f}\".format(random_search.score(X_scaled_test, y_test)))\n",
    "## 서포트벡터머신은 다른 알고리즘에 비해 kernel 종류, C와 gamma 등 하이퍼파라미터가 다양하다. \n",
    "## 그만큼 모델의 유연성이 뛰어나다. 그러나 이해가 깊어야 모델을 유연하게 다룰 수 있다. \n",
    "## 그러나 대규모 데이터에는 느린 학습속도를 보인다. "
   ]
  },
  {
   "cell_type": "code",
   "execution_count": 30,
   "metadata": {},
   "outputs": [],
   "source": [
    "## Part2. 회귀(Regression)\n",
    "## 알고리즘은 SVC가 아닌 SVR을 이용 kernel의 종류인 linear, poly, rbf, sigmoid, precomputed, \n",
    "## kernel는 poly로 설정한다. \n",
    "data2=pd.read_csv(\"C:/Users/MJ/Desktop/새 폴더 (2)/[2] 교재 data/house_price.csv\", encoding=\"utf-8\")\n",
    "X=data2[data2.columns[1:5]]\n",
    "y=data2[[\"house_value\"]]\n",
    "\n",
    "## train 데이터셋과 test 데이터셋을 나눠서 준비\n",
    "from sklearn.model_selection import train_test_split\n",
    "X_train, X_test, y_train, y_test = train_test_split(X, y, random_state=42)\n",
    "\n",
    "## 정규화 방법은 minmax사용하여 훈련데이터셋과 테스트데이터셋의 특성치 X 자료들을 반환한다.\n",
    "from sklearn.preprocessing import MinMaxScaler\n",
    "scaler = MinMaxScaler()\n",
    "scaler.fit(X_train)\n",
    "X_scaled_train=scaler.transform(X_train)\n",
    "X_scaled_test=scaler.transform(X_test)"
   ]
  },
  {
   "cell_type": "code",
   "execution_count": 33,
   "metadata": {},
   "outputs": [
    {
     "data": {
      "text/plain": [
       "0.4517702565282383"
      ]
     },
     "execution_count": 33,
     "metadata": {},
     "output_type": "execute_result"
    }
   ],
   "source": [
    "## 훈련데이터의 정확도는 45.2%\n",
    "\n",
    "from sklearn.svm import SVR\n",
    "model=SVR(kernel='poly')\n",
    "model.fit(X_scaled_train, y_train.values.ravel())\n",
    "pred_train=model.predict(X_scaled_train)\n",
    "model.score(X_scaled_train, y_train.values.ravel())"
   ]
  },
  {
   "cell_type": "code",
   "execution_count": 34,
   "metadata": {},
   "outputs": [
    {
     "data": {
      "text/plain": [
       "0.4699770809619137"
      ]
     },
     "execution_count": 34,
     "metadata": {},
     "output_type": "execute_result"
    }
   ],
   "source": [
    "## 테스트데이터에 예측값 저장하고 정확도 확인하면 47%로 나온다. 훈련데이터, 테스트데이터의 정확도는 \n",
    "## 10% 정도 낮다.\n",
    "pred_test=model.predict(X_scaled_test)\n",
    "model.score(X_scaled_test, y_test)"
   ]
  },
  {
   "cell_type": "code",
   "execution_count": 37,
   "metadata": {},
   "outputs": [
    {
     "name": "stdout",
     "output_type": "stream",
     "text": [
      "훈련 데이터 RMSE: 70669.55244251259\n",
      "테스트 데이터 RMSE: 69600.08959938577\n"
     ]
    }
   ],
   "source": [
    "## RMSE (Root Mean Squared Error)\n",
    "\n",
    "import numpy as np\n",
    "from sklearn.metrics import mean_squared_error\n",
    "MSE_train = mean_squared_error(y_train, pred_train)\n",
    "MSE_test = mean_squared_error(y_test, pred_test)\n",
    "print(\"훈련 데이터 RMSE:\", np.sqrt(MSE_train))\n",
    "print(\"테스트 데이터 RMSE:\", np.sqrt(MSE_test))"
   ]
  },
  {
   "cell_type": "code",
   "execution_count": 41,
   "metadata": {},
   "outputs": [
    {
     "data": {
      "text/plain": [
       "GridSearchCV(cv=5, estimator=SVR(kernel='poly'),\n",
       "             param_grid={'C': [10], 'gamma': [0.01, 0.1, 1, 10],\n",
       "                         'kernel': ['poly']})"
      ]
     },
     "execution_count": 41,
     "metadata": {},
     "output_type": "execute_result"
    }
   ],
   "source": [
    "## Grid Search\n",
    "param_grid={'kernel':['poly'], 'C': [10], 'gamma': [0.01, 0.1, 1, 10]}\n",
    "from sklearn.model_selection import GridSearchCV\n",
    "grid_search=GridSearchCV(SVR(kernel='poly'), param_grid, cv=5)\n",
    "grid_search.fit(X_scaled_train, y_train.values.ravel())"
   ]
  },
  {
   "cell_type": "code",
   "execution_count": 42,
   "metadata": {},
   "outputs": [
    {
     "name": "stdout",
     "output_type": "stream",
     "text": [
      "Best Parameter: {'C': 10, 'gamma': 10, 'kernel': 'poly'}\n",
      "Best Score: 0.4888\n",
      "TestSet Score: 0.5092\n"
     ]
    }
   ],
   "source": [
    "print(\"Best Parameter: {}\".format(grid_search.best_params_))\n",
    "print(\"Best Score: {:.4f}\".format(grid_search.best_score_))\n",
    "print(\"TestSet Score: {:.4f}\".format(grid_search.score(X_scaled_test, y_test)))"
   ]
  },
  {
   "cell_type": "code",
   "execution_count": null,
   "metadata": {},
   "outputs": [],
   "source": [
    "## Random Search \n",
    "\n",
    "param_distribs={'kernel':['poly'], 'C': randint(low=0.01, high=10), 'gamma': randint(low=0.01, high=10)}\n",
    "from sklearn.model_selection import RandomizedSearchCV\n",
    "random_search=RandomizedSearchCV(SVR(kernel='poly'),param_distributions=param_distribs, n_iter=20, cv=5)\n",
    "random_search.fit(X_scaled_train, y_train.values.ravel())"
   ]
  },
  {
   "cell_type": "code",
   "execution_count": null,
   "metadata": {},
   "outputs": [],
   "source": [
    "print(\"Best Parameter: {}\".format(random_search.best_params_))\n",
    "print(\"Best Score:{:.4f}\".format(random_search.best_score_))\n",
    "print(\"TestSet Score:{:.4f}\".format(random_search.score(X_scaled_test, y_test)))"
   ]
  },
  {
   "cell_type": "code",
   "execution_count": 1,
   "metadata": {},
   "outputs": [],
   "source": [
    "## 의사결정나무\n",
    "import pandas as pd \n",
    "data = pd.read_csv('C:/Users/MJ/Desktop/새 폴더 (2)/[2] 교재 data/breast-cancer-wisconsin.csv')\n",
    "X=data[data.columns[1:10]]\n",
    "y=data[[\"Class\"]]\n",
    "from sklearn.model_selection import train_test_split\n",
    "X_train, X_test, y_train, y_test = train_test_split(X, y, stratify=y, random_state=42)\n",
    "\n",
    "from sklearn.preprocessing import MinMaxScaler\n",
    "scaler=MinMaxScaler()\n",
    "scaler.fit(X_train)\n",
    "X_scaled_train=scaler.transform(X_train)\n",
    "X_scaled_test=scaler.transform(X_test)"
   ]
  },
  {
   "cell_type": "code",
   "execution_count": 2,
   "metadata": {},
   "outputs": [
    {
     "data": {
      "text/plain": [
       "1.0"
      ]
     },
     "execution_count": 2,
     "metadata": {},
     "output_type": "execute_result"
    }
   ],
   "source": [
    "## 정확도 100%? 엄청 높다.\n",
    "from sklearn.tree import DecisionTreeClassifier\n",
    "model = DecisionTreeClassifier()\n",
    "model.fit(X_scaled_train, y_train)\n",
    "pred_train=model.predict(X_scaled_train)\n",
    "model.score(X_scaled_train, y_train)"
   ]
  },
  {
   "cell_type": "code",
   "execution_count": 3,
   "metadata": {},
   "outputs": [
    {
     "name": "stdout",
     "output_type": "stream",
     "text": [
      "훈련데이터 오차행렬:\n",
      " [[333   0]\n",
      " [  0 179]]\n"
     ]
    }
   ],
   "source": [
    "from sklearn.metrics import confusion_matrix\n",
    "confusion_train=confusion_matrix(y_train, pred_train)\n",
    "print(\"훈련데이터 오차행렬:\\n\", confusion_train)"
   ]
  },
  {
   "cell_type": "code",
   "execution_count": 4,
   "metadata": {},
   "outputs": [
    {
     "name": "stdout",
     "output_type": "stream",
     "text": [
      "분류예측 레포트:\n",
      "               precision    recall  f1-score   support\n",
      "\n",
      "           0       1.00      1.00      1.00       333\n",
      "           1       1.00      1.00      1.00       179\n",
      "\n",
      "    accuracy                           1.00       512\n",
      "   macro avg       1.00      1.00      1.00       512\n",
      "weighted avg       1.00      1.00      1.00       512\n",
      "\n"
     ]
    }
   ],
   "source": [
    "from sklearn.metrics import classification_report\n",
    "cfreport_train=classification_report(y_train, pred_train)\n",
    "print(\"분류예측 레포트:\\n\", cfreport_train)"
   ]
  },
  {
   "cell_type": "code",
   "execution_count": 5,
   "metadata": {},
   "outputs": [
    {
     "data": {
      "text/plain": [
       "0.9590643274853801"
      ]
     },
     "execution_count": 5,
     "metadata": {},
     "output_type": "execute_result"
    }
   ],
   "source": [
    "## 이 결과로 미루어보아 훈련데이터에 과대적합된 거 같다.\n",
    "pred_test=model.predict(X_scaled_test)\n",
    "model.score(X_scaled_test, y_test)"
   ]
  },
  {
   "cell_type": "code",
   "execution_count": 6,
   "metadata": {},
   "outputs": [
    {
     "name": "stdout",
     "output_type": "stream",
     "text": [
      "테스트데이터 오차행렬:\n",
      " [[105   6]\n",
      " [  1  59]]\n"
     ]
    }
   ],
   "source": [
    "## 정상 중 6명, 환자 중 2명 오분류, \n",
    "confusion_test=confusion_matrix(y_test, pred_test)\n",
    "print(\"테스트데이터 오차행렬:\\n\", confusion_test)"
   ]
  },
  {
   "cell_type": "code",
   "execution_count": 7,
   "metadata": {},
   "outputs": [
    {
     "name": "stdout",
     "output_type": "stream",
     "text": [
      "분류예측 레포트:\n",
      "               precision    recall  f1-score   support\n",
      "\n",
      "           0       0.99      0.95      0.97       111\n",
      "           1       0.91      0.98      0.94        60\n",
      "\n",
      "    accuracy                           0.96       171\n",
      "   macro avg       0.95      0.96      0.96       171\n",
      "weighted avg       0.96      0.96      0.96       171\n",
      "\n"
     ]
    }
   ],
   "source": [
    "## 테스트데이터셋의 평가 지표는 0.94~0.96수준 \n",
    "from sklearn.metrics import classification_report\n",
    "cfreport_test=classification_report(y_test, pred_test)\n",
    "print(\"분류예측 레포트:\\n\", cfreport_test)"
   ]
  },
  {
   "cell_type": "code",
   "execution_count": 8,
   "metadata": {},
   "outputs": [
    {
     "data": {
      "text/plain": [
       "GridSearchCV(cv=5, estimator=DecisionTreeClassifier(),\n",
       "             param_grid={'max_depth': range(2, 20, 2),\n",
       "                         'min_samples_leaf': range(1, 50, 2)})"
      ]
     },
     "execution_count": 8,
     "metadata": {},
     "output_type": "execute_result"
    }
   ],
   "source": [
    "## Grid Search\n",
    "\n",
    "param_grid={'max_depth':range(2,20,2), 'min_samples_leaf':range(1,50,2)}\n",
    "from sklearn.model_selection import GridSearchCV\n",
    "grid_search=GridSearchCV(DecisionTreeClassifier(), param_grid, cv=5)\n",
    "grid_search.fit(X_scaled_train, y_train)"
   ]
  },
  {
   "cell_type": "code",
   "execution_count": 9,
   "metadata": {},
   "outputs": [
    {
     "name": "stdout",
     "output_type": "stream",
     "text": [
      "Best Parameter: {'max_depth': 6, 'min_samples_leaf': 1}\n",
      "Best Score: 0.9648\n",
      "TestSet Score: 0.9357\n"
     ]
    }
   ],
   "source": [
    "## max_depth:6, min_samples_leaf:1 일대 최적의 조합 훈련데이터의 정확도는 96.5%, 테스트 데이터 94.2%\n",
    "print(\"Best Parameter: {}\".format(grid_search.best_params_))\n",
    "print(\"Best Score: {:.4f}\".format(grid_search.best_score_))\n",
    "print(\"TestSet Score: {:.4f}\".format(grid_search.score(X_scaled_test, y_test)))"
   ]
  },
  {
   "cell_type": "code",
   "execution_count": 10,
   "metadata": {},
   "outputs": [
    {
     "data": {
      "text/plain": [
       "RandomizedSearchCV(cv=5, estimator=DecisionTreeClassifier(), n_iter=20,\n",
       "                   param_distributions={'max_depth': <scipy.stats._distn_infrastructure.rv_frozen object at 0x0000021908809C48>,\n",
       "                                        'min_samples_leaf': <scipy.stats._distn_infrastructure.rv_frozen object at 0x0000021908808B08>})"
      ]
     },
     "execution_count": 10,
     "metadata": {},
     "output_type": "execute_result"
    }
   ],
   "source": [
    "## Random Search\n",
    "## max_depth 1~20, min_samples_leaf 1~50사이에서 무작위로 20개 n_iter=20\n",
    "from scipy.stats import randint\n",
    "param_distribs = {'max_depth':randint(low=1, high=20), 'min_samples_leaf':randint(low=1, high=50)}\n",
    "from sklearn.model_selection import RandomizedSearchCV\n",
    "random_search=RandomizedSearchCV(DecisionTreeClassifier(), param_distributions=param_distribs, n_iter=20, cv=5)\n",
    "random_search.fit(X_scaled_train, y_train)"
   ]
  },
  {
   "cell_type": "code",
   "execution_count": 11,
   "metadata": {},
   "outputs": [
    {
     "name": "stdout",
     "output_type": "stream",
     "text": [
      "Best Parameter: {'max_depth': 14, 'min_samples_leaf': 10}\n",
      "Best Score: 0.9453\n",
      "TestSet Score: 0.9123\n"
     ]
    }
   ],
   "source": [
    "print(\"Best Parameter: {}\".format(random_search.best_params_))\n",
    "print(\"Best Score: {:.4f}\".format(random_search.best_score_))\n",
    "print(\"TestSet Score: {:.4f}\".format(random_search.score(X_scaled_test, y_test)))\n",
    "\n",
    "## 의사결정나무는 결과들을 봐왔듯이 학습데이터에 매우 과적합되는 경향이 있다. 100%의 분류 예측이 이를 \n",
    "## 보여준다. "
   ]
  },
  {
   "cell_type": "code",
   "execution_count": 12,
   "metadata": {},
   "outputs": [
    {
     "data": {
      "text/plain": [
       "1.0"
      ]
     },
     "execution_count": 12,
     "metadata": {},
     "output_type": "execute_result"
    }
   ],
   "source": [
    "## Part2. 회귀(Regression)\n",
    "\n",
    "data2=pd.read_csv(\"C:/Users/MJ/Desktop/새 폴더 (2)/[2] 교재 data/house_price.csv\", encoding=\"utf-8\")\n",
    "X=data2[data2.columns[1:5]]\n",
    "y=data2[[\"house_value\"]]\n",
    "\n",
    "## train 데이터셋과 test 데이터셋을 나눠서 준비\n",
    "from sklearn.model_selection import train_test_split\n",
    "X_train, X_test, y_train, y_test = train_test_split(X, y, random_state=42)\n",
    "\n",
    "## 정규화 방법은 minmax사용하여 훈련데이터셋과 테스트데이터셋의 특성치 X 자료들을 반환한다.\n",
    "from sklearn.preprocessing import MinMaxScaler\n",
    "scaler = MinMaxScaler()\n",
    "scaler.fit(X_train)\n",
    "X_scaled_train=scaler.transform(X_train)\n",
    "X_scaled_test=scaler.transform(X_test)\n",
    "\n",
    "\n",
    "from sklearn.tree import DecisionTreeRegressor\n",
    "model=DecisionTreeRegressor()\n",
    "model.fit(X_scaled_train, y_train)\n",
    "pred_train=model.predict(X_scaled_train)\n",
    "model.score(X_scaled_train, y_train)"
   ]
  },
  {
   "cell_type": "code",
   "execution_count": 13,
   "metadata": {},
   "outputs": [
    {
     "data": {
      "text/plain": [
       "0.22253575185564411"
      ]
     },
     "execution_count": 13,
     "metadata": {},
     "output_type": "execute_result"
    }
   ],
   "source": [
    "pred_test=model.predict(X_scaled_test)\n",
    "model.score(X_scaled_test, y_test)"
   ]
  },
  {
   "cell_type": "code",
   "execution_count": 14,
   "metadata": {},
   "outputs": [
    {
     "name": "stdout",
     "output_type": "stream",
     "text": [
      "훈련 데이터 RMSE: 0.0\n",
      "테스트 데이터 RMSE: 84295.16933455101\n"
     ]
    }
   ],
   "source": [
    "## RMSE (Root Mean Squared Error)\n",
    "## 훈련 데이터 RMSE가 0이고 테스트 데이터 84295이므로 이 결과로 보아서 훈련데이터에 과대하게 fitted된 모델\n",
    "## 결과임을 알 수 있다.\n",
    "import numpy as np\n",
    "from sklearn.metrics import mean_squared_error\n",
    "MSE_train = mean_squared_error(y_train, pred_train)\n",
    "MSE_test = mean_squared_error(y_test, pred_test)\n",
    "print(\"훈련 데이터 RMSE:\", np.sqrt(MSE_train))\n",
    "print(\"테스트 데이터 RMSE:\", np.sqrt(MSE_test))"
   ]
  },
  {
   "cell_type": "code",
   "execution_count": 15,
   "metadata": {},
   "outputs": [
    {
     "data": {
      "text/plain": [
       "GridSearchCV(cv=5, estimator=DecisionTreeRegressor(),\n",
       "             param_grid={'max_depth': range(2, 20, 2),\n",
       "                         'min_samples_leaf': range(1, 50, 2)})"
      ]
     },
     "execution_count": 15,
     "metadata": {},
     "output_type": "execute_result"
    }
   ],
   "source": [
    "## Grid Search\n",
    "param_grid={'max_depth':range(2,20,2), 'min_samples_leaf':range(1,50,2)}\n",
    "from sklearn.model_selection import GridSearchCV\n",
    "grid_search=GridSearchCV(DecisionTreeRegressor(), param_grid, cv=5)\n",
    "grid_search.fit(X_scaled_train, y_train)"
   ]
  },
  {
   "cell_type": "code",
   "execution_count": 16,
   "metadata": {},
   "outputs": [
    {
     "name": "stdout",
     "output_type": "stream",
     "text": [
      "Best Parameter:{'max_depth': 8, 'min_samples_leaf': 49}\n",
      "Best Score:0.5592\n",
      "TestSet Score:0.5770\n"
     ]
    }
   ],
   "source": [
    "print(\"Best Parameter:{}\".format(grid_search.best_params_))\n",
    "print(\"Best Score:{:.4f}\".format(grid_search.best_score_))\n",
    "print(\"TestSet Score:{:.4f}\".format(grid_search.score(X_scaled_test, y_test)))"
   ]
  },
  {
   "cell_type": "code",
   "execution_count": 18,
   "metadata": {},
   "outputs": [
    {
     "data": {
      "text/plain": [
       "RandomizedSearchCV(cv=5, estimator=DecisionTreeRegressor(), n_iter=20,\n",
       "                   param_distributions={'max_depth': <scipy.stats._distn_infrastructure.rv_frozen object at 0x0000021908468C08>,\n",
       "                                        'min_samples_leaf': <scipy.stats._distn_infrastructure.rv_frozen object at 0x000002190881D188>})"
      ]
     },
     "execution_count": 18,
     "metadata": {},
     "output_type": "execute_result"
    }
   ],
   "source": [
    "## Random Search\n",
    "param_distribs = {'max_depth': randint(low=1, high=20), 'min_samples_leaf': randint(low=1, high=50)}\n",
    "from sklearn.model_selection import RandomizedSearchCV\n",
    "random_search=RandomizedSearchCV(DecisionTreeRegressor(), param_distributions=param_distribs, n_iter=20, cv=5)\n",
    "random_search.fit(X_scaled_train, y_train)"
   ]
  },
  {
   "cell_type": "code",
   "execution_count": 19,
   "metadata": {},
   "outputs": [
    {
     "name": "stdout",
     "output_type": "stream",
     "text": [
      "Best Parameter:{'max_depth': 15, 'min_samples_leaf': 49}\n",
      "Best Score:0.5586\n",
      "TestSet Score:0.5767\n"
     ]
    }
   ],
   "source": [
    "print(\"Best Parameter:{}\".format(random_search.best_params_))\n",
    "print(\"Best Score:{:.4f}\".format(random_search.best_score_))\n",
    "print(\"TestSet Score:{:.4f}\".format(random_search.score(X_scaled_test, y_test)))\n",
    "\n",
    "## 기본모델에선 과대적합, 다만 적절한 하이퍼 파라미터를 찾으면 테스트셋의 결과가 양호하게 나와 일반화 \n",
    "## 가능성이 높다. 디폴트 모델이 아닌 데이터에 적절한 설정을 찾아야 한다."
   ]
  },
  {
   "cell_type": "code",
   "execution_count": 20,
   "metadata": {},
   "outputs": [],
   "source": [
    "## Section07 랜덤포레스트\n",
    "## 랜덤포레스트 알고리즘은 학습 데이터로 여러 의사결정트리를 구성하여 분석하고 이를 종합하는 앙상블 기법이다.\n",
    "## 랜덤포레스트는 한 마디로 의사결정나무 수십 수백개가 예측한 분류 혹은 회귀값을 평균낸 모델이다.\n",
    "## 학습데이터를 무작위로 샘플링해서 다수의 의사결정 트리 분석하기 때문 랜덤+포레스트라 하는 것이다.\n",
    "import sklearn.ensemble"
   ]
  },
  {
   "cell_type": "code",
   "execution_count": 26,
   "metadata": {},
   "outputs": [
    {
     "data": {
      "text/plain": [
       "1.0"
      ]
     },
     "execution_count": 26,
     "metadata": {},
     "output_type": "execute_result"
    }
   ],
   "source": [
    "## 7.3 분석코드\n",
    "## Part1. 분류(Classification)\n",
    "\n",
    "import pandas as pd \n",
    "data = pd.read_csv('C:/Users/MJ/Desktop/새 폴더 (2)/[2] 교재 data/breast-cancer-wisconsin.csv')\n",
    "X=data[data.columns[1:10]]\n",
    "y=data[[\"Class\"]]\n",
    "from sklearn.model_selection import train_test_split\n",
    "X_train, X_test, y_train, y_test = train_test_split(X, y, stratify=y, random_state=42)\n",
    "\n",
    "from sklearn.preprocessing import MinMaxScaler\n",
    "scaler=MinMaxScaler()\n",
    "scaler.fit(X_train)\n",
    "X_scaled_train=scaler.transform(X_train)\n",
    "X_scaled_test=scaler.transform(X_test)\n",
    "\n",
    "\n",
    "\n",
    "from sklearn.ensemble import RandomForestClassifier\n",
    "model=RandomForestClassifier()\n",
    "model.fit(X_scaled_train, y_train.values.ravel())\n",
    "pred_train=model.predict(X_scaled_train)\n",
    "model.score(X_scaled_train, y_train.values.ravel())"
   ]
  },
  {
   "cell_type": "code",
   "execution_count": 27,
   "metadata": {},
   "outputs": [
    {
     "name": "stdout",
     "output_type": "stream",
     "text": [
      "훈련데이터 오차행렬:\n",
      " [[333   0]\n",
      " [  0 179]]\n"
     ]
    }
   ],
   "source": [
    "from sklearn.metrics import confusion_matrix\n",
    "confusion_train=confusion_matrix(y_train, pred_train)\n",
    "print(\"훈련데이터 오차행렬:\\n\", confusion_train)"
   ]
  },
  {
   "cell_type": "code",
   "execution_count": 28,
   "metadata": {},
   "outputs": [
    {
     "name": "stdout",
     "output_type": "stream",
     "text": [
      "분류예측 레포트:\n",
      "               precision    recall  f1-score   support\n",
      "\n",
      "           0       1.00      1.00      1.00       333\n",
      "           1       1.00      1.00      1.00       179\n",
      "\n",
      "    accuracy                           1.00       512\n",
      "   macro avg       1.00      1.00      1.00       512\n",
      "weighted avg       1.00      1.00      1.00       512\n",
      "\n"
     ]
    }
   ],
   "source": [
    "from sklearn.metrics import classification_report\n",
    "cfreport_train=classification_report(y_train, pred_train)\n",
    "print(\"분류예측 레포트:\\n\", cfreport_train)"
   ]
  },
  {
   "cell_type": "code",
   "execution_count": 30,
   "metadata": {},
   "outputs": [
    {
     "data": {
      "text/plain": [
       "GridSearchCV(cv=5, estimator=RandomForestClassifier(),\n",
       "             param_grid={'max_features': ['auto', 'sqrt', 'log2'],\n",
       "                         'n_estimators': range(100, 1000, 100)})"
      ]
     },
     "execution_count": 30,
     "metadata": {},
     "output_type": "execute_result"
    }
   ],
   "source": [
    "## Grid Search\n",
    "param_grid={'n_estimators':range(100, 1000, 100), 'max_features':['auto', 'sqrt','log2']}\n",
    "from sklearn.model_selection import GridSearchCV\n",
    "grid_search=GridSearchCV(RandomForestClassifier(), param_grid, cv=5)\n",
    "grid_search.fit(X_scaled_train, y_train.values.ravel())"
   ]
  },
  {
   "cell_type": "code",
   "execution_count": 31,
   "metadata": {},
   "outputs": [
    {
     "name": "stdout",
     "output_type": "stream",
     "text": [
      "Best Parameter: {'max_features': 'sqrt', 'n_estimators': 500}\n",
      "Best Score: 0.9765\n",
      "TestSet: 0.9649\n"
     ]
    }
   ],
   "source": [
    "print(\"Best Parameter: {}\".format(grid_search.best_params_))\n",
    "print(\"Best Score: {:.4f}\".format(grid_search.best_score_))\n",
    "print(\"TestSet: {:.4f}\".format(grid_search.score(X_scaled_test, y_test)))"
   ]
  },
  {
   "cell_type": "code",
   "execution_count": 34,
   "metadata": {},
   "outputs": [
    {
     "data": {
      "text/plain": [
       "RandomizedSearchCV(cv=5, estimator=RandomForestClassifier(), n_iter=20,\n",
       "                   param_distributions={'max_features': ['auto', 'sqrt',\n",
       "                                                         'log2'],\n",
       "                                        'n_estimators': <scipy.stats._distn_infrastructure.rv_frozen object at 0x00000219087FC748>})"
      ]
     },
     "execution_count": 34,
     "metadata": {},
     "output_type": "execute_result"
    }
   ],
   "source": [
    "## Random Search\n",
    "## n_estimators 100~1000 max_features 세 가지 방법 사이에서 무작위로 20개의 모델 n_iter=20 \n",
    "\n",
    "from scipy.stats import randint\n",
    "param_distribs = {'n_estimators': randint(low=100, high=1000), 'max_features': ['auto', 'sqrt', 'log2']}\n",
    "from sklearn.model_selection import RandomizedSearchCV\n",
    "random_search=RandomizedSearchCV(RandomForestClassifier(), param_distributions=param_distribs, n_iter=20, cv=5)\n",
    "random_search.fit(X_scaled_train, y_train.values.ravel())"
   ]
  },
  {
   "cell_type": "code",
   "execution_count": 35,
   "metadata": {},
   "outputs": [
    {
     "name": "stdout",
     "output_type": "stream",
     "text": [
      "Best Parameter:{'max_features': 'log2', 'n_estimators': 195}\n",
      "Best Score:0.9765\n",
      "TestSet Score:0.9708\n"
     ]
    }
   ],
   "source": [
    "print(\"Best Parameter:{}\".format(random_search.best_params_))\n",
    "print(\"Best Score:{:.4f}\".format(random_search.best_score_))\n",
    "print(\"TestSet Score:{:.4f}\".format(random_search.score(X_scaled_test, y_test)))"
   ]
  },
  {
   "cell_type": "code",
   "execution_count": 2,
   "metadata": {},
   "outputs": [
    {
     "data": {
      "text/plain": [
       "0.9376381392218429"
      ]
     },
     "execution_count": 2,
     "metadata": {},
     "output_type": "execute_result"
    }
   ],
   "source": [
    "## Part2. 회귀(Regression)\n",
    "\n",
    "import pandas as pd\n",
    "data2=pd.read_csv(\"C:/Users/MJ/Desktop/새 폴더 (2)/[2] 교재 data/house_price.csv\", encoding=\"utf-8\")\n",
    "X=data2[data2.columns[1:5]]\n",
    "y=data2[[\"house_value\"]]\n",
    "\n",
    "## train 데이터셋과 test 데이터셋을 나눠서 준비\n",
    "from sklearn.model_selection import train_test_split\n",
    "X_train, X_test, y_train, y_test = train_test_split(X, y, random_state=42)\n",
    "\n",
    "## 정규화 방법은 minmax사용하여 훈련데이터셋과 테스트데이터셋의 특성치 X 자료들을 반환한다.\n",
    "from sklearn.preprocessing import MinMaxScaler\n",
    "scaler = MinMaxScaler()\n",
    "scaler.fit(X_train)\n",
    "X_scaled_train=scaler.transform(X_train)\n",
    "X_scaled_test=scaler.transform(X_test)\n",
    "\n",
    "\n",
    "from sklearn.ensemble import RandomForestRegressor\n",
    "model=RandomForestRegressor()\n",
    "model.fit(X_scaled_train, y_train.values.ravel())\n",
    "pred_train=model.predict(X_scaled_train)\n",
    "model.score(X_scaled_train, y_train)"
   ]
  },
  {
   "cell_type": "code",
   "execution_count": 3,
   "metadata": {},
   "outputs": [
    {
     "data": {
      "text/plain": [
       "0.5828108987548738"
      ]
     },
     "execution_count": 3,
     "metadata": {},
     "output_type": "execute_result"
    }
   ],
   "source": [
    "pred_test = model.predict(X_scaled_test)\n",
    "model.score(X_scaled_test, y_test)"
   ]
  },
  {
   "cell_type": "code",
   "execution_count": 4,
   "metadata": {},
   "outputs": [
    {
     "name": "stdout",
     "output_type": "stream",
     "text": [
      "훈련데이터 RMSE 23834.74866076614\n",
      "테스트데이터 RMSE 61748.86098514909\n"
     ]
    }
   ],
   "source": [
    "# RMSE (Root Mean Squared Error)\n",
    "\n",
    "import numpy as np\n",
    "from sklearn.metrics import mean_squared_error\n",
    "MSE_train = mean_squared_error(y_train, pred_train)\n",
    "MSE_test = mean_squared_error(y_test, pred_test)\n",
    "\n",
    "print(\"훈련데이터 RMSE\", np.sqrt(MSE_train))\n",
    "print(\"테스트데이터 RMSE\",np.sqrt(MSE_test))"
   ]
  },
  {
   "cell_type": "code",
   "execution_count": 6,
   "metadata": {},
   "outputs": [
    {
     "data": {
      "text/plain": [
       "GridSearchCV(cv=5, estimator=RandomForestRegressor(),\n",
       "             param_grid={'max_features': ['auto', 'sqrt', 'log2'],\n",
       "                         'n_estimators': range(100, 500, 100)})"
      ]
     },
     "execution_count": 6,
     "metadata": {},
     "output_type": "execute_result"
    }
   ],
   "source": [
    "## Grid Search\n",
    "param_grid={'n_estimators': range(100, 500, 100), 'max_features': ['auto', 'sqrt', 'log2']}\n",
    "from sklearn.model_selection import GridSearchCV\n",
    "grid_search=GridSearchCV(RandomForestRegressor(), param_grid, cv=5)\n",
    "grid_search.fit(X_scaled_train, y_train.values.ravel())"
   ]
  },
  {
   "cell_type": "code",
   "execution_count": 7,
   "metadata": {},
   "outputs": [
    {
     "name": "stdout",
     "output_type": "stream",
     "text": [
      "Best Parameter:{'max_features': 'sqrt', 'n_estimators': 400}\n",
      "Best Score:0.5683\n",
      "TestSet Score:0.5934\n"
     ]
    }
   ],
   "source": [
    "print(\"Best Parameter:{}\".format(grid_search.best_params_))\n",
    "print(\"Best Score:{:.4f}\".format(grid_search.best_score_))\n",
    "print(\"TestSet Score:{:.4f}\".format(grid_search.score(X_scaled_test, y_test)))"
   ]
  },
  {
   "cell_type": "code",
   "execution_count": 10,
   "metadata": {},
   "outputs": [
    {
     "name": "stderr",
     "output_type": "stream",
     "text": [
      "C:\\Users\\MJ\\anaconda3\\lib\\site-packages\\sklearn\\model_selection\\_validation.py:372: FitFailedWarning: \n",
      "65 fits failed out of a total of 100.\n",
      "The score on these train-test partitions for these parameters will be set to nan.\n",
      "If these failures are not expected, you can try to debug them by setting error_score='raise'.\n",
      "\n",
      "Below are more details about the failures:\n",
      "--------------------------------------------------------------------------------\n",
      "65 fits failed with the following error:\n",
      "Traceback (most recent call last):\n",
      "  File \"C:\\Users\\MJ\\anaconda3\\lib\\site-packages\\sklearn\\model_selection\\_validation.py\", line 681, in _fit_and_score\n",
      "    estimator.fit(X_train, y_train, **fit_params)\n",
      "  File \"C:\\Users\\MJ\\anaconda3\\lib\\site-packages\\sklearn\\ensemble\\_forest.py\", line 459, in fit\n",
      "    for i, t in enumerate(trees)\n",
      "  File \"C:\\Users\\MJ\\anaconda3\\lib\\site-packages\\joblib\\parallel.py\", line 1004, in __call__\n",
      "    if self.dispatch_one_batch(iterator):\n",
      "  File \"C:\\Users\\MJ\\anaconda3\\lib\\site-packages\\joblib\\parallel.py\", line 835, in dispatch_one_batch\n",
      "    self._dispatch(tasks)\n",
      "  File \"C:\\Users\\MJ\\anaconda3\\lib\\site-packages\\joblib\\parallel.py\", line 754, in _dispatch\n",
      "    job = self._backend.apply_async(batch, callback=cb)\n",
      "  File \"C:\\Users\\MJ\\anaconda3\\lib\\site-packages\\joblib\\_parallel_backends.py\", line 209, in apply_async\n",
      "    result = ImmediateResult(func)\n",
      "  File \"C:\\Users\\MJ\\anaconda3\\lib\\site-packages\\joblib\\_parallel_backends.py\", line 590, in __init__\n",
      "    self.results = batch()\n",
      "  File \"C:\\Users\\MJ\\anaconda3\\lib\\site-packages\\joblib\\parallel.py\", line 256, in __call__\n",
      "    for func, args, kwargs in self.items]\n",
      "  File \"C:\\Users\\MJ\\anaconda3\\lib\\site-packages\\joblib\\parallel.py\", line 256, in <listcomp>\n",
      "    for func, args, kwargs in self.items]\n",
      "  File \"C:\\Users\\MJ\\anaconda3\\lib\\site-packages\\sklearn\\utils\\fixes.py\", line 211, in __call__\n",
      "    return self.function(*args, **kwargs)\n",
      "  File \"C:\\Users\\MJ\\anaconda3\\lib\\site-packages\\sklearn\\ensemble\\_forest.py\", line 185, in _parallel_build_trees\n",
      "    tree.fit(X, y, sample_weight=curr_sample_weight, check_input=False)\n",
      "  File \"C:\\Users\\MJ\\anaconda3\\lib\\site-packages\\sklearn\\tree\\_classes.py\", line 1320, in fit\n",
      "    X_idx_sorted=X_idx_sorted,\n",
      "  File \"C:\\Users\\MJ\\anaconda3\\lib\\site-packages\\sklearn\\tree\\_classes.py\", line 282, in fit\n",
      "    \"Invalid value for max_features. \"\n",
      "ValueError: Invalid value for max_features. Allowed string values are 'auto', 'sqrt' or 'log2'.\n",
      "\n",
      "  warnings.warn(some_fits_failed_message, FitFailedWarning)\n",
      "C:\\Users\\MJ\\anaconda3\\lib\\site-packages\\sklearn\\model_selection\\_search.py:972: UserWarning: One or more of the test scores are non-finite: [       nan 0.55822277        nan        nan 0.55946432        nan\n",
      " 0.55946598 0.55812019        nan        nan        nan        nan\n",
      "        nan 0.55745454        nan 0.55713631        nan        nan\n",
      "        nan 0.55969612]\n",
      "  category=UserWarning,\n"
     ]
    },
    {
     "data": {
      "text/plain": [
       "RandomizedSearchCV(cv=5, estimator=RandomForestRegressor(), n_iter=20,\n",
       "                   param_distributions={'max_features': ['auto', 'sqrtlog2'],\n",
       "                                        'n_estimators': <scipy.stats._distn_infrastructure.rv_frozen object at 0x0000017CDE7674C8>})"
      ]
     },
     "execution_count": 10,
     "metadata": {},
     "output_type": "execute_result"
    }
   ],
   "source": [
    "## Random Search\n",
    "from scipy.stats import randint\n",
    "param_distribs={'n_estimators':randint(low=100, high=500), 'max_features':['auto', 'sqrt' 'log2']}\n",
    "from sklearn.model_selection import RandomizedSearchCV\n",
    "random_search=RandomizedSearchCV(RandomForestRegressor(), param_distributions=param_distribs, n_iter=20, cv=5)\n",
    "random_search.fit(X_scaled_train, y_train.values.ravel())"
   ]
  },
  {
   "cell_type": "code",
   "execution_count": 12,
   "metadata": {},
   "outputs": [
    {
     "name": "stdout",
     "output_type": "stream",
     "text": [
      "Best Parameter:{'max_features': 'auto', 'n_estimators': 488}\n",
      "Best Score:0.5597\n",
      "TestSet Score:0.5864\n"
     ]
    }
   ],
   "source": [
    "print(\"Best Parameter:{}\".format(random_search.best_params_))\n",
    "print(\"Best Score:{:.4f}\".format(random_search.best_score_))\n",
    "print(\"TestSet Score:{:.4f}\".format(random_search.score(X_scaled_test, y_test)))\n",
    "## 기본 디폴트 모델에서는 과대적합되는 경향을 보였다. 그러나 적절한 모델수와 특성치를 탐색한 결과는 좋은 \n",
    "## 결과를 보여준다. 기분 설정보다느 최적의 하이퍼파라미터를 찾아 회귀문제에 적용하는 것이 적절한 모델이다.\n",
    "## 개별 알고리즘보다 더 좋은 성능을 보이며 다른 앙상블 기법에 비해서 심플하고 강력하다. "
   ]
  },
  {
   "cell_type": "code",
   "execution_count": 16,
   "metadata": {},
   "outputs": [
    {
     "data": {
      "text/plain": [
       "VotingClassifier(estimators=[('lr', LogisticRegression(random_state=42)),\n",
       "                             ('rf', RandomForestClassifier(random_state=42)),\n",
       "                             ('svc', SVC(random_state=42))])"
      ]
     },
     "execution_count": 16,
     "metadata": {},
     "output_type": "execute_result"
    }
   ],
   "source": [
    "## Section08 투표기반 앙상블\n",
    "## 투표기반 앙상블은 여러 분류기를 학습시킨 후 각가의 분류기가 예측하는 레이블 범주가 가장 많이 나오는 범주를 \n",
    "## 예측하는 방법이다. \n",
    "## Part1. 분류 Classification\n",
    "## 강한 학습기 hard learner\n",
    "import pandas as pd \n",
    "data = pd.read_csv('C:/Users/MJ/Desktop/새 폴더 (2)/[2] 교재 data/breast-cancer-wisconsin.csv')\n",
    "X=data[data.columns[1:10]]\n",
    "y=data[[\"Class\"]]\n",
    "from sklearn.model_selection import train_test_split\n",
    "X_train, X_test, y_train, y_test = train_test_split(X, y, stratify=y, random_state=42)\n",
    "\n",
    "from sklearn.preprocessing import MinMaxScaler\n",
    "scaler=MinMaxScaler()\n",
    "scaler.fit(X_train)\n",
    "X_scaled_train=scaler.transform(X_train)\n",
    "X_scaled_test=scaler.transform(X_test)\n",
    "\n",
    "from sklearn.ensemble import RandomForestClassifier\n",
    "from sklearn.linear_model import LogisticRegression\n",
    "from sklearn.svm import SVC\n",
    "from sklearn.ensemble import VotingClassifier\n",
    "\n",
    "logit_model = LogisticRegression(random_state=42)\n",
    "rnf_model = RandomForestClassifier(random_state=42)\n",
    "svm_model = SVC(random_state=42)\n",
    "\n",
    "voting_hard = VotingClassifier(estimators=[('lr', logit_model), ('rf', rnf_model), ('svc', svm_model)],\n",
    "                              voting='hard')\n",
    "voting_hard.fit(X_scaled_train, y_train.values.ravel())"
   ]
  },
  {
   "cell_type": "code",
   "execution_count": 18,
   "metadata": {},
   "outputs": [
    {
     "name": "stdout",
     "output_type": "stream",
     "text": [
      "LogisticRegression 0.9590643274853801\n",
      "RandomForestClassifier 0.9649122807017544\n",
      "SVC 0.9649122807017544\n",
      "VotingClassifier 0.9649122807017544\n"
     ]
    }
   ],
   "source": [
    "from sklearn.metrics import accuracy_score\n",
    "\n",
    "for clf in (logit_model, rnf_model, svm_model, voting_hard):\n",
    "    clf.fit(X_scaled_train, y_train.values.ravel())\n",
    "    y_pred = clf.predict(X_scaled_test)\n",
    "    print(clf.__class__.__name__, accuracy_score(y_test, y_pred))"
   ]
  },
  {
   "cell_type": "code",
   "execution_count": 20,
   "metadata": {},
   "outputs": [
    {
     "name": "stdout",
     "output_type": "stream",
     "text": [
      "로지스틱 분류기 훈련데이터 오차행렬:\n",
      " [[328   5]\n",
      " [  9 170]]\n",
      "로지스틱 분류기 테스트데이터 오차행렬:\n",
      " [[106   5]\n",
      " [  2  58]]\n"
     ]
    }
   ],
   "source": [
    "## 로지스틱 회귀모델의 분류결과\n",
    "from sklearn.metrics import confusion_matrix\n",
    "log_pred_train=logit_model.predict(X_scaled_train)\n",
    "log_confusion_train=confusion_matrix(y_train, log_pred_train)\n",
    "print(\"로지스틱 분류기 훈련데이터 오차행렬:\\n\", log_confusion_train)\n",
    "\n",
    "log_pred_test=logit_model.predict(X_scaled_test)\n",
    "log_confusion_test=confusion_matrix(y_test, log_pred_test)\n",
    "print(\"로지스틱 분류기 테스트데이터 오차행렬:\\n\", log_confusion_test)"
   ]
  },
  {
   "cell_type": "code",
   "execution_count": 21,
   "metadata": {},
   "outputs": [
    {
     "name": "stdout",
     "output_type": "stream",
     "text": [
      "서포트벡터머신 분류기 훈련데이터 오차행렬:\n",
      " [[329   4]\n",
      " [  4 175]]\n",
      "서포트벡터머신 분류기 테스트데이터 오차행렬:\n",
      " [[106   5]\n",
      " [  1  59]]\n"
     ]
    }
   ],
   "source": [
    "## 서포트벡터머신의 분류 결과\n",
    "svm_pred_train=svm_model.predict(X_scaled_train)\n",
    "svm_confusion_train=confusion_matrix(y_train, svm_pred_train)\n",
    "print(\"서포트벡터머신 분류기 훈련데이터 오차행렬:\\n\", svm_confusion_train)\n",
    "\n",
    "svm_pred_test=svm_model.predict(X_scaled_test)\n",
    "svm_confusion_test=confusion_matrix(y_test, svm_pred_test)\n",
    "print(\"서포트벡터머신 분류기 테스트데이터 오차행렬:\\n\", svm_confusion_test)"
   ]
  },
  {
   "cell_type": "code",
   "execution_count": 22,
   "metadata": {},
   "outputs": [
    {
     "name": "stdout",
     "output_type": "stream",
     "text": [
      "랜덤포레스트 분류기 훈련데이터 오차행렬:\n",
      " [[333   0]\n",
      " [  0 179]]\n",
      "랜덤포레스트 분류기 훈련데이터 오차행렬:\n",
      " [[106   5]\n",
      " [  1  59]]\n"
     ]
    }
   ],
   "source": [
    "## 랜덤포레스트의 분류 결과 \n",
    "\n",
    "rnd_pred_train=rnf_model.predict(X_scaled_train)\n",
    "rnd_confusion_train=confusion_matrix(y_train, rnd_pred_train)\n",
    "print(\"랜덤포레스트 분류기 훈련데이터 오차행렬:\\n\", rnd_confusion_train)\n",
    "\n",
    "rnd_pred_test=rnf_model.predict(X_scaled_test)\n",
    "rnd_confusion_test=confusion_matrix(y_test, rnd_pred_test)\n",
    "print(\"랜덤포레스트 분류기 훈련데이터 오차행렬:\\n\", rnd_confusion_test)"
   ]
  },
  {
   "cell_type": "code",
   "execution_count": 24,
   "metadata": {},
   "outputs": [
    {
     "name": "stdout",
     "output_type": "stream",
     "text": [
      "투표기반 앙상블 훈련데이터 오차행렬:\n",
      " [[329   4]\n",
      " [  4 175]]\n",
      "투표기반 앙상블 테스트데이터 오차행렬:\n",
      " [[106   5]\n",
      " [  1  59]]\n"
     ]
    }
   ],
   "source": [
    "## 투표기반 앙상블 모델의 분류 결과 \n",
    "voting_hard_pred_train=voting_hard.predict(X_scaled_train)\n",
    "voting_hard_confusion_train=confusion_matrix(y_train, voting_hard_pred_train)\n",
    "print(\"투표기반 앙상블 훈련데이터 오차행렬:\\n\", voting_hard_confusion_train)\n",
    "\n",
    "voting_hard_pred_test=voting_hard.predict(X_scaled_test)\n",
    "voting_hard_confusion_test=confusion_matrix(y_test, voting_hard_pred_test)\n",
    "print(\"투표기반 앙상블 테스트데이터 오차행렬:\\n\", voting_hard_confusion_test)"
   ]
  },
  {
   "cell_type": "code",
   "execution_count": 28,
   "metadata": {},
   "outputs": [
    {
     "data": {
      "text/plain": [
       "VotingClassifier(estimators=[('lr', LogisticRegression(random_state=42)),\n",
       "                             ('rf', RandomForestClassifier(random_state=42)),\n",
       "                             ('svc', SVC(probability=True, random_state=42))],\n",
       "                 voting='soft')"
      ]
     },
     "execution_count": 28,
     "metadata": {},
     "output_type": "execute_result"
    }
   ],
   "source": [
    "## 약한 학습기 sofr learner\n",
    "\n",
    "logit_model = LogisticRegression(random_state=42)\n",
    "rnf_model = RandomForestClassifier(random_state=42)\n",
    "svm_model = SVC(probability=True, random_state=42)\n",
    "voting_soft = VotingClassifier(estimators=[('lr', logit_model), ('rf', rnf_model), ('svc', svm_model)]\n",
    "                              , voting ='soft')\n",
    "voting_soft.fit(X_scaled_train, y_train.values.ravel())"
   ]
  },
  {
   "cell_type": "code",
   "execution_count": 30,
   "metadata": {},
   "outputs": [
    {
     "name": "stdout",
     "output_type": "stream",
     "text": [
      "LogisticRegression 0.9590643274853801\n",
      "RandomForestClassifier 0.9649122807017544\n",
      "SVC 0.9649122807017544\n",
      "VotingClassifier 0.9649122807017544\n"
     ]
    }
   ],
   "source": [
    "from sklearn.metrics import accuracy_score\n",
    "\n",
    "for clf in (logit_model, rnf_model, svm_model, voting_soft):\n",
    "    clf.fit(X_scaled_train, y_train.values.ravel())\n",
    "    y_pred=clf.predict(X_scaled_test)\n",
    "    print(clf.__class__.__name__, accuracy_score(y_test, y_pred))"
   ]
  },
  {
   "cell_type": "code",
   "execution_count": 32,
   "metadata": {},
   "outputs": [
    {
     "name": "stdout",
     "output_type": "stream",
     "text": [
      "투표기반 앙상블 훈련데이터 오차행렬:\n",
      " [[330   3]\n",
      " [  3 176]]\n",
      "투표기반 앙상블 테스트데이터 오차행렬:\n",
      " [[106   5]\n",
      " [  1  59]]\n"
     ]
    }
   ],
   "source": [
    "voting_soft_pred_train=voting_soft.predict(X_scaled_train)\n",
    "voting_soft_confusion_train=confusion_matrix(y_train, voting_soft_pred_train)\n",
    "print(\"투표기반 앙상블 훈련데이터 오차행렬:\\n\", voting_soft_confusion_train)\n",
    "\n",
    "voting_soft_pred_test=voting_soft.predict(X_scaled_test)\n",
    "voting_soft_confusion_test=confusion_matrix(y_test, voting_soft_pred_test)\n",
    "print(\"투표기반 앙상블 테스트데이터 오차행렬:\\n\", voting_soft_confusion_test)\n",
    "## 앙상블은 일반적으로 좋은 개별 알고리즘을 조합하면 그보다 좀 더 나은 결과를 보인다.\n",
    "## 또한 범주(hard)보다는 확률(soft)방식이 다소 정확도가 높은 것으로 알려져있다."
   ]
  },
  {
   "cell_type": "code",
   "execution_count": 33,
   "metadata": {},
   "outputs": [],
   "source": [
    "## Part2. 회귀(Regression)\n",
    "import pandas as pd\n",
    "data2=pd.read_csv(\"C:/Users/MJ/Desktop/새 폴더 (2)/[2] 교재 data/house_price.csv\", encoding=\"utf-8\")\n",
    "X=data2[data2.columns[1:5]]\n",
    "y=data2[[\"house_value\"]]\n",
    "\n",
    "## train 데이터셋과 test 데이터셋을 나눠서 준비\n",
    "from sklearn.model_selection import train_test_split\n",
    "X_train, X_test, y_train, y_test = train_test_split(X, y, random_state=42)\n",
    "\n",
    "## 정규화 방법은 minmax사용하여 훈련데이터셋과 테스트데이터셋의 특성치 X 자료들을 반환한다.\n",
    "from sklearn.preprocessing import MinMaxScaler\n",
    "scaler = MinMaxScaler()\n",
    "scaler.fit(X_train)\n",
    "X_scaled_train=scaler.transform(X_train)\n",
    "X_scaled_test=scaler.transform(X_test)\n"
   ]
  },
  {
   "cell_type": "code",
   "execution_count": 35,
   "metadata": {},
   "outputs": [
    {
     "data": {
      "text/plain": [
       "VotingRegressor(estimators=[('lr', LinearRegression()),\n",
       "                            ('rf', RandomForestRegressor())])"
      ]
     },
     "execution_count": 35,
     "metadata": {},
     "output_type": "execute_result"
    }
   ],
   "source": [
    "from sklearn.linear_model import LinearRegression\n",
    "from sklearn.ensemble import RandomForestRegressor\n",
    "from sklearn.ensemble import VotingRegressor\n",
    "\n",
    "linear_model = LinearRegression()\n",
    "rnf_model = RandomForestRegressor()\n",
    "\n",
    "voting_regressor = VotingRegressor(estimators=[('lr', linear_model), ('rf', rnf_model)])\n",
    "voting_regressor.fit(X_scaled_train, y_train.values.ravel())"
   ]
  },
  {
   "cell_type": "code",
   "execution_count": 37,
   "metadata": {},
   "outputs": [
    {
     "data": {
      "text/plain": [
       "0.7965479261463408"
      ]
     },
     "execution_count": 37,
     "metadata": {},
     "output_type": "execute_result"
    }
   ],
   "source": [
    "pred_train=voting_regressor.predict(X_scaled_train)\n",
    "voting_regressor.score(X_scaled_train, y_train)"
   ]
  },
  {
   "cell_type": "code",
   "execution_count": 38,
   "metadata": {},
   "outputs": [
    {
     "data": {
      "text/plain": [
       "0.5935337291360735"
      ]
     },
     "execution_count": 38,
     "metadata": {},
     "output_type": "execute_result"
    }
   ],
   "source": [
    "pred_test=voting_regressor.predict(X_scaled_test)\n",
    "voting_regressor.score(X_scaled_test, y_test)"
   ]
  },
  {
   "cell_type": "code",
   "execution_count": 39,
   "metadata": {},
   "outputs": [
    {
     "name": "stdout",
     "output_type": "stream",
     "text": [
      "훈련 데이터 RMSE:43050.88706123201\n",
      "테스트 데이터 RMSE:60950.14321685311\n"
     ]
    }
   ],
   "source": [
    "## RMSE (Root Mean Squared Error)\n",
    "\n",
    "import numpy as np\n",
    "from sklearn.metrics import mean_squared_error\n",
    "MSE_train = mean_squared_error(y_train, pred_train)\n",
    "MSE_test = mean_squared_error(y_test, pred_test)\n",
    "print(\"훈련 데이터 RMSE:{}\".format(np.sqrt(MSE_train)))\n",
    "print(\"테스트 데이터 RMSE:{}\".format(np.sqrt(MSE_test)))\n",
    "## 회귀문제에서 투표기반 앙상블로 2개 알고리즘만을 조합하였음에도 정확도가 개별 알고리즘을 적용할 때보다 \n",
    "## 테스트데이터에서 2~3%높게 나타났다. 이는 절대 낮은게 아니다. 개별 알고리즘에서 가장 좋은 하이퍼 파라미터\n",
    "## 찾아 설정한다면 더 좋은 결과도 가능하다. "
   ]
  },
  {
   "cell_type": "code",
   "execution_count": 40,
   "metadata": {},
   "outputs": [],
   "source": [
    "## Section09 앙상블 배깅(Bagging)\n",
    "## 여러개의 부트스트랩 데이터를 생성하고 각 부트스트랩 데이터에 하나 혹은 여러 알고리즘을 학습시킨 후 \n",
    "## 산출된 결과 중 투표 방식에 의해 최종 결과를 선정하는 알고리즘이다.\n",
    "## 핵심 파라미터는 n_estimator이다\n",
    "\n",
    "import pandas as pd \n",
    "data = pd.read_csv('C:/Users/MJ/Desktop/새 폴더 (2)/[2] 교재 data/breast-cancer-wisconsin.csv')\n",
    "X=data[data.columns[1:10]]\n",
    "y=data[[\"Class\"]]\n",
    "from sklearn.model_selection import train_test_split\n",
    "X_train, X_test, y_train, y_test = train_test_split(X, y, stratify=y, random_state=42)\n",
    "\n",
    "from sklearn.preprocessing import MinMaxScaler\n",
    "scaler=MinMaxScaler()\n",
    "scaler.fit(X_train)\n",
    "X_scaled_train=scaler.transform(X_train)\n",
    "X_scaled_test=scaler.transform(X_test)"
   ]
  },
  {
   "cell_type": "code",
   "execution_count": 44,
   "metadata": {},
   "outputs": [
    {
     "data": {
      "text/plain": [
       "0.982421875"
      ]
     },
     "execution_count": 44,
     "metadata": {},
     "output_type": "execute_result"
    }
   ],
   "source": [
    "## Part1. 분류(Classification)\n",
    "## n_estimator=10, 10개의 데이터셋에 SVC를 훈련시킨 10개의 모델 결과를 종합하는 것이다.\n",
    "\n",
    "from sklearn.svm import SVC\n",
    "from sklearn.ensemble import BaggingClassifier\n",
    "model = BaggingClassifier(base_estimator=SVC(), n_estimators=10, random_state=0)\n",
    "model.fit(X_scaled_train, y_train.values.ravel())\n",
    "pred_train=model.predict(X_scaled_train)\n",
    "model.score(X_scaled_train, y_train)"
   ]
  },
  {
   "cell_type": "code",
   "execution_count": 45,
   "metadata": {},
   "outputs": [
    {
     "name": "stdout",
     "output_type": "stream",
     "text": [
      "훈련데이터 오차행렬:\n",
      " [[329   4]\n",
      " [  5 174]]\n"
     ]
    }
   ],
   "source": [
    "from sklearn.metrics import confusion_matrix\n",
    "confusion_train=confusion_matrix(y_train, pred_train)\n",
    "print(\"훈련데이터 오차행렬:\\n\", confusion_train)"
   ]
  },
  {
   "cell_type": "code",
   "execution_count": 46,
   "metadata": {},
   "outputs": [
    {
     "name": "stdout",
     "output_type": "stream",
     "text": [
      "분류예측 레포트:\n",
      "               precision    recall  f1-score   support\n",
      "\n",
      "           0       0.99      0.99      0.99       333\n",
      "           1       0.98      0.97      0.97       179\n",
      "\n",
      "    accuracy                           0.98       512\n",
      "   macro avg       0.98      0.98      0.98       512\n",
      "weighted avg       0.98      0.98      0.98       512\n",
      "\n"
     ]
    }
   ],
   "source": [
    "from sklearn.metrics import classification_report\n",
    "cfreport_train=classification_report(y_train, pred_train)\n",
    "print(\"분류예측 레포트:\\n\", cfreport_train)"
   ]
  },
  {
   "cell_type": "code",
   "execution_count": 47,
   "metadata": {},
   "outputs": [
    {
     "data": {
      "text/plain": [
       "0.9590643274853801"
      ]
     },
     "execution_count": 47,
     "metadata": {},
     "output_type": "execute_result"
    }
   ],
   "source": [
    "pred_test=model.predict(X_scaled_test)\n",
    "model.score(X_scaled_test, y_test)"
   ]
  },
  {
   "cell_type": "code",
   "execution_count": 48,
   "metadata": {},
   "outputs": [
    {
     "name": "stdout",
     "output_type": "stream",
     "text": [
      "테스트데이터 오차행렬:\n",
      " [[106   5]\n",
      " [  2  58]]\n"
     ]
    }
   ],
   "source": [
    "confusion_test=confusion_matrix(y_test, pred_test)\n",
    "print(\"테스트데이터 오차행렬:\\n\", confusion_test)"
   ]
  },
  {
   "cell_type": "code",
   "execution_count": 50,
   "metadata": {},
   "outputs": [
    {
     "name": "stdout",
     "output_type": "stream",
     "text": [
      "분류예측 레포트:\n",
      "               precision    recall  f1-score   support\n",
      "\n",
      "           0       0.98      0.95      0.97       111\n",
      "           1       0.92      0.97      0.94        60\n",
      "\n",
      "    accuracy                           0.96       171\n",
      "   macro avg       0.95      0.96      0.96       171\n",
      "weighted avg       0.96      0.96      0.96       171\n",
      "\n"
     ]
    }
   ],
   "source": [
    "from sklearn.metrics import classification_report\n",
    "cfreport_test=classification_report(y_test, pred_test)\n",
    "print(\"분류예측 레포트:\\n\", cfreport_test)"
   ]
  },
  {
   "cell_type": "code",
   "execution_count": 1,
   "metadata": {},
   "outputs": [],
   "source": [
    "## Part2. 회귀(Regression)\n",
    "##\n",
    "import pandas as pd\n",
    "data2=pd.read_csv(\"C:/Users/MJ/Desktop/새 폴더 (2)/[2] 교재 data/house_price.csv\", encoding=\"utf-8\")\n",
    "X=data2[data2.columns[1:5]]\n",
    "y=data2[[\"house_value\"]]\n",
    "\n",
    "## train 데이터셋과 test 데이터셋을 나눠서 준비\n",
    "from sklearn.model_selection import train_test_split\n",
    "X_train, X_test, y_train, y_test = train_test_split(X, y, random_state=42)\n",
    "\n",
    "## 정규화 방법은 minmax사용하여 훈련데이터셋과 테스트데이터셋의 특성치 X 자료들을 반환한다.\n",
    "from sklearn.preprocessing import MinMaxScaler\n",
    "scaler = MinMaxScaler()\n",
    "scaler.fit(X_train)\n",
    "X_scaled_train=scaler.transform(X_train)\n",
    "X_scaled_test=scaler.transform(X_test)"
   ]
  },
  {
   "cell_type": "code",
   "execution_count": 3,
   "metadata": {},
   "outputs": [
    {
     "data": {
      "text/plain": [
       "0.6928982134381334"
      ]
     },
     "execution_count": 3,
     "metadata": {},
     "output_type": "execute_result"
    }
   ],
   "source": [
    "from sklearn.neighbors import KNeighborsRegressor\n",
    "from sklearn.ensemble import BaggingRegressor\n",
    "model = BaggingRegressor(base_estimator=KNeighborsRegressor(), n_estimators=10, random_state=0)\n",
    "model.fit(X_scaled_train, y_train.values.ravel())\n",
    "pred_train=model.predict(X_scaled_train)\n",
    "model.score(X_scaled_train, y_train)"
   ]
  },
  {
   "cell_type": "code",
   "execution_count": 4,
   "metadata": {},
   "outputs": [
    {
     "data": {
      "text/plain": [
       "0.5612676280708411"
      ]
     },
     "execution_count": 4,
     "metadata": {},
     "output_type": "execute_result"
    }
   ],
   "source": [
    "pred_test=model.predict(X_scaled_test)\n",
    "model.score(X_scaled_test, y_test)"
   ]
  },
  {
   "cell_type": "code",
   "execution_count": 6,
   "metadata": {},
   "outputs": [
    {
     "name": "stdout",
     "output_type": "stream",
     "text": [
      "훈련 데이터 RMSE: 52892.27111989147\n",
      "테스트 데이터 RMSE: 63323.12131927774\n"
     ]
    }
   ],
   "source": [
    "# RMSE (Root Mean Squared Error)\n",
    "import numpy as np\n",
    "from sklearn.metrics import mean_squared_error\n",
    "MSE_train = mean_squared_error(y_train, pred_train)\n",
    "MSE_test = mean_squared_error(y_test, pred_test)\n",
    "print(\"훈련 데이터 RMSE:\", np.sqrt(MSE_train))\n",
    "print(\"테스트 데이터 RMSE:\", np.sqrt(MSE_test))\n",
    "## 배깅 방법은 다른 앙상블 방법에서도 나타나지만 다소 훈련데이터에 과대적합되는 경향을 보인다.\n",
    "## 기저모델의 개별 최적 하이퍼파라티러르 찾고 이를 배깅에 적재하면 더 좋은 결과를 얻을 수 있다."
   ]
  },
  {
   "cell_type": "code",
   "execution_count": 7,
   "metadata": {},
   "outputs": [],
   "source": [
    "## Section10 앙상블 부스팅(Boosting)\n",
    "## 부스팅은 여러 개의 약한 학습기를 순차적으로 학습시켜 예측하면서 잘 못 예측한 데이터에 가중치를 부여하여 \n",
    "## 오류를 개선해 나가며 학습하는 앙상블 모델이다. \n",
    "## 배깅이 한번에 여러 개의 데이터셋에서 학습한 결과를 종합하는 병렬식 앙상블이고 부스팅은 \n",
    "## 1->2->3으로 각각 오류를 수정하며 해결해가는 순차적인 직렬식 앙상블이다.\n",
    "import pandas as pd \n",
    "data = pd.read_csv('C:/Users/MJ/Desktop/새 폴더 (2)/[2] 교재 data/breast-cancer-wisconsin.csv')\n",
    "X=data[data.columns[1:10]]\n",
    "y=data[[\"Class\"]]\n",
    "from sklearn.model_selection import train_test_split\n",
    "X_train, X_test, y_train, y_test = train_test_split(X, y, stratify=y, random_state=42)\n",
    "\n",
    "from sklearn.preprocessing import MinMaxScaler\n",
    "scaler=MinMaxScaler()\n",
    "scaler.fit(X_train)\n",
    "X_scaled_train=scaler.transform(X_train)\n",
    "X_scaled_test=scaler.transform(X_test)"
   ]
  },
  {
   "cell_type": "code",
   "execution_count": 10,
   "metadata": {},
   "outputs": [
    {
     "data": {
      "text/plain": [
       "1.0"
      ]
     },
     "execution_count": 10,
     "metadata": {},
     "output_type": "execute_result"
    }
   ],
   "source": [
    "## Part1. 분류(Classification)\n",
    "\n",
    "from sklearn.ensemble import AdaBoostClassifier\n",
    "model = AdaBoostClassifier(n_estimators=100, random_state=0)\n",
    "model.fit(X_scaled_train, y_train.values.ravel())\n",
    "pred_train=model.predict(X_scaled_train)\n",
    "model.score(X_scaled_train, y_train)"
   ]
  },
  {
   "cell_type": "code",
   "execution_count": 12,
   "metadata": {},
   "outputs": [
    {
     "name": "stdout",
     "output_type": "stream",
     "text": [
      "훈련데이터 오차행렬:\n",
      " [[333   0]\n",
      " [  0 179]]\n"
     ]
    }
   ],
   "source": [
    "from sklearn.metrics import confusion_matrix\n",
    "confusion_train=confusion_matrix(y_train, pred_train)\n",
    "print(\"훈련데이터 오차행렬:\\n\", confusion_train)"
   ]
  },
  {
   "cell_type": "code",
   "execution_count": 13,
   "metadata": {},
   "outputs": [
    {
     "name": "stdout",
     "output_type": "stream",
     "text": [
      "분류예측 레포트:\n",
      "               precision    recall  f1-score   support\n",
      "\n",
      "           0       1.00      1.00      1.00       333\n",
      "           1       1.00      1.00      1.00       179\n",
      "\n",
      "    accuracy                           1.00       512\n",
      "   macro avg       1.00      1.00      1.00       512\n",
      "weighted avg       1.00      1.00      1.00       512\n",
      "\n"
     ]
    }
   ],
   "source": [
    "from sklearn.metrics import classification_report\n",
    "cfreport_train = classification_report(y_train, pred_train)\n",
    "print(\"분류예측 레포트:\\n\", cfreport_train)"
   ]
  },
  {
   "cell_type": "code",
   "execution_count": 14,
   "metadata": {},
   "outputs": [
    {
     "data": {
      "text/plain": [
       "0.9532163742690059"
      ]
     },
     "execution_count": 14,
     "metadata": {},
     "output_type": "execute_result"
    }
   ],
   "source": [
    "pred_test=model.predict(X_scaled_test)\n",
    "model.score(X_scaled_test, y_test)"
   ]
  },
  {
   "cell_type": "code",
   "execution_count": 15,
   "metadata": {},
   "outputs": [
    {
     "name": "stdout",
     "output_type": "stream",
     "text": [
      "테스트데이터 오차행렬:\n",
      " [[106   5]\n",
      " [  3  57]]\n"
     ]
    }
   ],
   "source": [
    "confusion_test = confusion_matrix(y_test, pred_test)\n",
    "print(\"테스트데이터 오차행렬:\\n\", confusion_test)"
   ]
  },
  {
   "cell_type": "code",
   "execution_count": 16,
   "metadata": {},
   "outputs": [
    {
     "name": "stdout",
     "output_type": "stream",
     "text": [
      "분류예측 레포트:\n",
      "               precision    recall  f1-score   support\n",
      "\n",
      "           0       0.97      0.95      0.96       111\n",
      "           1       0.92      0.95      0.93        60\n",
      "\n",
      "    accuracy                           0.95       171\n",
      "   macro avg       0.95      0.95      0.95       171\n",
      "weighted avg       0.95      0.95      0.95       171\n",
      "\n"
     ]
    }
   ],
   "source": [
    "from sklearn.metrics import classification_report\n",
    "cfreport_test=classification_report(y_test, pred_test)\n",
    "print(\"분류예측 레포트:\\n\", cfreport_test)"
   ]
  },
  {
   "cell_type": "code",
   "execution_count": 19,
   "metadata": {},
   "outputs": [
    {
     "data": {
      "text/plain": [
       "0.984375"
      ]
     },
     "execution_count": 19,
     "metadata": {},
     "output_type": "execute_result"
    }
   ],
   "source": [
    "## GradientBoosting 앙상블 모델 적용\n",
    "from sklearn.ensemble import GradientBoostingClassifier\n",
    "model = GradientBoostingClassifier(n_estimators=100, learning_rate=0.1, max_depth=1, random_state=0)\n",
    "model.fit(X_scaled_train, y_train.values.ravel())\n",
    "pred_train=model.predict(X_scaled_train)\n",
    "model.score(X_scaled_train, y_train)"
   ]
  },
  {
   "cell_type": "code",
   "execution_count": 20,
   "metadata": {},
   "outputs": [
    {
     "name": "stdout",
     "output_type": "stream",
     "text": [
      "훈련데이터 오차행렬:\n",
      " [[329   4]\n",
      " [  4 175]]\n"
     ]
    }
   ],
   "source": [
    "from sklearn.metrics import confusion_matrix\n",
    "confusion_train=confusion_matrix(y_train, pred_train)\n",
    "print(\"훈련데이터 오차행렬:\\n\", confusion_train)"
   ]
  },
  {
   "cell_type": "code",
   "execution_count": 21,
   "metadata": {},
   "outputs": [
    {
     "data": {
      "text/plain": [
       "0.9649122807017544"
      ]
     },
     "execution_count": 21,
     "metadata": {},
     "output_type": "execute_result"
    }
   ],
   "source": [
    "pred_test = model.predict(X_scaled_test)\n",
    "model.score(X_scaled_test, y_test)"
   ]
  },
  {
   "cell_type": "code",
   "execution_count": 22,
   "metadata": {},
   "outputs": [
    {
     "name": "stdout",
     "output_type": "stream",
     "text": [
      "테스트데이터 오차행렬:\n",
      " [[106   5]\n",
      " [  1  59]]\n"
     ]
    }
   ],
   "source": [
    "confusion_test=confusion_matrix(y_test, pred_test)\n",
    "print(\"테스트데이터 오차행렬:\\n\", confusion_test)\n",
    "## "
   ]
  },
  {
   "cell_type": "code",
   "execution_count": 28,
   "metadata": {},
   "outputs": [
    {
     "data": {
      "text/plain": [
       "0.4353130085971758"
      ]
     },
     "execution_count": 28,
     "metadata": {},
     "output_type": "execute_result"
    }
   ],
   "source": [
    "## Part2. 회귀(Regression)\n",
    "import pandas as pd\n",
    "data2=pd.read_csv(\"C:/Users/MJ/Desktop/새 폴더 (2)/[2] 교재 data/house_price.csv\", encoding=\"utf-8\")\n",
    "X=data2[data2.columns[1:5]]\n",
    "y=data2[[\"house_value\"]]\n",
    "\n",
    "## train 데이터셋과 test 데이터셋을 나눠서 준비\n",
    "from sklearn.model_selection import train_test_split\n",
    "X_train, X_test, y_train, y_test = train_test_split(X, y, random_state=42)\n",
    "\n",
    "## 정규화 방법은 minmax사용하여 훈련데이터셋과 테스트데이터셋의 특성치 X 자료들을 반환한다.\n",
    "from sklearn.preprocessing import MinMaxScaler\n",
    "scaler = MinMaxScaler()\n",
    "scaler.fit(X_train)\n",
    "X_scaled_train=scaler.transform(X_train)\n",
    "X_scaled_test=scaler.transform(X_test)\n",
    "\n",
    "\n",
    "from sklearn.ensemble import AdaBoostRegressor\n",
    "model = AdaBoostRegressor(random_state=0, n_estimators=100)\n",
    "model.fit(X_scaled_train, y_train.values.ravel())\n",
    "pred_train=model.predict(X_scaled_train)\n",
    "model.score(X_scaled_train, y_train)"
   ]
  },
  {
   "cell_type": "code",
   "execution_count": 29,
   "metadata": {},
   "outputs": [
    {
     "data": {
      "text/plain": [
       "0.43568387094087124"
      ]
     },
     "execution_count": 29,
     "metadata": {},
     "output_type": "execute_result"
    }
   ],
   "source": [
    "pred_test=model.predict(X_scaled_test)\n",
    "model.score(X_scaled_test, y_test)"
   ]
  },
  {
   "cell_type": "code",
   "execution_count": 30,
   "metadata": {},
   "outputs": [
    {
     "name": "stdout",
     "output_type": "stream",
     "text": [
      "훈련데이터 RMSE: 71722.42012035428\n",
      "테스트데이터 RMSE: 71816.41231019037\n"
     ]
    }
   ],
   "source": [
    "## RMSE(Root Mean Squared Error)\n",
    "import numpy as np\n",
    "from sklearn.metrics import mean_squared_error\n",
    "MSE_train = mean_squared_error(y_train, pred_train)\n",
    "MSE_test = mean_squared_error(y_test, pred_test)\n",
    "print(\"훈련데이터 RMSE:\", np.sqrt(MSE_train))\n",
    "print(\"테스트데이터 RMSE:\", np.sqrt(MSE_test))"
   ]
  },
  {
   "cell_type": "code",
   "execution_count": 33,
   "metadata": {},
   "outputs": [
    {
     "data": {
      "text/plain": [
       "0.6178724780500952"
      ]
     },
     "execution_count": 33,
     "metadata": {},
     "output_type": "execute_result"
    }
   ],
   "source": [
    "## GradientBoosting 앙상블 모델 적용 \n",
    "\n",
    "from sklearn.ensemble import GradientBoostingRegressor\n",
    "model = GradientBoostingRegressor(random_state=0)\n",
    "model.fit(X_scaled_train, y_train.values.ravel())\n",
    "pred_train=model.predict(X_scaled_train)\n",
    "model.score(X_scaled_train, y_train)"
   ]
  },
  {
   "cell_type": "code",
   "execution_count": 34,
   "metadata": {},
   "outputs": [
    {
     "data": {
      "text/plain": [
       "0.5974112241813845"
      ]
     },
     "execution_count": 34,
     "metadata": {},
     "output_type": "execute_result"
    }
   ],
   "source": [
    "pred_test=model.predict(X_scaled_test)\n",
    "model.score(X_scaled_test, y_test)"
   ]
  },
  {
   "cell_type": "code",
   "execution_count": 35,
   "metadata": {},
   "outputs": [
    {
     "name": "stdout",
     "output_type": "stream",
     "text": [
      "훈련데이터 RMSE: 59000.433545962376\n",
      "테스트데이터 RMSE 60658.72886338227\n"
     ]
    }
   ],
   "source": [
    "# RMSE (Root Mean Squared Error)\n",
    "\n",
    "import numpy as np \n",
    "from sklearn.metrics import mean_squared_error\n",
    "MSE_train = mean_squared_error(y_train, pred_train)\n",
    "MSE_test = mean_squared_error(y_test, pred_test)\n",
    "print(\"훈련데이터 RMSE:\", np.sqrt(MSE_train))\n",
    "print(\"테스트데이터 RMSE\", np.sqrt(MSE_test))"
   ]
  },
  {
   "cell_type": "code",
   "execution_count": 1,
   "metadata": {},
   "outputs": [],
   "source": [
    "## Section11 앙상블 스태킹(Stacking)\n",
    "## 스태킹은 데이터셋이 아니라 여러 학습기에서 예측한 예측값으로 다시 학습 데이터를 만들어 일반화된 최종 모델\n",
    "## 구성하는 방법이다. 핵심적인 차이는 데이터셋이 아닌 예측값들로 예측을 한다는 아이디어다.\n",
    "import pandas as pd \n",
    "data = pd.read_csv('C:/Users/MJ/Desktop/새 폴더 (2)/[2] 교재 data/breast-cancer-wisconsin.csv')\n",
    "X=data[data.columns[1:10]]\n",
    "y=data[[\"Class\"]]\n",
    "from sklearn.model_selection import train_test_split\n",
    "X_train, X_test, y_train, y_test = train_test_split(X, y, stratify=y, random_state=42)\n",
    "\n",
    "from sklearn.preprocessing import MinMaxScaler\n",
    "scaler=MinMaxScaler()\n",
    "scaler.fit(X_train)\n",
    "X_scaled_train=scaler.transform(X_train)\n",
    "X_scaled_test=scaler.transform(X_test)"
   ]
  },
  {
   "cell_type": "code",
   "execution_count": 6,
   "metadata": {},
   "outputs": [
    {
     "data": {
      "text/plain": [
       "0.986328125"
      ]
     },
     "execution_count": 6,
     "metadata": {},
     "output_type": "execute_result"
    }
   ],
   "source": [
    "## Part1. 분류(Classification)\n",
    "from sklearn.ensemble import RandomForestClassifier\n",
    "from sklearn.svm import SVC\n",
    "from sklearn.linear_model import LogisticRegression\n",
    "from sklearn.ensemble import StackingClassifier\n",
    "\n",
    "estimators=[('rf', RandomForestClassifier(n_estimators=10, random_state=42)), ('svr', SVC(random_state=42))]\n",
    "model=StackingClassifier(estimators=estimators, final_estimator=LogisticRegression())\n",
    "model.fit(X_scaled_train, y_train.values.ravel())\n",
    "pred_train=model.predict(X_scaled_train)\n",
    "model.score(X_scaled_train, y_train)    "
   ]
  },
  {
   "cell_type": "code",
   "execution_count": 7,
   "metadata": {},
   "outputs": [
    {
     "name": "stdout",
     "output_type": "stream",
     "text": [
      "훈련데이터 오차행렬:\n",
      " [[330   3]\n",
      " [  4 175]]\n"
     ]
    }
   ],
   "source": [
    "from sklearn.metrics import confusion_matrix\n",
    "confusion_train=confusion_matrix(y_train, pred_train)\n",
    "print(\"훈련데이터 오차행렬:\\n\", confusion_train)"
   ]
  },
  {
   "cell_type": "code",
   "execution_count": 8,
   "metadata": {},
   "outputs": [
    {
     "name": "stdout",
     "output_type": "stream",
     "text": [
      "분류예측 레포트:/n               precision    recall  f1-score   support\n",
      "\n",
      "           0       0.99      0.99      0.99       333\n",
      "           1       0.98      0.98      0.98       179\n",
      "\n",
      "    accuracy                           0.99       512\n",
      "   macro avg       0.99      0.98      0.98       512\n",
      "weighted avg       0.99      0.99      0.99       512\n",
      "\n"
     ]
    }
   ],
   "source": [
    "from sklearn.metrics import classification_report\n",
    "cfreport_train = classification_report(y_train, pred_train)\n",
    "print(\"분류예측 레포트:/n\", cfreport_train)"
   ]
  },
  {
   "cell_type": "code",
   "execution_count": 9,
   "metadata": {},
   "outputs": [
    {
     "data": {
      "text/plain": [
       "0.9649122807017544"
      ]
     },
     "execution_count": 9,
     "metadata": {},
     "output_type": "execute_result"
    }
   ],
   "source": [
    "pred_test=model.predict(X_scaled_test)\n",
    "model.score(X_scaled_test, y_test)"
   ]
  },
  {
   "cell_type": "code",
   "execution_count": 10,
   "metadata": {},
   "outputs": [
    {
     "name": "stdout",
     "output_type": "stream",
     "text": [
      "테스트데이터 오차행렬:\n",
      " [[106   5]\n",
      " [  1  59]]\n"
     ]
    }
   ],
   "source": [
    "confusion_test=confusion_matrix(y_test, pred_test)\n",
    "print(\"테스트데이터 오차행렬:\\n\", confusion_test)"
   ]
  },
  {
   "cell_type": "code",
   "execution_count": 12,
   "metadata": {},
   "outputs": [
    {
     "name": "stdout",
     "output_type": "stream",
     "text": [
      "분류예측 레포트:\n",
      "               precision    recall  f1-score   support\n",
      "\n",
      "           0       0.99      0.95      0.97       111\n",
      "           1       0.92      0.98      0.95        60\n",
      "\n",
      "    accuracy                           0.96       171\n",
      "   macro avg       0.96      0.97      0.96       171\n",
      "weighted avg       0.97      0.96      0.97       171\n",
      "\n"
     ]
    }
   ],
   "source": [
    "cfreport_test=classification_report(y_test, pred_test)\n",
    "print(\"분류예측 레포트:\\n\", cfreport_test)\n",
    "## 스태킹 앙상블은 모델을 어떻게 쌓는가에 따라서 결과가 달라진다. 현재와 같은 모델 순서를 변경하거나 \n",
    "## 다른 알고리즘을 구성하면서 충분히 개선된 성능 결과를 얻기 가능하다."
   ]
  },
  {
   "cell_type": "code",
   "execution_count": 13,
   "metadata": {},
   "outputs": [
    {
     "data": {
      "text/plain": [
       "0.4353130085971758"
      ]
     },
     "execution_count": 13,
     "metadata": {},
     "output_type": "execute_result"
    }
   ],
   "source": [
    "## Part2. 회귀(Regression)\n",
    "import pandas as pd\n",
    "data2=pd.read_csv(\"C:/Users/MJ/Desktop/새 폴더 (2)/[2] 교재 data/house_price.csv\", encoding=\"utf-8\")\n",
    "X=data2[data2.columns[1:5]]\n",
    "y=data2[[\"house_value\"]]\n",
    "\n",
    "## train 데이터셋과 test 데이터셋을 나눠서 준비\n",
    "from sklearn.model_selection import train_test_split\n",
    "X_train, X_test, y_train, y_test = train_test_split(X, y, random_state=42)\n",
    "\n",
    "## 정규화 방법은 minmax사용하여 훈련데이터셋과 테스트데이터셋의 특성치 X 자료들을 반환한다.\n",
    "from sklearn.preprocessing import MinMaxScaler\n",
    "scaler = MinMaxScaler()\n",
    "scaler.fit(X_train)\n",
    "X_scaled_train=scaler.transform(X_train)\n",
    "X_scaled_test=scaler.transform(X_test)\n",
    "\n",
    "\n",
    "from sklearn.ensemble import AdaBoostRegressor\n",
    "model = AdaBoostRegressor(random_state=0, n_estimators=100)\n",
    "model.fit(X_scaled_train, y_train.values.ravel())\n",
    "pred_train=model.predict(X_scaled_train)\n",
    "model.score(X_scaled_train, y_train)"
   ]
  },
  {
   "cell_type": "code",
   "execution_count": 22,
   "metadata": {},
   "outputs": [
    {
     "data": {
      "text/plain": [
       "0.543404932348004"
      ]
     },
     "execution_count": 22,
     "metadata": {},
     "output_type": "execute_result"
    }
   ],
   "source": [
    "from sklearn.linear_model import LinearRegression\n",
    "from sklearn.neighbors import KNeighborsRegressor\n",
    "from sklearn.ensemble import RandomForestRegressor\n",
    "from sklearn.ensemble import StackingRegressor\n",
    "estm = [('lr', LinearRegression()), ('knn', KNeighborsRegressor())]\n",
    "model = StackingRegressor(estimators=estm, final_estimator=RandomForestRegressor(n_estimators=10,\n",
    "                                                                                random_state=42))\n",
    "model.fit(X_scaled_train, y_train.values.ravel())\n",
    "pred_train=model.predict(X_scaled_train)\n",
    "model.score(X_scaled_train, y_train)"
   ]
  },
  {
   "cell_type": "code",
   "execution_count": 23,
   "metadata": {},
   "outputs": [
    {
     "data": {
      "text/plain": [
       "0.4781188528801523"
      ]
     },
     "execution_count": 23,
     "metadata": {},
     "output_type": "execute_result"
    }
   ],
   "source": [
    "pred_test=model.predict(X_scaled_test)\n",
    "model.score(X_scaled_test, y_test)"
   ]
  },
  {
   "cell_type": "code",
   "execution_count": 25,
   "metadata": {},
   "outputs": [
    {
     "name": "stdout",
     "output_type": "stream",
     "text": [
      "훈련 데이터 RMSE: 64493.60476580374\n",
      "테스트 데이터 RMSE: 69063.45138802647\n"
     ]
    }
   ],
   "source": [
    "# RMSE(Root Mean Squared Error)\n",
    "\n",
    "import numpy as np\n",
    "from sklearn.metrics import mean_squared_error\n",
    "MSE_train = mean_squared_error(y_train, pred_train)\n",
    "MSE_test = mean_squared_error(y_test, pred_test)\n",
    "print(\"훈련 데이터 RMSE:\", np.sqrt(MSE_train))\n",
    "print(\"테스트 데이터 RMSE:\", np.sqrt(MSE_test))\n",
    "## 회귀 문제에 사용한 개별 알고리즘은 선형회귀와 KNN의 회귀인데 개별 알고리즘 보다 정확도가 더 낮게 나왔다.\n",
    "## 앙상블 모델은 각각 알고리즘을 수행한 후 좋은 결과를 보이는 알고리즘과 하이퍼파라미터로 쌓아야한다. \n",
    "## 스태킹은 좋은 앙상블 모델이다. 이를 구성하는 개별 알고리즘 최적화 및 모델 순서는 스태킹 앙상블에서 중요함"
   ]
  },
  {
   "cell_type": "code",
   "execution_count": 26,
   "metadata": {},
   "outputs": [],
   "source": [
    "## Section 12 선형회귀모델\n",
    "## \n",
    "import pandas as pd\n",
    "data2=pd.read_csv(\"C:/Users/MJ/Desktop/새 폴더 (2)/[2] 교재 data/house_price.csv\", encoding=\"utf-8\")\n",
    "X=data2[data2.columns[1:5]]\n",
    "y=data2[[\"house_value\"]]\n",
    "\n",
    "## train 데이터셋과 test 데이터셋을 나눠서 준비\n",
    "from sklearn.model_selection import train_test_split\n",
    "X_train, X_test, y_train, y_test = train_test_split(X, y, random_state=42)\n",
    "\n",
    "## 정규화 방법은 minmax사용하여 훈련데이터셋과 테스트데이터셋의 특성치 X 자료들을 반환한다.\n",
    "from sklearn.preprocessing import MinMaxScaler\n",
    "scaler = MinMaxScaler()\n",
    "scaler.fit(X_train)\n",
    "X_scaled_train=scaler.transform(X_train)\n",
    "X_scaled_test=scaler.transform(X_test)"
   ]
  },
  {
   "cell_type": "code",
   "execution_count": 27,
   "metadata": {},
   "outputs": [
    {
     "data": {
      "text/html": [
       "<div>\n",
       "<style scoped>\n",
       "    .dataframe tbody tr th:only-of-type {\n",
       "        vertical-align: middle;\n",
       "    }\n",
       "\n",
       "    .dataframe tbody tr th {\n",
       "        vertical-align: top;\n",
       "    }\n",
       "\n",
       "    .dataframe thead th {\n",
       "        text-align: right;\n",
       "    }\n",
       "</style>\n",
       "<table border=\"1\" class=\"dataframe\">\n",
       "  <thead>\n",
       "    <tr style=\"text-align: right;\">\n",
       "      <th></th>\n",
       "      <th>const</th>\n",
       "      <th>income</th>\n",
       "      <th>bedrooms</th>\n",
       "      <th>households</th>\n",
       "      <th>rooms</th>\n",
       "    </tr>\n",
       "  </thead>\n",
       "  <tbody>\n",
       "    <tr>\n",
       "      <th>17235</th>\n",
       "      <td>1.0</td>\n",
       "      <td>2.0577</td>\n",
       "      <td>0.185449</td>\n",
       "      <td>3.945455</td>\n",
       "      <td>6.372727</td>\n",
       "    </tr>\n",
       "    <tr>\n",
       "      <th>14220</th>\n",
       "      <td>1.0</td>\n",
       "      <td>4.0000</td>\n",
       "      <td>0.171566</td>\n",
       "      <td>2.741497</td>\n",
       "      <td>6.363946</td>\n",
       "    </tr>\n",
       "    <tr>\n",
       "      <th>3280</th>\n",
       "      <td>1.0</td>\n",
       "      <td>5.8904</td>\n",
       "      <td>0.154485</td>\n",
       "      <td>2.969325</td>\n",
       "      <td>6.651840</td>\n",
       "    </tr>\n",
       "    <tr>\n",
       "      <th>15279</th>\n",
       "      <td>1.0</td>\n",
       "      <td>0.9393</td>\n",
       "      <td>0.241460</td>\n",
       "      <td>3.257256</td>\n",
       "      <td>4.518470</td>\n",
       "    </tr>\n",
       "    <tr>\n",
       "      <th>14727</th>\n",
       "      <td>1.0</td>\n",
       "      <td>2.7143</td>\n",
       "      <td>0.194977</td>\n",
       "      <td>2.679287</td>\n",
       "      <td>6.385301</td>\n",
       "    </tr>\n",
       "  </tbody>\n",
       "</table>\n",
       "</div>"
      ],
      "text/plain": [
       "       const  income  bedrooms  households     rooms\n",
       "17235    1.0  2.0577  0.185449    3.945455  6.372727\n",
       "14220    1.0  4.0000  0.171566    2.741497  6.363946\n",
       "3280     1.0  5.8904  0.154485    2.969325  6.651840\n",
       "15279    1.0  0.9393  0.241460    3.257256  4.518470\n",
       "14727    1.0  2.7143  0.194977    2.679287  6.385301"
      ]
     },
     "execution_count": 27,
     "metadata": {},
     "output_type": "execute_result"
    }
   ],
   "source": [
    "## statmodel 적용 \n",
    "\n",
    "import statsmodels.api as sm \n",
    "X_train_new = sm.add_constant(X_train)\n",
    "X_test_new = sm.add_constant(X_test)\n",
    "X_train_new.head()"
   ]
  },
  {
   "cell_type": "code",
   "execution_count": 31,
   "metadata": {},
   "outputs": [
    {
     "name": "stdout",
     "output_type": "stream",
     "text": [
      "                            OLS Regression Results                            \n",
      "==============================================================================\n",
      "Dep. Variable:                      y   R-squared:                       0.546\n",
      "Model:                            OLS   Adj. R-squared:                  0.545\n",
      "Method:                 Least Squares   F-statistic:                     3980.\n",
      "Date:                Sun, 27 Nov 2022   Prob (F-statistic):               0.00\n",
      "Time:                        14:45:15   Log-Likelihood:            -1.6570e+05\n",
      "No. Observations:               13266   AIC:                         3.314e+05\n",
      "Df Residuals:                   13261   BIC:                         3.315e+05\n",
      "Df Model:                           4                                         \n",
      "Covariance Type:            nonrobust                                         \n",
      "==============================================================================\n",
      "                 coef    std err          t      P>|t|      [0.025      0.975]\n",
      "------------------------------------------------------------------------------\n",
      "const      -2.849e+04   8884.093     -3.206      0.001   -4.59e+04   -1.11e+04\n",
      "income      5.588e+04    500.997    111.538      0.000    5.49e+04    5.69e+04\n",
      "bedrooms    5.586e+05   2.02e+04     27.637      0.000    5.19e+05    5.98e+05\n",
      "households -2.586e+04    775.128    -33.356      0.000   -2.74e+04   -2.43e+04\n",
      "rooms      -5810.6069    834.780     -6.961      0.000   -7446.896   -4174.318\n",
      "==============================================================================\n",
      "Omnibus:                     1975.541   Durbin-Watson:                   2.016\n",
      "Prob(Omnibus):                  0.000   Jarque-Bera (JB):             4568.878\n",
      "Skew:                           0.866   Prob(JB):                         0.00\n",
      "Kurtosis:                       5.294   Cond. No.                         284.\n",
      "==============================================================================\n",
      "\n",
      "Warnings:\n",
      "[1] Standard Errors assume that the covariance matrix of the errors is correctly specified.\n"
     ]
    }
   ],
   "source": [
    "multi_model = sm.OLS(y_train, X_train_new).fit()\n",
    "print(multi_model.summary())"
   ]
  },
  {
   "cell_type": "code",
   "execution_count": 33,
   "metadata": {},
   "outputs": [
    {
     "name": "stdout",
     "output_type": "stream",
     "text": [
      "                            OLS Regression Results                            \n",
      "==============================================================================\n",
      "Dep. Variable:            house_value   R-squared:                       0.563\n",
      "Model:                            OLS   Adj. R-squared:                  0.562\n",
      "Method:                 Least Squares   F-statistic:                     1421.\n",
      "Date:                Sun, 27 Nov 2022   Prob (F-statistic):               0.00\n",
      "Time:                        14:47:33   Log-Likelihood:                -55169.\n",
      "No. Observations:                4423   AIC:                         1.103e+05\n",
      "Df Residuals:                    4418   BIC:                         1.104e+05\n",
      "Df Model:                           4                                         \n",
      "Covariance Type:            nonrobust                                         \n",
      "==============================================================================\n",
      "                 coef    std err          t      P>|t|      [0.025      0.975]\n",
      "------------------------------------------------------------------------------\n",
      "const      -2.196e+04   1.48e+04     -1.483      0.138    -5.1e+04    7075.709\n",
      "income       5.57e+04    838.452     66.426      0.000    5.41e+04    5.73e+04\n",
      "bedrooms    5.402e+05   3.44e+04     15.713      0.000    4.73e+05    6.08e+05\n",
      "households -2.603e+04   1270.717    -20.484      0.000   -2.85e+04   -2.35e+04\n",
      "rooms      -6039.8888   1344.918     -4.491      0.000   -8676.601   -3403.177\n",
      "==============================================================================\n",
      "Omnibus:                      688.606   Durbin-Watson:                   1.968\n",
      "Prob(Omnibus):                  0.000   Jarque-Bera (JB):             1499.714\n",
      "Skew:                           0.915   Prob(JB):                         0.00\n",
      "Kurtosis:                       5.188   Cond. No.                         284.\n",
      "==============================================================================\n",
      "\n",
      "Warnings:\n",
      "[1] Standard Errors assume that the covariance matrix of the errors is correctly specified.\n"
     ]
    }
   ],
   "source": [
    "multi_model2 = sm.OLS(y_test, X_test_new).fit()\n",
    "print(multi_model2.summary())"
   ]
  },
  {
   "cell_type": "code",
   "execution_count": 34,
   "metadata": {},
   "outputs": [
    {
     "data": {
      "text/plain": [
       "0.5455724996358273"
      ]
     },
     "execution_count": 34,
     "metadata": {},
     "output_type": "execute_result"
    }
   ],
   "source": [
    "## Sckit-learn 적용 \n",
    "\n",
    "from sklearn.linear_model import LinearRegression\n",
    "model=LinearRegression()\n",
    "model.fit(X_scaled_train, y_train)\n",
    "pred_train=model.predict(X_scaled_train)\n",
    "model.score(X_scaled_train, y_train)"
   ]
  },
  {
   "cell_type": "code",
   "execution_count": 35,
   "metadata": {},
   "outputs": [
    {
     "data": {
      "text/plain": [
       "0.562684388358716"
      ]
     },
     "execution_count": 35,
     "metadata": {},
     "output_type": "execute_result"
    }
   ],
   "source": [
    "pred_test=model.predict(X_scaled_test)\n",
    "model.score(X_scaled_test, y_test)"
   ]
  },
  {
   "cell_type": "code",
   "execution_count": 36,
   "metadata": {},
   "outputs": [
    {
     "name": "stdout",
     "output_type": "stream",
     "text": [
      "훈련데이터 RMSE: 64340.33927728243\n",
      "테스트데이터 RMSE: 63220.79672157402\n"
     ]
    }
   ],
   "source": [
    "## RMSE (Root Mean Squared Error)\n",
    "## 실제 집단과 예측된 집값 간에 평균적인 오차는 약 6.3~6.4만 달러 수준임을 의미\n",
    "import numpy as np \n",
    "from sklearn.metrics import mean_squared_error\n",
    "MSE_train=mean_squared_error(y_train, pred_train)\n",
    "MSE_test=mean_squared_error(y_test, pred_test)\n",
    "print(\"훈련데이터 RMSE:\", np.sqrt(MSE_train))\n",
    "print(\"테스트데이터 RMSE:\", np.sqrt(MSE_test))"
   ]
  },
  {
   "cell_type": "code",
   "execution_count": 37,
   "metadata": {},
   "outputs": [
    {
     "data": {
      "text/plain": [
       "47230.874701637375"
      ]
     },
     "execution_count": 37,
     "metadata": {},
     "output_type": "execute_result"
    }
   ],
   "source": [
    "## 기타 선형 모델평가지표: MAE(Mean Absolute Error)\n",
    "## 실제값과 예측값 차이에 절대값을 씌어 평균을 낸 오차이다.\n",
    "from sklearn.metrics import mean_absolute_error\n",
    "mean_absolute_error(y_test, pred_test)"
   ]
  },
  {
   "cell_type": "code",
   "execution_count": 38,
   "metadata": {},
   "outputs": [
    {
     "data": {
      "text/plain": [
       "3996869138.1105847"
      ]
     },
     "execution_count": 38,
     "metadata": {},
     "output_type": "execute_result"
    }
   ],
   "source": [
    "## 기타 선형 모델평가지표: MSE(Mean Squared Error)\n",
    "## 실제값과 예측값의 차이, 즉 오차에 제곱을 한 오차 지표이다.\n",
    "from sklearn.metrics import mean_squared_error\n",
    "mean_squared_error(y_test, pred_test)"
   ]
  },
  {
   "cell_type": "code",
   "execution_count": 40,
   "metadata": {},
   "outputs": [
    {
     "data": {
      "text/plain": [
       "house_value    30.571439\n",
       "dtype: float64"
      ]
     },
     "execution_count": 40,
     "metadata": {},
     "output_type": "execute_result"
    }
   ],
   "source": [
    "## 기타 섢여 모델평가지표: MAPE(Mean Absolute Percentage Error)\n",
    "## 평균 절대 오차비율은 실제값 대비 오차 정도를 백분율로 나타낸 지표이다. 일반적 선형회귀모델보다 \n",
    "## 시계열 데이터에서 주로 사용 \n",
    "\n",
    "def MAPE(y_test, pred_test):\n",
    "    return np.mean(np.abs((y_test - pred_test) / y_test)) * 100 \n",
    "MAPE(y_test, pred_test)"
   ]
  },
  {
   "cell_type": "code",
   "execution_count": 42,
   "metadata": {},
   "outputs": [
    {
     "data": {
      "text/plain": [
       "house_value   -12.37266\n",
       "dtype: float64"
      ]
     },
     "execution_count": 42,
     "metadata": {},
     "output_type": "execute_result"
    }
   ],
   "source": [
    "## 기타 선형 모델 평가지표: MPE(Mean Percentage Error)\n",
    "def MAE(y_test, y_pred):\n",
    "    return np.mean((y_test - y_pred) / y_test) * 100\n",
    "MAE(y_test, pred_test)"
   ]
  },
  {
   "cell_type": "code",
   "execution_count": 43,
   "metadata": {},
   "outputs": [
    {
     "data": {
      "text/plain": [
       "0.5455487773718164"
      ]
     },
     "execution_count": 43,
     "metadata": {},
     "output_type": "execute_result"
    }
   ],
   "source": [
    "## Section13 릿지 회귀모델 \n",
    "## 릿지 회귀모델은 선형회귀분석의 기본 원리를 따르나 가중치(회귀계수) 값을 최대한 작게 만들어, 즉 0에 가깝게\n",
    "## 만들어 모든 독립변수(특성)가 종속변수(레비블)에 미치는 영향을 최소화하는 제약(regularization)을 반영한 회귀모델\n",
    "## 각 특성의 영향을 최소화하여 훈련데이터에 과대적합되지 않도록 제약한 모델이라고 할 수 있다.\n",
    "## 알파의 기본값은 1이며 0에 가까울수록 규제 하지 않고 커질수록 더 많은 규제한다. 하이퍼파라미터이다.\n",
    "from sklearn.linear_model import Ridge\n",
    "model=Ridge()\n",
    "model.fit(X_scaled_train, y_train)\n",
    "pred_train=model.predict(X_scaled_train)\n",
    "model.score(X_scaled_train, y_train)"
   ]
  },
  {
   "cell_type": "code",
   "execution_count": 44,
   "metadata": {},
   "outputs": [
    {
     "data": {
      "text/plain": [
       "0.5626954941458684"
      ]
     },
     "execution_count": 44,
     "metadata": {},
     "output_type": "execute_result"
    }
   ],
   "source": [
    "pred_test=model.predict(X_scaled_test)\n",
    "model.score(X_scaled_test, y_test)"
   ]
  },
  {
   "cell_type": "code",
   "execution_count": 45,
   "metadata": {},
   "outputs": [
    {
     "name": "stdout",
     "output_type": "stream",
     "text": [
      "훈련 데이터 RMSE 64342.018619526265\n",
      "테스트 데이터 RMSE 63219.99395904853\n"
     ]
    }
   ],
   "source": [
    "## RMSE(Root Mean Squared Error)\n",
    "\n",
    "import numpy as np \n",
    "from sklearn.metrics import mean_squared_error\n",
    "MSE_train=mean_squared_error(y_train, pred_train)\n",
    "MSE_test=mean_squared_error(y_test, pred_test)\n",
    "print(\"훈련 데이터 RMSE\", np.sqrt(MSE_train))\n",
    "print(\"테스트 데이터 RMSE\", np.sqrt(MSE_test))"
   ]
  },
  {
   "cell_type": "code",
   "execution_count": 46,
   "metadata": {},
   "outputs": [
    {
     "data": {
      "text/plain": [
       "GridSearchCV(cv=5, estimator=Ridge(),\n",
       "             param_grid={'alpha': [0.0001, 0.001, 0.01, 0.1, 0.5, 1.0, 5.0,\n",
       "                                   10.0]})"
      ]
     },
     "execution_count": 46,
     "metadata": {},
     "output_type": "execute_result"
    }
   ],
   "source": [
    "## Grid Search\n",
    "## alpha 값 0.0001~10등 11가지로 설정하여 그리드 탐색 해보자\n",
    "param_grid={'alpha':[1e-4, 1e-3, 1e-2, 0.1, 0.5, 1.0, 5.0, 10.0]}\n",
    "from sklearn.model_selection import GridSearchCV\n",
    "grid_search=GridSearchCV(Ridge(), param_grid, cv=5)\n",
    "grid_search.fit(X_scaled_train, y_train)"
   ]
  },
  {
   "cell_type": "code",
   "execution_count": 47,
   "metadata": {},
   "outputs": [
    {
     "name": "stdout",
     "output_type": "stream",
     "text": [
      "Best Parameter:{'alpha': 0.1}\n",
      "Best Score:0.5452\n",
      "TestSet Score:0.5627\n"
     ]
    }
   ],
   "source": [
    "## 점수를 보면 그다지 선형모델과 다르다. 그러므로 원래 선형모델로 충분한 예측이 가능한 데이터라는 의미\n",
    "print(\"Best Parameter:{}\".format(grid_search.best_params_))\n",
    "print(\"Best Score:{:.4f}\".format(grid_search.best_score_))\n",
    "print(\"TestSet Score:{:.4f}\".format(grid_search.score(X_scaled_test, y_test)))"
   ]
  },
  {
   "cell_type": "code",
   "execution_count": 48,
   "metadata": {},
   "outputs": [
    {
     "data": {
      "text/plain": [
       "RandomizedSearchCV(cv=5, estimator=Ridge(), n_iter=100,\n",
       "                   param_distributions={'alpha': <scipy.stats._distn_infrastructure.rv_frozen object at 0x000001EB5490AF48>})"
      ]
     },
     "execution_count": 48,
     "metadata": {},
     "output_type": "execute_result"
    }
   ],
   "source": [
    "## Random Search\n",
    "\n",
    "from scipy.stats import randint\n",
    "param_distribs = {'alpha':randint(low=0, high=100)}\n",
    "from sklearn.model_selection import RandomizedSearchCV\n",
    "random_search=RandomizedSearchCV(Ridge(), param_distributions=param_distribs, n_iter=100, cv=5)\n",
    "random_search.fit(X_scaled_train, y_train)"
   ]
  },
  {
   "cell_type": "code",
   "execution_count": 49,
   "metadata": {},
   "outputs": [
    {
     "name": "stdout",
     "output_type": "stream",
     "text": [
      "Best Parameter:{'alpha': 0}\n",
      "Best Score:0.5452\n",
      "TestSet Score:0.5627\n"
     ]
    }
   ],
   "source": [
    "print(\"Best Parameter:{}\".format(random_search.best_params_))\n",
    "print(\"Best Score:{:.4f}\".format(random_search.best_score_))\n",
    "print(\"TestSet Score:{:.4f}\".format(random_search.score(X_scaled_test, y_test)))"
   ]
  },
  {
   "cell_type": "code",
   "execution_count": 52,
   "metadata": {},
   "outputs": [
    {
     "data": {
      "text/plain": [
       "0.5455724679313863"
      ]
     },
     "execution_count": 52,
     "metadata": {},
     "output_type": "execute_result"
    }
   ],
   "source": [
    "## Section14 라쏘 회귀모델 \n",
    "## 라쏘 회귀모델은 릿지회귀모델과 유사하게 특성의 계수값을 0에 가깝게 하지만 실제 중요하지 않은 변수의 계수를\n",
    "## 0으로 만들어 불필요한 변수를 제거하는 모델이다.\n",
    "\n",
    "from sklearn.linear_model import Lasso\n",
    "model=Lasso()\n",
    "model.fit(X_scaled_train, y_train)\n",
    "pred_train=model.predict(X_scaled_train)\n",
    "model.score(X_scaled_train, y_train)"
   ]
  },
  {
   "cell_type": "code",
   "execution_count": 53,
   "metadata": {},
   "outputs": [
    {
     "data": {
      "text/plain": [
       "0.5626850497564577"
      ]
     },
     "execution_count": 53,
     "metadata": {},
     "output_type": "execute_result"
    }
   ],
   "source": [
    "pred_test=model.predict(X_scaled_test)\n",
    "model.score(X_scaled_test, y_test)"
   ]
  },
  {
   "cell_type": "code",
   "execution_count": 55,
   "metadata": {},
   "outputs": [
    {
     "name": "stdout",
     "output_type": "stream",
     "text": [
      "훈련데이터 RMSE 64340.34152172676\n",
      "테스트데이터 RMSE 63220.748913873045\n"
     ]
    }
   ],
   "source": [
    "## RMSE (Root Mean Squared Estimator)\n",
    "import numpy as np\n",
    "from sklearn.metrics import mean_squared_error\n",
    "MSE_train = mean_squared_error(y_train, pred_train)\n",
    "MSE_test = mean_squared_error(y_test, pred_test)\n",
    "print(\"훈련데이터 RMSE\", np.sqrt(MSE_train))\n",
    "print(\"테스트데이터 RMSE\", np.sqrt(MSE_test))"
   ]
  },
  {
   "cell_type": "code",
   "execution_count": 57,
   "metadata": {},
   "outputs": [
    {
     "name": "stderr",
     "output_type": "stream",
     "text": [
      "C:\\Users\\MJ\\anaconda3\\lib\\site-packages\\sklearn\\model_selection\\_validation.py:681: UserWarning: With alpha=0, this algorithm does not converge well. You are advised to use the LinearRegression estimator\n",
      "  estimator.fit(X_train, y_train, **fit_params)\n",
      "C:\\Users\\MJ\\anaconda3\\lib\\site-packages\\sklearn\\linear_model\\_coordinate_descent.py:648: UserWarning: Coordinate descent with no regularization may lead to unexpected results and is discouraged.\n",
      "  coef_, l1_reg, l2_reg, X, y, max_iter, tol, rng, random, positive\n",
      "C:\\Users\\MJ\\anaconda3\\lib\\site-packages\\sklearn\\linear_model\\_coordinate_descent.py:648: ConvergenceWarning: Objective did not converge. You might want to increase the number of iterations, check the scale of the features or consider increasing regularisation. Duality gap: 2.222e+13, tolerance: 9.665e+09 Linear regression models with null weight for the l1 regularization term are more efficiently fitted using one of the solvers implemented in sklearn.linear_model.Ridge/RidgeCV instead.\n",
      "  coef_, l1_reg, l2_reg, X, y, max_iter, tol, rng, random, positive\n",
      "C:\\Users\\MJ\\anaconda3\\lib\\site-packages\\sklearn\\model_selection\\_validation.py:681: UserWarning: With alpha=0, this algorithm does not converge well. You are advised to use the LinearRegression estimator\n",
      "  estimator.fit(X_train, y_train, **fit_params)\n",
      "C:\\Users\\MJ\\anaconda3\\lib\\site-packages\\sklearn\\linear_model\\_coordinate_descent.py:648: UserWarning: Coordinate descent with no regularization may lead to unexpected results and is discouraged.\n",
      "  coef_, l1_reg, l2_reg, X, y, max_iter, tol, rng, random, positive\n",
      "C:\\Users\\MJ\\anaconda3\\lib\\site-packages\\sklearn\\linear_model\\_coordinate_descent.py:648: ConvergenceWarning: Objective did not converge. You might want to increase the number of iterations, check the scale of the features or consider increasing regularisation. Duality gap: 2.202e+13, tolerance: 9.671e+09 Linear regression models with null weight for the l1 regularization term are more efficiently fitted using one of the solvers implemented in sklearn.linear_model.Ridge/RidgeCV instead.\n",
      "  coef_, l1_reg, l2_reg, X, y, max_iter, tol, rng, random, positive\n",
      "C:\\Users\\MJ\\anaconda3\\lib\\site-packages\\sklearn\\model_selection\\_validation.py:681: UserWarning: With alpha=0, this algorithm does not converge well. You are advised to use the LinearRegression estimator\n",
      "  estimator.fit(X_train, y_train, **fit_params)\n",
      "C:\\Users\\MJ\\anaconda3\\lib\\site-packages\\sklearn\\linear_model\\_coordinate_descent.py:648: UserWarning: Coordinate descent with no regularization may lead to unexpected results and is discouraged.\n",
      "  coef_, l1_reg, l2_reg, X, y, max_iter, tol, rng, random, positive\n",
      "C:\\Users\\MJ\\anaconda3\\lib\\site-packages\\sklearn\\linear_model\\_coordinate_descent.py:648: ConvergenceWarning: Objective did not converge. You might want to increase the number of iterations, check the scale of the features or consider increasing regularisation. Duality gap: 2.187e+13, tolerance: 9.627e+09 Linear regression models with null weight for the l1 regularization term are more efficiently fitted using one of the solvers implemented in sklearn.linear_model.Ridge/RidgeCV instead.\n",
      "  coef_, l1_reg, l2_reg, X, y, max_iter, tol, rng, random, positive\n",
      "C:\\Users\\MJ\\anaconda3\\lib\\site-packages\\sklearn\\model_selection\\_validation.py:681: UserWarning: With alpha=0, this algorithm does not converge well. You are advised to use the LinearRegression estimator\n",
      "  estimator.fit(X_train, y_train, **fit_params)\n",
      "C:\\Users\\MJ\\anaconda3\\lib\\site-packages\\sklearn\\linear_model\\_coordinate_descent.py:648: UserWarning: Coordinate descent with no regularization may lead to unexpected results and is discouraged.\n",
      "  coef_, l1_reg, l2_reg, X, y, max_iter, tol, rng, random, positive\n",
      "C:\\Users\\MJ\\anaconda3\\lib\\site-packages\\sklearn\\linear_model\\_coordinate_descent.py:648: ConvergenceWarning: Objective did not converge. You might want to increase the number of iterations, check the scale of the features or consider increasing regularisation. Duality gap: 2.177e+13, tolerance: 9.648e+09 Linear regression models with null weight for the l1 regularization term are more efficiently fitted using one of the solvers implemented in sklearn.linear_model.Ridge/RidgeCV instead.\n",
      "  coef_, l1_reg, l2_reg, X, y, max_iter, tol, rng, random, positive\n",
      "C:\\Users\\MJ\\anaconda3\\lib\\site-packages\\sklearn\\model_selection\\_validation.py:681: UserWarning: With alpha=0, this algorithm does not converge well. You are advised to use the LinearRegression estimator\n",
      "  estimator.fit(X_train, y_train, **fit_params)\n",
      "C:\\Users\\MJ\\anaconda3\\lib\\site-packages\\sklearn\\linear_model\\_coordinate_descent.py:648: UserWarning: Coordinate descent with no regularization may lead to unexpected results and is discouraged.\n",
      "  coef_, l1_reg, l2_reg, X, y, max_iter, tol, rng, random, positive\n",
      "C:\\Users\\MJ\\anaconda3\\lib\\site-packages\\sklearn\\linear_model\\_coordinate_descent.py:648: ConvergenceWarning: Objective did not converge. You might want to increase the number of iterations, check the scale of the features or consider increasing regularisation. Duality gap: 2.195e+13, tolerance: 9.728e+09 Linear regression models with null weight for the l1 regularization term are more efficiently fitted using one of the solvers implemented in sklearn.linear_model.Ridge/RidgeCV instead.\n",
      "  coef_, l1_reg, l2_reg, X, y, max_iter, tol, rng, random, positive\n"
     ]
    },
    {
     "data": {
      "text/plain": [
       "GridSearchCV(cv=5, estimator=Lasso(),\n",
       "             param_grid={'alpha': [0.0, 1e-06, 1e-05, 0.0001, 0.001, 0.01, 0.1,\n",
       "                                   0.5, 1.0, 2.0, 3.0]})"
      ]
     },
     "execution_count": 57,
     "metadata": {},
     "output_type": "execute_result"
    }
   ],
   "source": [
    "## Grid Search \n",
    "param_grid={'alpha':[0.0, 1e-6, 1e-5, 1e-4, 1e-3, 1e-2, 0.1, 0.5, 1.0, 2.0, 3.0]}\n",
    "from sklearn.model_selection import GridSearchCV\n",
    "grid_search=GridSearchCV(Lasso(), param_grid, cv=5)\n",
    "grid_search.fit(X_scaled_train, y_train)"
   ]
  },
  {
   "cell_type": "code",
   "execution_count": 58,
   "metadata": {},
   "outputs": [
    {
     "name": "stdout",
     "output_type": "stream",
     "text": [
      "Best Parameter:{'alpha': 0.5}\n",
      "Best Score:0.5452\n",
      "TestSet Score:0.5627\n"
     ]
    }
   ],
   "source": [
    "print(\"Best Parameter:{}\".format(grid_search.best_params_))\n",
    "print(\"Best Score:{:.4f}\".format(grid_search.best_score_))\n",
    "print(\"TestSet Score:{:.4f}\".format(grid_search.score(X_scaled_test, y_test)))"
   ]
  },
  {
   "cell_type": "code",
   "execution_count": 62,
   "metadata": {},
   "outputs": [
    {
     "name": "stderr",
     "output_type": "stream",
     "text": [
      "C:\\Users\\MJ\\anaconda3\\lib\\site-packages\\sklearn\\model_selection\\_validation.py:681: UserWarning: With alpha=0, this algorithm does not converge well. You are advised to use the LinearRegression estimator\n",
      "  estimator.fit(X_train, y_train, **fit_params)\n",
      "C:\\Users\\MJ\\anaconda3\\lib\\site-packages\\sklearn\\linear_model\\_coordinate_descent.py:648: UserWarning: Coordinate descent with no regularization may lead to unexpected results and is discouraged.\n",
      "  coef_, l1_reg, l2_reg, X, y, max_iter, tol, rng, random, positive\n",
      "C:\\Users\\MJ\\anaconda3\\lib\\site-packages\\sklearn\\linear_model\\_coordinate_descent.py:648: ConvergenceWarning: Objective did not converge. You might want to increase the number of iterations, check the scale of the features or consider increasing regularisation. Duality gap: 2.222e+13, tolerance: 9.665e+09 Linear regression models with null weight for the l1 regularization term are more efficiently fitted using one of the solvers implemented in sklearn.linear_model.Ridge/RidgeCV instead.\n",
      "  coef_, l1_reg, l2_reg, X, y, max_iter, tol, rng, random, positive\n",
      "C:\\Users\\MJ\\anaconda3\\lib\\site-packages\\sklearn\\model_selection\\_validation.py:681: UserWarning: With alpha=0, this algorithm does not converge well. You are advised to use the LinearRegression estimator\n",
      "  estimator.fit(X_train, y_train, **fit_params)\n",
      "C:\\Users\\MJ\\anaconda3\\lib\\site-packages\\sklearn\\linear_model\\_coordinate_descent.py:648: UserWarning: Coordinate descent with no regularization may lead to unexpected results and is discouraged.\n",
      "  coef_, l1_reg, l2_reg, X, y, max_iter, tol, rng, random, positive\n",
      "C:\\Users\\MJ\\anaconda3\\lib\\site-packages\\sklearn\\linear_model\\_coordinate_descent.py:648: ConvergenceWarning: Objective did not converge. You might want to increase the number of iterations, check the scale of the features or consider increasing regularisation. Duality gap: 2.202e+13, tolerance: 9.671e+09 Linear regression models with null weight for the l1 regularization term are more efficiently fitted using one of the solvers implemented in sklearn.linear_model.Ridge/RidgeCV instead.\n",
      "  coef_, l1_reg, l2_reg, X, y, max_iter, tol, rng, random, positive\n",
      "C:\\Users\\MJ\\anaconda3\\lib\\site-packages\\sklearn\\model_selection\\_validation.py:681: UserWarning: With alpha=0, this algorithm does not converge well. You are advised to use the LinearRegression estimator\n",
      "  estimator.fit(X_train, y_train, **fit_params)\n",
      "C:\\Users\\MJ\\anaconda3\\lib\\site-packages\\sklearn\\linear_model\\_coordinate_descent.py:648: UserWarning: Coordinate descent with no regularization may lead to unexpected results and is discouraged.\n",
      "  coef_, l1_reg, l2_reg, X, y, max_iter, tol, rng, random, positive\n",
      "C:\\Users\\MJ\\anaconda3\\lib\\site-packages\\sklearn\\linear_model\\_coordinate_descent.py:648: ConvergenceWarning: Objective did not converge. You might want to increase the number of iterations, check the scale of the features or consider increasing regularisation. Duality gap: 2.187e+13, tolerance: 9.627e+09 Linear regression models with null weight for the l1 regularization term are more efficiently fitted using one of the solvers implemented in sklearn.linear_model.Ridge/RidgeCV instead.\n",
      "  coef_, l1_reg, l2_reg, X, y, max_iter, tol, rng, random, positive\n",
      "C:\\Users\\MJ\\anaconda3\\lib\\site-packages\\sklearn\\model_selection\\_validation.py:681: UserWarning: With alpha=0, this algorithm does not converge well. You are advised to use the LinearRegression estimator\n",
      "  estimator.fit(X_train, y_train, **fit_params)\n",
      "C:\\Users\\MJ\\anaconda3\\lib\\site-packages\\sklearn\\linear_model\\_coordinate_descent.py:648: UserWarning: Coordinate descent with no regularization may lead to unexpected results and is discouraged.\n",
      "  coef_, l1_reg, l2_reg, X, y, max_iter, tol, rng, random, positive\n",
      "C:\\Users\\MJ\\anaconda3\\lib\\site-packages\\sklearn\\linear_model\\_coordinate_descent.py:648: ConvergenceWarning: Objective did not converge. You might want to increase the number of iterations, check the scale of the features or consider increasing regularisation. Duality gap: 2.177e+13, tolerance: 9.648e+09 Linear regression models with null weight for the l1 regularization term are more efficiently fitted using one of the solvers implemented in sklearn.linear_model.Ridge/RidgeCV instead.\n",
      "  coef_, l1_reg, l2_reg, X, y, max_iter, tol, rng, random, positive\n",
      "C:\\Users\\MJ\\anaconda3\\lib\\site-packages\\sklearn\\model_selection\\_validation.py:681: UserWarning: With alpha=0, this algorithm does not converge well. You are advised to use the LinearRegression estimator\n",
      "  estimator.fit(X_train, y_train, **fit_params)\n",
      "C:\\Users\\MJ\\anaconda3\\lib\\site-packages\\sklearn\\linear_model\\_coordinate_descent.py:648: UserWarning: Coordinate descent with no regularization may lead to unexpected results and is discouraged.\n",
      "  coef_, l1_reg, l2_reg, X, y, max_iter, tol, rng, random, positive\n",
      "C:\\Users\\MJ\\anaconda3\\lib\\site-packages\\sklearn\\linear_model\\_coordinate_descent.py:648: ConvergenceWarning: Objective did not converge. You might want to increase the number of iterations, check the scale of the features or consider increasing regularisation. Duality gap: 2.195e+13, tolerance: 9.728e+09 Linear regression models with null weight for the l1 regularization term are more efficiently fitted using one of the solvers implemented in sklearn.linear_model.Ridge/RidgeCV instead.\n",
      "  coef_, l1_reg, l2_reg, X, y, max_iter, tol, rng, random, positive\n",
      "C:\\Users\\MJ\\anaconda3\\lib\\site-packages\\sklearn\\model_selection\\_validation.py:681: UserWarning: With alpha=0, this algorithm does not converge well. You are advised to use the LinearRegression estimator\n",
      "  estimator.fit(X_train, y_train, **fit_params)\n",
      "C:\\Users\\MJ\\anaconda3\\lib\\site-packages\\sklearn\\linear_model\\_coordinate_descent.py:648: UserWarning: Coordinate descent with no regularization may lead to unexpected results and is discouraged.\n",
      "  coef_, l1_reg, l2_reg, X, y, max_iter, tol, rng, random, positive\n",
      "C:\\Users\\MJ\\anaconda3\\lib\\site-packages\\sklearn\\linear_model\\_coordinate_descent.py:648: ConvergenceWarning: Objective did not converge. You might want to increase the number of iterations, check the scale of the features or consider increasing regularisation. Duality gap: 2.222e+13, tolerance: 9.665e+09 Linear regression models with null weight for the l1 regularization term are more efficiently fitted using one of the solvers implemented in sklearn.linear_model.Ridge/RidgeCV instead.\n",
      "  coef_, l1_reg, l2_reg, X, y, max_iter, tol, rng, random, positive\n",
      "C:\\Users\\MJ\\anaconda3\\lib\\site-packages\\sklearn\\model_selection\\_validation.py:681: UserWarning: With alpha=0, this algorithm does not converge well. You are advised to use the LinearRegression estimator\n",
      "  estimator.fit(X_train, y_train, **fit_params)\n",
      "C:\\Users\\MJ\\anaconda3\\lib\\site-packages\\sklearn\\linear_model\\_coordinate_descent.py:648: UserWarning: Coordinate descent with no regularization may lead to unexpected results and is discouraged.\n",
      "  coef_, l1_reg, l2_reg, X, y, max_iter, tol, rng, random, positive\n",
      "C:\\Users\\MJ\\anaconda3\\lib\\site-packages\\sklearn\\linear_model\\_coordinate_descent.py:648: ConvergenceWarning: Objective did not converge. You might want to increase the number of iterations, check the scale of the features or consider increasing regularisation. Duality gap: 2.202e+13, tolerance: 9.671e+09 Linear regression models with null weight for the l1 regularization term are more efficiently fitted using one of the solvers implemented in sklearn.linear_model.Ridge/RidgeCV instead.\n",
      "  coef_, l1_reg, l2_reg, X, y, max_iter, tol, rng, random, positive\n",
      "C:\\Users\\MJ\\anaconda3\\lib\\site-packages\\sklearn\\model_selection\\_validation.py:681: UserWarning: With alpha=0, this algorithm does not converge well. You are advised to use the LinearRegression estimator\n",
      "  estimator.fit(X_train, y_train, **fit_params)\n",
      "C:\\Users\\MJ\\anaconda3\\lib\\site-packages\\sklearn\\linear_model\\_coordinate_descent.py:648: UserWarning: Coordinate descent with no regularization may lead to unexpected results and is discouraged.\n",
      "  coef_, l1_reg, l2_reg, X, y, max_iter, tol, rng, random, positive\n",
      "C:\\Users\\MJ\\anaconda3\\lib\\site-packages\\sklearn\\linear_model\\_coordinate_descent.py:648: ConvergenceWarning: Objective did not converge. You might want to increase the number of iterations, check the scale of the features or consider increasing regularisation. Duality gap: 2.187e+13, tolerance: 9.627e+09 Linear regression models with null weight for the l1 regularization term are more efficiently fitted using one of the solvers implemented in sklearn.linear_model.Ridge/RidgeCV instead.\n",
      "  coef_, l1_reg, l2_reg, X, y, max_iter, tol, rng, random, positive\n"
     ]
    },
    {
     "name": "stderr",
     "output_type": "stream",
     "text": [
      "C:\\Users\\MJ\\anaconda3\\lib\\site-packages\\sklearn\\model_selection\\_validation.py:681: UserWarning: With alpha=0, this algorithm does not converge well. You are advised to use the LinearRegression estimator\n",
      "  estimator.fit(X_train, y_train, **fit_params)\n",
      "C:\\Users\\MJ\\anaconda3\\lib\\site-packages\\sklearn\\linear_model\\_coordinate_descent.py:648: UserWarning: Coordinate descent with no regularization may lead to unexpected results and is discouraged.\n",
      "  coef_, l1_reg, l2_reg, X, y, max_iter, tol, rng, random, positive\n",
      "C:\\Users\\MJ\\anaconda3\\lib\\site-packages\\sklearn\\linear_model\\_coordinate_descent.py:648: ConvergenceWarning: Objective did not converge. You might want to increase the number of iterations, check the scale of the features or consider increasing regularisation. Duality gap: 2.177e+13, tolerance: 9.648e+09 Linear regression models with null weight for the l1 regularization term are more efficiently fitted using one of the solvers implemented in sklearn.linear_model.Ridge/RidgeCV instead.\n",
      "  coef_, l1_reg, l2_reg, X, y, max_iter, tol, rng, random, positive\n",
      "C:\\Users\\MJ\\anaconda3\\lib\\site-packages\\sklearn\\model_selection\\_validation.py:681: UserWarning: With alpha=0, this algorithm does not converge well. You are advised to use the LinearRegression estimator\n",
      "  estimator.fit(X_train, y_train, **fit_params)\n",
      "C:\\Users\\MJ\\anaconda3\\lib\\site-packages\\sklearn\\linear_model\\_coordinate_descent.py:648: UserWarning: Coordinate descent with no regularization may lead to unexpected results and is discouraged.\n",
      "  coef_, l1_reg, l2_reg, X, y, max_iter, tol, rng, random, positive\n",
      "C:\\Users\\MJ\\anaconda3\\lib\\site-packages\\sklearn\\linear_model\\_coordinate_descent.py:648: ConvergenceWarning: Objective did not converge. You might want to increase the number of iterations, check the scale of the features or consider increasing regularisation. Duality gap: 2.195e+13, tolerance: 9.728e+09 Linear regression models with null weight for the l1 regularization term are more efficiently fitted using one of the solvers implemented in sklearn.linear_model.Ridge/RidgeCV instead.\n",
      "  coef_, l1_reg, l2_reg, X, y, max_iter, tol, rng, random, positive\n",
      "C:\\Users\\MJ\\anaconda3\\lib\\site-packages\\sklearn\\model_selection\\_validation.py:681: UserWarning: With alpha=0, this algorithm does not converge well. You are advised to use the LinearRegression estimator\n",
      "  estimator.fit(X_train, y_train, **fit_params)\n",
      "C:\\Users\\MJ\\anaconda3\\lib\\site-packages\\sklearn\\linear_model\\_coordinate_descent.py:648: UserWarning: Coordinate descent with no regularization may lead to unexpected results and is discouraged.\n",
      "  coef_, l1_reg, l2_reg, X, y, max_iter, tol, rng, random, positive\n",
      "C:\\Users\\MJ\\anaconda3\\lib\\site-packages\\sklearn\\linear_model\\_coordinate_descent.py:648: ConvergenceWarning: Objective did not converge. You might want to increase the number of iterations, check the scale of the features or consider increasing regularisation. Duality gap: 2.222e+13, tolerance: 9.665e+09 Linear regression models with null weight for the l1 regularization term are more efficiently fitted using one of the solvers implemented in sklearn.linear_model.Ridge/RidgeCV instead.\n",
      "  coef_, l1_reg, l2_reg, X, y, max_iter, tol, rng, random, positive\n",
      "C:\\Users\\MJ\\anaconda3\\lib\\site-packages\\sklearn\\model_selection\\_validation.py:681: UserWarning: With alpha=0, this algorithm does not converge well. You are advised to use the LinearRegression estimator\n",
      "  estimator.fit(X_train, y_train, **fit_params)\n",
      "C:\\Users\\MJ\\anaconda3\\lib\\site-packages\\sklearn\\linear_model\\_coordinate_descent.py:648: UserWarning: Coordinate descent with no regularization may lead to unexpected results and is discouraged.\n",
      "  coef_, l1_reg, l2_reg, X, y, max_iter, tol, rng, random, positive\n",
      "C:\\Users\\MJ\\anaconda3\\lib\\site-packages\\sklearn\\linear_model\\_coordinate_descent.py:648: ConvergenceWarning: Objective did not converge. You might want to increase the number of iterations, check the scale of the features or consider increasing regularisation. Duality gap: 2.202e+13, tolerance: 9.671e+09 Linear regression models with null weight for the l1 regularization term are more efficiently fitted using one of the solvers implemented in sklearn.linear_model.Ridge/RidgeCV instead.\n",
      "  coef_, l1_reg, l2_reg, X, y, max_iter, tol, rng, random, positive\n",
      "C:\\Users\\MJ\\anaconda3\\lib\\site-packages\\sklearn\\model_selection\\_validation.py:681: UserWarning: With alpha=0, this algorithm does not converge well. You are advised to use the LinearRegression estimator\n",
      "  estimator.fit(X_train, y_train, **fit_params)\n",
      "C:\\Users\\MJ\\anaconda3\\lib\\site-packages\\sklearn\\linear_model\\_coordinate_descent.py:648: UserWarning: Coordinate descent with no regularization may lead to unexpected results and is discouraged.\n",
      "  coef_, l1_reg, l2_reg, X, y, max_iter, tol, rng, random, positive\n",
      "C:\\Users\\MJ\\anaconda3\\lib\\site-packages\\sklearn\\linear_model\\_coordinate_descent.py:648: ConvergenceWarning: Objective did not converge. You might want to increase the number of iterations, check the scale of the features or consider increasing regularisation. Duality gap: 2.187e+13, tolerance: 9.627e+09 Linear regression models with null weight for the l1 regularization term are more efficiently fitted using one of the solvers implemented in sklearn.linear_model.Ridge/RidgeCV instead.\n",
      "  coef_, l1_reg, l2_reg, X, y, max_iter, tol, rng, random, positive\n",
      "C:\\Users\\MJ\\anaconda3\\lib\\site-packages\\sklearn\\model_selection\\_validation.py:681: UserWarning: With alpha=0, this algorithm does not converge well. You are advised to use the LinearRegression estimator\n",
      "  estimator.fit(X_train, y_train, **fit_params)\n",
      "C:\\Users\\MJ\\anaconda3\\lib\\site-packages\\sklearn\\linear_model\\_coordinate_descent.py:648: UserWarning: Coordinate descent with no regularization may lead to unexpected results and is discouraged.\n",
      "  coef_, l1_reg, l2_reg, X, y, max_iter, tol, rng, random, positive\n",
      "C:\\Users\\MJ\\anaconda3\\lib\\site-packages\\sklearn\\linear_model\\_coordinate_descent.py:648: ConvergenceWarning: Objective did not converge. You might want to increase the number of iterations, check the scale of the features or consider increasing regularisation. Duality gap: 2.177e+13, tolerance: 9.648e+09 Linear regression models with null weight for the l1 regularization term are more efficiently fitted using one of the solvers implemented in sklearn.linear_model.Ridge/RidgeCV instead.\n",
      "  coef_, l1_reg, l2_reg, X, y, max_iter, tol, rng, random, positive\n",
      "C:\\Users\\MJ\\anaconda3\\lib\\site-packages\\sklearn\\model_selection\\_validation.py:681: UserWarning: With alpha=0, this algorithm does not converge well. You are advised to use the LinearRegression estimator\n",
      "  estimator.fit(X_train, y_train, **fit_params)\n",
      "C:\\Users\\MJ\\anaconda3\\lib\\site-packages\\sklearn\\linear_model\\_coordinate_descent.py:648: UserWarning: Coordinate descent with no regularization may lead to unexpected results and is discouraged.\n",
      "  coef_, l1_reg, l2_reg, X, y, max_iter, tol, rng, random, positive\n",
      "C:\\Users\\MJ\\anaconda3\\lib\\site-packages\\sklearn\\linear_model\\_coordinate_descent.py:648: ConvergenceWarning: Objective did not converge. You might want to increase the number of iterations, check the scale of the features or consider increasing regularisation. Duality gap: 2.195e+13, tolerance: 9.728e+09 Linear regression models with null weight for the l1 regularization term are more efficiently fitted using one of the solvers implemented in sklearn.linear_model.Ridge/RidgeCV instead.\n",
      "  coef_, l1_reg, l2_reg, X, y, max_iter, tol, rng, random, positive\n",
      "C:\\Users\\MJ\\anaconda3\\lib\\site-packages\\sklearn\\model_selection\\_validation.py:681: UserWarning: With alpha=0, this algorithm does not converge well. You are advised to use the LinearRegression estimator\n",
      "  estimator.fit(X_train, y_train, **fit_params)\n",
      "C:\\Users\\MJ\\anaconda3\\lib\\site-packages\\sklearn\\linear_model\\_coordinate_descent.py:648: UserWarning: Coordinate descent with no regularization may lead to unexpected results and is discouraged.\n",
      "  coef_, l1_reg, l2_reg, X, y, max_iter, tol, rng, random, positive\n",
      "C:\\Users\\MJ\\anaconda3\\lib\\site-packages\\sklearn\\linear_model\\_coordinate_descent.py:648: ConvergenceWarning: Objective did not converge. You might want to increase the number of iterations, check the scale of the features or consider increasing regularisation. Duality gap: 2.222e+13, tolerance: 9.665e+09 Linear regression models with null weight for the l1 regularization term are more efficiently fitted using one of the solvers implemented in sklearn.linear_model.Ridge/RidgeCV instead.\n",
      "  coef_, l1_reg, l2_reg, X, y, max_iter, tol, rng, random, positive\n",
      "C:\\Users\\MJ\\anaconda3\\lib\\site-packages\\sklearn\\model_selection\\_validation.py:681: UserWarning: With alpha=0, this algorithm does not converge well. You are advised to use the LinearRegression estimator\n",
      "  estimator.fit(X_train, y_train, **fit_params)\n",
      "C:\\Users\\MJ\\anaconda3\\lib\\site-packages\\sklearn\\linear_model\\_coordinate_descent.py:648: UserWarning: Coordinate descent with no regularization may lead to unexpected results and is discouraged.\n",
      "  coef_, l1_reg, l2_reg, X, y, max_iter, tol, rng, random, positive\n",
      "C:\\Users\\MJ\\anaconda3\\lib\\site-packages\\sklearn\\linear_model\\_coordinate_descent.py:648: ConvergenceWarning: Objective did not converge. You might want to increase the number of iterations, check the scale of the features or consider increasing regularisation. Duality gap: 2.202e+13, tolerance: 9.671e+09 Linear regression models with null weight for the l1 regularization term are more efficiently fitted using one of the solvers implemented in sklearn.linear_model.Ridge/RidgeCV instead.\n",
      "  coef_, l1_reg, l2_reg, X, y, max_iter, tol, rng, random, positive\n",
      "C:\\Users\\MJ\\anaconda3\\lib\\site-packages\\sklearn\\model_selection\\_validation.py:681: UserWarning: With alpha=0, this algorithm does not converge well. You are advised to use the LinearRegression estimator\n",
      "  estimator.fit(X_train, y_train, **fit_params)\n",
      "C:\\Users\\MJ\\anaconda3\\lib\\site-packages\\sklearn\\linear_model\\_coordinate_descent.py:648: UserWarning: Coordinate descent with no regularization may lead to unexpected results and is discouraged.\n",
      "  coef_, l1_reg, l2_reg, X, y, max_iter, tol, rng, random, positive\n",
      "C:\\Users\\MJ\\anaconda3\\lib\\site-packages\\sklearn\\linear_model\\_coordinate_descent.py:648: ConvergenceWarning: Objective did not converge. You might want to increase the number of iterations, check the scale of the features or consider increasing regularisation. Duality gap: 2.187e+13, tolerance: 9.627e+09 Linear regression models with null weight for the l1 regularization term are more efficiently fitted using one of the solvers implemented in sklearn.linear_model.Ridge/RidgeCV instead.\n",
      "  coef_, l1_reg, l2_reg, X, y, max_iter, tol, rng, random, positive\n",
      "C:\\Users\\MJ\\anaconda3\\lib\\site-packages\\sklearn\\model_selection\\_validation.py:681: UserWarning: With alpha=0, this algorithm does not converge well. You are advised to use the LinearRegression estimator\n",
      "  estimator.fit(X_train, y_train, **fit_params)\n",
      "C:\\Users\\MJ\\anaconda3\\lib\\site-packages\\sklearn\\linear_model\\_coordinate_descent.py:648: UserWarning: Coordinate descent with no regularization may lead to unexpected results and is discouraged.\n",
      "  coef_, l1_reg, l2_reg, X, y, max_iter, tol, rng, random, positive\n",
      "C:\\Users\\MJ\\anaconda3\\lib\\site-packages\\sklearn\\linear_model\\_coordinate_descent.py:648: ConvergenceWarning: Objective did not converge. You might want to increase the number of iterations, check the scale of the features or consider increasing regularisation. Duality gap: 2.177e+13, tolerance: 9.648e+09 Linear regression models with null weight for the l1 regularization term are more efficiently fitted using one of the solvers implemented in sklearn.linear_model.Ridge/RidgeCV instead.\n",
      "  coef_, l1_reg, l2_reg, X, y, max_iter, tol, rng, random, positive\n"
     ]
    },
    {
     "name": "stderr",
     "output_type": "stream",
     "text": [
      "C:\\Users\\MJ\\anaconda3\\lib\\site-packages\\sklearn\\model_selection\\_validation.py:681: UserWarning: With alpha=0, this algorithm does not converge well. You are advised to use the LinearRegression estimator\n",
      "  estimator.fit(X_train, y_train, **fit_params)\n",
      "C:\\Users\\MJ\\anaconda3\\lib\\site-packages\\sklearn\\linear_model\\_coordinate_descent.py:648: UserWarning: Coordinate descent with no regularization may lead to unexpected results and is discouraged.\n",
      "  coef_, l1_reg, l2_reg, X, y, max_iter, tol, rng, random, positive\n",
      "C:\\Users\\MJ\\anaconda3\\lib\\site-packages\\sklearn\\linear_model\\_coordinate_descent.py:648: ConvergenceWarning: Objective did not converge. You might want to increase the number of iterations, check the scale of the features or consider increasing regularisation. Duality gap: 2.195e+13, tolerance: 9.728e+09 Linear regression models with null weight for the l1 regularization term are more efficiently fitted using one of the solvers implemented in sklearn.linear_model.Ridge/RidgeCV instead.\n",
      "  coef_, l1_reg, l2_reg, X, y, max_iter, tol, rng, random, positive\n",
      "C:\\Users\\MJ\\anaconda3\\lib\\site-packages\\sklearn\\model_selection\\_validation.py:681: UserWarning: With alpha=0, this algorithm does not converge well. You are advised to use the LinearRegression estimator\n",
      "  estimator.fit(X_train, y_train, **fit_params)\n",
      "C:\\Users\\MJ\\anaconda3\\lib\\site-packages\\sklearn\\linear_model\\_coordinate_descent.py:648: UserWarning: Coordinate descent with no regularization may lead to unexpected results and is discouraged.\n",
      "  coef_, l1_reg, l2_reg, X, y, max_iter, tol, rng, random, positive\n",
      "C:\\Users\\MJ\\anaconda3\\lib\\site-packages\\sklearn\\linear_model\\_coordinate_descent.py:648: ConvergenceWarning: Objective did not converge. You might want to increase the number of iterations, check the scale of the features or consider increasing regularisation. Duality gap: 2.222e+13, tolerance: 9.665e+09 Linear regression models with null weight for the l1 regularization term are more efficiently fitted using one of the solvers implemented in sklearn.linear_model.Ridge/RidgeCV instead.\n",
      "  coef_, l1_reg, l2_reg, X, y, max_iter, tol, rng, random, positive\n",
      "C:\\Users\\MJ\\anaconda3\\lib\\site-packages\\sklearn\\model_selection\\_validation.py:681: UserWarning: With alpha=0, this algorithm does not converge well. You are advised to use the LinearRegression estimator\n",
      "  estimator.fit(X_train, y_train, **fit_params)\n",
      "C:\\Users\\MJ\\anaconda3\\lib\\site-packages\\sklearn\\linear_model\\_coordinate_descent.py:648: UserWarning: Coordinate descent with no regularization may lead to unexpected results and is discouraged.\n",
      "  coef_, l1_reg, l2_reg, X, y, max_iter, tol, rng, random, positive\n",
      "C:\\Users\\MJ\\anaconda3\\lib\\site-packages\\sklearn\\linear_model\\_coordinate_descent.py:648: ConvergenceWarning: Objective did not converge. You might want to increase the number of iterations, check the scale of the features or consider increasing regularisation. Duality gap: 2.202e+13, tolerance: 9.671e+09 Linear regression models with null weight for the l1 regularization term are more efficiently fitted using one of the solvers implemented in sklearn.linear_model.Ridge/RidgeCV instead.\n",
      "  coef_, l1_reg, l2_reg, X, y, max_iter, tol, rng, random, positive\n",
      "C:\\Users\\MJ\\anaconda3\\lib\\site-packages\\sklearn\\model_selection\\_validation.py:681: UserWarning: With alpha=0, this algorithm does not converge well. You are advised to use the LinearRegression estimator\n",
      "  estimator.fit(X_train, y_train, **fit_params)\n",
      "C:\\Users\\MJ\\anaconda3\\lib\\site-packages\\sklearn\\linear_model\\_coordinate_descent.py:648: UserWarning: Coordinate descent with no regularization may lead to unexpected results and is discouraged.\n",
      "  coef_, l1_reg, l2_reg, X, y, max_iter, tol, rng, random, positive\n",
      "C:\\Users\\MJ\\anaconda3\\lib\\site-packages\\sklearn\\linear_model\\_coordinate_descent.py:648: ConvergenceWarning: Objective did not converge. You might want to increase the number of iterations, check the scale of the features or consider increasing regularisation. Duality gap: 2.187e+13, tolerance: 9.627e+09 Linear regression models with null weight for the l1 regularization term are more efficiently fitted using one of the solvers implemented in sklearn.linear_model.Ridge/RidgeCV instead.\n",
      "  coef_, l1_reg, l2_reg, X, y, max_iter, tol, rng, random, positive\n",
      "C:\\Users\\MJ\\anaconda3\\lib\\site-packages\\sklearn\\model_selection\\_validation.py:681: UserWarning: With alpha=0, this algorithm does not converge well. You are advised to use the LinearRegression estimator\n",
      "  estimator.fit(X_train, y_train, **fit_params)\n",
      "C:\\Users\\MJ\\anaconda3\\lib\\site-packages\\sklearn\\linear_model\\_coordinate_descent.py:648: UserWarning: Coordinate descent with no regularization may lead to unexpected results and is discouraged.\n",
      "  coef_, l1_reg, l2_reg, X, y, max_iter, tol, rng, random, positive\n",
      "C:\\Users\\MJ\\anaconda3\\lib\\site-packages\\sklearn\\linear_model\\_coordinate_descent.py:648: ConvergenceWarning: Objective did not converge. You might want to increase the number of iterations, check the scale of the features or consider increasing regularisation. Duality gap: 2.177e+13, tolerance: 9.648e+09 Linear regression models with null weight for the l1 regularization term are more efficiently fitted using one of the solvers implemented in sklearn.linear_model.Ridge/RidgeCV instead.\n",
      "  coef_, l1_reg, l2_reg, X, y, max_iter, tol, rng, random, positive\n",
      "C:\\Users\\MJ\\anaconda3\\lib\\site-packages\\sklearn\\model_selection\\_validation.py:681: UserWarning: With alpha=0, this algorithm does not converge well. You are advised to use the LinearRegression estimator\n",
      "  estimator.fit(X_train, y_train, **fit_params)\n",
      "C:\\Users\\MJ\\anaconda3\\lib\\site-packages\\sklearn\\linear_model\\_coordinate_descent.py:648: UserWarning: Coordinate descent with no regularization may lead to unexpected results and is discouraged.\n",
      "  coef_, l1_reg, l2_reg, X, y, max_iter, tol, rng, random, positive\n",
      "C:\\Users\\MJ\\anaconda3\\lib\\site-packages\\sklearn\\linear_model\\_coordinate_descent.py:648: ConvergenceWarning: Objective did not converge. You might want to increase the number of iterations, check the scale of the features or consider increasing regularisation. Duality gap: 2.195e+13, tolerance: 9.728e+09 Linear regression models with null weight for the l1 regularization term are more efficiently fitted using one of the solvers implemented in sklearn.linear_model.Ridge/RidgeCV instead.\n",
      "  coef_, l1_reg, l2_reg, X, y, max_iter, tol, rng, random, positive\n",
      "C:\\Users\\MJ\\anaconda3\\lib\\site-packages\\sklearn\\model_selection\\_validation.py:681: UserWarning: With alpha=0, this algorithm does not converge well. You are advised to use the LinearRegression estimator\n",
      "  estimator.fit(X_train, y_train, **fit_params)\n",
      "C:\\Users\\MJ\\anaconda3\\lib\\site-packages\\sklearn\\linear_model\\_coordinate_descent.py:648: UserWarning: Coordinate descent with no regularization may lead to unexpected results and is discouraged.\n",
      "  coef_, l1_reg, l2_reg, X, y, max_iter, tol, rng, random, positive\n",
      "C:\\Users\\MJ\\anaconda3\\lib\\site-packages\\sklearn\\linear_model\\_coordinate_descent.py:648: ConvergenceWarning: Objective did not converge. You might want to increase the number of iterations, check the scale of the features or consider increasing regularisation. Duality gap: 2.222e+13, tolerance: 9.665e+09 Linear regression models with null weight for the l1 regularization term are more efficiently fitted using one of the solvers implemented in sklearn.linear_model.Ridge/RidgeCV instead.\n",
      "  coef_, l1_reg, l2_reg, X, y, max_iter, tol, rng, random, positive\n",
      "C:\\Users\\MJ\\anaconda3\\lib\\site-packages\\sklearn\\model_selection\\_validation.py:681: UserWarning: With alpha=0, this algorithm does not converge well. You are advised to use the LinearRegression estimator\n",
      "  estimator.fit(X_train, y_train, **fit_params)\n",
      "C:\\Users\\MJ\\anaconda3\\lib\\site-packages\\sklearn\\linear_model\\_coordinate_descent.py:648: UserWarning: Coordinate descent with no regularization may lead to unexpected results and is discouraged.\n",
      "  coef_, l1_reg, l2_reg, X, y, max_iter, tol, rng, random, positive\n",
      "C:\\Users\\MJ\\anaconda3\\lib\\site-packages\\sklearn\\linear_model\\_coordinate_descent.py:648: ConvergenceWarning: Objective did not converge. You might want to increase the number of iterations, check the scale of the features or consider increasing regularisation. Duality gap: 2.202e+13, tolerance: 9.671e+09 Linear regression models with null weight for the l1 regularization term are more efficiently fitted using one of the solvers implemented in sklearn.linear_model.Ridge/RidgeCV instead.\n",
      "  coef_, l1_reg, l2_reg, X, y, max_iter, tol, rng, random, positive\n",
      "C:\\Users\\MJ\\anaconda3\\lib\\site-packages\\sklearn\\model_selection\\_validation.py:681: UserWarning: With alpha=0, this algorithm does not converge well. You are advised to use the LinearRegression estimator\n",
      "  estimator.fit(X_train, y_train, **fit_params)\n",
      "C:\\Users\\MJ\\anaconda3\\lib\\site-packages\\sklearn\\linear_model\\_coordinate_descent.py:648: UserWarning: Coordinate descent with no regularization may lead to unexpected results and is discouraged.\n",
      "  coef_, l1_reg, l2_reg, X, y, max_iter, tol, rng, random, positive\n",
      "C:\\Users\\MJ\\anaconda3\\lib\\site-packages\\sklearn\\linear_model\\_coordinate_descent.py:648: ConvergenceWarning: Objective did not converge. You might want to increase the number of iterations, check the scale of the features or consider increasing regularisation. Duality gap: 2.187e+13, tolerance: 9.627e+09 Linear regression models with null weight for the l1 regularization term are more efficiently fitted using one of the solvers implemented in sklearn.linear_model.Ridge/RidgeCV instead.\n",
      "  coef_, l1_reg, l2_reg, X, y, max_iter, tol, rng, random, positive\n",
      "C:\\Users\\MJ\\anaconda3\\lib\\site-packages\\sklearn\\model_selection\\_validation.py:681: UserWarning: With alpha=0, this algorithm does not converge well. You are advised to use the LinearRegression estimator\n",
      "  estimator.fit(X_train, y_train, **fit_params)\n"
     ]
    },
    {
     "name": "stderr",
     "output_type": "stream",
     "text": [
      "C:\\Users\\MJ\\anaconda3\\lib\\site-packages\\sklearn\\linear_model\\_coordinate_descent.py:648: UserWarning: Coordinate descent with no regularization may lead to unexpected results and is discouraged.\n",
      "  coef_, l1_reg, l2_reg, X, y, max_iter, tol, rng, random, positive\n",
      "C:\\Users\\MJ\\anaconda3\\lib\\site-packages\\sklearn\\linear_model\\_coordinate_descent.py:648: ConvergenceWarning: Objective did not converge. You might want to increase the number of iterations, check the scale of the features or consider increasing regularisation. Duality gap: 2.177e+13, tolerance: 9.648e+09 Linear regression models with null weight for the l1 regularization term are more efficiently fitted using one of the solvers implemented in sklearn.linear_model.Ridge/RidgeCV instead.\n",
      "  coef_, l1_reg, l2_reg, X, y, max_iter, tol, rng, random, positive\n",
      "C:\\Users\\MJ\\anaconda3\\lib\\site-packages\\sklearn\\model_selection\\_validation.py:681: UserWarning: With alpha=0, this algorithm does not converge well. You are advised to use the LinearRegression estimator\n",
      "  estimator.fit(X_train, y_train, **fit_params)\n",
      "C:\\Users\\MJ\\anaconda3\\lib\\site-packages\\sklearn\\linear_model\\_coordinate_descent.py:648: UserWarning: Coordinate descent with no regularization may lead to unexpected results and is discouraged.\n",
      "  coef_, l1_reg, l2_reg, X, y, max_iter, tol, rng, random, positive\n",
      "C:\\Users\\MJ\\anaconda3\\lib\\site-packages\\sklearn\\linear_model\\_coordinate_descent.py:648: ConvergenceWarning: Objective did not converge. You might want to increase the number of iterations, check the scale of the features or consider increasing regularisation. Duality gap: 2.195e+13, tolerance: 9.728e+09 Linear regression models with null weight for the l1 regularization term are more efficiently fitted using one of the solvers implemented in sklearn.linear_model.Ridge/RidgeCV instead.\n",
      "  coef_, l1_reg, l2_reg, X, y, max_iter, tol, rng, random, positive\n",
      "C:\\Users\\MJ\\anaconda3\\lib\\site-packages\\sklearn\\model_selection\\_validation.py:681: UserWarning: With alpha=0, this algorithm does not converge well. You are advised to use the LinearRegression estimator\n",
      "  estimator.fit(X_train, y_train, **fit_params)\n",
      "C:\\Users\\MJ\\anaconda3\\lib\\site-packages\\sklearn\\linear_model\\_coordinate_descent.py:648: UserWarning: Coordinate descent with no regularization may lead to unexpected results and is discouraged.\n",
      "  coef_, l1_reg, l2_reg, X, y, max_iter, tol, rng, random, positive\n",
      "C:\\Users\\MJ\\anaconda3\\lib\\site-packages\\sklearn\\linear_model\\_coordinate_descent.py:648: ConvergenceWarning: Objective did not converge. You might want to increase the number of iterations, check the scale of the features or consider increasing regularisation. Duality gap: 2.222e+13, tolerance: 9.665e+09 Linear regression models with null weight for the l1 regularization term are more efficiently fitted using one of the solvers implemented in sklearn.linear_model.Ridge/RidgeCV instead.\n",
      "  coef_, l1_reg, l2_reg, X, y, max_iter, tol, rng, random, positive\n",
      "C:\\Users\\MJ\\anaconda3\\lib\\site-packages\\sklearn\\model_selection\\_validation.py:681: UserWarning: With alpha=0, this algorithm does not converge well. You are advised to use the LinearRegression estimator\n",
      "  estimator.fit(X_train, y_train, **fit_params)\n",
      "C:\\Users\\MJ\\anaconda3\\lib\\site-packages\\sklearn\\linear_model\\_coordinate_descent.py:648: UserWarning: Coordinate descent with no regularization may lead to unexpected results and is discouraged.\n",
      "  coef_, l1_reg, l2_reg, X, y, max_iter, tol, rng, random, positive\n",
      "C:\\Users\\MJ\\anaconda3\\lib\\site-packages\\sklearn\\linear_model\\_coordinate_descent.py:648: ConvergenceWarning: Objective did not converge. You might want to increase the number of iterations, check the scale of the features or consider increasing regularisation. Duality gap: 2.202e+13, tolerance: 9.671e+09 Linear regression models with null weight for the l1 regularization term are more efficiently fitted using one of the solvers implemented in sklearn.linear_model.Ridge/RidgeCV instead.\n",
      "  coef_, l1_reg, l2_reg, X, y, max_iter, tol, rng, random, positive\n",
      "C:\\Users\\MJ\\anaconda3\\lib\\site-packages\\sklearn\\model_selection\\_validation.py:681: UserWarning: With alpha=0, this algorithm does not converge well. You are advised to use the LinearRegression estimator\n",
      "  estimator.fit(X_train, y_train, **fit_params)\n",
      "C:\\Users\\MJ\\anaconda3\\lib\\site-packages\\sklearn\\linear_model\\_coordinate_descent.py:648: UserWarning: Coordinate descent with no regularization may lead to unexpected results and is discouraged.\n",
      "  coef_, l1_reg, l2_reg, X, y, max_iter, tol, rng, random, positive\n",
      "C:\\Users\\MJ\\anaconda3\\lib\\site-packages\\sklearn\\linear_model\\_coordinate_descent.py:648: ConvergenceWarning: Objective did not converge. You might want to increase the number of iterations, check the scale of the features or consider increasing regularisation. Duality gap: 2.187e+13, tolerance: 9.627e+09 Linear regression models with null weight for the l1 regularization term are more efficiently fitted using one of the solvers implemented in sklearn.linear_model.Ridge/RidgeCV instead.\n",
      "  coef_, l1_reg, l2_reg, X, y, max_iter, tol, rng, random, positive\n",
      "C:\\Users\\MJ\\anaconda3\\lib\\site-packages\\sklearn\\model_selection\\_validation.py:681: UserWarning: With alpha=0, this algorithm does not converge well. You are advised to use the LinearRegression estimator\n",
      "  estimator.fit(X_train, y_train, **fit_params)\n",
      "C:\\Users\\MJ\\anaconda3\\lib\\site-packages\\sklearn\\linear_model\\_coordinate_descent.py:648: UserWarning: Coordinate descent with no regularization may lead to unexpected results and is discouraged.\n",
      "  coef_, l1_reg, l2_reg, X, y, max_iter, tol, rng, random, positive\n",
      "C:\\Users\\MJ\\anaconda3\\lib\\site-packages\\sklearn\\linear_model\\_coordinate_descent.py:648: ConvergenceWarning: Objective did not converge. You might want to increase the number of iterations, check the scale of the features or consider increasing regularisation. Duality gap: 2.177e+13, tolerance: 9.648e+09 Linear regression models with null weight for the l1 regularization term are more efficiently fitted using one of the solvers implemented in sklearn.linear_model.Ridge/RidgeCV instead.\n",
      "  coef_, l1_reg, l2_reg, X, y, max_iter, tol, rng, random, positive\n",
      "C:\\Users\\MJ\\anaconda3\\lib\\site-packages\\sklearn\\model_selection\\_validation.py:681: UserWarning: With alpha=0, this algorithm does not converge well. You are advised to use the LinearRegression estimator\n",
      "  estimator.fit(X_train, y_train, **fit_params)\n",
      "C:\\Users\\MJ\\anaconda3\\lib\\site-packages\\sklearn\\linear_model\\_coordinate_descent.py:648: UserWarning: Coordinate descent with no regularization may lead to unexpected results and is discouraged.\n",
      "  coef_, l1_reg, l2_reg, X, y, max_iter, tol, rng, random, positive\n",
      "C:\\Users\\MJ\\anaconda3\\lib\\site-packages\\sklearn\\linear_model\\_coordinate_descent.py:648: ConvergenceWarning: Objective did not converge. You might want to increase the number of iterations, check the scale of the features or consider increasing regularisation. Duality gap: 2.195e+13, tolerance: 9.728e+09 Linear regression models with null weight for the l1 regularization term are more efficiently fitted using one of the solvers implemented in sklearn.linear_model.Ridge/RidgeCV instead.\n",
      "  coef_, l1_reg, l2_reg, X, y, max_iter, tol, rng, random, positive\n",
      "C:\\Users\\MJ\\anaconda3\\lib\\site-packages\\sklearn\\model_selection\\_validation.py:681: UserWarning: With alpha=0, this algorithm does not converge well. You are advised to use the LinearRegression estimator\n",
      "  estimator.fit(X_train, y_train, **fit_params)\n",
      "C:\\Users\\MJ\\anaconda3\\lib\\site-packages\\sklearn\\linear_model\\_coordinate_descent.py:648: UserWarning: Coordinate descent with no regularization may lead to unexpected results and is discouraged.\n",
      "  coef_, l1_reg, l2_reg, X, y, max_iter, tol, rng, random, positive\n",
      "C:\\Users\\MJ\\anaconda3\\lib\\site-packages\\sklearn\\linear_model\\_coordinate_descent.py:648: ConvergenceWarning: Objective did not converge. You might want to increase the number of iterations, check the scale of the features or consider increasing regularisation. Duality gap: 2.222e+13, tolerance: 9.665e+09 Linear regression models with null weight for the l1 regularization term are more efficiently fitted using one of the solvers implemented in sklearn.linear_model.Ridge/RidgeCV instead.\n",
      "  coef_, l1_reg, l2_reg, X, y, max_iter, tol, rng, random, positive\n",
      "C:\\Users\\MJ\\anaconda3\\lib\\site-packages\\sklearn\\model_selection\\_validation.py:681: UserWarning: With alpha=0, this algorithm does not converge well. You are advised to use the LinearRegression estimator\n",
      "  estimator.fit(X_train, y_train, **fit_params)\n"
     ]
    },
    {
     "name": "stderr",
     "output_type": "stream",
     "text": [
      "C:\\Users\\MJ\\anaconda3\\lib\\site-packages\\sklearn\\linear_model\\_coordinate_descent.py:648: UserWarning: Coordinate descent with no regularization may lead to unexpected results and is discouraged.\n",
      "  coef_, l1_reg, l2_reg, X, y, max_iter, tol, rng, random, positive\n",
      "C:\\Users\\MJ\\anaconda3\\lib\\site-packages\\sklearn\\linear_model\\_coordinate_descent.py:648: ConvergenceWarning: Objective did not converge. You might want to increase the number of iterations, check the scale of the features or consider increasing regularisation. Duality gap: 2.202e+13, tolerance: 9.671e+09 Linear regression models with null weight for the l1 regularization term are more efficiently fitted using one of the solvers implemented in sklearn.linear_model.Ridge/RidgeCV instead.\n",
      "  coef_, l1_reg, l2_reg, X, y, max_iter, tol, rng, random, positive\n",
      "C:\\Users\\MJ\\anaconda3\\lib\\site-packages\\sklearn\\model_selection\\_validation.py:681: UserWarning: With alpha=0, this algorithm does not converge well. You are advised to use the LinearRegression estimator\n",
      "  estimator.fit(X_train, y_train, **fit_params)\n",
      "C:\\Users\\MJ\\anaconda3\\lib\\site-packages\\sklearn\\linear_model\\_coordinate_descent.py:648: UserWarning: Coordinate descent with no regularization may lead to unexpected results and is discouraged.\n",
      "  coef_, l1_reg, l2_reg, X, y, max_iter, tol, rng, random, positive\n",
      "C:\\Users\\MJ\\anaconda3\\lib\\site-packages\\sklearn\\linear_model\\_coordinate_descent.py:648: ConvergenceWarning: Objective did not converge. You might want to increase the number of iterations, check the scale of the features or consider increasing regularisation. Duality gap: 2.187e+13, tolerance: 9.627e+09 Linear regression models with null weight for the l1 regularization term are more efficiently fitted using one of the solvers implemented in sklearn.linear_model.Ridge/RidgeCV instead.\n",
      "  coef_, l1_reg, l2_reg, X, y, max_iter, tol, rng, random, positive\n",
      "C:\\Users\\MJ\\anaconda3\\lib\\site-packages\\sklearn\\model_selection\\_validation.py:681: UserWarning: With alpha=0, this algorithm does not converge well. You are advised to use the LinearRegression estimator\n",
      "  estimator.fit(X_train, y_train, **fit_params)\n",
      "C:\\Users\\MJ\\anaconda3\\lib\\site-packages\\sklearn\\linear_model\\_coordinate_descent.py:648: UserWarning: Coordinate descent with no regularization may lead to unexpected results and is discouraged.\n",
      "  coef_, l1_reg, l2_reg, X, y, max_iter, tol, rng, random, positive\n",
      "C:\\Users\\MJ\\anaconda3\\lib\\site-packages\\sklearn\\linear_model\\_coordinate_descent.py:648: ConvergenceWarning: Objective did not converge. You might want to increase the number of iterations, check the scale of the features or consider increasing regularisation. Duality gap: 2.177e+13, tolerance: 9.648e+09 Linear regression models with null weight for the l1 regularization term are more efficiently fitted using one of the solvers implemented in sklearn.linear_model.Ridge/RidgeCV instead.\n",
      "  coef_, l1_reg, l2_reg, X, y, max_iter, tol, rng, random, positive\n",
      "C:\\Users\\MJ\\anaconda3\\lib\\site-packages\\sklearn\\model_selection\\_validation.py:681: UserWarning: With alpha=0, this algorithm does not converge well. You are advised to use the LinearRegression estimator\n",
      "  estimator.fit(X_train, y_train, **fit_params)\n",
      "C:\\Users\\MJ\\anaconda3\\lib\\site-packages\\sklearn\\linear_model\\_coordinate_descent.py:648: UserWarning: Coordinate descent with no regularization may lead to unexpected results and is discouraged.\n",
      "  coef_, l1_reg, l2_reg, X, y, max_iter, tol, rng, random, positive\n",
      "C:\\Users\\MJ\\anaconda3\\lib\\site-packages\\sklearn\\linear_model\\_coordinate_descent.py:648: ConvergenceWarning: Objective did not converge. You might want to increase the number of iterations, check the scale of the features or consider increasing regularisation. Duality gap: 2.195e+13, tolerance: 9.728e+09 Linear regression models with null weight for the l1 regularization term are more efficiently fitted using one of the solvers implemented in sklearn.linear_model.Ridge/RidgeCV instead.\n",
      "  coef_, l1_reg, l2_reg, X, y, max_iter, tol, rng, random, positive\n",
      "C:\\Users\\MJ\\anaconda3\\lib\\site-packages\\sklearn\\model_selection\\_validation.py:681: UserWarning: With alpha=0, this algorithm does not converge well. You are advised to use the LinearRegression estimator\n",
      "  estimator.fit(X_train, y_train, **fit_params)\n",
      "C:\\Users\\MJ\\anaconda3\\lib\\site-packages\\sklearn\\linear_model\\_coordinate_descent.py:648: UserWarning: Coordinate descent with no regularization may lead to unexpected results and is discouraged.\n",
      "  coef_, l1_reg, l2_reg, X, y, max_iter, tol, rng, random, positive\n",
      "C:\\Users\\MJ\\anaconda3\\lib\\site-packages\\sklearn\\linear_model\\_coordinate_descent.py:648: ConvergenceWarning: Objective did not converge. You might want to increase the number of iterations, check the scale of the features or consider increasing regularisation. Duality gap: 2.222e+13, tolerance: 9.665e+09 Linear regression models with null weight for the l1 regularization term are more efficiently fitted using one of the solvers implemented in sklearn.linear_model.Ridge/RidgeCV instead.\n",
      "  coef_, l1_reg, l2_reg, X, y, max_iter, tol, rng, random, positive\n",
      "C:\\Users\\MJ\\anaconda3\\lib\\site-packages\\sklearn\\model_selection\\_validation.py:681: UserWarning: With alpha=0, this algorithm does not converge well. You are advised to use the LinearRegression estimator\n",
      "  estimator.fit(X_train, y_train, **fit_params)\n",
      "C:\\Users\\MJ\\anaconda3\\lib\\site-packages\\sklearn\\linear_model\\_coordinate_descent.py:648: UserWarning: Coordinate descent with no regularization may lead to unexpected results and is discouraged.\n",
      "  coef_, l1_reg, l2_reg, X, y, max_iter, tol, rng, random, positive\n",
      "C:\\Users\\MJ\\anaconda3\\lib\\site-packages\\sklearn\\linear_model\\_coordinate_descent.py:648: ConvergenceWarning: Objective did not converge. You might want to increase the number of iterations, check the scale of the features or consider increasing regularisation. Duality gap: 2.202e+13, tolerance: 9.671e+09 Linear regression models with null weight for the l1 regularization term are more efficiently fitted using one of the solvers implemented in sklearn.linear_model.Ridge/RidgeCV instead.\n",
      "  coef_, l1_reg, l2_reg, X, y, max_iter, tol, rng, random, positive\n",
      "C:\\Users\\MJ\\anaconda3\\lib\\site-packages\\sklearn\\model_selection\\_validation.py:681: UserWarning: With alpha=0, this algorithm does not converge well. You are advised to use the LinearRegression estimator\n",
      "  estimator.fit(X_train, y_train, **fit_params)\n",
      "C:\\Users\\MJ\\anaconda3\\lib\\site-packages\\sklearn\\linear_model\\_coordinate_descent.py:648: UserWarning: Coordinate descent with no regularization may lead to unexpected results and is discouraged.\n",
      "  coef_, l1_reg, l2_reg, X, y, max_iter, tol, rng, random, positive\n",
      "C:\\Users\\MJ\\anaconda3\\lib\\site-packages\\sklearn\\linear_model\\_coordinate_descent.py:648: ConvergenceWarning: Objective did not converge. You might want to increase the number of iterations, check the scale of the features or consider increasing regularisation. Duality gap: 2.187e+13, tolerance: 9.627e+09 Linear regression models with null weight for the l1 regularization term are more efficiently fitted using one of the solvers implemented in sklearn.linear_model.Ridge/RidgeCV instead.\n",
      "  coef_, l1_reg, l2_reg, X, y, max_iter, tol, rng, random, positive\n",
      "C:\\Users\\MJ\\anaconda3\\lib\\site-packages\\sklearn\\model_selection\\_validation.py:681: UserWarning: With alpha=0, this algorithm does not converge well. You are advised to use the LinearRegression estimator\n",
      "  estimator.fit(X_train, y_train, **fit_params)\n",
      "C:\\Users\\MJ\\anaconda3\\lib\\site-packages\\sklearn\\linear_model\\_coordinate_descent.py:648: UserWarning: Coordinate descent with no regularization may lead to unexpected results and is discouraged.\n",
      "  coef_, l1_reg, l2_reg, X, y, max_iter, tol, rng, random, positive\n",
      "C:\\Users\\MJ\\anaconda3\\lib\\site-packages\\sklearn\\linear_model\\_coordinate_descent.py:648: ConvergenceWarning: Objective did not converge. You might want to increase the number of iterations, check the scale of the features or consider increasing regularisation. Duality gap: 2.177e+13, tolerance: 9.648e+09 Linear regression models with null weight for the l1 regularization term are more efficiently fitted using one of the solvers implemented in sklearn.linear_model.Ridge/RidgeCV instead.\n",
      "  coef_, l1_reg, l2_reg, X, y, max_iter, tol, rng, random, positive\n",
      "C:\\Users\\MJ\\anaconda3\\lib\\site-packages\\sklearn\\model_selection\\_validation.py:681: UserWarning: With alpha=0, this algorithm does not converge well. You are advised to use the LinearRegression estimator\n",
      "  estimator.fit(X_train, y_train, **fit_params)\n",
      "C:\\Users\\MJ\\anaconda3\\lib\\site-packages\\sklearn\\linear_model\\_coordinate_descent.py:648: UserWarning: Coordinate descent with no regularization may lead to unexpected results and is discouraged.\n",
      "  coef_, l1_reg, l2_reg, X, y, max_iter, tol, rng, random, positive\n",
      "C:\\Users\\MJ\\anaconda3\\lib\\site-packages\\sklearn\\linear_model\\_coordinate_descent.py:648: ConvergenceWarning: Objective did not converge. You might want to increase the number of iterations, check the scale of the features or consider increasing regularisation. Duality gap: 2.195e+13, tolerance: 9.728e+09 Linear regression models with null weight for the l1 regularization term are more efficiently fitted using one of the solvers implemented in sklearn.linear_model.Ridge/RidgeCV instead.\n",
      "  coef_, l1_reg, l2_reg, X, y, max_iter, tol, rng, random, positive\n"
     ]
    },
    {
     "name": "stderr",
     "output_type": "stream",
     "text": [
      "C:\\Users\\MJ\\anaconda3\\lib\\site-packages\\sklearn\\model_selection\\_validation.py:681: UserWarning: With alpha=0, this algorithm does not converge well. You are advised to use the LinearRegression estimator\n",
      "  estimator.fit(X_train, y_train, **fit_params)\n",
      "C:\\Users\\MJ\\anaconda3\\lib\\site-packages\\sklearn\\linear_model\\_coordinate_descent.py:648: UserWarning: Coordinate descent with no regularization may lead to unexpected results and is discouraged.\n",
      "  coef_, l1_reg, l2_reg, X, y, max_iter, tol, rng, random, positive\n",
      "C:\\Users\\MJ\\anaconda3\\lib\\site-packages\\sklearn\\linear_model\\_coordinate_descent.py:648: ConvergenceWarning: Objective did not converge. You might want to increase the number of iterations, check the scale of the features or consider increasing regularisation. Duality gap: 2.222e+13, tolerance: 9.665e+09 Linear regression models with null weight for the l1 regularization term are more efficiently fitted using one of the solvers implemented in sklearn.linear_model.Ridge/RidgeCV instead.\n",
      "  coef_, l1_reg, l2_reg, X, y, max_iter, tol, rng, random, positive\n",
      "C:\\Users\\MJ\\anaconda3\\lib\\site-packages\\sklearn\\model_selection\\_validation.py:681: UserWarning: With alpha=0, this algorithm does not converge well. You are advised to use the LinearRegression estimator\n",
      "  estimator.fit(X_train, y_train, **fit_params)\n",
      "C:\\Users\\MJ\\anaconda3\\lib\\site-packages\\sklearn\\linear_model\\_coordinate_descent.py:648: UserWarning: Coordinate descent with no regularization may lead to unexpected results and is discouraged.\n",
      "  coef_, l1_reg, l2_reg, X, y, max_iter, tol, rng, random, positive\n",
      "C:\\Users\\MJ\\anaconda3\\lib\\site-packages\\sklearn\\linear_model\\_coordinate_descent.py:648: ConvergenceWarning: Objective did not converge. You might want to increase the number of iterations, check the scale of the features or consider increasing regularisation. Duality gap: 2.202e+13, tolerance: 9.671e+09 Linear regression models with null weight for the l1 regularization term are more efficiently fitted using one of the solvers implemented in sklearn.linear_model.Ridge/RidgeCV instead.\n",
      "  coef_, l1_reg, l2_reg, X, y, max_iter, tol, rng, random, positive\n",
      "C:\\Users\\MJ\\anaconda3\\lib\\site-packages\\sklearn\\model_selection\\_validation.py:681: UserWarning: With alpha=0, this algorithm does not converge well. You are advised to use the LinearRegression estimator\n",
      "  estimator.fit(X_train, y_train, **fit_params)\n",
      "C:\\Users\\MJ\\anaconda3\\lib\\site-packages\\sklearn\\linear_model\\_coordinate_descent.py:648: UserWarning: Coordinate descent with no regularization may lead to unexpected results and is discouraged.\n",
      "  coef_, l1_reg, l2_reg, X, y, max_iter, tol, rng, random, positive\n",
      "C:\\Users\\MJ\\anaconda3\\lib\\site-packages\\sklearn\\linear_model\\_coordinate_descent.py:648: ConvergenceWarning: Objective did not converge. You might want to increase the number of iterations, check the scale of the features or consider increasing regularisation. Duality gap: 2.187e+13, tolerance: 9.627e+09 Linear regression models with null weight for the l1 regularization term are more efficiently fitted using one of the solvers implemented in sklearn.linear_model.Ridge/RidgeCV instead.\n",
      "  coef_, l1_reg, l2_reg, X, y, max_iter, tol, rng, random, positive\n",
      "C:\\Users\\MJ\\anaconda3\\lib\\site-packages\\sklearn\\model_selection\\_validation.py:681: UserWarning: With alpha=0, this algorithm does not converge well. You are advised to use the LinearRegression estimator\n",
      "  estimator.fit(X_train, y_train, **fit_params)\n",
      "C:\\Users\\MJ\\anaconda3\\lib\\site-packages\\sklearn\\linear_model\\_coordinate_descent.py:648: UserWarning: Coordinate descent with no regularization may lead to unexpected results and is discouraged.\n",
      "  coef_, l1_reg, l2_reg, X, y, max_iter, tol, rng, random, positive\n",
      "C:\\Users\\MJ\\anaconda3\\lib\\site-packages\\sklearn\\linear_model\\_coordinate_descent.py:648: ConvergenceWarning: Objective did not converge. You might want to increase the number of iterations, check the scale of the features or consider increasing regularisation. Duality gap: 2.177e+13, tolerance: 9.648e+09 Linear regression models with null weight for the l1 regularization term are more efficiently fitted using one of the solvers implemented in sklearn.linear_model.Ridge/RidgeCV instead.\n",
      "  coef_, l1_reg, l2_reg, X, y, max_iter, tol, rng, random, positive\n",
      "C:\\Users\\MJ\\anaconda3\\lib\\site-packages\\sklearn\\model_selection\\_validation.py:681: UserWarning: With alpha=0, this algorithm does not converge well. You are advised to use the LinearRegression estimator\n",
      "  estimator.fit(X_train, y_train, **fit_params)\n",
      "C:\\Users\\MJ\\anaconda3\\lib\\site-packages\\sklearn\\linear_model\\_coordinate_descent.py:648: UserWarning: Coordinate descent with no regularization may lead to unexpected results and is discouraged.\n",
      "  coef_, l1_reg, l2_reg, X, y, max_iter, tol, rng, random, positive\n",
      "C:\\Users\\MJ\\anaconda3\\lib\\site-packages\\sklearn\\linear_model\\_coordinate_descent.py:648: ConvergenceWarning: Objective did not converge. You might want to increase the number of iterations, check the scale of the features or consider increasing regularisation. Duality gap: 2.195e+13, tolerance: 9.728e+09 Linear regression models with null weight for the l1 regularization term are more efficiently fitted using one of the solvers implemented in sklearn.linear_model.Ridge/RidgeCV instead.\n",
      "  coef_, l1_reg, l2_reg, X, y, max_iter, tol, rng, random, positive\n",
      "C:\\Users\\MJ\\anaconda3\\lib\\site-packages\\sklearn\\model_selection\\_validation.py:681: UserWarning: With alpha=0, this algorithm does not converge well. You are advised to use the LinearRegression estimator\n",
      "  estimator.fit(X_train, y_train, **fit_params)\n",
      "C:\\Users\\MJ\\anaconda3\\lib\\site-packages\\sklearn\\linear_model\\_coordinate_descent.py:648: UserWarning: Coordinate descent with no regularization may lead to unexpected results and is discouraged.\n",
      "  coef_, l1_reg, l2_reg, X, y, max_iter, tol, rng, random, positive\n",
      "C:\\Users\\MJ\\anaconda3\\lib\\site-packages\\sklearn\\linear_model\\_coordinate_descent.py:648: ConvergenceWarning: Objective did not converge. You might want to increase the number of iterations, check the scale of the features or consider increasing regularisation. Duality gap: 2.222e+13, tolerance: 9.665e+09 Linear regression models with null weight for the l1 regularization term are more efficiently fitted using one of the solvers implemented in sklearn.linear_model.Ridge/RidgeCV instead.\n",
      "  coef_, l1_reg, l2_reg, X, y, max_iter, tol, rng, random, positive\n",
      "C:\\Users\\MJ\\anaconda3\\lib\\site-packages\\sklearn\\model_selection\\_validation.py:681: UserWarning: With alpha=0, this algorithm does not converge well. You are advised to use the LinearRegression estimator\n",
      "  estimator.fit(X_train, y_train, **fit_params)\n",
      "C:\\Users\\MJ\\anaconda3\\lib\\site-packages\\sklearn\\linear_model\\_coordinate_descent.py:648: UserWarning: Coordinate descent with no regularization may lead to unexpected results and is discouraged.\n",
      "  coef_, l1_reg, l2_reg, X, y, max_iter, tol, rng, random, positive\n",
      "C:\\Users\\MJ\\anaconda3\\lib\\site-packages\\sklearn\\linear_model\\_coordinate_descent.py:648: ConvergenceWarning: Objective did not converge. You might want to increase the number of iterations, check the scale of the features or consider increasing regularisation. Duality gap: 2.202e+13, tolerance: 9.671e+09 Linear regression models with null weight for the l1 regularization term are more efficiently fitted using one of the solvers implemented in sklearn.linear_model.Ridge/RidgeCV instead.\n",
      "  coef_, l1_reg, l2_reg, X, y, max_iter, tol, rng, random, positive\n",
      "C:\\Users\\MJ\\anaconda3\\lib\\site-packages\\sklearn\\model_selection\\_validation.py:681: UserWarning: With alpha=0, this algorithm does not converge well. You are advised to use the LinearRegression estimator\n",
      "  estimator.fit(X_train, y_train, **fit_params)\n",
      "C:\\Users\\MJ\\anaconda3\\lib\\site-packages\\sklearn\\linear_model\\_coordinate_descent.py:648: UserWarning: Coordinate descent with no regularization may lead to unexpected results and is discouraged.\n",
      "  coef_, l1_reg, l2_reg, X, y, max_iter, tol, rng, random, positive\n",
      "C:\\Users\\MJ\\anaconda3\\lib\\site-packages\\sklearn\\linear_model\\_coordinate_descent.py:648: ConvergenceWarning: Objective did not converge. You might want to increase the number of iterations, check the scale of the features or consider increasing regularisation. Duality gap: 2.187e+13, tolerance: 9.627e+09 Linear regression models with null weight for the l1 regularization term are more efficiently fitted using one of the solvers implemented in sklearn.linear_model.Ridge/RidgeCV instead.\n",
      "  coef_, l1_reg, l2_reg, X, y, max_iter, tol, rng, random, positive\n",
      "C:\\Users\\MJ\\anaconda3\\lib\\site-packages\\sklearn\\model_selection\\_validation.py:681: UserWarning: With alpha=0, this algorithm does not converge well. You are advised to use the LinearRegression estimator\n",
      "  estimator.fit(X_train, y_train, **fit_params)\n",
      "C:\\Users\\MJ\\anaconda3\\lib\\site-packages\\sklearn\\linear_model\\_coordinate_descent.py:648: UserWarning: Coordinate descent with no regularization may lead to unexpected results and is discouraged.\n",
      "  coef_, l1_reg, l2_reg, X, y, max_iter, tol, rng, random, positive\n",
      "C:\\Users\\MJ\\anaconda3\\lib\\site-packages\\sklearn\\linear_model\\_coordinate_descent.py:648: ConvergenceWarning: Objective did not converge. You might want to increase the number of iterations, check the scale of the features or consider increasing regularisation. Duality gap: 2.177e+13, tolerance: 9.648e+09 Linear regression models with null weight for the l1 regularization term are more efficiently fitted using one of the solvers implemented in sklearn.linear_model.Ridge/RidgeCV instead.\n",
      "  coef_, l1_reg, l2_reg, X, y, max_iter, tol, rng, random, positive\n",
      "C:\\Users\\MJ\\anaconda3\\lib\\site-packages\\sklearn\\model_selection\\_validation.py:681: UserWarning: With alpha=0, this algorithm does not converge well. You are advised to use the LinearRegression estimator\n",
      "  estimator.fit(X_train, y_train, **fit_params)\n",
      "C:\\Users\\MJ\\anaconda3\\lib\\site-packages\\sklearn\\linear_model\\_coordinate_descent.py:648: UserWarning: Coordinate descent with no regularization may lead to unexpected results and is discouraged.\n",
      "  coef_, l1_reg, l2_reg, X, y, max_iter, tol, rng, random, positive\n"
     ]
    },
    {
     "name": "stderr",
     "output_type": "stream",
     "text": [
      "C:\\Users\\MJ\\anaconda3\\lib\\site-packages\\sklearn\\linear_model\\_coordinate_descent.py:648: ConvergenceWarning: Objective did not converge. You might want to increase the number of iterations, check the scale of the features or consider increasing regularisation. Duality gap: 2.195e+13, tolerance: 9.728e+09 Linear regression models with null weight for the l1 regularization term are more efficiently fitted using one of the solvers implemented in sklearn.linear_model.Ridge/RidgeCV instead.\n",
      "  coef_, l1_reg, l2_reg, X, y, max_iter, tol, rng, random, positive\n",
      "C:\\Users\\MJ\\anaconda3\\lib\\site-packages\\sklearn\\model_selection\\_validation.py:681: UserWarning: With alpha=0, this algorithm does not converge well. You are advised to use the LinearRegression estimator\n",
      "  estimator.fit(X_train, y_train, **fit_params)\n",
      "C:\\Users\\MJ\\anaconda3\\lib\\site-packages\\sklearn\\linear_model\\_coordinate_descent.py:648: UserWarning: Coordinate descent with no regularization may lead to unexpected results and is discouraged.\n",
      "  coef_, l1_reg, l2_reg, X, y, max_iter, tol, rng, random, positive\n",
      "C:\\Users\\MJ\\anaconda3\\lib\\site-packages\\sklearn\\linear_model\\_coordinate_descent.py:648: ConvergenceWarning: Objective did not converge. You might want to increase the number of iterations, check the scale of the features or consider increasing regularisation. Duality gap: 2.222e+13, tolerance: 9.665e+09 Linear regression models with null weight for the l1 regularization term are more efficiently fitted using one of the solvers implemented in sklearn.linear_model.Ridge/RidgeCV instead.\n",
      "  coef_, l1_reg, l2_reg, X, y, max_iter, tol, rng, random, positive\n",
      "C:\\Users\\MJ\\anaconda3\\lib\\site-packages\\sklearn\\model_selection\\_validation.py:681: UserWarning: With alpha=0, this algorithm does not converge well. You are advised to use the LinearRegression estimator\n",
      "  estimator.fit(X_train, y_train, **fit_params)\n",
      "C:\\Users\\MJ\\anaconda3\\lib\\site-packages\\sklearn\\linear_model\\_coordinate_descent.py:648: UserWarning: Coordinate descent with no regularization may lead to unexpected results and is discouraged.\n",
      "  coef_, l1_reg, l2_reg, X, y, max_iter, tol, rng, random, positive\n",
      "C:\\Users\\MJ\\anaconda3\\lib\\site-packages\\sklearn\\linear_model\\_coordinate_descent.py:648: ConvergenceWarning: Objective did not converge. You might want to increase the number of iterations, check the scale of the features or consider increasing regularisation. Duality gap: 2.202e+13, tolerance: 9.671e+09 Linear regression models with null weight for the l1 regularization term are more efficiently fitted using one of the solvers implemented in sklearn.linear_model.Ridge/RidgeCV instead.\n",
      "  coef_, l1_reg, l2_reg, X, y, max_iter, tol, rng, random, positive\n",
      "C:\\Users\\MJ\\anaconda3\\lib\\site-packages\\sklearn\\model_selection\\_validation.py:681: UserWarning: With alpha=0, this algorithm does not converge well. You are advised to use the LinearRegression estimator\n",
      "  estimator.fit(X_train, y_train, **fit_params)\n",
      "C:\\Users\\MJ\\anaconda3\\lib\\site-packages\\sklearn\\linear_model\\_coordinate_descent.py:648: UserWarning: Coordinate descent with no regularization may lead to unexpected results and is discouraged.\n",
      "  coef_, l1_reg, l2_reg, X, y, max_iter, tol, rng, random, positive\n",
      "C:\\Users\\MJ\\anaconda3\\lib\\site-packages\\sklearn\\linear_model\\_coordinate_descent.py:648: ConvergenceWarning: Objective did not converge. You might want to increase the number of iterations, check the scale of the features or consider increasing regularisation. Duality gap: 2.187e+13, tolerance: 9.627e+09 Linear regression models with null weight for the l1 regularization term are more efficiently fitted using one of the solvers implemented in sklearn.linear_model.Ridge/RidgeCV instead.\n",
      "  coef_, l1_reg, l2_reg, X, y, max_iter, tol, rng, random, positive\n",
      "C:\\Users\\MJ\\anaconda3\\lib\\site-packages\\sklearn\\model_selection\\_validation.py:681: UserWarning: With alpha=0, this algorithm does not converge well. You are advised to use the LinearRegression estimator\n",
      "  estimator.fit(X_train, y_train, **fit_params)\n",
      "C:\\Users\\MJ\\anaconda3\\lib\\site-packages\\sklearn\\linear_model\\_coordinate_descent.py:648: UserWarning: Coordinate descent with no regularization may lead to unexpected results and is discouraged.\n",
      "  coef_, l1_reg, l2_reg, X, y, max_iter, tol, rng, random, positive\n",
      "C:\\Users\\MJ\\anaconda3\\lib\\site-packages\\sklearn\\linear_model\\_coordinate_descent.py:648: ConvergenceWarning: Objective did not converge. You might want to increase the number of iterations, check the scale of the features or consider increasing regularisation. Duality gap: 2.177e+13, tolerance: 9.648e+09 Linear regression models with null weight for the l1 regularization term are more efficiently fitted using one of the solvers implemented in sklearn.linear_model.Ridge/RidgeCV instead.\n",
      "  coef_, l1_reg, l2_reg, X, y, max_iter, tol, rng, random, positive\n",
      "C:\\Users\\MJ\\anaconda3\\lib\\site-packages\\sklearn\\model_selection\\_validation.py:681: UserWarning: With alpha=0, this algorithm does not converge well. You are advised to use the LinearRegression estimator\n",
      "  estimator.fit(X_train, y_train, **fit_params)\n",
      "C:\\Users\\MJ\\anaconda3\\lib\\site-packages\\sklearn\\linear_model\\_coordinate_descent.py:648: UserWarning: Coordinate descent with no regularization may lead to unexpected results and is discouraged.\n",
      "  coef_, l1_reg, l2_reg, X, y, max_iter, tol, rng, random, positive\n",
      "C:\\Users\\MJ\\anaconda3\\lib\\site-packages\\sklearn\\linear_model\\_coordinate_descent.py:648: ConvergenceWarning: Objective did not converge. You might want to increase the number of iterations, check the scale of the features or consider increasing regularisation. Duality gap: 2.195e+13, tolerance: 9.728e+09 Linear regression models with null weight for the l1 regularization term are more efficiently fitted using one of the solvers implemented in sklearn.linear_model.Ridge/RidgeCV instead.\n",
      "  coef_, l1_reg, l2_reg, X, y, max_iter, tol, rng, random, positive\n",
      "C:\\Users\\MJ\\anaconda3\\lib\\site-packages\\sklearn\\model_selection\\_validation.py:681: UserWarning: With alpha=0, this algorithm does not converge well. You are advised to use the LinearRegression estimator\n",
      "  estimator.fit(X_train, y_train, **fit_params)\n",
      "C:\\Users\\MJ\\anaconda3\\lib\\site-packages\\sklearn\\linear_model\\_coordinate_descent.py:648: UserWarning: Coordinate descent with no regularization may lead to unexpected results and is discouraged.\n",
      "  coef_, l1_reg, l2_reg, X, y, max_iter, tol, rng, random, positive\n",
      "C:\\Users\\MJ\\anaconda3\\lib\\site-packages\\sklearn\\linear_model\\_coordinate_descent.py:648: ConvergenceWarning: Objective did not converge. You might want to increase the number of iterations, check the scale of the features or consider increasing regularisation. Duality gap: 2.222e+13, tolerance: 9.665e+09 Linear regression models with null weight for the l1 regularization term are more efficiently fitted using one of the solvers implemented in sklearn.linear_model.Ridge/RidgeCV instead.\n",
      "  coef_, l1_reg, l2_reg, X, y, max_iter, tol, rng, random, positive\n",
      "C:\\Users\\MJ\\anaconda3\\lib\\site-packages\\sklearn\\model_selection\\_validation.py:681: UserWarning: With alpha=0, this algorithm does not converge well. You are advised to use the LinearRegression estimator\n",
      "  estimator.fit(X_train, y_train, **fit_params)\n",
      "C:\\Users\\MJ\\anaconda3\\lib\\site-packages\\sklearn\\linear_model\\_coordinate_descent.py:648: UserWarning: Coordinate descent with no regularization may lead to unexpected results and is discouraged.\n",
      "  coef_, l1_reg, l2_reg, X, y, max_iter, tol, rng, random, positive\n",
      "C:\\Users\\MJ\\anaconda3\\lib\\site-packages\\sklearn\\linear_model\\_coordinate_descent.py:648: ConvergenceWarning: Objective did not converge. You might want to increase the number of iterations, check the scale of the features or consider increasing regularisation. Duality gap: 2.202e+13, tolerance: 9.671e+09 Linear regression models with null weight for the l1 regularization term are more efficiently fitted using one of the solvers implemented in sklearn.linear_model.Ridge/RidgeCV instead.\n",
      "  coef_, l1_reg, l2_reg, X, y, max_iter, tol, rng, random, positive\n",
      "C:\\Users\\MJ\\anaconda3\\lib\\site-packages\\sklearn\\model_selection\\_validation.py:681: UserWarning: With alpha=0, this algorithm does not converge well. You are advised to use the LinearRegression estimator\n",
      "  estimator.fit(X_train, y_train, **fit_params)\n",
      "C:\\Users\\MJ\\anaconda3\\lib\\site-packages\\sklearn\\linear_model\\_coordinate_descent.py:648: UserWarning: Coordinate descent with no regularization may lead to unexpected results and is discouraged.\n",
      "  coef_, l1_reg, l2_reg, X, y, max_iter, tol, rng, random, positive\n",
      "C:\\Users\\MJ\\anaconda3\\lib\\site-packages\\sklearn\\linear_model\\_coordinate_descent.py:648: ConvergenceWarning: Objective did not converge. You might want to increase the number of iterations, check the scale of the features or consider increasing regularisation. Duality gap: 2.187e+13, tolerance: 9.627e+09 Linear regression models with null weight for the l1 regularization term are more efficiently fitted using one of the solvers implemented in sklearn.linear_model.Ridge/RidgeCV instead.\n",
      "  coef_, l1_reg, l2_reg, X, y, max_iter, tol, rng, random, positive\n",
      "C:\\Users\\MJ\\anaconda3\\lib\\site-packages\\sklearn\\model_selection\\_validation.py:681: UserWarning: With alpha=0, this algorithm does not converge well. You are advised to use the LinearRegression estimator\n",
      "  estimator.fit(X_train, y_train, **fit_params)\n",
      "C:\\Users\\MJ\\anaconda3\\lib\\site-packages\\sklearn\\linear_model\\_coordinate_descent.py:648: UserWarning: Coordinate descent with no regularization may lead to unexpected results and is discouraged.\n",
      "  coef_, l1_reg, l2_reg, X, y, max_iter, tol, rng, random, positive\n"
     ]
    },
    {
     "name": "stderr",
     "output_type": "stream",
     "text": [
      "C:\\Users\\MJ\\anaconda3\\lib\\site-packages\\sklearn\\linear_model\\_coordinate_descent.py:648: ConvergenceWarning: Objective did not converge. You might want to increase the number of iterations, check the scale of the features or consider increasing regularisation. Duality gap: 2.177e+13, tolerance: 9.648e+09 Linear regression models with null weight for the l1 regularization term are more efficiently fitted using one of the solvers implemented in sklearn.linear_model.Ridge/RidgeCV instead.\n",
      "  coef_, l1_reg, l2_reg, X, y, max_iter, tol, rng, random, positive\n",
      "C:\\Users\\MJ\\anaconda3\\lib\\site-packages\\sklearn\\model_selection\\_validation.py:681: UserWarning: With alpha=0, this algorithm does not converge well. You are advised to use the LinearRegression estimator\n",
      "  estimator.fit(X_train, y_train, **fit_params)\n",
      "C:\\Users\\MJ\\anaconda3\\lib\\site-packages\\sklearn\\linear_model\\_coordinate_descent.py:648: UserWarning: Coordinate descent with no regularization may lead to unexpected results and is discouraged.\n",
      "  coef_, l1_reg, l2_reg, X, y, max_iter, tol, rng, random, positive\n",
      "C:\\Users\\MJ\\anaconda3\\lib\\site-packages\\sklearn\\linear_model\\_coordinate_descent.py:648: ConvergenceWarning: Objective did not converge. You might want to increase the number of iterations, check the scale of the features or consider increasing regularisation. Duality gap: 2.195e+13, tolerance: 9.728e+09 Linear regression models with null weight for the l1 regularization term are more efficiently fitted using one of the solvers implemented in sklearn.linear_model.Ridge/RidgeCV instead.\n",
      "  coef_, l1_reg, l2_reg, X, y, max_iter, tol, rng, random, positive\n",
      "C:\\Users\\MJ\\anaconda3\\lib\\site-packages\\sklearn\\model_selection\\_validation.py:681: UserWarning: With alpha=0, this algorithm does not converge well. You are advised to use the LinearRegression estimator\n",
      "  estimator.fit(X_train, y_train, **fit_params)\n",
      "C:\\Users\\MJ\\anaconda3\\lib\\site-packages\\sklearn\\linear_model\\_coordinate_descent.py:648: UserWarning: Coordinate descent with no regularization may lead to unexpected results and is discouraged.\n",
      "  coef_, l1_reg, l2_reg, X, y, max_iter, tol, rng, random, positive\n",
      "C:\\Users\\MJ\\anaconda3\\lib\\site-packages\\sklearn\\linear_model\\_coordinate_descent.py:648: ConvergenceWarning: Objective did not converge. You might want to increase the number of iterations, check the scale of the features or consider increasing regularisation. Duality gap: 2.222e+13, tolerance: 9.665e+09 Linear regression models with null weight for the l1 regularization term are more efficiently fitted using one of the solvers implemented in sklearn.linear_model.Ridge/RidgeCV instead.\n",
      "  coef_, l1_reg, l2_reg, X, y, max_iter, tol, rng, random, positive\n",
      "C:\\Users\\MJ\\anaconda3\\lib\\site-packages\\sklearn\\model_selection\\_validation.py:681: UserWarning: With alpha=0, this algorithm does not converge well. You are advised to use the LinearRegression estimator\n",
      "  estimator.fit(X_train, y_train, **fit_params)\n",
      "C:\\Users\\MJ\\anaconda3\\lib\\site-packages\\sklearn\\linear_model\\_coordinate_descent.py:648: UserWarning: Coordinate descent with no regularization may lead to unexpected results and is discouraged.\n",
      "  coef_, l1_reg, l2_reg, X, y, max_iter, tol, rng, random, positive\n",
      "C:\\Users\\MJ\\anaconda3\\lib\\site-packages\\sklearn\\linear_model\\_coordinate_descent.py:648: ConvergenceWarning: Objective did not converge. You might want to increase the number of iterations, check the scale of the features or consider increasing regularisation. Duality gap: 2.202e+13, tolerance: 9.671e+09 Linear regression models with null weight for the l1 regularization term are more efficiently fitted using one of the solvers implemented in sklearn.linear_model.Ridge/RidgeCV instead.\n",
      "  coef_, l1_reg, l2_reg, X, y, max_iter, tol, rng, random, positive\n",
      "C:\\Users\\MJ\\anaconda3\\lib\\site-packages\\sklearn\\model_selection\\_validation.py:681: UserWarning: With alpha=0, this algorithm does not converge well. You are advised to use the LinearRegression estimator\n",
      "  estimator.fit(X_train, y_train, **fit_params)\n",
      "C:\\Users\\MJ\\anaconda3\\lib\\site-packages\\sklearn\\linear_model\\_coordinate_descent.py:648: UserWarning: Coordinate descent with no regularization may lead to unexpected results and is discouraged.\n",
      "  coef_, l1_reg, l2_reg, X, y, max_iter, tol, rng, random, positive\n",
      "C:\\Users\\MJ\\anaconda3\\lib\\site-packages\\sklearn\\linear_model\\_coordinate_descent.py:648: ConvergenceWarning: Objective did not converge. You might want to increase the number of iterations, check the scale of the features or consider increasing regularisation. Duality gap: 2.187e+13, tolerance: 9.627e+09 Linear regression models with null weight for the l1 regularization term are more efficiently fitted using one of the solvers implemented in sklearn.linear_model.Ridge/RidgeCV instead.\n",
      "  coef_, l1_reg, l2_reg, X, y, max_iter, tol, rng, random, positive\n",
      "C:\\Users\\MJ\\anaconda3\\lib\\site-packages\\sklearn\\model_selection\\_validation.py:681: UserWarning: With alpha=0, this algorithm does not converge well. You are advised to use the LinearRegression estimator\n",
      "  estimator.fit(X_train, y_train, **fit_params)\n",
      "C:\\Users\\MJ\\anaconda3\\lib\\site-packages\\sklearn\\linear_model\\_coordinate_descent.py:648: UserWarning: Coordinate descent with no regularization may lead to unexpected results and is discouraged.\n",
      "  coef_, l1_reg, l2_reg, X, y, max_iter, tol, rng, random, positive\n",
      "C:\\Users\\MJ\\anaconda3\\lib\\site-packages\\sklearn\\linear_model\\_coordinate_descent.py:648: ConvergenceWarning: Objective did not converge. You might want to increase the number of iterations, check the scale of the features or consider increasing regularisation. Duality gap: 2.177e+13, tolerance: 9.648e+09 Linear regression models with null weight for the l1 regularization term are more efficiently fitted using one of the solvers implemented in sklearn.linear_model.Ridge/RidgeCV instead.\n",
      "  coef_, l1_reg, l2_reg, X, y, max_iter, tol, rng, random, positive\n",
      "C:\\Users\\MJ\\anaconda3\\lib\\site-packages\\sklearn\\model_selection\\_validation.py:681: UserWarning: With alpha=0, this algorithm does not converge well. You are advised to use the LinearRegression estimator\n",
      "  estimator.fit(X_train, y_train, **fit_params)\n",
      "C:\\Users\\MJ\\anaconda3\\lib\\site-packages\\sklearn\\linear_model\\_coordinate_descent.py:648: UserWarning: Coordinate descent with no regularization may lead to unexpected results and is discouraged.\n",
      "  coef_, l1_reg, l2_reg, X, y, max_iter, tol, rng, random, positive\n",
      "C:\\Users\\MJ\\anaconda3\\lib\\site-packages\\sklearn\\linear_model\\_coordinate_descent.py:648: ConvergenceWarning: Objective did not converge. You might want to increase the number of iterations, check the scale of the features or consider increasing regularisation. Duality gap: 2.195e+13, tolerance: 9.728e+09 Linear regression models with null weight for the l1 regularization term are more efficiently fitted using one of the solvers implemented in sklearn.linear_model.Ridge/RidgeCV instead.\n",
      "  coef_, l1_reg, l2_reg, X, y, max_iter, tol, rng, random, positive\n"
     ]
    },
    {
     "data": {
      "text/plain": [
       "RandomizedSearchCV(cv=5, estimator=Lasso(), n_iter=100,\n",
       "                   param_distributions={'alpha': <scipy.stats._distn_infrastructure.rv_frozen object at 0x000001EB52E307C8>})"
      ]
     },
     "execution_count": 62,
     "metadata": {},
     "output_type": "execute_result"
    }
   ],
   "source": [
    "## Random Search\n",
    "from scipy.stats import randint\n",
    "param_distribs = {'alpha': randint(low=0.00001, high=10)}\n",
    "from sklearn.model_selection import RandomizedSearchCV\n",
    "random_search=RandomizedSearchCV(Lasso(), param_distributions=param_distribs, n_iter=100, cv=5)\n",
    "random_search.fit(X_scaled_train, y_train)"
   ]
  },
  {
   "cell_type": "code",
   "execution_count": 63,
   "metadata": {},
   "outputs": [
    {
     "name": "stdout",
     "output_type": "stream",
     "text": [
      "Best Parameter:{'alpha': 1}\n",
      "Best Score:0.5452\n",
      "TestSet Score:0.5627\n"
     ]
    }
   ],
   "source": [
    "print(\"Best Parameter:{}\".format(random_search.best_params_))\n",
    "print(\"Best Score:{:.4f}\".format(random_search.best_score_))\n",
    "print(\"TestSet Score:{:.4f}\".format(random_search.score(X_scaled_test, y_test)))"
   ]
  },
  {
   "cell_type": "code",
   "execution_count": 64,
   "metadata": {},
   "outputs": [
    {
     "data": {
      "text/plain": [
       "0.050029698219161034"
      ]
     },
     "execution_count": 64,
     "metadata": {},
     "output_type": "execute_result"
    }
   ],
   "source": [
    "## 엘라스틱넷 \n",
    "## 릿지회귀와 라쏘회귀를 절충한 모델\n",
    "## 정규화한 훈련데이터를 학습(fit)하고 예측값을 도출 및 저장(predict)한후, 정확도, 즉 설명력(score)을 구한다. 약 5%\n",
    "from sklearn.linear_model import ElasticNet\n",
    "model=ElasticNet()\n",
    "model.fit(X_scaled_train, y_train)\n",
    "pred_train=model.predict(X_scaled_train)\n",
    "model.score(X_scaled_train, y_train)"
   ]
  },
  {
   "cell_type": "code",
   "execution_count": 65,
   "metadata": {},
   "outputs": [
    {
     "data": {
      "text/plain": [
       "0.051683303919568435"
      ]
     },
     "execution_count": 65,
     "metadata": {},
     "output_type": "execute_result"
    }
   ],
   "source": [
    "pred_test=model.predict(X_scaled_test)\n",
    "model.score(X_scaled_test, y_test)"
   ]
  },
  {
   "cell_type": "code",
   "execution_count": 67,
   "metadata": {},
   "outputs": [
    {
     "name": "stdout",
     "output_type": "stream",
     "text": [
      "훈련데이터 RMSE: 93026.36648194955\n",
      "테스트데이터 RMSE: 93097.74727682666\n"
     ]
    }
   ],
   "source": [
    "# RMSE(Root Mean Squared Error)\n",
    "import numpy as np\n",
    "from sklearn.metrics import mean_squared_error\n",
    "MSE_train=mean_squared_error(y_train, pred_train)\n",
    "MSE_test=mean_squared_error(y_test, pred_test)\n",
    "print(\"훈련데이터 RMSE:\", np.sqrt(MSE_train))\n",
    "print(\"테스트데이터 RMSE:\", np.sqrt(MSE_test))"
   ]
  },
  {
   "cell_type": "code",
   "execution_count": 69,
   "metadata": {},
   "outputs": [
    {
     "name": "stderr",
     "output_type": "stream",
     "text": [
      "C:\\Users\\MJ\\anaconda3\\lib\\site-packages\\sklearn\\model_selection\\_validation.py:681: UserWarning: With alpha=0, this algorithm does not converge well. You are advised to use the LinearRegression estimator\n",
      "  estimator.fit(X_train, y_train, **fit_params)\n",
      "C:\\Users\\MJ\\anaconda3\\lib\\site-packages\\sklearn\\linear_model\\_coordinate_descent.py:648: UserWarning: Coordinate descent with no regularization may lead to unexpected results and is discouraged.\n",
      "  coef_, l1_reg, l2_reg, X, y, max_iter, tol, rng, random, positive\n",
      "C:\\Users\\MJ\\anaconda3\\lib\\site-packages\\sklearn\\linear_model\\_coordinate_descent.py:648: ConvergenceWarning: Objective did not converge. You might want to increase the number of iterations, check the scale of the features or consider increasing regularisation. Duality gap: 2.222e+13, tolerance: 9.665e+09 Linear regression models with null weight for the l1 regularization term are more efficiently fitted using one of the solvers implemented in sklearn.linear_model.Ridge/RidgeCV instead.\n",
      "  coef_, l1_reg, l2_reg, X, y, max_iter, tol, rng, random, positive\n",
      "C:\\Users\\MJ\\anaconda3\\lib\\site-packages\\sklearn\\model_selection\\_validation.py:681: UserWarning: With alpha=0, this algorithm does not converge well. You are advised to use the LinearRegression estimator\n",
      "  estimator.fit(X_train, y_train, **fit_params)\n",
      "C:\\Users\\MJ\\anaconda3\\lib\\site-packages\\sklearn\\linear_model\\_coordinate_descent.py:648: UserWarning: Coordinate descent with no regularization may lead to unexpected results and is discouraged.\n",
      "  coef_, l1_reg, l2_reg, X, y, max_iter, tol, rng, random, positive\n",
      "C:\\Users\\MJ\\anaconda3\\lib\\site-packages\\sklearn\\linear_model\\_coordinate_descent.py:648: ConvergenceWarning: Objective did not converge. You might want to increase the number of iterations, check the scale of the features or consider increasing regularisation. Duality gap: 2.202e+13, tolerance: 9.671e+09 Linear regression models with null weight for the l1 regularization term are more efficiently fitted using one of the solvers implemented in sklearn.linear_model.Ridge/RidgeCV instead.\n",
      "  coef_, l1_reg, l2_reg, X, y, max_iter, tol, rng, random, positive\n",
      "C:\\Users\\MJ\\anaconda3\\lib\\site-packages\\sklearn\\model_selection\\_validation.py:681: UserWarning: With alpha=0, this algorithm does not converge well. You are advised to use the LinearRegression estimator\n",
      "  estimator.fit(X_train, y_train, **fit_params)\n",
      "C:\\Users\\MJ\\anaconda3\\lib\\site-packages\\sklearn\\linear_model\\_coordinate_descent.py:648: UserWarning: Coordinate descent with no regularization may lead to unexpected results and is discouraged.\n",
      "  coef_, l1_reg, l2_reg, X, y, max_iter, tol, rng, random, positive\n",
      "C:\\Users\\MJ\\anaconda3\\lib\\site-packages\\sklearn\\linear_model\\_coordinate_descent.py:648: ConvergenceWarning: Objective did not converge. You might want to increase the number of iterations, check the scale of the features or consider increasing regularisation. Duality gap: 2.187e+13, tolerance: 9.627e+09 Linear regression models with null weight for the l1 regularization term are more efficiently fitted using one of the solvers implemented in sklearn.linear_model.Ridge/RidgeCV instead.\n",
      "  coef_, l1_reg, l2_reg, X, y, max_iter, tol, rng, random, positive\n",
      "C:\\Users\\MJ\\anaconda3\\lib\\site-packages\\sklearn\\model_selection\\_validation.py:681: UserWarning: With alpha=0, this algorithm does not converge well. You are advised to use the LinearRegression estimator\n",
      "  estimator.fit(X_train, y_train, **fit_params)\n",
      "C:\\Users\\MJ\\anaconda3\\lib\\site-packages\\sklearn\\linear_model\\_coordinate_descent.py:648: UserWarning: Coordinate descent with no regularization may lead to unexpected results and is discouraged.\n",
      "  coef_, l1_reg, l2_reg, X, y, max_iter, tol, rng, random, positive\n",
      "C:\\Users\\MJ\\anaconda3\\lib\\site-packages\\sklearn\\linear_model\\_coordinate_descent.py:648: ConvergenceWarning: Objective did not converge. You might want to increase the number of iterations, check the scale of the features or consider increasing regularisation. Duality gap: 2.177e+13, tolerance: 9.648e+09 Linear regression models with null weight for the l1 regularization term are more efficiently fitted using one of the solvers implemented in sklearn.linear_model.Ridge/RidgeCV instead.\n",
      "  coef_, l1_reg, l2_reg, X, y, max_iter, tol, rng, random, positive\n",
      "C:\\Users\\MJ\\anaconda3\\lib\\site-packages\\sklearn\\model_selection\\_validation.py:681: UserWarning: With alpha=0, this algorithm does not converge well. You are advised to use the LinearRegression estimator\n",
      "  estimator.fit(X_train, y_train, **fit_params)\n",
      "C:\\Users\\MJ\\anaconda3\\lib\\site-packages\\sklearn\\linear_model\\_coordinate_descent.py:648: UserWarning: Coordinate descent with no regularization may lead to unexpected results and is discouraged.\n",
      "  coef_, l1_reg, l2_reg, X, y, max_iter, tol, rng, random, positive\n",
      "C:\\Users\\MJ\\anaconda3\\lib\\site-packages\\sklearn\\linear_model\\_coordinate_descent.py:648: ConvergenceWarning: Objective did not converge. You might want to increase the number of iterations, check the scale of the features or consider increasing regularisation. Duality gap: 2.195e+13, tolerance: 9.728e+09 Linear regression models with null weight for the l1 regularization term are more efficiently fitted using one of the solvers implemented in sklearn.linear_model.Ridge/RidgeCV instead.\n",
      "  coef_, l1_reg, l2_reg, X, y, max_iter, tol, rng, random, positive\n"
     ]
    },
    {
     "data": {
      "text/plain": [
       "GridSearchCV(cv=5, estimator=ElasticNet(),\n",
       "             param_grid={'alpha': [0.0, 1e-06, 1e-05, 0.0001, 0.001, 0.01, 0.1,\n",
       "                                   2.0, 3.0]})"
      ]
     },
     "execution_count": 69,
     "metadata": {},
     "output_type": "execute_result"
    }
   ],
   "source": [
    "## Grid Search\n",
    "param_grid={'alpha':[0.0, 1e-6, 1e-5, 1e-4, 1e-3, 1e-2, 0.1, 2.0, 3.0]}\n",
    "from sklearn.model_selection import GridSearchCV\n",
    "grid_search=GridSearchCV(ElasticNet(), param_grid, cv=5)\n",
    "grid_search.fit(X_scaled_train, y_train)"
   ]
  },
  {
   "cell_type": "code",
   "execution_count": 70,
   "metadata": {},
   "outputs": [
    {
     "name": "stdout",
     "output_type": "stream",
     "text": [
      "Best Parameter:{'alpha': 1e-05}\n",
      "Best Score:0.5452\n",
      "TestSet Score:0.5627\n"
     ]
    }
   ],
   "source": [
    "print(\"Best Parameter:{}\".format(grid_search.best_params_))\n",
    "print(\"Best Score:{:.4f}\".format(grid_search.best_score_))\n",
    "print(\"TestSet Score:{:.4f}\".format(grid_search.score(X_scaled_test, y_test)))"
   ]
  },
  {
   "cell_type": "code",
   "execution_count": 71,
   "metadata": {},
   "outputs": [
    {
     "name": "stderr",
     "output_type": "stream",
     "text": [
      "C:\\Users\\MJ\\anaconda3\\lib\\site-packages\\sklearn\\model_selection\\_validation.py:681: UserWarning: With alpha=0, this algorithm does not converge well. You are advised to use the LinearRegression estimator\n",
      "  estimator.fit(X_train, y_train, **fit_params)\n",
      "C:\\Users\\MJ\\anaconda3\\lib\\site-packages\\sklearn\\linear_model\\_coordinate_descent.py:648: UserWarning: Coordinate descent with no regularization may lead to unexpected results and is discouraged.\n",
      "  coef_, l1_reg, l2_reg, X, y, max_iter, tol, rng, random, positive\n",
      "C:\\Users\\MJ\\anaconda3\\lib\\site-packages\\sklearn\\linear_model\\_coordinate_descent.py:648: ConvergenceWarning: Objective did not converge. You might want to increase the number of iterations, check the scale of the features or consider increasing regularisation. Duality gap: 2.222e+13, tolerance: 9.665e+09 Linear regression models with null weight for the l1 regularization term are more efficiently fitted using one of the solvers implemented in sklearn.linear_model.Ridge/RidgeCV instead.\n",
      "  coef_, l1_reg, l2_reg, X, y, max_iter, tol, rng, random, positive\n",
      "C:\\Users\\MJ\\anaconda3\\lib\\site-packages\\sklearn\\model_selection\\_validation.py:681: UserWarning: With alpha=0, this algorithm does not converge well. You are advised to use the LinearRegression estimator\n",
      "  estimator.fit(X_train, y_train, **fit_params)\n",
      "C:\\Users\\MJ\\anaconda3\\lib\\site-packages\\sklearn\\linear_model\\_coordinate_descent.py:648: UserWarning: Coordinate descent with no regularization may lead to unexpected results and is discouraged.\n",
      "  coef_, l1_reg, l2_reg, X, y, max_iter, tol, rng, random, positive\n",
      "C:\\Users\\MJ\\anaconda3\\lib\\site-packages\\sklearn\\linear_model\\_coordinate_descent.py:648: ConvergenceWarning: Objective did not converge. You might want to increase the number of iterations, check the scale of the features or consider increasing regularisation. Duality gap: 2.202e+13, tolerance: 9.671e+09 Linear regression models with null weight for the l1 regularization term are more efficiently fitted using one of the solvers implemented in sklearn.linear_model.Ridge/RidgeCV instead.\n",
      "  coef_, l1_reg, l2_reg, X, y, max_iter, tol, rng, random, positive\n",
      "C:\\Users\\MJ\\anaconda3\\lib\\site-packages\\sklearn\\model_selection\\_validation.py:681: UserWarning: With alpha=0, this algorithm does not converge well. You are advised to use the LinearRegression estimator\n",
      "  estimator.fit(X_train, y_train, **fit_params)\n",
      "C:\\Users\\MJ\\anaconda3\\lib\\site-packages\\sklearn\\linear_model\\_coordinate_descent.py:648: UserWarning: Coordinate descent with no regularization may lead to unexpected results and is discouraged.\n",
      "  coef_, l1_reg, l2_reg, X, y, max_iter, tol, rng, random, positive\n",
      "C:\\Users\\MJ\\anaconda3\\lib\\site-packages\\sklearn\\linear_model\\_coordinate_descent.py:648: ConvergenceWarning: Objective did not converge. You might want to increase the number of iterations, check the scale of the features or consider increasing regularisation. Duality gap: 2.187e+13, tolerance: 9.627e+09 Linear regression models with null weight for the l1 regularization term are more efficiently fitted using one of the solvers implemented in sklearn.linear_model.Ridge/RidgeCV instead.\n",
      "  coef_, l1_reg, l2_reg, X, y, max_iter, tol, rng, random, positive\n",
      "C:\\Users\\MJ\\anaconda3\\lib\\site-packages\\sklearn\\model_selection\\_validation.py:681: UserWarning: With alpha=0, this algorithm does not converge well. You are advised to use the LinearRegression estimator\n",
      "  estimator.fit(X_train, y_train, **fit_params)\n",
      "C:\\Users\\MJ\\anaconda3\\lib\\site-packages\\sklearn\\linear_model\\_coordinate_descent.py:648: UserWarning: Coordinate descent with no regularization may lead to unexpected results and is discouraged.\n",
      "  coef_, l1_reg, l2_reg, X, y, max_iter, tol, rng, random, positive\n",
      "C:\\Users\\MJ\\anaconda3\\lib\\site-packages\\sklearn\\linear_model\\_coordinate_descent.py:648: ConvergenceWarning: Objective did not converge. You might want to increase the number of iterations, check the scale of the features or consider increasing regularisation. Duality gap: 2.177e+13, tolerance: 9.648e+09 Linear regression models with null weight for the l1 regularization term are more efficiently fitted using one of the solvers implemented in sklearn.linear_model.Ridge/RidgeCV instead.\n",
      "  coef_, l1_reg, l2_reg, X, y, max_iter, tol, rng, random, positive\n",
      "C:\\Users\\MJ\\anaconda3\\lib\\site-packages\\sklearn\\model_selection\\_validation.py:681: UserWarning: With alpha=0, this algorithm does not converge well. You are advised to use the LinearRegression estimator\n",
      "  estimator.fit(X_train, y_train, **fit_params)\n",
      "C:\\Users\\MJ\\anaconda3\\lib\\site-packages\\sklearn\\linear_model\\_coordinate_descent.py:648: UserWarning: Coordinate descent with no regularization may lead to unexpected results and is discouraged.\n",
      "  coef_, l1_reg, l2_reg, X, y, max_iter, tol, rng, random, positive\n",
      "C:\\Users\\MJ\\anaconda3\\lib\\site-packages\\sklearn\\linear_model\\_coordinate_descent.py:648: ConvergenceWarning: Objective did not converge. You might want to increase the number of iterations, check the scale of the features or consider increasing regularisation. Duality gap: 2.195e+13, tolerance: 9.728e+09 Linear regression models with null weight for the l1 regularization term are more efficiently fitted using one of the solvers implemented in sklearn.linear_model.Ridge/RidgeCV instead.\n",
      "  coef_, l1_reg, l2_reg, X, y, max_iter, tol, rng, random, positive\n",
      "C:\\Users\\MJ\\anaconda3\\lib\\site-packages\\sklearn\\model_selection\\_validation.py:681: UserWarning: With alpha=0, this algorithm does not converge well. You are advised to use the LinearRegression estimator\n",
      "  estimator.fit(X_train, y_train, **fit_params)\n",
      "C:\\Users\\MJ\\anaconda3\\lib\\site-packages\\sklearn\\linear_model\\_coordinate_descent.py:648: UserWarning: Coordinate descent with no regularization may lead to unexpected results and is discouraged.\n",
      "  coef_, l1_reg, l2_reg, X, y, max_iter, tol, rng, random, positive\n",
      "C:\\Users\\MJ\\anaconda3\\lib\\site-packages\\sklearn\\linear_model\\_coordinate_descent.py:648: ConvergenceWarning: Objective did not converge. You might want to increase the number of iterations, check the scale of the features or consider increasing regularisation. Duality gap: 2.222e+13, tolerance: 9.665e+09 Linear regression models with null weight for the l1 regularization term are more efficiently fitted using one of the solvers implemented in sklearn.linear_model.Ridge/RidgeCV instead.\n",
      "  coef_, l1_reg, l2_reg, X, y, max_iter, tol, rng, random, positive\n",
      "C:\\Users\\MJ\\anaconda3\\lib\\site-packages\\sklearn\\model_selection\\_validation.py:681: UserWarning: With alpha=0, this algorithm does not converge well. You are advised to use the LinearRegression estimator\n",
      "  estimator.fit(X_train, y_train, **fit_params)\n",
      "C:\\Users\\MJ\\anaconda3\\lib\\site-packages\\sklearn\\linear_model\\_coordinate_descent.py:648: UserWarning: Coordinate descent with no regularization may lead to unexpected results and is discouraged.\n",
      "  coef_, l1_reg, l2_reg, X, y, max_iter, tol, rng, random, positive\n",
      "C:\\Users\\MJ\\anaconda3\\lib\\site-packages\\sklearn\\linear_model\\_coordinate_descent.py:648: ConvergenceWarning: Objective did not converge. You might want to increase the number of iterations, check the scale of the features or consider increasing regularisation. Duality gap: 2.202e+13, tolerance: 9.671e+09 Linear regression models with null weight for the l1 regularization term are more efficiently fitted using one of the solvers implemented in sklearn.linear_model.Ridge/RidgeCV instead.\n",
      "  coef_, l1_reg, l2_reg, X, y, max_iter, tol, rng, random, positive\n",
      "C:\\Users\\MJ\\anaconda3\\lib\\site-packages\\sklearn\\model_selection\\_validation.py:681: UserWarning: With alpha=0, this algorithm does not converge well. You are advised to use the LinearRegression estimator\n",
      "  estimator.fit(X_train, y_train, **fit_params)\n",
      "C:\\Users\\MJ\\anaconda3\\lib\\site-packages\\sklearn\\linear_model\\_coordinate_descent.py:648: UserWarning: Coordinate descent with no regularization may lead to unexpected results and is discouraged.\n",
      "  coef_, l1_reg, l2_reg, X, y, max_iter, tol, rng, random, positive\n",
      "C:\\Users\\MJ\\anaconda3\\lib\\site-packages\\sklearn\\linear_model\\_coordinate_descent.py:648: ConvergenceWarning: Objective did not converge. You might want to increase the number of iterations, check the scale of the features or consider increasing regularisation. Duality gap: 2.187e+13, tolerance: 9.627e+09 Linear regression models with null weight for the l1 regularization term are more efficiently fitted using one of the solvers implemented in sklearn.linear_model.Ridge/RidgeCV instead.\n",
      "  coef_, l1_reg, l2_reg, X, y, max_iter, tol, rng, random, positive\n",
      "C:\\Users\\MJ\\anaconda3\\lib\\site-packages\\sklearn\\model_selection\\_validation.py:681: UserWarning: With alpha=0, this algorithm does not converge well. You are advised to use the LinearRegression estimator\n",
      "  estimator.fit(X_train, y_train, **fit_params)\n",
      "C:\\Users\\MJ\\anaconda3\\lib\\site-packages\\sklearn\\linear_model\\_coordinate_descent.py:648: UserWarning: Coordinate descent with no regularization may lead to unexpected results and is discouraged.\n",
      "  coef_, l1_reg, l2_reg, X, y, max_iter, tol, rng, random, positive\n",
      "C:\\Users\\MJ\\anaconda3\\lib\\site-packages\\sklearn\\linear_model\\_coordinate_descent.py:648: ConvergenceWarning: Objective did not converge. You might want to increase the number of iterations, check the scale of the features or consider increasing regularisation. Duality gap: 2.177e+13, tolerance: 9.648e+09 Linear regression models with null weight for the l1 regularization term are more efficiently fitted using one of the solvers implemented in sklearn.linear_model.Ridge/RidgeCV instead.\n",
      "  coef_, l1_reg, l2_reg, X, y, max_iter, tol, rng, random, positive\n"
     ]
    },
    {
     "name": "stderr",
     "output_type": "stream",
     "text": [
      "C:\\Users\\MJ\\anaconda3\\lib\\site-packages\\sklearn\\model_selection\\_validation.py:681: UserWarning: With alpha=0, this algorithm does not converge well. You are advised to use the LinearRegression estimator\n",
      "  estimator.fit(X_train, y_train, **fit_params)\n",
      "C:\\Users\\MJ\\anaconda3\\lib\\site-packages\\sklearn\\linear_model\\_coordinate_descent.py:648: UserWarning: Coordinate descent with no regularization may lead to unexpected results and is discouraged.\n",
      "  coef_, l1_reg, l2_reg, X, y, max_iter, tol, rng, random, positive\n",
      "C:\\Users\\MJ\\anaconda3\\lib\\site-packages\\sklearn\\linear_model\\_coordinate_descent.py:648: ConvergenceWarning: Objective did not converge. You might want to increase the number of iterations, check the scale of the features or consider increasing regularisation. Duality gap: 2.195e+13, tolerance: 9.728e+09 Linear regression models with null weight for the l1 regularization term are more efficiently fitted using one of the solvers implemented in sklearn.linear_model.Ridge/RidgeCV instead.\n",
      "  coef_, l1_reg, l2_reg, X, y, max_iter, tol, rng, random, positive\n",
      "C:\\Users\\MJ\\anaconda3\\lib\\site-packages\\sklearn\\model_selection\\_validation.py:681: UserWarning: With alpha=0, this algorithm does not converge well. You are advised to use the LinearRegression estimator\n",
      "  estimator.fit(X_train, y_train, **fit_params)\n",
      "C:\\Users\\MJ\\anaconda3\\lib\\site-packages\\sklearn\\linear_model\\_coordinate_descent.py:648: UserWarning: Coordinate descent with no regularization may lead to unexpected results and is discouraged.\n",
      "  coef_, l1_reg, l2_reg, X, y, max_iter, tol, rng, random, positive\n",
      "C:\\Users\\MJ\\anaconda3\\lib\\site-packages\\sklearn\\linear_model\\_coordinate_descent.py:648: ConvergenceWarning: Objective did not converge. You might want to increase the number of iterations, check the scale of the features or consider increasing regularisation. Duality gap: 2.222e+13, tolerance: 9.665e+09 Linear regression models with null weight for the l1 regularization term are more efficiently fitted using one of the solvers implemented in sklearn.linear_model.Ridge/RidgeCV instead.\n",
      "  coef_, l1_reg, l2_reg, X, y, max_iter, tol, rng, random, positive\n",
      "C:\\Users\\MJ\\anaconda3\\lib\\site-packages\\sklearn\\model_selection\\_validation.py:681: UserWarning: With alpha=0, this algorithm does not converge well. You are advised to use the LinearRegression estimator\n",
      "  estimator.fit(X_train, y_train, **fit_params)\n",
      "C:\\Users\\MJ\\anaconda3\\lib\\site-packages\\sklearn\\linear_model\\_coordinate_descent.py:648: UserWarning: Coordinate descent with no regularization may lead to unexpected results and is discouraged.\n",
      "  coef_, l1_reg, l2_reg, X, y, max_iter, tol, rng, random, positive\n",
      "C:\\Users\\MJ\\anaconda3\\lib\\site-packages\\sklearn\\linear_model\\_coordinate_descent.py:648: ConvergenceWarning: Objective did not converge. You might want to increase the number of iterations, check the scale of the features or consider increasing regularisation. Duality gap: 2.202e+13, tolerance: 9.671e+09 Linear regression models with null weight for the l1 regularization term are more efficiently fitted using one of the solvers implemented in sklearn.linear_model.Ridge/RidgeCV instead.\n",
      "  coef_, l1_reg, l2_reg, X, y, max_iter, tol, rng, random, positive\n",
      "C:\\Users\\MJ\\anaconda3\\lib\\site-packages\\sklearn\\model_selection\\_validation.py:681: UserWarning: With alpha=0, this algorithm does not converge well. You are advised to use the LinearRegression estimator\n",
      "  estimator.fit(X_train, y_train, **fit_params)\n",
      "C:\\Users\\MJ\\anaconda3\\lib\\site-packages\\sklearn\\linear_model\\_coordinate_descent.py:648: UserWarning: Coordinate descent with no regularization may lead to unexpected results and is discouraged.\n",
      "  coef_, l1_reg, l2_reg, X, y, max_iter, tol, rng, random, positive\n",
      "C:\\Users\\MJ\\anaconda3\\lib\\site-packages\\sklearn\\linear_model\\_coordinate_descent.py:648: ConvergenceWarning: Objective did not converge. You might want to increase the number of iterations, check the scale of the features or consider increasing regularisation. Duality gap: 2.187e+13, tolerance: 9.627e+09 Linear regression models with null weight for the l1 regularization term are more efficiently fitted using one of the solvers implemented in sklearn.linear_model.Ridge/RidgeCV instead.\n",
      "  coef_, l1_reg, l2_reg, X, y, max_iter, tol, rng, random, positive\n",
      "C:\\Users\\MJ\\anaconda3\\lib\\site-packages\\sklearn\\model_selection\\_validation.py:681: UserWarning: With alpha=0, this algorithm does not converge well. You are advised to use the LinearRegression estimator\n",
      "  estimator.fit(X_train, y_train, **fit_params)\n",
      "C:\\Users\\MJ\\anaconda3\\lib\\site-packages\\sklearn\\linear_model\\_coordinate_descent.py:648: UserWarning: Coordinate descent with no regularization may lead to unexpected results and is discouraged.\n",
      "  coef_, l1_reg, l2_reg, X, y, max_iter, tol, rng, random, positive\n",
      "C:\\Users\\MJ\\anaconda3\\lib\\site-packages\\sklearn\\linear_model\\_coordinate_descent.py:648: ConvergenceWarning: Objective did not converge. You might want to increase the number of iterations, check the scale of the features or consider increasing regularisation. Duality gap: 2.177e+13, tolerance: 9.648e+09 Linear regression models with null weight for the l1 regularization term are more efficiently fitted using one of the solvers implemented in sklearn.linear_model.Ridge/RidgeCV instead.\n",
      "  coef_, l1_reg, l2_reg, X, y, max_iter, tol, rng, random, positive\n",
      "C:\\Users\\MJ\\anaconda3\\lib\\site-packages\\sklearn\\model_selection\\_validation.py:681: UserWarning: With alpha=0, this algorithm does not converge well. You are advised to use the LinearRegression estimator\n",
      "  estimator.fit(X_train, y_train, **fit_params)\n",
      "C:\\Users\\MJ\\anaconda3\\lib\\site-packages\\sklearn\\linear_model\\_coordinate_descent.py:648: UserWarning: Coordinate descent with no regularization may lead to unexpected results and is discouraged.\n",
      "  coef_, l1_reg, l2_reg, X, y, max_iter, tol, rng, random, positive\n",
      "C:\\Users\\MJ\\anaconda3\\lib\\site-packages\\sklearn\\linear_model\\_coordinate_descent.py:648: ConvergenceWarning: Objective did not converge. You might want to increase the number of iterations, check the scale of the features or consider increasing regularisation. Duality gap: 2.195e+13, tolerance: 9.728e+09 Linear regression models with null weight for the l1 regularization term are more efficiently fitted using one of the solvers implemented in sklearn.linear_model.Ridge/RidgeCV instead.\n",
      "  coef_, l1_reg, l2_reg, X, y, max_iter, tol, rng, random, positive\n",
      "C:\\Users\\MJ\\anaconda3\\lib\\site-packages\\sklearn\\model_selection\\_validation.py:681: UserWarning: With alpha=0, this algorithm does not converge well. You are advised to use the LinearRegression estimator\n",
      "  estimator.fit(X_train, y_train, **fit_params)\n",
      "C:\\Users\\MJ\\anaconda3\\lib\\site-packages\\sklearn\\linear_model\\_coordinate_descent.py:648: UserWarning: Coordinate descent with no regularization may lead to unexpected results and is discouraged.\n",
      "  coef_, l1_reg, l2_reg, X, y, max_iter, tol, rng, random, positive\n",
      "C:\\Users\\MJ\\anaconda3\\lib\\site-packages\\sklearn\\linear_model\\_coordinate_descent.py:648: ConvergenceWarning: Objective did not converge. You might want to increase the number of iterations, check the scale of the features or consider increasing regularisation. Duality gap: 2.222e+13, tolerance: 9.665e+09 Linear regression models with null weight for the l1 regularization term are more efficiently fitted using one of the solvers implemented in sklearn.linear_model.Ridge/RidgeCV instead.\n",
      "  coef_, l1_reg, l2_reg, X, y, max_iter, tol, rng, random, positive\n",
      "C:\\Users\\MJ\\anaconda3\\lib\\site-packages\\sklearn\\model_selection\\_validation.py:681: UserWarning: With alpha=0, this algorithm does not converge well. You are advised to use the LinearRegression estimator\n",
      "  estimator.fit(X_train, y_train, **fit_params)\n",
      "C:\\Users\\MJ\\anaconda3\\lib\\site-packages\\sklearn\\linear_model\\_coordinate_descent.py:648: UserWarning: Coordinate descent with no regularization may lead to unexpected results and is discouraged.\n",
      "  coef_, l1_reg, l2_reg, X, y, max_iter, tol, rng, random, positive\n",
      "C:\\Users\\MJ\\anaconda3\\lib\\site-packages\\sklearn\\linear_model\\_coordinate_descent.py:648: ConvergenceWarning: Objective did not converge. You might want to increase the number of iterations, check the scale of the features or consider increasing regularisation. Duality gap: 2.202e+13, tolerance: 9.671e+09 Linear regression models with null weight for the l1 regularization term are more efficiently fitted using one of the solvers implemented in sklearn.linear_model.Ridge/RidgeCV instead.\n",
      "  coef_, l1_reg, l2_reg, X, y, max_iter, tol, rng, random, positive\n",
      "C:\\Users\\MJ\\anaconda3\\lib\\site-packages\\sklearn\\model_selection\\_validation.py:681: UserWarning: With alpha=0, this algorithm does not converge well. You are advised to use the LinearRegression estimator\n",
      "  estimator.fit(X_train, y_train, **fit_params)\n",
      "C:\\Users\\MJ\\anaconda3\\lib\\site-packages\\sklearn\\linear_model\\_coordinate_descent.py:648: UserWarning: Coordinate descent with no regularization may lead to unexpected results and is discouraged.\n",
      "  coef_, l1_reg, l2_reg, X, y, max_iter, tol, rng, random, positive\n",
      "C:\\Users\\MJ\\anaconda3\\lib\\site-packages\\sklearn\\linear_model\\_coordinate_descent.py:648: ConvergenceWarning: Objective did not converge. You might want to increase the number of iterations, check the scale of the features or consider increasing regularisation. Duality gap: 2.187e+13, tolerance: 9.627e+09 Linear regression models with null weight for the l1 regularization term are more efficiently fitted using one of the solvers implemented in sklearn.linear_model.Ridge/RidgeCV instead.\n",
      "  coef_, l1_reg, l2_reg, X, y, max_iter, tol, rng, random, positive\n",
      "C:\\Users\\MJ\\anaconda3\\lib\\site-packages\\sklearn\\model_selection\\_validation.py:681: UserWarning: With alpha=0, this algorithm does not converge well. You are advised to use the LinearRegression estimator\n",
      "  estimator.fit(X_train, y_train, **fit_params)\n",
      "C:\\Users\\MJ\\anaconda3\\lib\\site-packages\\sklearn\\linear_model\\_coordinate_descent.py:648: UserWarning: Coordinate descent with no regularization may lead to unexpected results and is discouraged.\n",
      "  coef_, l1_reg, l2_reg, X, y, max_iter, tol, rng, random, positive\n"
     ]
    },
    {
     "name": "stderr",
     "output_type": "stream",
     "text": [
      "C:\\Users\\MJ\\anaconda3\\lib\\site-packages\\sklearn\\linear_model\\_coordinate_descent.py:648: ConvergenceWarning: Objective did not converge. You might want to increase the number of iterations, check the scale of the features or consider increasing regularisation. Duality gap: 2.177e+13, tolerance: 9.648e+09 Linear regression models with null weight for the l1 regularization term are more efficiently fitted using one of the solvers implemented in sklearn.linear_model.Ridge/RidgeCV instead.\n",
      "  coef_, l1_reg, l2_reg, X, y, max_iter, tol, rng, random, positive\n",
      "C:\\Users\\MJ\\anaconda3\\lib\\site-packages\\sklearn\\model_selection\\_validation.py:681: UserWarning: With alpha=0, this algorithm does not converge well. You are advised to use the LinearRegression estimator\n",
      "  estimator.fit(X_train, y_train, **fit_params)\n",
      "C:\\Users\\MJ\\anaconda3\\lib\\site-packages\\sklearn\\linear_model\\_coordinate_descent.py:648: UserWarning: Coordinate descent with no regularization may lead to unexpected results and is discouraged.\n",
      "  coef_, l1_reg, l2_reg, X, y, max_iter, tol, rng, random, positive\n",
      "C:\\Users\\MJ\\anaconda3\\lib\\site-packages\\sklearn\\linear_model\\_coordinate_descent.py:648: ConvergenceWarning: Objective did not converge. You might want to increase the number of iterations, check the scale of the features or consider increasing regularisation. Duality gap: 2.195e+13, tolerance: 9.728e+09 Linear regression models with null weight for the l1 regularization term are more efficiently fitted using one of the solvers implemented in sklearn.linear_model.Ridge/RidgeCV instead.\n",
      "  coef_, l1_reg, l2_reg, X, y, max_iter, tol, rng, random, positive\n",
      "C:\\Users\\MJ\\anaconda3\\lib\\site-packages\\sklearn\\model_selection\\_validation.py:681: UserWarning: With alpha=0, this algorithm does not converge well. You are advised to use the LinearRegression estimator\n",
      "  estimator.fit(X_train, y_train, **fit_params)\n",
      "C:\\Users\\MJ\\anaconda3\\lib\\site-packages\\sklearn\\linear_model\\_coordinate_descent.py:648: UserWarning: Coordinate descent with no regularization may lead to unexpected results and is discouraged.\n",
      "  coef_, l1_reg, l2_reg, X, y, max_iter, tol, rng, random, positive\n",
      "C:\\Users\\MJ\\anaconda3\\lib\\site-packages\\sklearn\\linear_model\\_coordinate_descent.py:648: ConvergenceWarning: Objective did not converge. You might want to increase the number of iterations, check the scale of the features or consider increasing regularisation. Duality gap: 2.222e+13, tolerance: 9.665e+09 Linear regression models with null weight for the l1 regularization term are more efficiently fitted using one of the solvers implemented in sklearn.linear_model.Ridge/RidgeCV instead.\n",
      "  coef_, l1_reg, l2_reg, X, y, max_iter, tol, rng, random, positive\n",
      "C:\\Users\\MJ\\anaconda3\\lib\\site-packages\\sklearn\\model_selection\\_validation.py:681: UserWarning: With alpha=0, this algorithm does not converge well. You are advised to use the LinearRegression estimator\n",
      "  estimator.fit(X_train, y_train, **fit_params)\n",
      "C:\\Users\\MJ\\anaconda3\\lib\\site-packages\\sklearn\\linear_model\\_coordinate_descent.py:648: UserWarning: Coordinate descent with no regularization may lead to unexpected results and is discouraged.\n",
      "  coef_, l1_reg, l2_reg, X, y, max_iter, tol, rng, random, positive\n",
      "C:\\Users\\MJ\\anaconda3\\lib\\site-packages\\sklearn\\linear_model\\_coordinate_descent.py:648: ConvergenceWarning: Objective did not converge. You might want to increase the number of iterations, check the scale of the features or consider increasing regularisation. Duality gap: 2.202e+13, tolerance: 9.671e+09 Linear regression models with null weight for the l1 regularization term are more efficiently fitted using one of the solvers implemented in sklearn.linear_model.Ridge/RidgeCV instead.\n",
      "  coef_, l1_reg, l2_reg, X, y, max_iter, tol, rng, random, positive\n",
      "C:\\Users\\MJ\\anaconda3\\lib\\site-packages\\sklearn\\model_selection\\_validation.py:681: UserWarning: With alpha=0, this algorithm does not converge well. You are advised to use the LinearRegression estimator\n",
      "  estimator.fit(X_train, y_train, **fit_params)\n",
      "C:\\Users\\MJ\\anaconda3\\lib\\site-packages\\sklearn\\linear_model\\_coordinate_descent.py:648: UserWarning: Coordinate descent with no regularization may lead to unexpected results and is discouraged.\n",
      "  coef_, l1_reg, l2_reg, X, y, max_iter, tol, rng, random, positive\n",
      "C:\\Users\\MJ\\anaconda3\\lib\\site-packages\\sklearn\\linear_model\\_coordinate_descent.py:648: ConvergenceWarning: Objective did not converge. You might want to increase the number of iterations, check the scale of the features or consider increasing regularisation. Duality gap: 2.187e+13, tolerance: 9.627e+09 Linear regression models with null weight for the l1 regularization term are more efficiently fitted using one of the solvers implemented in sklearn.linear_model.Ridge/RidgeCV instead.\n",
      "  coef_, l1_reg, l2_reg, X, y, max_iter, tol, rng, random, positive\n",
      "C:\\Users\\MJ\\anaconda3\\lib\\site-packages\\sklearn\\model_selection\\_validation.py:681: UserWarning: With alpha=0, this algorithm does not converge well. You are advised to use the LinearRegression estimator\n",
      "  estimator.fit(X_train, y_train, **fit_params)\n",
      "C:\\Users\\MJ\\anaconda3\\lib\\site-packages\\sklearn\\linear_model\\_coordinate_descent.py:648: UserWarning: Coordinate descent with no regularization may lead to unexpected results and is discouraged.\n",
      "  coef_, l1_reg, l2_reg, X, y, max_iter, tol, rng, random, positive\n",
      "C:\\Users\\MJ\\anaconda3\\lib\\site-packages\\sklearn\\linear_model\\_coordinate_descent.py:648: ConvergenceWarning: Objective did not converge. You might want to increase the number of iterations, check the scale of the features or consider increasing regularisation. Duality gap: 2.177e+13, tolerance: 9.648e+09 Linear regression models with null weight for the l1 regularization term are more efficiently fitted using one of the solvers implemented in sklearn.linear_model.Ridge/RidgeCV instead.\n",
      "  coef_, l1_reg, l2_reg, X, y, max_iter, tol, rng, random, positive\n",
      "C:\\Users\\MJ\\anaconda3\\lib\\site-packages\\sklearn\\model_selection\\_validation.py:681: UserWarning: With alpha=0, this algorithm does not converge well. You are advised to use the LinearRegression estimator\n",
      "  estimator.fit(X_train, y_train, **fit_params)\n",
      "C:\\Users\\MJ\\anaconda3\\lib\\site-packages\\sklearn\\linear_model\\_coordinate_descent.py:648: UserWarning: Coordinate descent with no regularization may lead to unexpected results and is discouraged.\n",
      "  coef_, l1_reg, l2_reg, X, y, max_iter, tol, rng, random, positive\n",
      "C:\\Users\\MJ\\anaconda3\\lib\\site-packages\\sklearn\\linear_model\\_coordinate_descent.py:648: ConvergenceWarning: Objective did not converge. You might want to increase the number of iterations, check the scale of the features or consider increasing regularisation. Duality gap: 2.195e+13, tolerance: 9.728e+09 Linear regression models with null weight for the l1 regularization term are more efficiently fitted using one of the solvers implemented in sklearn.linear_model.Ridge/RidgeCV instead.\n",
      "  coef_, l1_reg, l2_reg, X, y, max_iter, tol, rng, random, positive\n",
      "C:\\Users\\MJ\\anaconda3\\lib\\site-packages\\sklearn\\model_selection\\_validation.py:681: UserWarning: With alpha=0, this algorithm does not converge well. You are advised to use the LinearRegression estimator\n",
      "  estimator.fit(X_train, y_train, **fit_params)\n",
      "C:\\Users\\MJ\\anaconda3\\lib\\site-packages\\sklearn\\linear_model\\_coordinate_descent.py:648: UserWarning: Coordinate descent with no regularization may lead to unexpected results and is discouraged.\n",
      "  coef_, l1_reg, l2_reg, X, y, max_iter, tol, rng, random, positive\n",
      "C:\\Users\\MJ\\anaconda3\\lib\\site-packages\\sklearn\\linear_model\\_coordinate_descent.py:648: ConvergenceWarning: Objective did not converge. You might want to increase the number of iterations, check the scale of the features or consider increasing regularisation. Duality gap: 2.222e+13, tolerance: 9.665e+09 Linear regression models with null weight for the l1 regularization term are more efficiently fitted using one of the solvers implemented in sklearn.linear_model.Ridge/RidgeCV instead.\n",
      "  coef_, l1_reg, l2_reg, X, y, max_iter, tol, rng, random, positive\n",
      "C:\\Users\\MJ\\anaconda3\\lib\\site-packages\\sklearn\\model_selection\\_validation.py:681: UserWarning: With alpha=0, this algorithm does not converge well. You are advised to use the LinearRegression estimator\n",
      "  estimator.fit(X_train, y_train, **fit_params)\n",
      "C:\\Users\\MJ\\anaconda3\\lib\\site-packages\\sklearn\\linear_model\\_coordinate_descent.py:648: UserWarning: Coordinate descent with no regularization may lead to unexpected results and is discouraged.\n",
      "  coef_, l1_reg, l2_reg, X, y, max_iter, tol, rng, random, positive\n",
      "C:\\Users\\MJ\\anaconda3\\lib\\site-packages\\sklearn\\linear_model\\_coordinate_descent.py:648: ConvergenceWarning: Objective did not converge. You might want to increase the number of iterations, check the scale of the features or consider increasing regularisation. Duality gap: 2.202e+13, tolerance: 9.671e+09 Linear regression models with null weight for the l1 regularization term are more efficiently fitted using one of the solvers implemented in sklearn.linear_model.Ridge/RidgeCV instead.\n",
      "  coef_, l1_reg, l2_reg, X, y, max_iter, tol, rng, random, positive\n",
      "C:\\Users\\MJ\\anaconda3\\lib\\site-packages\\sklearn\\model_selection\\_validation.py:681: UserWarning: With alpha=0, this algorithm does not converge well. You are advised to use the LinearRegression estimator\n",
      "  estimator.fit(X_train, y_train, **fit_params)\n",
      "C:\\Users\\MJ\\anaconda3\\lib\\site-packages\\sklearn\\linear_model\\_coordinate_descent.py:648: UserWarning: Coordinate descent with no regularization may lead to unexpected results and is discouraged.\n",
      "  coef_, l1_reg, l2_reg, X, y, max_iter, tol, rng, random, positive\n",
      "C:\\Users\\MJ\\anaconda3\\lib\\site-packages\\sklearn\\linear_model\\_coordinate_descent.py:648: ConvergenceWarning: Objective did not converge. You might want to increase the number of iterations, check the scale of the features or consider increasing regularisation. Duality gap: 2.187e+13, tolerance: 9.627e+09 Linear regression models with null weight for the l1 regularization term are more efficiently fitted using one of the solvers implemented in sklearn.linear_model.Ridge/RidgeCV instead.\n",
      "  coef_, l1_reg, l2_reg, X, y, max_iter, tol, rng, random, positive\n",
      "C:\\Users\\MJ\\anaconda3\\lib\\site-packages\\sklearn\\model_selection\\_validation.py:681: UserWarning: With alpha=0, this algorithm does not converge well. You are advised to use the LinearRegression estimator\n",
      "  estimator.fit(X_train, y_train, **fit_params)\n"
     ]
    },
    {
     "name": "stderr",
     "output_type": "stream",
     "text": [
      "C:\\Users\\MJ\\anaconda3\\lib\\site-packages\\sklearn\\linear_model\\_coordinate_descent.py:648: UserWarning: Coordinate descent with no regularization may lead to unexpected results and is discouraged.\n",
      "  coef_, l1_reg, l2_reg, X, y, max_iter, tol, rng, random, positive\n",
      "C:\\Users\\MJ\\anaconda3\\lib\\site-packages\\sklearn\\linear_model\\_coordinate_descent.py:648: ConvergenceWarning: Objective did not converge. You might want to increase the number of iterations, check the scale of the features or consider increasing regularisation. Duality gap: 2.177e+13, tolerance: 9.648e+09 Linear regression models with null weight for the l1 regularization term are more efficiently fitted using one of the solvers implemented in sklearn.linear_model.Ridge/RidgeCV instead.\n",
      "  coef_, l1_reg, l2_reg, X, y, max_iter, tol, rng, random, positive\n",
      "C:\\Users\\MJ\\anaconda3\\lib\\site-packages\\sklearn\\model_selection\\_validation.py:681: UserWarning: With alpha=0, this algorithm does not converge well. You are advised to use the LinearRegression estimator\n",
      "  estimator.fit(X_train, y_train, **fit_params)\n",
      "C:\\Users\\MJ\\anaconda3\\lib\\site-packages\\sklearn\\linear_model\\_coordinate_descent.py:648: UserWarning: Coordinate descent with no regularization may lead to unexpected results and is discouraged.\n",
      "  coef_, l1_reg, l2_reg, X, y, max_iter, tol, rng, random, positive\n",
      "C:\\Users\\MJ\\anaconda3\\lib\\site-packages\\sklearn\\linear_model\\_coordinate_descent.py:648: ConvergenceWarning: Objective did not converge. You might want to increase the number of iterations, check the scale of the features or consider increasing regularisation. Duality gap: 2.195e+13, tolerance: 9.728e+09 Linear regression models with null weight for the l1 regularization term are more efficiently fitted using one of the solvers implemented in sklearn.linear_model.Ridge/RidgeCV instead.\n",
      "  coef_, l1_reg, l2_reg, X, y, max_iter, tol, rng, random, positive\n",
      "C:\\Users\\MJ\\anaconda3\\lib\\site-packages\\sklearn\\model_selection\\_validation.py:681: UserWarning: With alpha=0, this algorithm does not converge well. You are advised to use the LinearRegression estimator\n",
      "  estimator.fit(X_train, y_train, **fit_params)\n",
      "C:\\Users\\MJ\\anaconda3\\lib\\site-packages\\sklearn\\linear_model\\_coordinate_descent.py:648: UserWarning: Coordinate descent with no regularization may lead to unexpected results and is discouraged.\n",
      "  coef_, l1_reg, l2_reg, X, y, max_iter, tol, rng, random, positive\n",
      "C:\\Users\\MJ\\anaconda3\\lib\\site-packages\\sklearn\\linear_model\\_coordinate_descent.py:648: ConvergenceWarning: Objective did not converge. You might want to increase the number of iterations, check the scale of the features or consider increasing regularisation. Duality gap: 2.222e+13, tolerance: 9.665e+09 Linear regression models with null weight for the l1 regularization term are more efficiently fitted using one of the solvers implemented in sklearn.linear_model.Ridge/RidgeCV instead.\n",
      "  coef_, l1_reg, l2_reg, X, y, max_iter, tol, rng, random, positive\n",
      "C:\\Users\\MJ\\anaconda3\\lib\\site-packages\\sklearn\\model_selection\\_validation.py:681: UserWarning: With alpha=0, this algorithm does not converge well. You are advised to use the LinearRegression estimator\n",
      "  estimator.fit(X_train, y_train, **fit_params)\n",
      "C:\\Users\\MJ\\anaconda3\\lib\\site-packages\\sklearn\\linear_model\\_coordinate_descent.py:648: UserWarning: Coordinate descent with no regularization may lead to unexpected results and is discouraged.\n",
      "  coef_, l1_reg, l2_reg, X, y, max_iter, tol, rng, random, positive\n",
      "C:\\Users\\MJ\\anaconda3\\lib\\site-packages\\sklearn\\linear_model\\_coordinate_descent.py:648: ConvergenceWarning: Objective did not converge. You might want to increase the number of iterations, check the scale of the features or consider increasing regularisation. Duality gap: 2.202e+13, tolerance: 9.671e+09 Linear regression models with null weight for the l1 regularization term are more efficiently fitted using one of the solvers implemented in sklearn.linear_model.Ridge/RidgeCV instead.\n",
      "  coef_, l1_reg, l2_reg, X, y, max_iter, tol, rng, random, positive\n",
      "C:\\Users\\MJ\\anaconda3\\lib\\site-packages\\sklearn\\model_selection\\_validation.py:681: UserWarning: With alpha=0, this algorithm does not converge well. You are advised to use the LinearRegression estimator\n",
      "  estimator.fit(X_train, y_train, **fit_params)\n",
      "C:\\Users\\MJ\\anaconda3\\lib\\site-packages\\sklearn\\linear_model\\_coordinate_descent.py:648: UserWarning: Coordinate descent with no regularization may lead to unexpected results and is discouraged.\n",
      "  coef_, l1_reg, l2_reg, X, y, max_iter, tol, rng, random, positive\n",
      "C:\\Users\\MJ\\anaconda3\\lib\\site-packages\\sklearn\\linear_model\\_coordinate_descent.py:648: ConvergenceWarning: Objective did not converge. You might want to increase the number of iterations, check the scale of the features or consider increasing regularisation. Duality gap: 2.187e+13, tolerance: 9.627e+09 Linear regression models with null weight for the l1 regularization term are more efficiently fitted using one of the solvers implemented in sklearn.linear_model.Ridge/RidgeCV instead.\n",
      "  coef_, l1_reg, l2_reg, X, y, max_iter, tol, rng, random, positive\n",
      "C:\\Users\\MJ\\anaconda3\\lib\\site-packages\\sklearn\\model_selection\\_validation.py:681: UserWarning: With alpha=0, this algorithm does not converge well. You are advised to use the LinearRegression estimator\n",
      "  estimator.fit(X_train, y_train, **fit_params)\n",
      "C:\\Users\\MJ\\anaconda3\\lib\\site-packages\\sklearn\\linear_model\\_coordinate_descent.py:648: UserWarning: Coordinate descent with no regularization may lead to unexpected results and is discouraged.\n",
      "  coef_, l1_reg, l2_reg, X, y, max_iter, tol, rng, random, positive\n",
      "C:\\Users\\MJ\\anaconda3\\lib\\site-packages\\sklearn\\linear_model\\_coordinate_descent.py:648: ConvergenceWarning: Objective did not converge. You might want to increase the number of iterations, check the scale of the features or consider increasing regularisation. Duality gap: 2.177e+13, tolerance: 9.648e+09 Linear regression models with null weight for the l1 regularization term are more efficiently fitted using one of the solvers implemented in sklearn.linear_model.Ridge/RidgeCV instead.\n",
      "  coef_, l1_reg, l2_reg, X, y, max_iter, tol, rng, random, positive\n",
      "C:\\Users\\MJ\\anaconda3\\lib\\site-packages\\sklearn\\model_selection\\_validation.py:681: UserWarning: With alpha=0, this algorithm does not converge well. You are advised to use the LinearRegression estimator\n",
      "  estimator.fit(X_train, y_train, **fit_params)\n",
      "C:\\Users\\MJ\\anaconda3\\lib\\site-packages\\sklearn\\linear_model\\_coordinate_descent.py:648: UserWarning: Coordinate descent with no regularization may lead to unexpected results and is discouraged.\n",
      "  coef_, l1_reg, l2_reg, X, y, max_iter, tol, rng, random, positive\n",
      "C:\\Users\\MJ\\anaconda3\\lib\\site-packages\\sklearn\\linear_model\\_coordinate_descent.py:648: ConvergenceWarning: Objective did not converge. You might want to increase the number of iterations, check the scale of the features or consider increasing regularisation. Duality gap: 2.195e+13, tolerance: 9.728e+09 Linear regression models with null weight for the l1 regularization term are more efficiently fitted using one of the solvers implemented in sklearn.linear_model.Ridge/RidgeCV instead.\n",
      "  coef_, l1_reg, l2_reg, X, y, max_iter, tol, rng, random, positive\n",
      "C:\\Users\\MJ\\anaconda3\\lib\\site-packages\\sklearn\\model_selection\\_validation.py:681: UserWarning: With alpha=0, this algorithm does not converge well. You are advised to use the LinearRegression estimator\n",
      "  estimator.fit(X_train, y_train, **fit_params)\n",
      "C:\\Users\\MJ\\anaconda3\\lib\\site-packages\\sklearn\\linear_model\\_coordinate_descent.py:648: UserWarning: Coordinate descent with no regularization may lead to unexpected results and is discouraged.\n",
      "  coef_, l1_reg, l2_reg, X, y, max_iter, tol, rng, random, positive\n",
      "C:\\Users\\MJ\\anaconda3\\lib\\site-packages\\sklearn\\linear_model\\_coordinate_descent.py:648: ConvergenceWarning: Objective did not converge. You might want to increase the number of iterations, check the scale of the features or consider increasing regularisation. Duality gap: 2.222e+13, tolerance: 9.665e+09 Linear regression models with null weight for the l1 regularization term are more efficiently fitted using one of the solvers implemented in sklearn.linear_model.Ridge/RidgeCV instead.\n",
      "  coef_, l1_reg, l2_reg, X, y, max_iter, tol, rng, random, positive\n"
     ]
    },
    {
     "name": "stderr",
     "output_type": "stream",
     "text": [
      "C:\\Users\\MJ\\anaconda3\\lib\\site-packages\\sklearn\\model_selection\\_validation.py:681: UserWarning: With alpha=0, this algorithm does not converge well. You are advised to use the LinearRegression estimator\n",
      "  estimator.fit(X_train, y_train, **fit_params)\n",
      "C:\\Users\\MJ\\anaconda3\\lib\\site-packages\\sklearn\\linear_model\\_coordinate_descent.py:648: UserWarning: Coordinate descent with no regularization may lead to unexpected results and is discouraged.\n",
      "  coef_, l1_reg, l2_reg, X, y, max_iter, tol, rng, random, positive\n",
      "C:\\Users\\MJ\\anaconda3\\lib\\site-packages\\sklearn\\linear_model\\_coordinate_descent.py:648: ConvergenceWarning: Objective did not converge. You might want to increase the number of iterations, check the scale of the features or consider increasing regularisation. Duality gap: 2.202e+13, tolerance: 9.671e+09 Linear regression models with null weight for the l1 regularization term are more efficiently fitted using one of the solvers implemented in sklearn.linear_model.Ridge/RidgeCV instead.\n",
      "  coef_, l1_reg, l2_reg, X, y, max_iter, tol, rng, random, positive\n",
      "C:\\Users\\MJ\\anaconda3\\lib\\site-packages\\sklearn\\model_selection\\_validation.py:681: UserWarning: With alpha=0, this algorithm does not converge well. You are advised to use the LinearRegression estimator\n",
      "  estimator.fit(X_train, y_train, **fit_params)\n",
      "C:\\Users\\MJ\\anaconda3\\lib\\site-packages\\sklearn\\linear_model\\_coordinate_descent.py:648: UserWarning: Coordinate descent with no regularization may lead to unexpected results and is discouraged.\n",
      "  coef_, l1_reg, l2_reg, X, y, max_iter, tol, rng, random, positive\n",
      "C:\\Users\\MJ\\anaconda3\\lib\\site-packages\\sklearn\\linear_model\\_coordinate_descent.py:648: ConvergenceWarning: Objective did not converge. You might want to increase the number of iterations, check the scale of the features or consider increasing regularisation. Duality gap: 2.187e+13, tolerance: 9.627e+09 Linear regression models with null weight for the l1 regularization term are more efficiently fitted using one of the solvers implemented in sklearn.linear_model.Ridge/RidgeCV instead.\n",
      "  coef_, l1_reg, l2_reg, X, y, max_iter, tol, rng, random, positive\n",
      "C:\\Users\\MJ\\anaconda3\\lib\\site-packages\\sklearn\\model_selection\\_validation.py:681: UserWarning: With alpha=0, this algorithm does not converge well. You are advised to use the LinearRegression estimator\n",
      "  estimator.fit(X_train, y_train, **fit_params)\n",
      "C:\\Users\\MJ\\anaconda3\\lib\\site-packages\\sklearn\\linear_model\\_coordinate_descent.py:648: UserWarning: Coordinate descent with no regularization may lead to unexpected results and is discouraged.\n",
      "  coef_, l1_reg, l2_reg, X, y, max_iter, tol, rng, random, positive\n",
      "C:\\Users\\MJ\\anaconda3\\lib\\site-packages\\sklearn\\linear_model\\_coordinate_descent.py:648: ConvergenceWarning: Objective did not converge. You might want to increase the number of iterations, check the scale of the features or consider increasing regularisation. Duality gap: 2.177e+13, tolerance: 9.648e+09 Linear regression models with null weight for the l1 regularization term are more efficiently fitted using one of the solvers implemented in sklearn.linear_model.Ridge/RidgeCV instead.\n",
      "  coef_, l1_reg, l2_reg, X, y, max_iter, tol, rng, random, positive\n",
      "C:\\Users\\MJ\\anaconda3\\lib\\site-packages\\sklearn\\model_selection\\_validation.py:681: UserWarning: With alpha=0, this algorithm does not converge well. You are advised to use the LinearRegression estimator\n",
      "  estimator.fit(X_train, y_train, **fit_params)\n",
      "C:\\Users\\MJ\\anaconda3\\lib\\site-packages\\sklearn\\linear_model\\_coordinate_descent.py:648: UserWarning: Coordinate descent with no regularization may lead to unexpected results and is discouraged.\n",
      "  coef_, l1_reg, l2_reg, X, y, max_iter, tol, rng, random, positive\n",
      "C:\\Users\\MJ\\anaconda3\\lib\\site-packages\\sklearn\\linear_model\\_coordinate_descent.py:648: ConvergenceWarning: Objective did not converge. You might want to increase the number of iterations, check the scale of the features or consider increasing regularisation. Duality gap: 2.195e+13, tolerance: 9.728e+09 Linear regression models with null weight for the l1 regularization term are more efficiently fitted using one of the solvers implemented in sklearn.linear_model.Ridge/RidgeCV instead.\n",
      "  coef_, l1_reg, l2_reg, X, y, max_iter, tol, rng, random, positive\n",
      "C:\\Users\\MJ\\anaconda3\\lib\\site-packages\\sklearn\\model_selection\\_validation.py:681: UserWarning: With alpha=0, this algorithm does not converge well. You are advised to use the LinearRegression estimator\n",
      "  estimator.fit(X_train, y_train, **fit_params)\n",
      "C:\\Users\\MJ\\anaconda3\\lib\\site-packages\\sklearn\\linear_model\\_coordinate_descent.py:648: UserWarning: Coordinate descent with no regularization may lead to unexpected results and is discouraged.\n",
      "  coef_, l1_reg, l2_reg, X, y, max_iter, tol, rng, random, positive\n",
      "C:\\Users\\MJ\\anaconda3\\lib\\site-packages\\sklearn\\linear_model\\_coordinate_descent.py:648: ConvergenceWarning: Objective did not converge. You might want to increase the number of iterations, check the scale of the features or consider increasing regularisation. Duality gap: 2.222e+13, tolerance: 9.665e+09 Linear regression models with null weight for the l1 regularization term are more efficiently fitted using one of the solvers implemented in sklearn.linear_model.Ridge/RidgeCV instead.\n",
      "  coef_, l1_reg, l2_reg, X, y, max_iter, tol, rng, random, positive\n",
      "C:\\Users\\MJ\\anaconda3\\lib\\site-packages\\sklearn\\model_selection\\_validation.py:681: UserWarning: With alpha=0, this algorithm does not converge well. You are advised to use the LinearRegression estimator\n",
      "  estimator.fit(X_train, y_train, **fit_params)\n",
      "C:\\Users\\MJ\\anaconda3\\lib\\site-packages\\sklearn\\linear_model\\_coordinate_descent.py:648: UserWarning: Coordinate descent with no regularization may lead to unexpected results and is discouraged.\n",
      "  coef_, l1_reg, l2_reg, X, y, max_iter, tol, rng, random, positive\n",
      "C:\\Users\\MJ\\anaconda3\\lib\\site-packages\\sklearn\\linear_model\\_coordinate_descent.py:648: ConvergenceWarning: Objective did not converge. You might want to increase the number of iterations, check the scale of the features or consider increasing regularisation. Duality gap: 2.202e+13, tolerance: 9.671e+09 Linear regression models with null weight for the l1 regularization term are more efficiently fitted using one of the solvers implemented in sklearn.linear_model.Ridge/RidgeCV instead.\n",
      "  coef_, l1_reg, l2_reg, X, y, max_iter, tol, rng, random, positive\n",
      "C:\\Users\\MJ\\anaconda3\\lib\\site-packages\\sklearn\\model_selection\\_validation.py:681: UserWarning: With alpha=0, this algorithm does not converge well. You are advised to use the LinearRegression estimator\n",
      "  estimator.fit(X_train, y_train, **fit_params)\n",
      "C:\\Users\\MJ\\anaconda3\\lib\\site-packages\\sklearn\\linear_model\\_coordinate_descent.py:648: UserWarning: Coordinate descent with no regularization may lead to unexpected results and is discouraged.\n",
      "  coef_, l1_reg, l2_reg, X, y, max_iter, tol, rng, random, positive\n",
      "C:\\Users\\MJ\\anaconda3\\lib\\site-packages\\sklearn\\linear_model\\_coordinate_descent.py:648: ConvergenceWarning: Objective did not converge. You might want to increase the number of iterations, check the scale of the features or consider increasing regularisation. Duality gap: 2.187e+13, tolerance: 9.627e+09 Linear regression models with null weight for the l1 regularization term are more efficiently fitted using one of the solvers implemented in sklearn.linear_model.Ridge/RidgeCV instead.\n",
      "  coef_, l1_reg, l2_reg, X, y, max_iter, tol, rng, random, positive\n",
      "C:\\Users\\MJ\\anaconda3\\lib\\site-packages\\sklearn\\model_selection\\_validation.py:681: UserWarning: With alpha=0, this algorithm does not converge well. You are advised to use the LinearRegression estimator\n",
      "  estimator.fit(X_train, y_train, **fit_params)\n",
      "C:\\Users\\MJ\\anaconda3\\lib\\site-packages\\sklearn\\linear_model\\_coordinate_descent.py:648: UserWarning: Coordinate descent with no regularization may lead to unexpected results and is discouraged.\n",
      "  coef_, l1_reg, l2_reg, X, y, max_iter, tol, rng, random, positive\n",
      "C:\\Users\\MJ\\anaconda3\\lib\\site-packages\\sklearn\\linear_model\\_coordinate_descent.py:648: ConvergenceWarning: Objective did not converge. You might want to increase the number of iterations, check the scale of the features or consider increasing regularisation. Duality gap: 2.177e+13, tolerance: 9.648e+09 Linear regression models with null weight for the l1 regularization term are more efficiently fitted using one of the solvers implemented in sklearn.linear_model.Ridge/RidgeCV instead.\n",
      "  coef_, l1_reg, l2_reg, X, y, max_iter, tol, rng, random, positive\n",
      "C:\\Users\\MJ\\anaconda3\\lib\\site-packages\\sklearn\\model_selection\\_validation.py:681: UserWarning: With alpha=0, this algorithm does not converge well. You are advised to use the LinearRegression estimator\n",
      "  estimator.fit(X_train, y_train, **fit_params)\n",
      "C:\\Users\\MJ\\anaconda3\\lib\\site-packages\\sklearn\\linear_model\\_coordinate_descent.py:648: UserWarning: Coordinate descent with no regularization may lead to unexpected results and is discouraged.\n",
      "  coef_, l1_reg, l2_reg, X, y, max_iter, tol, rng, random, positive\n",
      "C:\\Users\\MJ\\anaconda3\\lib\\site-packages\\sklearn\\linear_model\\_coordinate_descent.py:648: ConvergenceWarning: Objective did not converge. You might want to increase the number of iterations, check the scale of the features or consider increasing regularisation. Duality gap: 2.195e+13, tolerance: 9.728e+09 Linear regression models with null weight for the l1 regularization term are more efficiently fitted using one of the solvers implemented in sklearn.linear_model.Ridge/RidgeCV instead.\n",
      "  coef_, l1_reg, l2_reg, X, y, max_iter, tol, rng, random, positive\n",
      "C:\\Users\\MJ\\anaconda3\\lib\\site-packages\\sklearn\\model_selection\\_search.py:926: UserWarning: With alpha=0, this algorithm does not converge well. You are advised to use the LinearRegression estimator\n",
      "  self.best_estimator_.fit(X, y, **fit_params)\n",
      "C:\\Users\\MJ\\anaconda3\\lib\\site-packages\\sklearn\\linear_model\\_coordinate_descent.py:648: UserWarning: Coordinate descent with no regularization may lead to unexpected results and is discouraged.\n",
      "  coef_, l1_reg, l2_reg, X, y, max_iter, tol, rng, random, positive\n",
      "C:\\Users\\MJ\\anaconda3\\lib\\site-packages\\sklearn\\linear_model\\_coordinate_descent.py:648: ConvergenceWarning: Objective did not converge. You might want to increase the number of iterations, check the scale of the features or consider increasing regularisation. Duality gap: 2.746e+13, tolerance: 1.208e+10 Linear regression models with null weight for the l1 regularization term are more efficiently fitted using one of the solvers implemented in sklearn.linear_model.Ridge/RidgeCV instead.\n",
      "  coef_, l1_reg, l2_reg, X, y, max_iter, tol, rng, random, positive\n"
     ]
    },
    {
     "data": {
      "text/plain": [
       "RandomizedSearchCV(cv=5, estimator=ElasticNet(), n_iter=100,\n",
       "                   param_distributions={'alpha': <scipy.stats._distn_infrastructure.rv_frozen object at 0x000001EB52DBBF08>})"
      ]
     },
     "execution_count": 71,
     "metadata": {},
     "output_type": "execute_result"
    }
   ],
   "source": [
    "## Random Search\n",
    "\n",
    "from scipy.stats import randint\n",
    "param_distribs = {'alpha':randint(low=0.00001, high=10)}\n",
    "from sklearn.model_selection import RandomizedSearchCV\n",
    "random_search = RandomizedSearchCV(ElasticNet(), param_distributions=param_distribs, n_iter=100, cv=5)\n",
    "random_search.fit(X_scaled_train, y_train)"
   ]
  },
  {
   "cell_type": "code",
   "execution_count": 72,
   "metadata": {},
   "outputs": [
    {
     "name": "stdout",
     "output_type": "stream",
     "text": [
      "Best Parameter:{'alpha': 0}\n",
      "Best Score:0.5452\n",
      "TestSet Score:0.5627\n"
     ]
    }
   ],
   "source": [
    "print(\"Best Parameter:{}\".format(random_search.best_params_))\n",
    "print(\"Best Score:{:.4f}\".format(random_search.best_score_))\n",
    "print(\"TestSet Score:{:.4f}\".format(random_search.score(X_scaled_test, y_test)))"
   ]
  },
  {
   "cell_type": "code",
   "execution_count": 1,
   "metadata": {},
   "outputs": [],
   "source": [
    "## 군집분석 \n",
    "import warnings \n",
    "warnings.filterwarnings(\"ignore\")\n",
    "import numpy as np \n",
    "import pandas as pd\n",
    "import matplotlib.pyplot as plt\n",
    "plt.style.use('seaborn-deep')\n",
    "import matplotlib.cm\n",
    "cmap=matplotlib.cm.get_cmap('plasma')\n",
    "from sklearn.cluster import KMeans"
   ]
  },
  {
   "cell_type": "code",
   "execution_count": 2,
   "metadata": {},
   "outputs": [
    {
     "data": {
      "text/html": [
       "<div>\n",
       "<style scoped>\n",
       "    .dataframe tbody tr th:only-of-type {\n",
       "        vertical-align: middle;\n",
       "    }\n",
       "\n",
       "    .dataframe tbody tr th {\n",
       "        vertical-align: top;\n",
       "    }\n",
       "\n",
       "    .dataframe thead th {\n",
       "        text-align: right;\n",
       "    }\n",
       "</style>\n",
       "<table border=\"1\" class=\"dataframe\">\n",
       "  <thead>\n",
       "    <tr style=\"text-align: right;\">\n",
       "      <th></th>\n",
       "      <th>Income</th>\n",
       "      <th>Spend</th>\n",
       "    </tr>\n",
       "  </thead>\n",
       "  <tbody>\n",
       "    <tr>\n",
       "      <th>0</th>\n",
       "      <td>15</td>\n",
       "      <td>39</td>\n",
       "    </tr>\n",
       "    <tr>\n",
       "      <th>1</th>\n",
       "      <td>15</td>\n",
       "      <td>81</td>\n",
       "    </tr>\n",
       "    <tr>\n",
       "      <th>2</th>\n",
       "      <td>16</td>\n",
       "      <td>6</td>\n",
       "    </tr>\n",
       "    <tr>\n",
       "      <th>3</th>\n",
       "      <td>16</td>\n",
       "      <td>77</td>\n",
       "    </tr>\n",
       "    <tr>\n",
       "      <th>4</th>\n",
       "      <td>17</td>\n",
       "      <td>40</td>\n",
       "    </tr>\n",
       "  </tbody>\n",
       "</table>\n",
       "</div>"
      ],
      "text/plain": [
       "   Income  Spend\n",
       "0      15     39\n",
       "1      15     81\n",
       "2      16      6\n",
       "3      16     77\n",
       "4      17     40"
      ]
     },
     "execution_count": 2,
     "metadata": {},
     "output_type": "execute_result"
    }
   ],
   "source": [
    "data = pd.read_csv(\"C:/Users/MJ/Desktop/새 폴더 (2)/[2] 교재 data/Mall_Customers.csv\", \n",
    "                   encoding=\"UTF-8-sig\")\n",
    "X = data.iloc[:, [3,4]]\n",
    "X.head()"
   ]
  },
  {
   "cell_type": "code",
   "execution_count": 3,
   "metadata": {},
   "outputs": [
    {
     "data": {
      "text/html": [
       "<div>\n",
       "<style scoped>\n",
       "    .dataframe tbody tr th:only-of-type {\n",
       "        vertical-align: middle;\n",
       "    }\n",
       "\n",
       "    .dataframe tbody tr th {\n",
       "        vertical-align: top;\n",
       "    }\n",
       "\n",
       "    .dataframe thead th {\n",
       "        text-align: right;\n",
       "    }\n",
       "</style>\n",
       "<table border=\"1\" class=\"dataframe\">\n",
       "  <thead>\n",
       "    <tr style=\"text-align: right;\">\n",
       "      <th></th>\n",
       "      <th>ID</th>\n",
       "      <th>Gender</th>\n",
       "      <th>Age</th>\n",
       "      <th>Income</th>\n",
       "      <th>Spend</th>\n",
       "    </tr>\n",
       "  </thead>\n",
       "  <tbody>\n",
       "    <tr>\n",
       "      <th>0</th>\n",
       "      <td>1</td>\n",
       "      <td>Male</td>\n",
       "      <td>19</td>\n",
       "      <td>15</td>\n",
       "      <td>39</td>\n",
       "    </tr>\n",
       "    <tr>\n",
       "      <th>1</th>\n",
       "      <td>2</td>\n",
       "      <td>Male</td>\n",
       "      <td>21</td>\n",
       "      <td>15</td>\n",
       "      <td>81</td>\n",
       "    </tr>\n",
       "    <tr>\n",
       "      <th>2</th>\n",
       "      <td>3</td>\n",
       "      <td>Female</td>\n",
       "      <td>20</td>\n",
       "      <td>16</td>\n",
       "      <td>6</td>\n",
       "    </tr>\n",
       "    <tr>\n",
       "      <th>3</th>\n",
       "      <td>4</td>\n",
       "      <td>Female</td>\n",
       "      <td>23</td>\n",
       "      <td>16</td>\n",
       "      <td>77</td>\n",
       "    </tr>\n",
       "    <tr>\n",
       "      <th>4</th>\n",
       "      <td>5</td>\n",
       "      <td>Female</td>\n",
       "      <td>31</td>\n",
       "      <td>17</td>\n",
       "      <td>40</td>\n",
       "    </tr>\n",
       "  </tbody>\n",
       "</table>\n",
       "</div>"
      ],
      "text/plain": [
       "   ID  Gender  Age  Income  Spend\n",
       "0   1    Male   19      15     39\n",
       "1   2    Male   21      15     81\n",
       "2   3  Female   20      16      6\n",
       "3   4  Female   23      16     77\n",
       "4   5  Female   31      17     40"
      ]
     },
     "execution_count": 3,
     "metadata": {},
     "output_type": "execute_result"
    }
   ],
   "source": [
    "data.head()"
   ]
  },
  {
   "cell_type": "code",
   "execution_count": 4,
   "metadata": {},
   "outputs": [
    {
     "data": {
      "text/plain": [
       "[269981.28,\n",
       " 181363.59595959593,\n",
       " 106348.37306211118,\n",
       " 73679.78903948836,\n",
       " 44448.45544793371,\n",
       " 37233.81451071001,\n",
       " 30241.343617936593,\n",
       " 25094.432930794697,\n",
       " 21850.165282585633,\n",
       " 19643.655552199743,\n",
       " 17615.645251508537,\n",
       " 15817.245013841313,\n",
       " 15039.833115095615,\n",
       " 12793.951692914929,\n",
       " 11938.461998527788,\n",
       " 10803.381903622692,\n",
       " 10295.765823307127,\n",
       " 9792.53878066378,\n",
       " 8774.008935097298,\n",
       " 8152.179531167894]"
      ]
     },
     "execution_count": 4,
     "metadata": {},
     "output_type": "execute_result"
    }
   ],
   "source": [
    "wcss = []\n",
    "\n",
    "for i in range(1, 21):\n",
    "    kmeans = KMeans(n_clusters=i)\n",
    "    kmeans.fit_transform(X)\n",
    "    wcss.append(kmeans.inertia_)\n",
    "\n",
    "wcss"
   ]
  },
  {
   "cell_type": "code",
   "execution_count": 5,
   "metadata": {},
   "outputs": [
    {
     "name": "stderr",
     "output_type": "stream",
     "text": [
      "findfont: Font family ['Hancom Gothic Regular'] not found. Falling back to DejaVu Sans.\n",
      "findfont: Font family ['Hancom Gothic Regular'] not found. Falling back to DejaVu Sans.\n"
     ]
    },
    {
     "data": {
      "image/png": "[encoded data removed]",
      "text/plain": [
       "<Figure size 432x288 with 1 Axes>"
      ]
     },
     "metadata": {
      "needs_background": "light"
     },
     "output_type": "display_data"
    }
   ],
   "source": [
    "plt.figure()\n",
    "plt.plot(range(1,21), wcss)\n",
    "plt.title('The Elbow Method')\n",
    "plt.xlabel('Number of clusters')\n",
    "plt.ylabel('WCSS')\n",
    "plt.show()"
   ]
  },
  {
   "cell_type": "code",
   "execution_count": 6,
   "metadata": {},
   "outputs": [
    {
     "data": {
      "text/plain": [
       "array([4, 2, 4, 2, 4, 2, 4, 2, 4, 2, 4, 2, 4, 2, 4, 2, 4, 2, 4, 2, 4, 2,\n",
       "       4, 2, 4, 2, 4, 2, 4, 2, 4, 2, 4, 2, 4, 2, 4, 2, 4, 2, 4, 2, 4, 1,\n",
       "       4, 2, 1, 1, 1, 1, 1, 1, 1, 1, 1, 1, 1, 1, 1, 1, 1, 1, 1, 1, 1, 1,\n",
       "       1, 1, 1, 1, 1, 1, 1, 1, 1, 1, 1, 1, 1, 1, 1, 1, 1, 1, 1, 1, 1, 1,\n",
       "       1, 1, 1, 1, 1, 1, 1, 1, 1, 1, 1, 1, 1, 1, 1, 1, 1, 1, 1, 1, 1, 1,\n",
       "       1, 1, 1, 1, 1, 1, 1, 1, 1, 1, 1, 1, 1, 0, 3, 0, 1, 0, 3, 0, 3, 0,\n",
       "       1, 0, 3, 0, 3, 0, 3, 0, 3, 0, 1, 0, 3, 0, 3, 0, 3, 0, 3, 0, 3, 0,\n",
       "       3, 0, 3, 0, 3, 0, 3, 0, 3, 0, 3, 0, 3, 0, 3, 0, 3, 0, 3, 0, 3, 0,\n",
       "       3, 0, 3, 0, 3, 0, 3, 0, 3, 0, 3, 0, 3, 0, 3, 0, 3, 0, 3, 0, 3, 0,\n",
       "       3, 0])"
      ]
     },
     "execution_count": 6,
     "metadata": {},
     "output_type": "execute_result"
    }
   ],
   "source": [
    "k=5\n",
    "kmeans = KMeans(n_clusters=k)\n",
    "y_kmeans = kmeans.fit_predict(X)\n",
    "y_kmeans"
   ]
  },
  {
   "cell_type": "code",
   "execution_count": 7,
   "metadata": {},
   "outputs": [
    {
     "data": {
      "text/html": [
       "<div>\n",
       "<style scoped>\n",
       "    .dataframe tbody tr th:only-of-type {\n",
       "        vertical-align: middle;\n",
       "    }\n",
       "\n",
       "    .dataframe tbody tr th {\n",
       "        vertical-align: top;\n",
       "    }\n",
       "\n",
       "    .dataframe thead th {\n",
       "        text-align: right;\n",
       "    }\n",
       "</style>\n",
       "<table border=\"1\" class=\"dataframe\">\n",
       "  <thead>\n",
       "    <tr style=\"text-align: right;\">\n",
       "      <th></th>\n",
       "      <th>ID</th>\n",
       "      <th>Gender</th>\n",
       "      <th>Age</th>\n",
       "      <th>Income</th>\n",
       "      <th>Spend</th>\n",
       "      <th>Group</th>\n",
       "    </tr>\n",
       "  </thead>\n",
       "  <tbody>\n",
       "    <tr>\n",
       "      <th>0</th>\n",
       "      <td>1</td>\n",
       "      <td>Male</td>\n",
       "      <td>19</td>\n",
       "      <td>15</td>\n",
       "      <td>39</td>\n",
       "      <td>4</td>\n",
       "    </tr>\n",
       "    <tr>\n",
       "      <th>1</th>\n",
       "      <td>2</td>\n",
       "      <td>Male</td>\n",
       "      <td>21</td>\n",
       "      <td>15</td>\n",
       "      <td>81</td>\n",
       "      <td>2</td>\n",
       "    </tr>\n",
       "    <tr>\n",
       "      <th>2</th>\n",
       "      <td>3</td>\n",
       "      <td>Female</td>\n",
       "      <td>20</td>\n",
       "      <td>16</td>\n",
       "      <td>6</td>\n",
       "      <td>4</td>\n",
       "    </tr>\n",
       "    <tr>\n",
       "      <th>3</th>\n",
       "      <td>4</td>\n",
       "      <td>Female</td>\n",
       "      <td>23</td>\n",
       "      <td>16</td>\n",
       "      <td>77</td>\n",
       "      <td>2</td>\n",
       "    </tr>\n",
       "    <tr>\n",
       "      <th>4</th>\n",
       "      <td>5</td>\n",
       "      <td>Female</td>\n",
       "      <td>31</td>\n",
       "      <td>17</td>\n",
       "      <td>40</td>\n",
       "      <td>4</td>\n",
       "    </tr>\n",
       "    <tr>\n",
       "      <th>...</th>\n",
       "      <td>...</td>\n",
       "      <td>...</td>\n",
       "      <td>...</td>\n",
       "      <td>...</td>\n",
       "      <td>...</td>\n",
       "      <td>...</td>\n",
       "    </tr>\n",
       "    <tr>\n",
       "      <th>195</th>\n",
       "      <td>196</td>\n",
       "      <td>Female</td>\n",
       "      <td>35</td>\n",
       "      <td>120</td>\n",
       "      <td>79</td>\n",
       "      <td>0</td>\n",
       "    </tr>\n",
       "    <tr>\n",
       "      <th>196</th>\n",
       "      <td>197</td>\n",
       "      <td>Female</td>\n",
       "      <td>45</td>\n",
       "      <td>126</td>\n",
       "      <td>28</td>\n",
       "      <td>3</td>\n",
       "    </tr>\n",
       "    <tr>\n",
       "      <th>197</th>\n",
       "      <td>198</td>\n",
       "      <td>Male</td>\n",
       "      <td>32</td>\n",
       "      <td>126</td>\n",
       "      <td>74</td>\n",
       "      <td>0</td>\n",
       "    </tr>\n",
       "    <tr>\n",
       "      <th>198</th>\n",
       "      <td>199</td>\n",
       "      <td>Male</td>\n",
       "      <td>32</td>\n",
       "      <td>137</td>\n",
       "      <td>18</td>\n",
       "      <td>3</td>\n",
       "    </tr>\n",
       "    <tr>\n",
       "      <th>199</th>\n",
       "      <td>200</td>\n",
       "      <td>Male</td>\n",
       "      <td>30</td>\n",
       "      <td>137</td>\n",
       "      <td>83</td>\n",
       "      <td>0</td>\n",
       "    </tr>\n",
       "  </tbody>\n",
       "</table>\n",
       "<p>200 rows × 6 columns</p>\n",
       "</div>"
      ],
      "text/plain": [
       "      ID  Gender  Age  Income  Spend  Group\n",
       "0      1    Male   19      15     39      4\n",
       "1      2    Male   21      15     81      2\n",
       "2      3  Female   20      16      6      4\n",
       "3      4  Female   23      16     77      2\n",
       "4      5  Female   31      17     40      4\n",
       "..   ...     ...  ...     ...    ...    ...\n",
       "195  196  Female   35     120     79      0\n",
       "196  197  Female   45     126     28      3\n",
       "197  198    Male   32     126     74      0\n",
       "198  199    Male   32     137     18      3\n",
       "199  200    Male   30     137     83      0\n",
       "\n",
       "[200 rows x 6 columns]"
      ]
     },
     "execution_count": 7,
     "metadata": {},
     "output_type": "execute_result"
    }
   ],
   "source": [
    "Group_cluster=pd.DataFrame(y_kmeans)\n",
    "Group_cluster.columns=['Group']\n",
    "full_data=pd.concat([data, Group_cluster], axis=1)\n",
    "full_data"
   ]
  },
  {
   "cell_type": "code",
   "execution_count": 8,
   "metadata": {},
   "outputs": [
    {
     "data": {
      "text/plain": [
       "array([[55.2962963 , 49.51851852],\n",
       "       [88.2       , 17.11428571],\n",
       "       [26.30434783, 20.91304348],\n",
       "       [25.72727273, 79.36363636],\n",
       "       [86.53846154, 82.12820513]])"
      ]
     },
     "execution_count": 8,
     "metadata": {},
     "output_type": "execute_result"
    }
   ],
   "source": [
    "kmeans_pred=KMeans(n_clusters=k, random_state=42).fit(X)\n",
    "kmeans_pred.cluster_centers_"
   ]
  },
  {
   "cell_type": "code",
   "execution_count": 9,
   "metadata": {},
   "outputs": [
    {
     "data": {
      "text/plain": [
       "array([4, 3])"
      ]
     },
     "execution_count": 9,
     "metadata": {},
     "output_type": "execute_result"
    }
   ],
   "source": [
    "kmeans_pred.predict([[100, 50], [30, 80]])"
   ]
  },
  {
   "cell_type": "code",
   "execution_count": 10,
   "metadata": {},
   "outputs": [
    {
     "data": {
      "text/plain": [
       "['Cluster1', 'Cluster2', 'Cluster3', 'Cluster4', 'Cluster5']"
      ]
     },
     "execution_count": 10,
     "metadata": {},
     "output_type": "execute_result"
    }
   ],
   "source": [
    "labels = [('Cluster' + str(i+1)) for i in range(k)]\n",
    "labels"
   ]
  },
  {
   "cell_type": "code",
   "execution_count": 11,
   "metadata": {},
   "outputs": [
    {
     "name": "stderr",
     "output_type": "stream",
     "text": [
      "'c' argument looks like a single numeric RGB or RGBA sequence, which should be avoided as value-mapping will have precedence in case its length matches with 'x' & 'y'.  Please use a 2-D array with a single row if you really want to specify the same RGB or RGBA value for all points.\n",
      "'c' argument looks like a single numeric RGB or RGBA sequence, which should be avoided as value-mapping will have precedence in case its length matches with 'x' & 'y'.  Please use a 2-D array with a single row if you really want to specify the same RGB or RGBA value for all points.\n",
      "'c' argument looks like a single numeric RGB or RGBA sequence, which should be avoided as value-mapping will have precedence in case its length matches with 'x' & 'y'.  Please use a 2-D array with a single row if you really want to specify the same RGB or RGBA value for all points.\n",
      "'c' argument looks like a single numeric RGB or RGBA sequence, which should be avoided as value-mapping will have precedence in case its length matches with 'x' & 'y'.  Please use a 2-D array with a single row if you really want to specify the same RGB or RGBA value for all points.\n",
      "'c' argument looks like a single numeric RGB or RGBA sequence, which should be avoided as value-mapping will have precedence in case its length matches with 'x' & 'y'.  Please use a 2-D array with a single row if you really want to specify the same RGB or RGBA value for all points.\n"
     ]
    },
    {
     "data": {
      "image/png": "[encoded data removed]",
      "text/plain": [
       "<Figure size 432x288 with 1 Axes>"
      ]
     },
     "metadata": {
      "needs_background": "light"
     },
     "output_type": "display_data"
    }
   ],
   "source": [
    "X=np.array(X)\n",
    "plt.figure()\n",
    "for i in range(k):\n",
    "    plt.scatter(X[y_kmeans == i, 0], X[y_kmeans == i, 1], s=20, c = cmap(i/k), label=labels[i])"
   ]
  },
  {
   "cell_type": "code",
   "execution_count": 12,
   "metadata": {},
   "outputs": [
    {
     "data": {
      "image/png": "[encoded data removed]",
      "text/plain": [
       "<Figure size 432x288 with 1 Axes>"
      ]
     },
     "metadata": {
      "needs_background": "light"
     },
     "output_type": "display_data"
    }
   ],
   "source": [
    "plt.scatter(kmeans.cluster_centers_[:,0], kmeans.cluster_centers_[:,1],\n",
    "           s=100, c='black', label='Centroids', marker='X')\n",
    "plt.xlabel('Income')\n",
    "plt.ylabel('Spend')\n",
    "plt.title('Kmeans cluster plot')\n",
    "plt.legend()\n",
    "plt.show()"
   ]
  },
  {
   "cell_type": "code",
   "execution_count": 14,
   "metadata": {},
   "outputs": [
    {
     "name": "stderr",
     "output_type": "stream",
     "text": [
      "'c' argument looks like a single numeric RGB or RGBA sequence, which should be avoided as value-mapping will have precedence in case its length matches with 'x' & 'y'.  Please use a 2-D array with a single row if you really want to specify the same RGB or RGBA value for all points.\n",
      "'c' argument looks like a single numeric RGB or RGBA sequence, which should be avoided as value-mapping will have precedence in case its length matches with 'x' & 'y'.  Please use a 2-D array with a single row if you really want to specify the same RGB or RGBA value for all points.\n",
      "'c' argument looks like a single numeric RGB or RGBA sequence, which should be avoided as value-mapping will have precedence in case its length matches with 'x' & 'y'.  Please use a 2-D array with a single row if you really want to specify the same RGB or RGBA value for all points.\n",
      "'c' argument looks like a single numeric RGB or RGBA sequence, which should be avoided as value-mapping will have precedence in case its length matches with 'x' & 'y'.  Please use a 2-D array with a single row if you really want to specify the same RGB or RGBA value for all points.\n",
      "'c' argument looks like a single numeric RGB or RGBA sequence, which should be avoided as value-mapping will have precedence in case its length matches with 'x' & 'y'.  Please use a 2-D array with a single row if you really want to specify the same RGB or RGBA value for all points.\n"
     ]
    },
    {
     "data": {
      "image/png": "[encoded data removed]",
      "text/plain": [
       "<Figure size 432x288 with 1 Axes>"
      ]
     },
     "metadata": {
      "needs_background": "light"
     },
     "output_type": "display_data"
    }
   ],
   "source": [
    "plt.figure()\n",
    "for i in range(k):\n",
    "    plt.scatter(X[y_kmeans==i,0], X[y_kmeans==i, 1], s=20, c=cmap(i/k), label=labels[i])\n",
    "plt.scatter(kmeans.cluster_centers_[:,0], kmeans.cluster_centers_[:,1], s=100, \n",
    "            c='black', label='Centroids', marker='X')\n",
    "plt.xlabel('Income')\n",
    "plt.ylabel('Spend')\n",
    "plt.title('Kmeans cluster plot')\n",
    "plt.legend()\n",
    "plt.show()"
   ]
  },
  {
   "cell_type": "code",
   "execution_count": 15,
   "metadata": {},
   "outputs": [],
   "source": [
    "## k-mean Clustering\n",
    "from scipy.spatial.distance import cdist, pdist\n",
    "from sklearn.cluster import KMeans\n",
    "from sklearn.metrics import silhouette_score"
   ]
  },
  {
   "cell_type": "code",
   "execution_count": 17,
   "metadata": {},
   "outputs": [
    {
     "name": "stdout",
     "output_type": "stream",
     "text": [
      "   sepal_length  sepal_width  petal_length  petal_width        class\n",
      "0           5.1          3.5           1.4          0.2  Iris-setosa\n",
      "1           4.9          3.0           1.4          0.2  Iris-setosa\n",
      "2           4.7          3.2           1.3          0.2  Iris-setosa\n",
      "3           4.6          3.1           1.5          0.2  Iris-setosa\n",
      "4           5.0          3.6           1.4          0.2  Iris-setosa\n"
     ]
    }
   ],
   "source": [
    "iris = pd.read_csv(\"C:/Users/MJ/Desktop/새 폴더 (2)/[2] 교재 data/iris.csv\", encoding=\"UTF-8-sig\")\n",
    "print(iris.head())"
   ]
  },
  {
   "cell_type": "code",
   "execution_count": 18,
   "metadata": {},
   "outputs": [
    {
     "data": {
      "text/html": [
       "<div>\n",
       "<style scoped>\n",
       "    .dataframe tbody tr th:only-of-type {\n",
       "        vertical-align: middle;\n",
       "    }\n",
       "\n",
       "    .dataframe tbody tr th {\n",
       "        vertical-align: top;\n",
       "    }\n",
       "\n",
       "    .dataframe thead th {\n",
       "        text-align: right;\n",
       "    }\n",
       "</style>\n",
       "<table border=\"1\" class=\"dataframe\">\n",
       "  <thead>\n",
       "    <tr style=\"text-align: right;\">\n",
       "      <th></th>\n",
       "      <th>sepal_length</th>\n",
       "      <th>sepal_width</th>\n",
       "      <th>petal_length</th>\n",
       "      <th>petal_width</th>\n",
       "    </tr>\n",
       "  </thead>\n",
       "  <tbody>\n",
       "    <tr>\n",
       "      <th>0</th>\n",
       "      <td>5.1</td>\n",
       "      <td>3.5</td>\n",
       "      <td>1.4</td>\n",
       "      <td>0.2</td>\n",
       "    </tr>\n",
       "    <tr>\n",
       "      <th>1</th>\n",
       "      <td>4.9</td>\n",
       "      <td>3.0</td>\n",
       "      <td>1.4</td>\n",
       "      <td>0.2</td>\n",
       "    </tr>\n",
       "    <tr>\n",
       "      <th>2</th>\n",
       "      <td>4.7</td>\n",
       "      <td>3.2</td>\n",
       "      <td>1.3</td>\n",
       "      <td>0.2</td>\n",
       "    </tr>\n",
       "    <tr>\n",
       "      <th>3</th>\n",
       "      <td>4.6</td>\n",
       "      <td>3.1</td>\n",
       "      <td>1.5</td>\n",
       "      <td>0.2</td>\n",
       "    </tr>\n",
       "    <tr>\n",
       "      <th>4</th>\n",
       "      <td>5.0</td>\n",
       "      <td>3.6</td>\n",
       "      <td>1.4</td>\n",
       "      <td>0.2</td>\n",
       "    </tr>\n",
       "  </tbody>\n",
       "</table>\n",
       "</div>"
      ],
      "text/plain": [
       "   sepal_length  sepal_width  petal_length  petal_width\n",
       "0           5.1          3.5           1.4          0.2\n",
       "1           4.9          3.0           1.4          0.2\n",
       "2           4.7          3.2           1.3          0.2\n",
       "3           4.6          3.1           1.5          0.2\n",
       "4           5.0          3.6           1.4          0.2"
      ]
     },
     "execution_count": 18,
     "metadata": {},
     "output_type": "execute_result"
    }
   ],
   "source": [
    "X_iris = iris.drop(['class'], axis=1)\n",
    "y_iris = iris[\"class\"]\n",
    "X_iris.head()"
   ]
  },
  {
   "cell_type": "code",
   "execution_count": 19,
   "metadata": {},
   "outputs": [
    {
     "data": {
      "text/plain": [
       "0    Iris-setosa\n",
       "1    Iris-setosa\n",
       "2    Iris-setosa\n",
       "3    Iris-setosa\n",
       "4    Iris-setosa\n",
       "Name: class, dtype: object"
      ]
     },
     "execution_count": 19,
     "metadata": {},
     "output_type": "execute_result"
    }
   ],
   "source": [
    "y_iris.head()"
   ]
  },
  {
   "cell_type": "code",
   "execution_count": 20,
   "metadata": {},
   "outputs": [
    {
     "data": {
      "text/html": [
       "<div>\n",
       "<style scoped>\n",
       "    .dataframe tbody tr th:only-of-type {\n",
       "        vertical-align: middle;\n",
       "    }\n",
       "\n",
       "    .dataframe tbody tr th {\n",
       "        vertical-align: top;\n",
       "    }\n",
       "\n",
       "    .dataframe thead th {\n",
       "        text-align: right;\n",
       "    }\n",
       "</style>\n",
       "<table border=\"1\" class=\"dataframe\">\n",
       "  <thead>\n",
       "    <tr style=\"text-align: right;\">\n",
       "      <th></th>\n",
       "      <th>sepal_length</th>\n",
       "      <th>sepal_width</th>\n",
       "      <th>petal_length</th>\n",
       "      <th>petal_width</th>\n",
       "    </tr>\n",
       "  </thead>\n",
       "  <tbody>\n",
       "    <tr>\n",
       "      <th>count</th>\n",
       "      <td>150.000000</td>\n",
       "      <td>150.000000</td>\n",
       "      <td>150.000000</td>\n",
       "      <td>150.000000</td>\n",
       "    </tr>\n",
       "    <tr>\n",
       "      <th>mean</th>\n",
       "      <td>5.843333</td>\n",
       "      <td>3.054000</td>\n",
       "      <td>3.758667</td>\n",
       "      <td>1.198667</td>\n",
       "    </tr>\n",
       "    <tr>\n",
       "      <th>std</th>\n",
       "      <td>0.828066</td>\n",
       "      <td>0.433594</td>\n",
       "      <td>1.764420</td>\n",
       "      <td>0.763161</td>\n",
       "    </tr>\n",
       "    <tr>\n",
       "      <th>min</th>\n",
       "      <td>4.300000</td>\n",
       "      <td>2.000000</td>\n",
       "      <td>1.000000</td>\n",
       "      <td>0.100000</td>\n",
       "    </tr>\n",
       "    <tr>\n",
       "      <th>25%</th>\n",
       "      <td>5.100000</td>\n",
       "      <td>2.800000</td>\n",
       "      <td>1.600000</td>\n",
       "      <td>0.300000</td>\n",
       "    </tr>\n",
       "    <tr>\n",
       "      <th>50%</th>\n",
       "      <td>5.800000</td>\n",
       "      <td>3.000000</td>\n",
       "      <td>4.350000</td>\n",
       "      <td>1.300000</td>\n",
       "    </tr>\n",
       "    <tr>\n",
       "      <th>75%</th>\n",
       "      <td>6.400000</td>\n",
       "      <td>3.300000</td>\n",
       "      <td>5.100000</td>\n",
       "      <td>1.800000</td>\n",
       "    </tr>\n",
       "    <tr>\n",
       "      <th>max</th>\n",
       "      <td>7.900000</td>\n",
       "      <td>4.400000</td>\n",
       "      <td>6.900000</td>\n",
       "      <td>2.500000</td>\n",
       "    </tr>\n",
       "  </tbody>\n",
       "</table>\n",
       "</div>"
      ],
      "text/plain": [
       "       sepal_length  sepal_width  petal_length  petal_width\n",
       "count    150.000000   150.000000    150.000000   150.000000\n",
       "mean       5.843333     3.054000      3.758667     1.198667\n",
       "std        0.828066     0.433594      1.764420     0.763161\n",
       "min        4.300000     2.000000      1.000000     0.100000\n",
       "25%        5.100000     2.800000      1.600000     0.300000\n",
       "50%        5.800000     3.000000      4.350000     1.300000\n",
       "75%        6.400000     3.300000      5.100000     1.800000\n",
       "max        7.900000     4.400000      6.900000     2.500000"
      ]
     },
     "execution_count": 20,
     "metadata": {},
     "output_type": "execute_result"
    }
   ],
   "source": [
    "X_iris.describe()"
   ]
  },
  {
   "cell_type": "code",
   "execution_count": 22,
   "metadata": {},
   "outputs": [
    {
     "data": {
      "text/html": [
       "<div>\n",
       "<style scoped>\n",
       "    .dataframe tbody tr th:only-of-type {\n",
       "        vertical-align: middle;\n",
       "    }\n",
       "\n",
       "    .dataframe tbody tr th {\n",
       "        vertical-align: top;\n",
       "    }\n",
       "\n",
       "    .dataframe thead th {\n",
       "        text-align: right;\n",
       "    }\n",
       "</style>\n",
       "<table border=\"1\" class=\"dataframe\">\n",
       "  <thead>\n",
       "    <tr style=\"text-align: right;\">\n",
       "      <th></th>\n",
       "      <th>0</th>\n",
       "      <th>1</th>\n",
       "      <th>2</th>\n",
       "      <th>3</th>\n",
       "    </tr>\n",
       "  </thead>\n",
       "  <tbody>\n",
       "    <tr>\n",
       "      <th>0</th>\n",
       "      <td>-0.900681</td>\n",
       "      <td>1.032057</td>\n",
       "      <td>-1.341272</td>\n",
       "      <td>-1.312977</td>\n",
       "    </tr>\n",
       "    <tr>\n",
       "      <th>1</th>\n",
       "      <td>-1.143017</td>\n",
       "      <td>-0.124958</td>\n",
       "      <td>-1.341272</td>\n",
       "      <td>-1.312977</td>\n",
       "    </tr>\n",
       "    <tr>\n",
       "      <th>2</th>\n",
       "      <td>-1.385353</td>\n",
       "      <td>0.337848</td>\n",
       "      <td>-1.398138</td>\n",
       "      <td>-1.312977</td>\n",
       "    </tr>\n",
       "    <tr>\n",
       "      <th>3</th>\n",
       "      <td>-1.506521</td>\n",
       "      <td>0.106445</td>\n",
       "      <td>-1.284407</td>\n",
       "      <td>-1.312977</td>\n",
       "    </tr>\n",
       "    <tr>\n",
       "      <th>4</th>\n",
       "      <td>-1.021849</td>\n",
       "      <td>1.263460</td>\n",
       "      <td>-1.341272</td>\n",
       "      <td>-1.312977</td>\n",
       "    </tr>\n",
       "  </tbody>\n",
       "</table>\n",
       "</div>"
      ],
      "text/plain": [
       "          0         1         2         3\n",
       "0 -0.900681  1.032057 -1.341272 -1.312977\n",
       "1 -1.143017 -0.124958 -1.341272 -1.312977\n",
       "2 -1.385353  0.337848 -1.398138 -1.312977\n",
       "3 -1.506521  0.106445 -1.284407 -1.312977\n",
       "4 -1.021849  1.263460 -1.341272 -1.312977"
      ]
     },
     "execution_count": 22,
     "metadata": {},
     "output_type": "execute_result"
    }
   ],
   "source": [
    "from sklearn.preprocessing import StandardScaler\n",
    "scale=StandardScaler()\n",
    "scale.fit(X_iris)\n",
    "X_scale=scale.transform(X_iris)\n",
    "pd.DataFrame(X_scale).head()"
   ]
  },
  {
   "cell_type": "code",
   "execution_count": 23,
   "metadata": {},
   "outputs": [],
   "source": [
    "K = range(1,10)\n",
    "KM = [KMeans(n_clusters=k).fit(X_scale) for k in K]\n",
    "centroids = [k.cluster_centers_ for k in KM]"
   ]
  },
  {
   "cell_type": "code",
   "execution_count": 24,
   "metadata": {},
   "outputs": [
    {
     "data": {
      "text/plain": [
       "[array([[ 6.34507683],\n",
       "        [ 5.91692488],\n",
       "        [ 5.83609458],\n",
       "        [ 5.7497826 ],\n",
       "        [ 6.32139225],\n",
       "        [ 6.88621812],\n",
       "        [ 5.8966092 ],\n",
       "        [ 6.23297682],\n",
       "        [ 5.45618915],\n",
       "        [ 5.98999165],\n",
       "        [ 6.71863081],\n",
       "        [ 6.09918027],\n",
       "        [ 5.83180932],\n",
       "        [ 5.35817133],\n",
       "        [ 7.14982517],\n",
       "        [ 7.36613874],\n",
       "        [ 6.79852925],\n",
       "        [ 6.34901567],\n",
       "        [ 7.06470098],\n",
       "        [ 6.54140658],\n",
       "        [ 6.60681466],\n",
       "        [ 6.48922183],\n",
       "        [ 5.92958683],\n",
       "        [ 6.32771681],\n",
       "        [ 6.18465844],\n",
       "        [ 6.04979338],\n",
       "        [ 6.26737585],\n",
       "        [ 6.44825558],\n",
       "        [ 6.37181293],\n",
       "        [ 5.91016074],\n",
       "        [ 5.93717104],\n",
       "        [ 6.56734345],\n",
       "        [ 6.79043445],\n",
       "        [ 7.06328535],\n",
       "        [ 5.98999165],\n",
       "        [ 6.05970296],\n",
       "        [ 6.65056389],\n",
       "        [ 5.98999165],\n",
       "        [ 5.48543526],\n",
       "        [ 6.31347765],\n",
       "        [ 6.24739946],\n",
       "        [ 5.22685374],\n",
       "        [ 5.59732079],\n",
       "        [ 6.33798075],\n",
       "        [ 6.64981203],\n",
       "        [ 5.83866423],\n",
       "        [ 6.56124988],\n",
       "        [ 5.77927331],\n",
       "        [ 6.63852393],\n",
       "        [ 6.15548536],\n",
       "        [ 9.12633552],\n",
       "        [ 8.58487041],\n",
       "        [ 9.13673902],\n",
       "        [ 7.29588925],\n",
       "        [ 8.5732141 ],\n",
       "        [ 7.89113427],\n",
       "        [ 8.67352293],\n",
       "        [ 6.45445583],\n",
       "        [ 8.64985549],\n",
       "        [ 7.17635005],\n",
       "        [ 6.5       ],\n",
       "        [ 7.98122798],\n",
       "        [ 7.60526134],\n",
       "        [ 8.3468557 ],\n",
       "        [ 7.37699126],\n",
       "        [ 8.70746806],\n",
       "        [ 7.92842986],\n",
       "        [ 7.6642025 ],\n",
       "        [ 8.11048704],\n",
       "        [ 7.35051019],\n",
       "        [ 8.44570897],\n",
       "        [ 7.92085854],\n",
       "        [ 8.49705831],\n",
       "        [ 8.28130425],\n",
       "        [ 8.33966426],\n",
       "        [ 8.59534758],\n",
       "        [ 8.89269363],\n",
       "        [ 9.04322951],\n",
       "        [ 8.1798533 ],\n",
       "        [ 7.24568837],\n",
       "        [ 7.18748913],\n",
       "        [ 7.12039325],\n",
       "        [ 7.58814865],\n",
       "        [ 8.47702778],\n",
       "        [ 7.78845299],\n",
       "        [ 8.38868285],\n",
       "        [ 8.87918915],\n",
       "        [ 8.12588457],\n",
       "        [ 7.67202711],\n",
       "        [ 7.36138574],\n",
       "        [ 7.60328876],\n",
       "        [ 8.32646384],\n",
       "        [ 7.60526134],\n",
       "        [ 6.49461315],\n",
       "        [ 7.61445993],\n",
       "        [ 7.78267306],\n",
       "        [ 7.76079893],\n",
       "        [ 8.18718511],\n",
       "        [ 6.5169011 ],\n",
       "        [ 7.67007171],\n",
       "        [ 9.63483264],\n",
       "        [ 8.39940474],\n",
       "        [ 9.93126377],\n",
       "        [ 9.09395404],\n",
       "        [ 9.47259204],\n",
       "        [10.71120908],\n",
       "        [ 7.30753036],\n",
       "        [10.22888068],\n",
       "        [ 9.38189746],\n",
       "        [10.40480658],\n",
       "        [ 9.08295106],\n",
       "        [ 8.94147639],\n",
       "        [ 9.48156105],\n",
       "        [ 8.23043134],\n",
       "        [ 8.55862138],\n",
       "        [ 9.19673855],\n",
       "        [ 9.20543318],\n",
       "        [11.11125555],\n",
       "        [10.90642013],\n",
       "        [ 8.2516665 ],\n",
       "        [ 9.77905926],\n",
       "        [ 8.19817053],\n",
       "        [10.77125805],\n",
       "        [ 8.61568337],\n",
       "        [ 9.62704524],\n",
       "        [10.06578363],\n",
       "        [ 8.51821578],\n",
       "        [ 8.57088093],\n",
       "        [ 9.19619487],\n",
       "        [ 9.85088828],\n",
       "        [10.16956243],\n",
       "        [11.03675677],\n",
       "        [ 9.21954446],\n",
       "        [ 8.70574523],\n",
       "        [ 8.79147314],\n",
       "        [10.52568288],\n",
       "        [ 9.4005319 ],\n",
       "        [ 9.16842407],\n",
       "        [ 8.44274837],\n",
       "        [ 9.52837867],\n",
       "        [ 9.57183368],\n",
       "        [ 9.40850679],\n",
       "        [ 8.39940474],\n",
       "        [ 9.8275124 ],\n",
       "        [ 9.72213968],\n",
       "        [ 9.28547252],\n",
       "        [ 8.63423419],\n",
       "        [ 9.07138358],\n",
       "        [ 9.18966811],\n",
       "        [ 8.54751426]]),\n",
       " array([[ 6.10000756,  7.34065224],\n",
       "        [ 5.63399101,  7.00511603],\n",
       "        [ 5.59407898,  6.86424946],\n",
       "        [ 5.4817854 ,  6.82681606],\n",
       "        [ 6.09063058,  7.29477883],\n",
       "        [ 6.61514566,  7.89082098],\n",
       "        [ 5.65841305,  6.91376044],\n",
       "        [ 5.97384563,  7.25959342],\n",
       "        [ 5.18892219,  6.55633533],\n",
       "        [ 5.71761404,  7.05571677],\n",
       "        [ 6.46712394,  7.70051788],\n",
       "        [ 5.84031331,  7.13490299],\n",
       "        [ 5.5649641 ,  6.9005586 ],\n",
       "        [ 5.15437469,  6.36554814],\n",
       "        [ 6.93123481,  8.04992719],\n",
       "        [ 7.13988147,  8.26737836],\n",
       "        [ 6.56369586,  7.747332  ],\n",
       "        [ 6.09381485,  7.3611277 ],\n",
       "        [ 6.78137601,  8.07968061],\n",
       "        [ 6.30371189,  7.51144411],\n",
       "        [ 6.31031096,  7.67041792],\n",
       "        [ 6.23273937,  7.49408298],\n",
       "        [ 5.76398853,  6.82335932],\n",
       "        [ 6.0044674 ,  7.45238903],\n",
       "        [ 5.89642231,  7.26221507],\n",
       "        [ 5.74190048,  7.168439  ],\n",
       "        [ 5.97790248,  7.34130259],\n",
       "        [ 6.18854963,  7.46117061],\n",
       "        [ 6.11264294,  7.388948  ],\n",
       "        [ 5.6366884 ,  6.98361279],\n",
       "        [ 5.64858987,  7.03293856],\n",
       "        [ 6.26976669,  7.63514317],\n",
       "        [ 6.59234734,  7.67706148],\n",
       "        [ 6.85739567,  7.94654699],\n",
       "        [ 5.71761404,  7.05571677],\n",
       "        [ 5.81204214,  7.07995002],\n",
       "        [ 6.39568202,  7.64237286],\n",
       "        [ 5.71761404,  7.05571677],\n",
       "        [ 5.24019389,  6.54798411],\n",
       "        [ 6.04941102,  7.34265704],\n",
       "        [ 6.0072061 ,  7.24170626],\n",
       "        [ 4.88600516,  6.46059339],\n",
       "        [ 5.37290362,  6.6165832 ],\n",
       "        [ 6.03808935,  7.42417092],\n",
       "        [ 6.36547873,  7.69069055],\n",
       "        [ 5.54957653,  6.94260473],\n",
       "        [ 6.3239077 ,  7.52939192],\n",
       "        [ 5.53215055,  6.82026249],\n",
       "        [ 6.39180334,  7.61741819],\n",
       "        [ 5.8968711 ,  7.18673655],\n",
       "        [ 8.49984984, 10.62546306],\n",
       "        [ 7.96251577, 10.09069101],\n",
       "        [ 8.48929832, 10.66906687],\n",
       "        [ 6.63250837,  8.9014058 ],\n",
       "        [ 7.91408801, 10.13704996],\n",
       "        [ 7.25230762,  9.44157976],\n",
       "        [ 8.04554893, 10.18595331],\n",
       "        [ 5.86541549,  7.98117549],\n",
       "        [ 8.01165323, 10.17900707],\n",
       "        [ 6.55030066,  8.72997609],\n",
       "        [ 5.85608594,  8.10480566],\n",
       "        [ 7.35744175,  9.50586459],\n",
       "        [ 6.95594607,  9.18014098],\n",
       "        [ 7.6998621 ,  9.89745459],\n",
       "        [ 6.79014321,  8.86415649],\n",
       "        [ 8.08634984, 10.20819535],\n",
       "        [ 7.29416611,  9.47077829],\n",
       "        [ 7.05540694,  9.1753924 ],\n",
       "        [ 7.40555646,  9.75606616],\n",
       "        [ 6.72597088,  8.89595364],\n",
       "        [ 7.79557213,  9.99867342],\n",
       "        [ 7.30154596,  9.44035027],\n",
       "        [ 7.80330374, 10.11643521],\n",
       "        [ 7.63967744,  9.82527441],\n",
       "        [ 7.71433515,  9.85664376],\n",
       "        [ 7.96657273, 10.11102358],\n",
       "        [ 8.23243296, 10.45081121],\n",
       "        [ 8.37289421, 10.61388924],\n",
       "        [ 7.53424163,  9.73271626],\n",
       "        [ 6.65874773,  8.73770663],\n",
       "        [ 6.55868885,  8.74485912],\n",
       "        [ 6.50479824,  8.66028635],\n",
       "        [ 6.97342936,  9.11086855],\n",
       "        [ 7.78703382, 10.09106379],\n",
       "        [ 7.15596081,  9.33219212],\n",
       "        [ 7.77948826,  9.87899209],\n",
       "        [ 8.23966489, 10.40486449],\n",
       "        [ 7.44691566,  9.73150832],\n",
       "        [ 7.06950043,  9.17331386],\n",
       "        [ 6.71704017,  8.93633608],\n",
       "        [ 6.95890946,  9.17074251],\n",
       "        [ 7.69172249,  9.85850751],\n",
       "        [ 6.97667532,  9.14862628],\n",
       "        [ 5.89384512,  8.03682396],\n",
       "        [ 6.97958856,  9.1671177 ],\n",
       "        [ 7.18201946,  9.27752946],\n",
       "        [ 7.14364472,  9.28181232],\n",
       "        [ 7.56266372,  9.70708992],\n",
       "        [ 5.94645813,  8.01340322],\n",
       "        [ 7.04825632,  9.20106112],\n",
       "        [ 8.91655202, 11.26967436],\n",
       "        [ 7.69118151, 10.04324718],\n",
       "        [ 9.2126589 , 11.56153934],\n",
       "        [ 8.39276585, 10.71206436],\n",
       "        [ 8.75138882, 11.11493352],\n",
       "        [ 9.97759388, 12.35356631],\n",
       "        [ 6.61686372,  8.95318876],\n",
       "        [ 9.51002233, 11.8547168 ],\n",
       "        [ 8.64608516, 11.04879101],\n",
       "        [ 9.70278223, 12.00072472],\n",
       "        [ 8.40771718, 10.66048514],\n",
       "        [ 8.22706205, 10.583301  ],\n",
       "        [ 8.77322113, 11.1034473 ],\n",
       "        [ 7.50214933,  9.90862608],\n",
       "        [ 7.83013023, 10.23002841],\n",
       "        [ 8.49903829, 10.80731494],\n",
       "        [ 8.51412481, 10.80577241],\n",
       "        [10.42107319, 12.67705908],\n",
       "        [10.13368195, 12.60921648],\n",
       "        [ 7.53012238,  9.91916699],\n",
       "        [ 9.06942176, 11.39765492],\n",
       "        [ 7.49912543,  9.83267997],\n",
       "        [10.02833413, 12.42780709],\n",
       "        [ 7.9191838 , 10.23662131],\n",
       "        [ 8.93546771, 11.21963428],\n",
       "        [ 9.37422734, 11.65045422],\n",
       "        [ 7.83323997, 10.12354004],\n",
       "        [ 7.89930882, 10.15417156],\n",
       "        [ 8.47031826, 10.85093439],\n",
       "        [ 9.16185998, 11.43529639],\n",
       "        [ 9.44353212, 11.8078263 ],\n",
       "        [10.36283455, 12.57691059],\n",
       "        [ 8.488273  , 10.88227011],\n",
       "        [ 8.02952462, 10.29314474],\n",
       "        [ 8.09202038, 10.41315382],\n",
       "        [ 9.79348432, 12.16843004],\n",
       "        [ 8.70497529, 11.00373438],\n",
       "        [ 8.48504625, 10.75701354],\n",
       "        [ 7.77502576, 10.02313866],\n",
       "        [ 8.83021345, 11.13328436],\n",
       "        [ 8.85257427, 11.20933618],\n",
       "        [ 8.70879483, 11.01812802],\n",
       "        [ 7.69118151, 10.04324718],\n",
       "        [ 9.11289709, 11.45319053],\n",
       "        [ 9.01002396, 11.34567302],\n",
       "        [ 8.57503963, 10.91433693],\n",
       "        [ 7.91258554, 10.29355818],\n",
       "        [ 8.37739572, 10.67866292],\n",
       "        [ 8.50555943, 10.77897386],\n",
       "        [ 7.87026175, 10.14018343]]),\n",
       " array([[ 6.84296318,  7.34065224,  5.30353099],\n",
       "        [ 6.37775551,  7.00511603,  4.84029208],\n",
       "        [ 6.33461131,  6.86424946,  4.80556244],\n",
       "        [ 6.22914003,  6.82681606,  4.68416863],\n",
       "        [ 6.83316614,  7.29477883,  5.29483855],\n",
       "        [ 7.37557904,  7.89082098,  5.78998693],\n",
       "        [ 6.40729695,  6.91376044,  4.85688136],\n",
       "        [ 6.72015896,  7.25959342,  5.17346117],\n",
       "        [ 5.93375826,  6.55633533,  4.39814932],\n",
       "        [ 6.45822964,  7.05571677,  4.92780762],\n",
       "        [ 7.21241204,  7.70051788,  5.66462401],\n",
       "        [ 6.58945689,  7.13490299,  5.03684766],\n",
       "        [ 6.3025498 ,  6.9005586 ,  4.7811145 ],\n",
       "        [ 5.880513  ,  6.36554814,  4.39235572],\n",
       "        [ 7.66653491,  8.04992719,  6.13995053],\n",
       "        [ 7.89231288,  8.26737836,  6.32331215],\n",
       "        [ 7.3128101 ,  7.747332  ,  5.75508171],\n",
       "        [ 6.84249461,  7.3611277 ,  5.2890459 ],\n",
       "        [ 7.53655441,  8.07968061,  5.96281147],\n",
       "        [ 7.05396351,  7.51144411,  5.4951609 ],\n",
       "        [ 7.06128173,  7.67041792,  5.50067413],\n",
       "        [ 6.98898635,  7.49408298,  5.41596516],\n",
       "        [ 6.49076336,  6.82335932,  4.99410736],\n",
       "        [ 6.77320245,  7.45238903,  5.17088141],\n",
       "        [ 6.65300106,  7.26221507,  5.08154226],\n",
       "        [ 6.49128621,  7.168439  ,  4.93889917],\n",
       "        [ 6.73856103,  7.34130259,  5.1564113 ],\n",
       "        [ 6.9344562 ,  7.46117061,  5.38711358],\n",
       "        [ 6.85566414,  7.388948  ,  5.31597278],\n",
       "        [ 6.38660954,  6.98361279,  4.83380469],\n",
       "        [ 6.39865354,  7.03293856,  4.84538888],\n",
       "        [ 7.02622851,  7.63514317,  5.45243574],\n",
       "        [ 7.33003722,  7.67706148,  5.79987146],\n",
       "        [ 7.59794246,  7.94654699,  6.05916058],\n",
       "        [ 6.45822964,  7.05571677,  4.92780762],\n",
       "        [ 6.54881201,  7.07995002,  5.02703714],\n",
       "        [ 7.13483198,  7.64237286,  5.60249221],\n",
       "        [ 6.45822964,  7.05571677,  4.92780762],\n",
       "        [ 5.98122494,  6.54798411,  4.45462141],\n",
       "        [ 6.79562951,  7.34265704,  5.24857185],\n",
       "        [ 6.75271759,  7.24170626,  5.20773029],\n",
       "        [ 5.63260815,  6.46059339,  4.0961276 ],\n",
       "        [ 6.11286909,  6.6165832 ,  4.58748434],\n",
       "        [ 6.8089234 ,  7.42417092,  5.20119112],\n",
       "        [ 7.13119648,  7.69069055,  5.53410717],\n",
       "        [ 6.29994514,  6.94260473,  4.7468081 ],\n",
       "        [ 7.0714431 ,  7.52939192,  5.51914608],\n",
       "        [ 6.27596607,  6.82026249,  4.73934281],\n",
       "        [ 7.13714533,  7.61741819,  5.58973696],\n",
       "        [ 6.64033014,  7.18673655,  5.10130124],\n",
       "        [ 9.30312552, 10.62546306,  7.60802943],\n",
       "        [ 8.7738521 , 10.09069101,  7.06047804],\n",
       "        [ 9.29282609, 10.66906687,  7.59714965],\n",
       "        [ 7.43612242,  8.9014058 ,  5.74474661],\n",
       "        [ 8.71876051, 10.13704996,  7.02147995],\n",
       "        [ 8.05535627,  9.44157976,  6.36355687],\n",
       "        [ 8.85895421, 10.18595331,  7.1404679 ],\n",
       "        [ 6.67064416,  7.98117549,  4.97805592],\n",
       "        [ 8.81111301, 10.17900707,  7.12611645],\n",
       "        [ 7.36567117,  8.72997609,  5.64555018],\n",
       "        [ 6.6523899 ,  8.10480566,  4.98223013],\n",
       "        [ 8.17231076,  9.50586459,  6.45156744],\n",
       "        [ 7.74269437,  9.18014098,  6.09145025],\n",
       "        [ 8.50350361,  9.89745459,  6.80917157],\n",
       "        [ 7.60462597,  8.86415649,  5.88608684],\n",
       "        [ 8.89272024, 10.20819535,  7.19102053],\n",
       "        [ 8.10604787,  9.47077829,  6.39269443],\n",
       "        [ 7.85111544,  9.1753924 ,  6.17772625],\n",
       "        [ 8.20242702,  9.75606616,  6.52517702],\n",
       "        [ 7.52598226,  8.89595364,  5.8431501 ],\n",
       "        [ 8.61292655,  9.99867342,  6.88536526],\n",
       "        [ 8.10841984,  9.44035027,  6.40721085],\n",
       "        [ 8.60000016, 10.11643521,  6.92212144],\n",
       "        [ 8.43542178,  9.82527441,  6.76025191],\n",
       "        [ 8.51787201,  9.85664376,  6.82375897],\n",
       "        [ 8.77236404, 10.11102358,  7.0722903 ],\n",
       "        [ 9.03018919, 10.45081121,  7.34877708],\n",
       "        [ 9.18031257, 10.61388924,  7.47557808],\n",
       "        [ 8.34398764,  9.73271626,  6.63529091],\n",
       "        [ 7.45861578,  8.73770663,  5.7763605 ],\n",
       "        [ 7.35892743,  8.74485912,  5.67610527],\n",
       "        [ 7.30203615,  8.66028635,  5.62679835],\n",
       "        [ 7.7785732 ,  9.11086855,  6.0824289 ],\n",
       "        [ 8.58758186, 10.09106379,  6.90049022],\n",
       "        [ 7.96793098,  9.33219212,  6.25467266],\n",
       "        [ 8.5968604 ,  9.87899209,  6.86928327],\n",
       "        [ 9.04629988, 10.40486449,  7.34367615],\n",
       "        [ 8.24003902,  9.73150832,  6.57172309],\n",
       "        [ 7.88028317,  9.17331386,  6.17012379],\n",
       "        [ 7.52383103,  8.93633608,  5.82438617],\n",
       "        [ 7.75773672,  9.17074251,  6.07705292],\n",
       "        [ 8.49794907,  9.85850751,  6.79740774],\n",
       "        [ 7.77950103,  9.14862628,  6.08900704],\n",
       "        [ 6.69712469,  8.03682396,  5.00930798],\n",
       "        [ 7.78596053,  9.1671177 ,  6.08679985],\n",
       "        [ 7.9878541 ,  9.27752946,  6.28946847],\n",
       "        [ 7.95193952,  9.28181232,  6.24766348],\n",
       "        [ 8.36744021,  9.70708992,  6.67068771],\n",
       "        [ 6.75690359,  8.01340322,  5.05090697],\n",
       "        [ 7.85663987,  9.20106112,  6.15238758],\n",
       "        [ 9.72983933, 11.26967436,  8.0103101 ],\n",
       "        [ 8.49983743, 10.04324718,  6.79344171],\n",
       "        [10.0158428 , 11.56153934,  8.31976359],\n",
       "        [ 9.19284797, 10.71206436,  7.50555821],\n",
       "        [ 9.55876231, 11.11493352,  7.85349924],\n",
       "        [10.76943743, 12.35356631,  9.09877555],\n",
       "        [ 7.42863293,  8.95318876,  5.71722223],\n",
       "        [10.29817213, 11.8547168 ,  8.63693719],\n",
       "        [ 9.43532637, 11.04879101,  7.77324888],\n",
       "        [10.51897514, 12.00072472,  8.79164991],\n",
       "        [ 9.22450125, 10.66048514,  7.49736348],\n",
       "        [ 9.03152742, 10.583301  ,  7.33411055],\n",
       "        [ 9.58305799, 11.1034473 ,  7.87191623],\n",
       "        [ 8.31192934,  9.90862608,  6.60321918],\n",
       "        [ 8.65108267, 10.23002841,  6.91479275],\n",
       "        [ 9.3195026 , 10.80731494,  7.58345842],\n",
       "        [ 9.31740879, 10.80577241,  7.62226675],\n",
       "        [11.22512247, 12.67705908,  9.52540164],\n",
       "        [10.91719968, 12.60921648,  9.26569856],\n",
       "        [ 8.31998735,  9.91916699,  6.65928317],\n",
       "        [ 9.88308268, 11.39765492,  8.16246621],\n",
       "        [ 8.31539577,  9.83267997,  6.59097813],\n",
       "        [10.81275248, 12.42780709,  9.15933087],\n",
       "        [ 8.72770769, 10.23662131,  7.02116962],\n",
       "        [ 9.74649265, 11.21963428,  8.03229679],\n",
       "        [10.17197126, 11.65045422,  8.48844401],\n",
       "        [ 8.64513749, 10.12354004,  6.93065302],\n",
       "        [ 8.71269009, 10.15417156,  6.99451584],\n",
       "        [ 9.27594747, 10.85093439,  7.57530372],\n",
       "        [ 9.95433175, 11.43529639,  8.28358003],\n",
       "        [10.23518124, 11.8078263 ,  8.56585569],\n",
       "        [11.16668289, 12.57691059,  9.46749807],\n",
       "        [ 9.29606309, 10.88227011,  7.59024322],\n",
       "        [ 8.8283161 , 10.29314474,  7.14487913],\n",
       "        [ 8.87557556, 10.41315382,  7.22838078],\n",
       "        [10.59648682, 12.16843004,  8.89999577],\n",
       "        [ 9.52471888, 11.00373438,  7.79013474],\n",
       "        [ 9.28978584, 10.75701354,  7.59123342],\n",
       "        [ 8.59013568, 10.02313866,  6.8680201 ],\n",
       "        [ 9.64264534, 11.13328436,  7.92526375],\n",
       "        [ 9.66862299, 11.20933618,  7.94263068],\n",
       "        [ 9.52923412, 11.01812802,  7.7929904 ],\n",
       "        [ 8.49983743, 10.04324718,  6.79344171],\n",
       "        [ 9.92352088, 11.45319053,  8.21002681],\n",
       "        [ 9.82896069, 11.34567302,  8.09592825],\n",
       "        [ 9.39364946, 10.91433693,  7.66192881],\n",
       "        [ 8.71864931, 10.29355818,  7.01803203],\n",
       "        [ 9.19020132, 10.67866292,  7.47260626],\n",
       "        [ 9.32660984, 10.77897386,  7.58915912],\n",
       "        [ 8.68054538, 10.14018343,  6.96987314]]),\n",
       " array([[ 6.85911304,  5.31103072,  6.863833  ,  7.86040792],\n",
       "        [ 6.55872604,  4.84734681,  6.39877404,  7.49596608],\n",
       "        [ 6.3969141 ,  4.81264636,  6.35546475,  7.37417282],\n",
       "        [ 6.37174494,  4.6915973 ,  6.24996716,  7.32630841],\n",
       "        [ 6.80472453,  5.30244246,  6.85394146,  7.82217451],\n",
       "        [ 7.39571174,  5.79893808,  7.39626993,  8.42001502],\n",
       "        [ 6.43344447,  4.86478503,  6.4279334 ,  7.43465216],\n",
       "        [ 6.78645633,  5.18108716,  6.74102097,  7.77241901],\n",
       "        [ 6.11277775,  4.40517973,  5.95461322,  7.04756041],\n",
       "        [ 6.60329598,  4.93477391,  6.47922564,  7.55154647],\n",
       "        [ 7.21199316,  5.6724107 ,  7.23330062,  8.22473097],\n",
       "        [ 6.66193603,  5.04471304,  6.6102068 ,  7.64822746],\n",
       "        [ 6.45228207,  4.78777646,  6.32356947,  7.39368431],\n",
       "        [ 5.90254921,  4.39835173,  5.90133226,  6.87483909],\n",
       "        [ 7.54185016,  6.14736624,  7.68745216,  8.58989204],\n",
       "        [ 7.74204733,  6.33213006,  7.9129307 ,  8.8217281 ],\n",
       "        [ 7.2426714 ,  5.76333835,  7.33354078,  8.28547589],\n",
       "        [ 6.8804101 ,  5.29691383,  6.86332415,  7.88006679],\n",
       "        [ 7.59419253,  5.97126649,  7.55744737,  8.59964016],\n",
       "        [ 7.01267691,  5.5034446 ,  7.07463327,  8.04543607],\n",
       "        [ 7.2073191 ,  5.50857033,  7.08226035,  8.1724089 ],\n",
       "        [ 7.00293315,  5.42453533,  7.00966314,  8.02150736],\n",
       "        [ 6.31622397,  5.00094052,  6.51133407,  7.36782688],\n",
       "        [ 6.9955065 ,  5.17990045,  6.79397472,  7.94998031],\n",
       "        [ 6.79791064,  5.08997446,  6.67366655,  7.76730583],\n",
       "        [ 6.7282502 ,  4.94634179,  6.5123012 ,  7.65289345],\n",
       "        [ 6.8725016 ,  5.16498452,  6.7593188 ,  7.84992119],\n",
       "        [ 6.98353989,  5.39478172,  6.95535506,  7.9769291 ],\n",
       "        [ 6.91596612,  5.32336348,  6.87661933,  7.90098799],\n",
       "        [ 6.52462317,  4.84151581,  6.40741161,  7.48559158],\n",
       "        [ 6.58284613,  4.85298122,  6.41954932,  7.52686388],\n",
       "        [ 7.16871954,  5.46068106,  7.0471588 ,  8.14023195],\n",
       "        [ 7.15906941,  5.80765245,  7.35067276,  8.22711156],\n",
       "        [ 7.42569809,  6.06711602,  7.61864631,  8.4980774 ],\n",
       "        [ 6.60329598,  4.93477391,  6.47922564,  7.55154647],\n",
       "        [ 6.61418474,  5.03386715,  6.56979645,  7.58729454],\n",
       "        [ 7.16426502,  5.60972547,  7.15585495,  8.15770347],\n",
       "        [ 6.60329598,  4.93477391,  6.47922564,  7.55154647],\n",
       "        [ 6.09304211,  4.46153254,  6.0020409 ,  7.04912216],\n",
       "        [ 6.8708312 ,  5.25617572,  6.81653336,  7.85391603],\n",
       "        [ 6.75704414,  5.2154265 ,  6.77351148,  7.76466788],\n",
       "        [ 6.0700801 ,  4.1025927 ,  5.65373849,  6.90621134],\n",
       "        [ 6.14520255,  4.5946064 ,  6.13356682,  7.13147429],\n",
       "        [ 6.95022858,  5.21057868,  6.82953101,  7.93687872],\n",
       "        [ 7.20350693,  5.54344343,  7.15174379,  8.21377036],\n",
       "        [ 6.49593464,  4.75429289,  6.3208829 ,  7.43407343],\n",
       "        [ 7.03243143,  5.52725585,  7.09213777,  8.06172978],\n",
       "        [ 6.35438777,  4.74665666,  6.29675836,  7.3291753 ],\n",
       "        [ 7.1274479 ,  5.59754626,  7.15799374,  8.14326101],\n",
       "        [ 6.71838876,  5.10863906,  6.66125312,  7.69575926],\n",
       "        [10.25561885,  7.6216012 ,  9.32247669, 11.03115163],\n",
       "        [ 9.7188583 ,  7.07466837,  8.79300925, 10.50004651],\n",
       "        [10.3096534 ,  7.6110823 ,  9.31191408, 11.06490472],\n",
       "        [ 8.58062251,  5.75841453,  7.45516359,  9.26855228],\n",
       "        [ 9.79090904,  7.03543065,  8.73781886, 10.52239314],\n",
       "        [ 9.09659036,  6.37762742,  8.07417761,  9.82863135],\n",
       "        [ 9.81355155,  7.15512661,  8.87785621, 10.59549854],\n",
       "        [ 7.63897719,  4.99084372,  6.6902117 ,  8.3730189 ],\n",
       "        [ 9.82538472,  7.13954296,  8.83036157, 10.57115312],\n",
       "        [ 8.38148778,  5.66001738,  7.38461141,  9.1235257 ],\n",
       "        [ 7.79805947,  4.99477491,  6.67176111,  8.46339836],\n",
       "        [ 9.14144396,  6.46594864,  8.19140136,  9.91060136],\n",
       "        [ 8.86124887,  6.10365621,  7.76216227,  9.54417827],\n",
       "        [ 9.54878018,  6.82331524,  8.52235181, 10.28606364],\n",
       "        [ 8.49200849,  5.89973295,  7.6241511 ,  9.27876209],\n",
       "        [ 9.83876765,  7.20460753,  8.91213872, 10.61490694],\n",
       "        [ 9.11477918,  6.40749914,  8.12470045,  9.86788613],\n",
       "        [ 8.82570192,  6.19055109,  7.87051465,  9.56795332],\n",
       "        [ 9.44773949,  6.53894625,  8.22123775, 10.10766867],\n",
       "        [ 8.55701339,  5.85617548,  7.54535272,  9.2799029 ],\n",
       "        [ 9.63756086,  6.9008546 ,  8.63135161, 10.3984352 ],\n",
       "        [ 9.08223291,  6.42063004,  8.1278787 ,  9.83954092],\n",
       "        [ 9.79591267,  6.93619881,  8.61862648, 10.47796312],\n",
       "        [ 9.48181438,  6.77381471,  8.45437029, 10.20932535],\n",
       "        [ 9.49754304,  6.83717231,  8.5372576 , 10.25507788],\n",
       "        [ 9.74781211,  7.08590736,  8.79172222, 10.51231889],\n",
       "        [10.10675099,  7.36233656,  9.04929544, 10.8330784 ],\n",
       "        [10.26403439,  7.49012477,  9.1990853 , 11.0009991 ],\n",
       "        [ 9.38079692,  6.64968823,  8.36287855, 10.12498269],\n",
       "        [ 8.38159361,  5.78871448,  7.47844778,  9.13821737],\n",
       "        [ 8.41135567,  5.68907736,  7.37831374,  9.12454445],\n",
       "        [ 8.32395501,  5.63936601,  7.32157781,  9.04300757],\n",
       "        [ 8.75774546,  6.0957045 ,  7.7980149 ,  9.5068838 ],\n",
       "        [ 9.76493753,  6.91526485,  8.60584616, 10.45792643],\n",
       "        [ 8.97744595,  6.26965767,  7.98644041,  9.72872948],\n",
       "        [ 9.4972545 ,  6.88414414,  8.61574836, 10.29826297],\n",
       "        [10.04211919,  7.35767143,  9.06544112, 10.80469092],\n",
       "        [ 9.41307606,  6.5848845 ,  8.25915008, 10.09265086],\n",
       "        [ 8.80645862,  6.184168  ,  7.89941385,  9.5816885 ],\n",
       "        [ 8.60147865,  5.83819092,  7.54291795,  9.31632243],\n",
       "        [ 8.83754847,  6.09084608,  7.77654539,  9.54808184],\n",
       "        [ 9.50149005,  6.81155599,  8.5168983 , 10.25500467],\n",
       "        [ 8.80448722,  6.10229048,  7.79884351,  9.53618498],\n",
       "        [ 7.70176138,  5.0219192 ,  6.71674196,  8.42181952],\n",
       "        [ 8.82248552,  6.10074868,  7.80496738,  9.55504771],\n",
       "        [ 8.91198629,  6.30319821,  8.00702721,  9.68425009],\n",
       "        [ 8.92339257,  6.26162828,  7.97103671,  9.68195428],\n",
       "        [ 9.34872505,  6.68427163,  8.38673002, 10.10542542],\n",
       "        [ 7.65573161,  5.06360198,  6.77676593,  8.41915254],\n",
       "        [ 8.84690301,  6.16624015,  7.87580825,  9.59762742],\n",
       "        [10.93024029,  8.02719257,  9.74712406, 11.64491567],\n",
       "        [ 9.72045141,  6.80912594,  8.5177524 , 10.40718722],\n",
       "        [11.22856926,  8.33510475, 10.03390541, 11.92982439],\n",
       "        [10.38291408,  7.5207842 ,  9.21081108, 11.07947807],\n",
       "        [10.78467997,  7.86949824,  9.57646568, 11.48204102],\n",
       "        [12.02966698,  9.11388449, 10.78726354, 12.71107419],\n",
       "        [ 8.63783646,  5.73303336,  7.44648076,  9.31504444],\n",
       "        [11.5316384 ,  8.65157265, 10.31618412, 12.21282237],\n",
       "        [10.74326111,  7.78797839,  9.45324256, 11.39284862],\n",
       "        [11.64211037,  8.80794516, 10.53686461, 12.39189846],\n",
       "        [10.30397937,  7.51287668,  9.24293418, 11.05364146],\n",
       "        [10.2596929 ,  7.34930725,  9.04967849, 10.94597256],\n",
       "        [10.76492029,  7.88740771,  9.60124882, 11.47835653],\n",
       "        [ 9.59786628,  6.61911528,  8.32971869, 10.26186135],\n",
       "        [ 9.90451458,  6.931667  ,  8.66863622, 10.59578439],\n",
       "        [10.45741961,  7.59974672,  9.33751079, 11.19381887],\n",
       "        [10.46750586,  7.63736193,  9.3356116 , 11.18140642],\n",
       "        [12.31589647,  9.54098019, 11.24310535, 13.06894952],\n",
       "        [12.31031825,  9.28092382, 10.93460312, 12.94232741],\n",
       "        [ 9.62213318,  6.6734472 ,  8.33823775, 10.25950262],\n",
       "        [11.05258103,  8.1784081 ,  9.90110668, 11.77780207],\n",
       "        [ 9.50179814,  6.60709978,  8.33328707, 10.20500448],\n",
       "        [12.11463254,  9.17410099, 10.83054261, 12.77495793],\n",
       "        [ 9.90535672,  7.03610229,  8.74619426, 10.60772518],\n",
       "        [10.8691691 ,  8.0480427 ,  9.76454967, 11.60537131],\n",
       "        [11.3067981 ,  8.50323367, 10.19024634, 12.02853181],\n",
       "        [ 9.78482858,  6.94569511,  8.66367283, 10.50201644],\n",
       "        [ 9.80606733,  7.00977891,  8.73112866, 10.54127779],\n",
       "        [10.52833771,  7.59105346,  9.29374927, 11.21172391],\n",
       "        [11.09774646,  8.29780351,  9.97281051, 11.80826508],\n",
       "        [11.48626657,  8.58051878, 10.25330998, 12.16463307],\n",
       "        [12.20862602,  9.48253832, 11.18507593, 12.97574292],\n",
       "        [10.56023231,  7.60620413,  9.3137957 , 11.24242825],\n",
       "        [ 9.95829128,  7.15921531,  8.84686029, 10.66738888],\n",
       "        [10.10159724,  7.24265553,  8.89355013, 10.76514614],\n",
       "        [11.83638937,  8.91530087, 10.61460608, 12.53412778],\n",
       "        [10.65018564,  7.80682558,  9.54240523, 11.3930233 ],\n",
       "        [10.41371803,  7.60645422,  9.30795112, 11.13751547],\n",
       "        [ 9.67349776,  6.8833406 ,  8.60859147, 10.41216366],\n",
       "        [10.78679521,  7.94069163,  9.66099471, 11.51556268],\n",
       "        [10.86960226,  7.95887547,  9.68650251, 11.58504534],\n",
       "        [10.66723846,  7.80873681,  9.5476624 , 11.40488524],\n",
       "        [ 9.72045141,  6.80912594,  8.5177524 , 10.40718722],\n",
       "        [11.1124861 ,  8.22608333,  9.94133513, 11.82906983],\n",
       "        [10.99769443,  8.1124587 ,  9.84675022, 11.72869998],\n",
       "        [10.57195357,  7.67784269,  9.41186772, 11.2934668 ],\n",
       "        [ 9.97699438,  7.03311825,  8.73692046, 10.65069747],\n",
       "        [10.33555535,  7.48806278,  9.20851141, 11.05925282],\n",
       "        [10.42119855,  7.60570516,  9.34444889, 11.17292572],\n",
       "        [ 9.79767444,  6.98536823,  8.69868237, 10.52213424]]),\n",
       " array([[ 6.82985724,  6.25199293,  5.13908542,  7.81251416,  7.46428527],\n",
       "        [ 6.5331496 ,  5.79204729,  4.67600794,  7.4497621 ,  6.99326245],\n",
       "        [ 6.3691352 ,  5.74424896,  4.64659775,  7.32690878,  6.95681381],\n",
       "        [ 6.34496174,  5.63518305,  4.52098372,  7.27985739,  6.8555541 ],\n",
       "        [ 6.77449583,  6.23952416,  5.1318327 ,  7.77390918,  7.45825576],\n",
       "        [ 7.36453016,  6.77197311,  5.61213527,  8.37189757,  8.0100059 ],\n",
       "        [ 6.40393558,  5.80703855,  4.69367979,  7.38702931,  7.04118476],\n",
       "        [ 6.75794037,  6.12751169,  5.00733728,  7.72503546,  7.3435964 ],\n",
       "        [ 6.08724987,  5.34167873,  4.23912291,  7.00157884,  6.55887174],\n",
       "        [ 6.5770784 ,  5.8729672 ,  4.76536098,  7.50506038,  7.07371338],\n",
       "        [ 7.18198974,  6.62099018,  5.49614043,  8.17655319,  7.83314715],\n",
       "        [ 6.63320511,  5.99246439,  4.87054025,  7.60100353,  7.21881473],\n",
       "        [ 6.426591  ,  5.71934538,  4.62185052,  7.34730253,  6.91615892],\n",
       "        [ 5.87546052,  5.29617716,  4.24791321,  6.82751131,  6.49874165],\n",
       "        [ 7.5101698 ,  7.0815887 ,  5.97545868,  8.54049548,  8.27903677],\n",
       "        [ 7.70789286,  7.29025011,  6.14971952,  8.77198073,  8.52501174],\n",
       "        [ 7.2108884 ,  6.71565245,  5.58527356,  8.23656024,  7.94016082],\n",
       "        [ 6.85111842,  6.24787779,  5.12108554,  7.83230817,  7.46761033],\n",
       "        [ 7.56430983,  6.94143288,  5.78547284,  8.55181635,  8.16003388],\n",
       "        [ 6.98129628,  6.45396315,  5.32653038,  7.99694492,  7.68584646],\n",
       "        [ 7.17982222,  6.47144277,  5.32698198,  8.12562327,  7.67962844],\n",
       "        [ 6.97226144,  6.38667492,  5.24342505,  7.97346149,  7.62292888],\n",
       "        [ 6.28442584,  5.90073501,  4.84582355,  7.31848422,  7.11479261],\n",
       "        [ 6.96815843,  6.16989896,  4.98841298,  7.90384588,  7.40704748],\n",
       "        [ 6.76970861,  6.05221888,  4.90894575,  7.72082009,  7.28675625],\n",
       "        [ 6.70312154,  5.90389421,  4.76903249,  7.60718441,  7.1081331 ],\n",
       "        [ 6.84407435,  6.13705386,  4.98088932,  7.80304148,  7.37131041],\n",
       "        [ 6.95463129,  6.34315873,  5.21954253,  7.92929636,  7.55558607],\n",
       "        [ 6.88767785,  6.2676287 ,  5.15021272,  7.85347637,  7.4729867 ],\n",
       "        [ 6.49734006,  5.79103791,  4.66759647,  7.43904567,  7.01446997],\n",
       "        [ 6.55656801,  5.80619273,  4.67770766,  7.48071614,  7.02230478],\n",
       "        [ 7.14086116,  6.43248616,  5.27607644,  8.09328294,  7.64846203],\n",
       "        [ 7.12584552,  6.73517722,  5.63832713,  8.1775515 ,  7.95702675],\n",
       "        [ 7.39228898,  7.00348968,  5.89400399,  8.44831824,  8.22293761],\n",
       "        [ 6.5770784 ,  5.8729672 ,  4.76536098,  7.50506038,  7.07371338],\n",
       "        [ 6.58682999,  5.96502349,  4.8672749 ,  7.53995607,  7.16220612],\n",
       "        [ 7.13564954,  6.55140166,  5.43671989,  8.10981812,  7.74585753],\n",
       "        [ 6.5770784 ,  5.8729672 ,  4.76536098,  7.50506038,  7.07371338],\n",
       "        [ 6.06644086,  5.38945348,  4.29868648,  7.00249125,  6.60629464],\n",
       "        [ 6.84250365,  6.20441282,  5.08150141,  7.80657415,  7.41695519],\n",
       "        [ 6.72739751,  6.15854934,  5.04302408,  7.71665005,  7.37793181],\n",
       "        [ 6.05013081,  5.05321809,  3.93269487,  6.8627975 ,  6.24225205],\n",
       "        [ 6.11682832,  5.51827682,  4.43240127,  7.08408857,  6.74157326],\n",
       "        [ 6.92098571,  6.19944657,  5.0193259 ,  7.88996308,  7.45039304],\n",
       "        [ 7.17277941,  6.52241011,  5.35425304,  8.16630553,  7.77276823],\n",
       "        [ 6.47014832,  5.70859301,  4.57953475,  7.38797685,  6.92188941],\n",
       "        [ 7.00124791,  6.47340614,  5.35180373,  8.0133258 ,  7.70136979],\n",
       "        [ 6.32658148,  5.68225   ,  4.57906499,  7.28210829,  6.90238744],\n",
       "        [ 7.09724442,  6.54440005,  5.42211487,  8.09503521,  7.75985684],\n",
       "        [ 6.69051327,  6.0509426 ,  4.93705312,  7.6484981 ,  7.25996263],\n",
       "        [10.23442552,  8.7090643 ,  7.37160897, 10.99242134,  9.92809992],\n",
       "        [ 9.69711576,  8.16985387,  6.82174222, 10.46138451,  9.41184894],\n",
       "        [10.28916886,  8.70030196,  7.35828513, 11.02704548,  9.91756932],\n",
       "        [ 8.56386036,  6.84408739,  5.50834319,  9.23261998,  8.06350673],\n",
       "        [ 9.77170572,  8.12677172,  6.78193491, 10.48523127,  9.34360019],\n",
       "        [ 9.07710591,  7.45792705,  6.12804784,  9.79169925,  8.68979439],\n",
       "        [ 9.79139766,  8.25222004,  6.89981042, 10.55710179,  9.50155748],\n",
       "        [ 7.6206626 ,  6.0662215 ,  4.7522501 ,  8.33515741,  7.31078417],\n",
       "        [ 9.80568841,  8.22120552,  6.89100663, 10.53336926,  9.43287986],\n",
       "        [ 8.36171054,  6.75540591,  5.40760843,  9.08617534,  8.01399986],\n",
       "        [ 7.78309226,  6.06439261,  4.75473979,  8.42770988,  7.27571573],\n",
       "        [ 9.12031439,  7.56438516,  6.21224242,  9.87234495,  8.81575908],\n",
       "        [ 8.84537347,  7.16693506,  5.86372763,  9.50787424,  8.34939714],\n",
       "        [ 9.52899556,  7.90790708,  6.57155511, 10.24896786,  9.1347305 ],\n",
       "        [ 8.47065884,  6.99326462,  5.65258523,  9.23949328,  8.25020966],\n",
       "        [ 9.81767206,  8.29520794,  6.95461036, 10.57608263,  9.5215728 ],\n",
       "        [ 9.09392022,  7.49897525,  6.1532798 ,  9.83055043,  8.75183926],\n",
       "        [ 8.80653131,  7.2588645 ,  5.94985095,  9.53007462,  8.47699907],\n",
       "        [ 9.43209616,  7.62390862,  6.28508785, 10.07276406,  8.81412859],\n",
       "        [ 8.53885769,  6.93238854,  5.61263917,  9.24261016,  8.15357768],\n",
       "        [ 9.61591021,  8.00313845,  6.64052394, 10.36114181,  9.26192737],\n",
       "        [ 9.06228465,  7.50962662,  6.17251269,  9.80119393,  8.73963616],\n",
       "        [ 9.77879109,  8.01808638,  6.68225666, 10.44264755,  9.21652002],\n",
       "        [ 9.46271985,  7.84635499,  6.52694127, 10.17237834,  9.05931355],\n",
       "        [ 9.47743553,  7.92286679,  6.58892453, 10.21680995,  9.14483787],\n",
       "        [ 9.72726295,  8.17615745,  6.83554223, 10.47389054,  9.40024957],\n",
       "        [10.08788134,  8.44515781,  7.11156827, 10.79599715,  9.6466929 ],\n",
       "        [10.24409358,  8.58621113,  7.23256485, 10.96400692,  9.80854308],\n",
       "        [ 9.360707  ,  7.74308729,  6.39546981, 10.08765169,  8.9807079 ],\n",
       "        [ 8.362348  ,  6.86226943,  5.55045822,  9.09942664,  8.0865812 ],\n",
       "        [ 8.39375972,  6.76588344,  5.44559963,  9.08750602,  7.98602919],\n",
       "        [ 8.30629161,  6.71034346,  5.39944829,  9.00561802,  7.92707402],\n",
       "        [ 8.73825181,  7.17972287,  5.8498694 ,  9.46878016,  8.41081397],\n",
       "        [ 9.74673868,  7.99863987,  6.65890749, 10.42269541,  9.2145615 ],\n",
       "        [ 8.95651654,  7.35920864,  6.01551266,  9.69158746,  8.61678932],\n",
       "        [ 9.47409199,  7.98291223,  6.62918104, 10.25933518,  9.24807907],\n",
       "        [10.0213324 ,  8.4497787 ,  7.10475261, 10.76656889,  9.6755118 ],\n",
       "        [ 9.39680172,  7.66210652,  6.33628166, 10.05685999,  8.8496729 ],\n",
       "        [ 8.78511494,  7.27171749,  5.93560734,  9.5431981 ,  8.52533582],\n",
       "        [ 8.583332  ,  6.92579977,  5.58831998,  9.27958506,  8.15756225],\n",
       "        [ 8.81924313,  7.1645208 ,  5.84367362,  9.51175499,  8.38826881],\n",
       "        [ 9.48097306,  7.89858668,  6.56002126, 10.21734406,  9.13277788],\n",
       "        [ 8.78578118,  7.18440974,  5.85597383,  9.49868518,  8.40817824],\n",
       "        [ 7.68424717,  6.09711384,  4.78313423,  8.38430453,  7.3319534 ],\n",
       "        [ 8.80325319,  7.18609962,  5.85110387,  9.51790026,  8.42207453],\n",
       "        [ 8.89085582,  7.38360081,  6.05718925,  9.64579284,  8.62803731],\n",
       "        [ 8.90287869,  7.34802947,  6.01258031,  9.64397634,  8.5918471 ],\n",
       "        [ 9.32853621,  7.77014415,  6.43564035, 10.06729116,  8.99791239],\n",
       "        [ 7.63629267,  6.14793818,  4.82429379,  8.38011231,  7.39933489],\n",
       "        [ 8.82691671,  7.25403639,  5.91710983,  9.55979236,  8.49461511],\n",
       "        [10.90950773,  9.12989547,  7.75711204, 11.61010898, 10.37290083],\n",
       "        [ 9.70213068,  7.90488745,  6.54603267, 10.37249953,  9.13517705],\n",
       "        [11.20954839,  9.43025953,  8.07161352, 11.89459019, 10.63738554],\n",
       "        [10.36407651,  8.60494565,  7.26153065, 11.04446992,  9.81957855],\n",
       "        [10.76542668,  8.96707388,  7.60339979, 11.4472901 , 10.19010371],\n",
       "        [12.01138641, 10.19562876,  8.85259634, 12.67663062, 11.37838402],\n",
       "        [ 8.62007746,  6.82572   ,  5.47240263,  9.28065253,  8.07527545],\n",
       "        [11.51364413,  9.72562778,  8.39455144, 12.17818293, 10.90558826],\n",
       "        [10.72690091,  8.86385475,  7.52981982, 11.35918316, 10.04296   ],\n",
       "        [11.62019434,  9.9180495 ,  8.53892645, 12.35550693, 11.15838019],\n",
       "        [10.28287948,  8.62073696,  7.24928686, 11.01666819,  9.86534463],\n",
       "        [10.24166125,  8.44376075,  7.08733474, 10.91105776,  9.65636457],\n",
       "        [10.74543101,  8.99028063,  7.62269465, 11.44265049, 10.21232011],\n",
       "        [ 9.5806254 ,  7.71896298,  6.3533425 , 10.2279338 ,  8.94561914],\n",
       "        [ 9.88547673,  8.04752367,  6.65889423, 10.5613365 ,  9.29691063],\n",
       "        [10.43646635,  8.714027  ,  7.3307759 , 11.15766302,  9.96434529],\n",
       "        [10.44803196,  8.72665141,  7.37799631, 11.14566946,  9.94555607],\n",
       "        [12.29389114, 10.63335955,  9.27831384, 13.0323716 , 11.85374721],\n",
       "        [12.29418667, 10.35594954,  9.01820177, 12.90967437, 11.51364001],\n",
       "        [ 9.60694972,  7.7464085 ,  6.41964535, 10.22582035,  8.93004935],\n",
       "        [11.03221254,  9.28631217,  7.91089162, 11.7419472 , 10.51742832],\n",
       "        [ 9.48257679,  7.71180251,  6.34135231, 10.16987746,  8.96054111],\n",
       "        [12.09746222, 10.24721237,  8.91510479, 12.74112343, 11.41243264],\n",
       "        [ 9.8869237 ,  8.13514372,  6.7753955 , 10.5720072 ,  9.35622095],\n",
       "        [10.84825847,  9.14846316,  7.78388386, 11.56917611, 10.38288052],\n",
       "        [11.28694751,  9.58736294,  8.24535574, 11.99249953, 10.79175752],\n",
       "        [ 9.7656672 ,  8.04766435,  6.68478097, 10.46583425,  9.2790293 ],\n",
       "        [ 9.78580042,  8.11058819,  6.74912867, 10.50469527,  9.35263385],\n",
       "        [10.50998855,  8.68714725,  7.32599986, 11.17725595,  9.90368854],\n",
       "        [11.07880212,  9.37525569,  8.04346869, 11.7723149 , 10.56693097],\n",
       "        [11.46858032,  9.66190121,  8.32153311, 12.12994867, 10.84225345],\n",
       "        [12.18641307, 10.57488377,  9.2226539 , 12.93833096, 11.79288455],\n",
       "        [10.54185624,  8.70603749,  7.33931823, 11.20806515,  9.92535622],\n",
       "        [ 9.93958136,  8.24058739,  6.90537169, 10.63141104,  9.45197245],\n",
       "        [10.08462021,  8.30159087,  6.99220148, 10.73101235,  9.48795929],\n",
       "        [11.81761431, 10.01482738,  8.6499336 , 12.49892228, 11.21192165],\n",
       "        [10.62845398,  8.91736414,  7.53726909, 11.35702101, 10.17380076],\n",
       "        [10.39366229,  8.69590081,  7.34713124, 11.10154197,  9.92190052],\n",
       "        [ 9.65307948,  7.98582455,  6.62248537, 10.37546431,  9.23257459],\n",
       "        [10.76668377,  9.04688686,  7.67608273, 11.47926194, 10.27417289],\n",
       "        [10.84958989,  9.07055587,  7.68909172, 11.54961012, 10.3052882 ],\n",
       "        [10.64676863,  8.92768506,  7.54037772, 11.36824498, 10.16623808],\n",
       "        [ 9.70213068,  7.90488745,  6.54603267, 10.37249953,  9.13517705],\n",
       "        [11.09230868,  9.32883008,  7.95891746, 11.79367496, 10.55701201],\n",
       "        [10.97671202,  9.2265174 ,  7.84156366, 11.69292653, 10.47104606],\n",
       "        [10.55207999,  8.79398689,  7.40893339, 11.25750249, 10.03007648],\n",
       "        [ 9.95982421,  8.13165803,  6.77045213, 10.61600296,  9.34191356],\n",
       "        [10.31569555,  8.59254581,  7.22425635, 11.02313417,  9.82485897],\n",
       "        [10.39920024,  8.71680371,  7.33733511, 11.13651441,  9.97781219],\n",
       "        [ 9.77759633,  8.07989967,  6.7249289 , 10.48616425,  9.32111303]]),\n",
       " array([[ 7.81251416,  5.48143583,  7.46428527,  6.37952703,  6.82985724,\n",
       "          4.66120186],\n",
       "        [ 7.4497621 ,  5.03195827,  6.99326245,  5.91682645,  6.5331496 ,\n",
       "          4.17515523],\n",
       "        [ 7.32690878,  4.98099618,  6.95681381,  5.87189809,  6.3691352 ,\n",
       "          4.18282852],\n",
       "        [ 7.27985739,  4.86548573,  6.8555541 ,  5.76251881,  6.34496174,\n",
       "          4.04305157],\n",
       "        [ 7.77390918,  5.46624786,  7.45825576,  6.36828168,  6.77449583,\n",
       "          4.66790688],\n",
       "        [ 8.37189757,  5.96768316,  8.0100059 ,  6.90116434,  7.36453016,\n",
       "          5.12389841],\n",
       "        [ 7.38702931,  5.02355595,  7.04118476,  5.93711373,  6.40393558,\n",
       "          4.24533427],\n",
       "        [ 7.72503546,  5.35453381,  7.3435964 ,  6.25482695,  6.75794037,\n",
       "          4.5228358 ],\n",
       "        [ 7.00157884,  4.57925038,  6.55887174,  5.46871014,  6.08724987,\n",
       "          3.76853236],\n",
       "        [ 7.50506038,  5.11767304,  7.07371338,  5.99802661,  6.5770784 ,\n",
       "          4.26660136],\n",
       "        [ 8.17655319,  5.84543525,  7.83314715,  6.74826625,  7.18198974,\n",
       "          5.00657782],\n",
       "        [ 7.60100353,  5.21436983,  7.21881473,  6.12078439,  6.63320511,\n",
       "          4.39406834],\n",
       "        [ 7.34730253,  4.96990958,  6.91615892,  5.84422249,  6.426591  ,\n",
       "          4.12930829],\n",
       "        [ 6.82751131,  4.55730301,  6.49874165,  5.42416956,  5.87546052,\n",
       "          3.82038361],\n",
       "        [ 8.54049548,  6.31458548,  8.27903677,  7.2087802 ,  7.5101698 ,\n",
       "          5.4984259 ],\n",
       "        [ 8.77198073,  6.48867202,  8.52501174,  7.42095797,  7.70789286,\n",
       "          5.68523211],\n",
       "        [ 8.23656024,  5.92471966,  7.94016082,  6.84502052,  7.2108884 ,\n",
       "          5.11961449],\n",
       "        [ 7.83230817,  5.46691726,  7.46761033,  6.37584223,  6.85111842,\n",
       "          4.64251528],\n",
       "        [ 8.55181635,  6.15122624,  8.16003388,  7.06811313,  7.56430983,\n",
       "          5.27397528],\n",
       "        [ 7.99694492,  5.6643421 ,  7.68584646,  6.58383955,  6.98129628,\n",
       "          4.86264753],\n",
       "        [ 8.12562327,  5.69602763,  7.67962844,  6.59638846,  7.17982222,\n",
       "          4.80586519],\n",
       "        [ 7.97346149,  5.58860743,  7.62292888,  6.51631769,  6.97226144,\n",
       "          4.77224744],\n",
       "        [ 7.31848422,  5.14302416,  7.11479261,  6.03155447,  6.28442584,\n",
       "          4.44152192],\n",
       "        [ 7.90384588,  5.36245391,  7.40704748,  6.29691135,  6.96815843,\n",
       "          4.47592102],\n",
       "        [ 7.72082009,  5.26524997,  7.28675625,  6.18003431,  6.76970861,\n",
       "          4.41483276],\n",
       "        [ 7.60718441,  5.13766785,  7.1081331 ,  6.02790317,  6.70312154,\n",
       "          4.24834688],\n",
       "        [ 7.80304148,  5.33955601,  7.37131041,  6.26512562,  6.84407435,\n",
       "          4.48879772],\n",
       "        [ 7.92929636,  5.56986811,  7.55558607,  6.47010091,  6.95463129,\n",
       "          4.72888593],\n",
       "        [ 7.85347637,  5.50021926,  7.4729867 ,  6.39388136,  6.88767785,\n",
       "          4.65878212],\n",
       "        [ 7.43904567,  5.01632609,  7.01446997,  5.91844656,  6.49734006,\n",
       "          4.18317657],\n",
       "        [ 7.48071614,  5.03485854,  7.02230478,  5.93223089,  6.55656801,\n",
       "          4.17808739],\n",
       "        [ 8.09328294,  5.64370024,  7.64846203,  6.5583883 ,  7.14086116,\n",
       "          4.7651537 ],\n",
       "        [ 8.1775515 ,  5.96171867,  7.95702675,  6.86545579,  7.12584552,\n",
       "          5.18835827],\n",
       "        [ 8.44831824,  6.22393412,  8.22293761,  7.13335732,  7.39228898,\n",
       "          5.43554446],\n",
       "        [ 7.50506038,  5.11767304,  7.07371338,  5.99802661,  6.5770784 ,\n",
       "          4.26660136],\n",
       "        [ 7.53995607,  5.20876758,  7.16220612,  6.09089037,  6.58682999,\n",
       "          4.38849067],\n",
       "        [ 8.10981812,  5.7884914 ,  7.74585753,  6.67675245,  7.13564954,\n",
       "          4.94005947],\n",
       "        [ 7.50506038,  5.11767304,  7.07371338,  5.99802661,  6.5770784 ,\n",
       "          4.26660136],\n",
       "        [ 7.00249125,  4.62872372,  6.60629464,  5.51737218,  6.06644086,\n",
       "          3.84421726],\n",
       "        [ 7.80657415,  5.432365  ,  7.41695519,  6.33117366,  6.84250365,\n",
       "          4.59027587],\n",
       "        [ 7.71665005,  5.38051042,  7.37793181,  6.28709182,  6.72739751,\n",
       "          4.57792406],\n",
       "        [ 6.8627975 ,  4.30496198,  6.24225205,  5.1742122 ,  6.05013081,\n",
       "          3.4086295 ],\n",
       "        [ 7.08408857,  4.75306757,  6.74157326,  5.64769758,  6.11682832,\n",
       "          3.99403153],\n",
       "        [ 7.88996308,  5.38017042,  7.45039304,  6.32892907,  6.92098571,\n",
       "          4.53417429],\n",
       "        [ 8.16630553,  5.71110815,  7.77276823,  6.65219555,  7.17277941,\n",
       "          4.86778889],\n",
       "        [ 7.38797685,  4.93579705,  6.92188941,  5.83446095,  6.47014832,\n",
       "          4.0845413 ],\n",
       "        [ 8.0133258 ,  5.69047103,  7.70136979,  6.60279374,  7.00124791,\n",
       "          4.88263927],\n",
       "        [ 7.28210829,  4.91411239,  6.90238744,  5.81044132,  6.32658148,\n",
       "          4.11611907],\n",
       "        [ 8.09503521,  5.76797678,  7.75985684,  6.67219586,  7.09724442,\n",
       "          4.93874808],\n",
       "        [ 7.6484981 ,  5.2839392 ,  7.25996263,  6.17757017,  6.69051327,\n",
       "          4.45173363],\n",
       "        [10.99242134,  7.85847759,  9.92809992,  8.81906215, 10.23442552,\n",
       "          6.71701884],\n",
       "        [10.46138451,  7.30232175,  9.41184894,  8.28236538,  9.69711576,\n",
       "          6.18506371],\n",
       "        [11.02704548,  7.84852496,  9.91756932,  8.80887576, 10.28916886,\n",
       "          6.70333491],\n",
       "        [ 9.23261998,  5.99979718,  8.06350673,  6.95204011,  8.56386036,\n",
       "          4.8510105 ],\n",
       "        [10.48523127,  7.27516726,  9.34360019,  8.23475758,  9.77170572,\n",
       "          6.12388843],\n",
       "        [ 9.79169925,  6.60694899,  8.68979439,  7.56803117,  9.07710591,\n",
       "          5.49290791],\n",
       "        [10.55710179,  7.37794992,  9.50155748,  8.36499272,  9.79139766,\n",
       "          6.27261123],\n",
       "        [ 8.33515741,  5.2197918 ,  7.31078417,  6.18089206,  7.6206626 ,\n",
       "          4.12270304],\n",
       "        [10.53336926,  7.37962117,  9.43287986,  8.32968668,  9.80568841,\n",
       "          6.23229078],\n",
       "        [ 9.08617534,  5.88178048,  8.01399986,  6.86938171,  8.36171054,\n",
       "          4.78772119],\n",
       "        [ 8.42770988,  5.24100343,  7.27571573,  6.17252166,  7.78309226,\n",
       "          4.0920224 ],\n",
       "        [ 9.87234495,  6.6907656 ,  8.81575908,  7.67783582,  9.12031439,\n",
       "          5.58255099],\n",
       "        [ 9.50787424,  6.35758847,  8.34939714,  7.27178226,  8.84537347,\n",
       "          5.18359627],\n",
       "        [10.24896786,  7.05548036,  9.1347305 ,  8.01717665,  9.52899556,\n",
       "          5.92921749],\n",
       "        [ 9.23949328,  6.12257204,  8.25020966,  7.10952   ,  8.47065884,\n",
       "          5.02850416],\n",
       "        [10.57608263,  7.43979233,  9.5215728 ,  8.40635411,  9.81767206,\n",
       "          6.30353258],\n",
       "        [ 9.83055043,  6.62728279,  8.75183926,  7.61152326,  9.09392022,\n",
       "          5.53570418],\n",
       "        [ 9.53007462,  6.42681663,  8.47699907,  7.36937508,  8.80653131,\n",
       "          5.30161928],\n",
       "        [10.07276406,  6.79057787,  8.81412859,  7.72659795,  9.43209616,\n",
       "          5.6084247 ],\n",
       "        [ 9.24261016,  6.09457672,  8.15357768,  7.0425787 ,  8.53885769,\n",
       "          4.96063625],\n",
       "        [10.36114181,  7.11775655,  9.26192737,  8.1154727 ,  9.61591021,\n",
       "          6.02689113],\n",
       "        [ 9.80119393,  6.6559244 ,  8.73963616,  7.62128536,  9.06228465,\n",
       "          5.52318204],\n",
       "        [10.44264755,  7.18068914,  9.21652002,  8.12192201,  9.77879109,\n",
       "          6.0186644 ],\n",
       "        [10.17237834,  7.01030868,  9.05931355,  7.9543433 ,  9.46271985,\n",
       "          5.87760058],\n",
       "        [10.21680995,  7.07435437,  9.14483787,  8.03324706,  9.47743553,\n",
       "          5.9354325 ],\n",
       "        [10.47389054,  7.32240867,  9.40024957,  8.28663645,  9.72726295,\n",
       "          6.18245852],\n",
       "        [10.79599715,  7.60665198,  9.6466929 ,  8.55142177, 10.08788134,\n",
       "          6.44527515],\n",
       "        [10.96400692,  7.72572144,  9.80854308,  8.69401434, 10.24409358,\n",
       "          6.58191779],\n",
       "        [10.08765169,  6.87937657,  8.9807079 ,  7.85374682,  9.360707  ,\n",
       "          5.75718989],\n",
       "        [ 9.09942664,  6.02533997,  8.0865812 ,  6.97506977,  8.362348  ,\n",
       "          4.90200101],\n",
       "        [ 9.08750602,  5.92902094,  7.98602919,  6.87579291,  8.39375972,\n",
       "          4.79115975],\n",
       "        [ 9.00561802,  5.88000926,  7.92707402,  6.82060029,  8.30629161,\n",
       "          4.74426979],\n",
       "        [ 9.46878016,  6.33013377,  8.41081397,  7.2916257 ,  8.73825181,\n",
       "          5.20360611],\n",
       "        [10.42269541,  7.14889561,  9.2145615 ,  8.10412802,  9.74673868,\n",
       "          6.01688646],\n",
       "        [ 9.69158746,  6.48550405,  8.61678932,  7.47218086,  8.95651654,\n",
       "          5.40692547],\n",
       "        [10.25933518,  7.09882299,  9.24807907,  8.09827565,  9.47409199,\n",
       "          6.0180632 ],\n",
       "        [10.76656889,  7.59241464,  9.6755118 ,  8.55970858, 10.0213324 ,\n",
       "          6.45473315],\n",
       "        [10.05685999,  6.83702882,  8.8496729 ,  7.76593992,  9.39680172,\n",
       "          5.65799399],\n",
       "        [ 9.5431981 ,  6.40529833,  8.52533582,  7.38630658,  8.78511494,\n",
       "          5.31487043],\n",
       "        [ 9.27958506,  6.07323096,  8.15756225,  7.03604675,  8.583332  ,\n",
       "          4.94232581],\n",
       "        [ 9.51175499,  6.32355217,  8.38826881,  7.27339428,  8.81924313,\n",
       "          5.20398522],\n",
       "        [10.21734406,  7.04097666,  9.13277788,  8.00935245,  9.48097306,\n",
       "          5.92214406],\n",
       "        [ 9.49868518,  6.33995618,  8.40817824,  7.29473784,  8.78578118,\n",
       "          5.2039741 ],\n",
       "        [ 8.38430453,  5.25666239,  7.3319534 ,  6.2102158 ,  7.68424717,\n",
       "          4.14175427],\n",
       "        [ 9.51790026,  6.33132919,  8.42207453,  7.2971109 ,  8.80325319,\n",
       "          5.21319441],\n",
       "        [ 9.64579284,  6.52718109,  8.62803731,  7.49722392,  8.89085582,\n",
       "          5.43113817],\n",
       "        [ 9.64397634,  6.48782356,  8.5918471 ,  7.46081895,  8.90287869,\n",
       "          5.38203181],\n",
       "        [10.06729116,  6.91862525,  8.99791239,  7.88106965,  9.32853621,\n",
       "          5.78793411],\n",
       "        [ 8.38011231,  5.29022362,  7.39933489,  6.26473851,  7.63629267,\n",
       "          4.19836069],\n",
       "        [ 9.55979236,  6.39537612,  8.49461511,  7.36636494,  8.82691671,\n",
       "          5.28092369],\n",
       "        [11.61010898,  8.24100166, 10.37290083,  9.2362506 , 10.90950773,\n",
       "          7.15357095],\n",
       "        [10.37249953,  7.03638621,  9.13517705,  8.01087314,  9.70213068,\n",
       "          5.91710918],\n",
       "        [11.89459019,  8.57139408, 10.63738554,  9.53351708, 11.20954839,\n",
       "          7.42248704],\n",
       "        [11.04446992,  7.75130399,  9.81957855,  8.70949967, 10.36407651,\n",
       "          6.62556521],\n",
       "        [11.4472901 ,  8.09658966, 10.19010371,  9.07152731, 10.76542668,\n",
       "          6.97358986],\n",
       "        [12.67663062,  9.35471679, 11.37838402, 10.29529175, 12.01138641,\n",
       "          8.19713682],\n",
       "        [ 9.28065253,  5.95144081,  8.07527545,  6.93449751,  8.62007746,\n",
       "          4.86502679],\n",
       "        [12.17818293,  8.89395465, 10.90558826,  9.82572987, 11.51364413,\n",
       "          7.73632968],\n",
       "        [11.35918316,  8.03263815, 10.04296   ,  8.9629616 , 10.72690091,\n",
       "          6.86948672],\n",
       "        [12.35550693,  9.02926964, 11.15838019, 10.0255674 , 11.62019434,\n",
       "          7.91563452],\n",
       "        [11.01666819,  7.73790005,  9.86534463,  8.73047055, 10.28287948,\n",
       "          6.61862163],\n",
       "        [10.91105776,  7.58574609,  9.65636457,  8.54782829, 10.24166125,\n",
       "          6.43907255],\n",
       "        [11.44265049,  8.12029467, 10.21232011,  9.09579493, 10.74543101,\n",
       "          6.9789444 ],\n",
       "        [10.2279338 ,  6.84893542,  8.94561914,  7.82356407,  9.5806254 ,\n",
       "          5.72088153],\n",
       "        [10.5613365 ,  7.15047153,  9.29691063,  8.15454656,  9.88547673,\n",
       "          6.0464906 ],\n",
       "        [11.15766302,  7.82011167,  9.96434529,  8.82298674, 10.43646635,\n",
       "          6.71058422],\n",
       "        [11.14566946,  7.86875957,  9.94555607,  8.83242827, 10.44803196,\n",
       "          6.73820913],\n",
       "        [13.0323716 ,  9.76705362, 11.85374721, 10.7391918 , 12.29389114,\n",
       "          8.64591714],\n",
       "        [12.90967437,  9.52745732, 11.51364001, 10.45076878, 12.29418667,\n",
       "          8.35669075],\n",
       "        [10.22582035,  6.92109151,  8.93004935,  7.84686056,  9.60694972,\n",
       "          5.75413789],\n",
       "        [11.7419472 ,  8.40612109, 10.51742832,  9.39262247, 11.03221254,\n",
       "          7.27659036],\n",
       "        [10.16987746,  6.82718657,  8.96054111,  7.82029107,  9.48257679,\n",
       "          5.72576181],\n",
       "        [12.74112343,  9.42021255, 11.41243264, 10.3445049 , 12.09746222,\n",
       "          8.2515565 ],\n",
       "        [10.5720072 ,  7.27268874,  9.35622095,  8.2413413 ,  9.8869237 ,\n",
       "          6.12511541],\n",
       "        [11.56917611,  8.27254194, 10.38288052,  9.25586871, 10.84825847,\n",
       "          7.15572775],\n",
       "        [11.99249953,  8.7389656 , 10.79175752,  9.69163988, 11.28694751,\n",
       "          7.5963622 ],\n",
       "        [10.46583425,  7.17830019,  9.2790293 ,  8.15557551,  9.7656672 ,\n",
       "          6.04140879],\n",
       "        [10.50469527,  7.23551929,  9.35263385,  8.22013049,  9.78580042,\n",
       "          6.11876486],\n",
       "        [11.17725595,  7.82253945,  9.90368854,  8.79077557, 10.50998855,\n",
       "          6.68834797],\n",
       "        [11.7723149 ,  8.53963645, 10.56693097,  9.47844458, 11.07880212,\n",
       "          7.38350901],\n",
       "        [12.12994867,  8.82577353, 10.84225345,  9.76193825, 11.46858032,\n",
       "          7.65718285],\n",
       "        [12.93833096,  9.71283455, 11.79288455, 10.68163   , 12.18641307,\n",
       "          8.58055117],\n",
       "        [11.20806515,  7.83665548,  9.92535622,  8.80969546, 10.54185624,\n",
       "          6.70374104],\n",
       "        [10.63141104,  7.39578383,  9.45197245,  8.34650449,  9.93958136,\n",
       "          6.25601188],\n",
       "        [10.73101235,  7.48061257,  9.48795929,  8.40291323, 10.08462021,\n",
       "          6.34609588],\n",
       "        [12.49892228,  9.15662059, 11.21192165, 10.11658173, 11.81761431,\n",
       "          7.99093729],\n",
       "        [11.35702101,  8.01968874, 10.17380076,  9.0266887 , 10.62845398,\n",
       "          6.9325818 ],\n",
       "        [11.10154197,  7.83397115,  9.92190052,  8.80275159, 10.39366229,\n",
       "          6.71461199],\n",
       "        [10.37546431,  7.10742199,  9.23257459,  8.09609194,  9.65307948,\n",
       "          5.9953085 ],\n",
       "        [11.47926194,  8.1727775 , 10.27417289,  9.15363263, 10.76668377,\n",
       "          7.03252614],\n",
       "        [11.54961012,  8.18497307, 10.3052882 ,  9.17671344, 10.84958989,\n",
       "          7.05886843],\n",
       "        [11.36824498,  8.03885432, 10.16623808,  9.03582679, 10.64676863,\n",
       "          6.89969586],\n",
       "        [10.37249953,  7.03638621,  9.13517705,  8.01087314,  9.70213068,\n",
       "          5.91710918],\n",
       "        [11.79367496,  8.45214673, 10.55701201,  9.43431708, 11.09230868,\n",
       "          7.32912816],\n",
       "        [11.69292653,  8.33301462, 10.47104606,  9.33397566, 10.97671202,\n",
       "          7.22142791],\n",
       "        [11.25750249,  7.9074974 , 10.03007648,  8.90111011, 10.55207999,\n",
       "          6.77055796],\n",
       "        [10.61600296,  7.2735283 ,  9.34191356,  8.23532356,  9.95982421,\n",
       "          6.11472593],\n",
       "        [11.02313417,  7.71791836,  9.82485897,  8.6999405 , 10.31569555,\n",
       "          6.58580605],\n",
       "        [11.13651441,  7.81788559,  9.97781219,  8.82730585, 10.39920024,\n",
       "          6.73335095],\n",
       "        [10.48616425,  7.20757203,  9.32111303,  8.188689  ,  9.77759633,\n",
       "          6.10344549]]),\n",
       " array([[ 4.66120186,  8.0255182 ,  6.35860204, ...,  7.46428527,\n",
       "          6.57462997,  5.44571778],\n",
       "        [ 4.17515523,  7.65309309,  5.8966715 , ...,  6.99326245,\n",
       "          6.30653384,  4.99595284],\n",
       "        [ 4.18282852,  7.53737734,  5.85102605, ...,  6.95681381,\n",
       "          6.12725168,  4.94568632],\n",
       "        ...,\n",
       "        [ 6.58580605, 11.191882  ,  8.67599476, ...,  9.82485897,\n",
       "         10.14045532,  7.68072257],\n",
       "        [ 6.73335095, 11.31155001,  8.80172416, ...,  9.97781219,\n",
       "         10.21199063,  7.78117351],\n",
       "        [ 6.10344549, 10.6566515 ,  8.1640531 , ...,  9.32111303,\n",
       "          9.60220377,  7.17151155]]),\n",
       " array([[ 6.60486906,  6.57538129,  5.78929057, ...,  4.70321027,\n",
       "          7.28431854,  5.32958107],\n",
       "        [ 6.33403352,  6.11811293,  5.32495397, ...,  4.21159091,\n",
       "          6.94942029,  4.89031754],\n",
       "        [ 6.15595258,  6.06691234,  5.28319725, ...,  4.22561067,\n",
       "          6.80798215,  4.8392517 ],\n",
       "        ...,\n",
       "        [10.16003145,  8.91877752,  8.1218631 , ...,  6.61033506,\n",
       "         10.62911264,  7.42071031],\n",
       "        [10.23184927,  9.03993906,  8.25133016, ...,  6.7666796 ,\n",
       "         10.72920653,  7.50025862],\n",
       "        [ 9.62143119,  8.40258483,  7.61509436, ...,  6.13128369,\n",
       "         10.09148191,  6.91356681]]),\n",
       " array([[ 7.16934619,  6.4808141 ,  7.46428527, ...,  5.02520661,\n",
       "          6.04542406,  3.72875747],\n",
       "        [ 6.84460668,  6.00520849,  6.99326245, ...,  4.52420064,\n",
       "          5.59483353,  3.32821814],\n",
       "        [ 6.69661225,  5.97951423,  6.95681381, ...,  4.54931122,\n",
       "          5.53608338,  3.26344079],\n",
       "        ...,\n",
       "        [10.54512104,  8.53442524,  9.82485897, ...,  6.85595865,\n",
       "          8.53766989,  5.93577153],\n",
       "        [10.63908129,  8.66220912,  9.97781219, ...,  7.026395  ,\n",
       "          8.66152184,  5.9996588 ],\n",
       "        [10.00589979,  8.03418658,  9.32111303, ...,  6.38645926,\n",
       "          8.02109643,  5.42237289]])]"
      ]
     },
     "execution_count": 24,
     "metadata": {},
     "output_type": "execute_result"
    }
   ],
   "source": [
    "D_K = [cdist(X_iris, centrds, 'euclidean') for centrds in centroids]\n",
    "D_K"
   ]
  },
  {
   "cell_type": "code",
   "execution_count": 26,
   "metadata": {},
   "outputs": [],
   "source": [
    "cIdx = [np.argmin(D, axis=1) for D in D_K]\n",
    "dist = [np.min(D,axis=1) for D in D_K]\n",
    "avgWithinSS = [sum(d)/X_scale.shape[0] for d in dist]"
   ]
  },
  {
   "cell_type": "code",
   "execution_count": 27,
   "metadata": {},
   "outputs": [],
   "source": [
    "## Total with-in sum of square\n",
    "wcss = [sum(d**2) for d in dist]\n",
    "tss = sum(pdist(X_scale)**2)/X_scale.shape[0]\n",
    "bss = tss-wcss"
   ]
  },
  {
   "cell_type": "code",
   "execution_count": 28,
   "metadata": {},
   "outputs": [
    {
     "data": {
      "text/plain": [
       "Text(0.5, 1.0, 'Elbow for KMeans clustering')"
      ]
     },
     "execution_count": 28,
     "metadata": {},
     "output_type": "execute_result"
    },
    {
     "data": {
      "image/png": "[encoded data removed]",
      "text/plain": [
       "<Figure size 432x288 with 1 Axes>"
      ]
     },
     "metadata": {
      "needs_background": "light"
     },
     "output_type": "display_data"
    }
   ],
   "source": [
    "## elbow curve - Avg. within-cluster sum of squares\n",
    "fig = plt.figure()\n",
    "ax = fig.add_subplot(111)\n",
    "ax.plot(K, avgWithinSS, 'b*-')\n",
    "plt.grid(True)\n",
    "plt.xlabel('Number of clusters')\n",
    "plt.ylabel('Average within-cluster sum of squares')\n",
    "plt.title('Elbow for KMeans clustering')"
   ]
  },
  {
   "cell_type": "code",
   "execution_count": 29,
   "metadata": {},
   "outputs": [
    {
     "data": {
      "text/plain": [
       "Text(0.5, 1.0, 'Elbow for KMeans clustering')"
      ]
     },
     "execution_count": 29,
     "metadata": {},
     "output_type": "execute_result"
    },
    {
     "data": {
      "image/png": "[encoded data removed]",
      "text/plain": [
       "<Figure size 432x288 with 1 Axes>"
      ]
     },
     "metadata": {
      "needs_background": "light"
     },
     "output_type": "display_data"
    }
   ],
   "source": [
    "## elbow curve - percentage of variance explained\n",
    "fig = plt.figure()\n",
    "ax = fig.add_subplot(111)\n",
    "ax.plot(K, bss/tss*100, 'b*-')\n",
    "plt.grid(True)\n",
    "plt.xlabel('Number of variance explained')\n",
    "plt.ylabel('Percentage of variance explained')\n",
    "plt.title('Elbow for KMeans clustering')"
   ]
  },
  {
   "cell_type": "code",
   "execution_count": 30,
   "metadata": {},
   "outputs": [
    {
     "name": "stdout",
     "output_type": "stream",
     "text": [
      "\n",
      "Eigen Values\n",
      " [1.57253666 0.03783334]\n",
      "\n",
      "Eigen Vectors\n",
      " [[ 0.75530088 -0.6553782 ]\n",
      " [ 0.6553782   0.75530088]]\n"
     ]
    }
   ],
   "source": [
    "## Calculation of eigenvectors & eigenvalues\n",
    "import numpy as np\n",
    "w,v = np.linalg.eig(np.array([[0.91335, 0.75969],[0.75969, 0.69702]]))\n",
    "print(\"\\nEigen Values\\n\", w)\n",
    "print(\"\\nEigen Vectors\\n\", v)"
   ]
  },
  {
   "cell_type": "code",
   "execution_count": 31,
   "metadata": {},
   "outputs": [
    {
     "data": {
      "text/plain": [
       "KMeans(n_clusters=4)"
      ]
     },
     "execution_count": 31,
     "metadata": {},
     "output_type": "execute_result"
    }
   ],
   "source": [
    "k_means_fit = KMeans(n_clusters=4, max_iter=300)\n",
    "k_means_fit.fit(X_scale)"
   ]
  },
  {
   "cell_type": "code",
   "execution_count": 32,
   "metadata": {},
   "outputs": [
    {
     "data": {
      "text/plain": [
       "array([[ 1.13597027,  0.09659843,  0.996271  ,  1.01717187],\n",
       "       [-0.73463631,  1.45201075, -1.29704352, -1.21071997],\n",
       "       [-0.05021989, -0.88029181,  0.34753171,  0.28206327],\n",
       "       [-1.34320731,  0.12656736, -1.31407576, -1.30726051]])"
      ]
     },
     "execution_count": 32,
     "metadata": {},
     "output_type": "execute_result"
    }
   ],
   "source": [
    "k_means_fit.cluster_centers_"
   ]
  },
  {
   "cell_type": "code",
   "execution_count": 34,
   "metadata": {},
   "outputs": [
    {
     "name": "stdout",
     "output_type": "stream",
     "text": [
      "\n",
      "K-Means Clustering - Confusion Matrix\n",
      "\n",
      " Predicted         0   1   2   3\n",
      "Actuall                        \n",
      "Iris-setosa       0  27   0  23\n",
      "Iris-versicolor  11   0  39   0\n",
      "Iris-virginica   36   0  14   0\n"
     ]
    }
   ],
   "source": [
    "print(\"\\nK-Means Clustering - Confusion Matrix\\n\\n\",\n",
    "     pd.crosstab(y_iris, k_means_fit.labels_, rownames = ['Actuall'], colnames=[\"Predicted\"]))"
   ]
  },
  {
   "cell_type": "code",
   "execution_count": 35,
   "metadata": {},
   "outputs": [
    {
     "name": "stdout",
     "output_type": "stream",
     "text": [
      "\n",
      "Silhouette-score: 0.366\n"
     ]
    }
   ],
   "source": [
    "print(\"\\nSilhouette-score: %0.3f\" % silhouette_score(X_iris, k_means_fit.labels_, metric='euclidean'))"
   ]
  },
  {
   "cell_type": "code",
   "execution_count": 36,
   "metadata": {},
   "outputs": [
    {
     "name": "stdout",
     "output_type": "stream",
     "text": [
      "For K value 2 , Silhouette-score: 0.681\n",
      "For K value 3 , Silhouette-score: 0.553\n",
      "For K value 4 , Silhouette-score: 0.498\n",
      "For K value 5 , Silhouette-score: 0.491\n",
      "For K value 6 , Silhouette-score: 0.369\n",
      "For K value 7 , Silhouette-score: 0.351\n",
      "For K value 8 , Silhouette-score: 0.363\n",
      "For K value 9 , Silhouette-score: 0.354\n"
     ]
    }
   ],
   "source": [
    "for k in range(2, 10):\n",
    "    k_means_fitk = KMeans(n_clusters=k, max_iter=300)\n",
    "    k_means_fitk.fit(X_iris)\n",
    "    print(\"For K value\", k, \", Silhouette-score: %0.3f\"%\n",
    "          silhouette_score(X_iris, k_means_fitk.labels_, metric='euclidean'))"
   ]
  },
  {
   "cell_type": "code",
   "execution_count": 37,
   "metadata": {},
   "outputs": [],
   "source": [
    "## Hierarchical Clustering\n",
    "## k-means는 비계층적 방법이라고도 하며, 분석속도가 빠르고 군집을 형성하면서 유연하게 다른 군집으로 다시 \n",
    "## 재군집화가 가능한 반면, 계층적 군집분석은 한번 어떤 군집에 속한 개체는 분석과정에서 다른 군집과 \n",
    "## 더 가깝게 계산되어도 다른 군집화가 허용되지 않는 방법이다. 속도로 오래 걸린다.\n",
    "\n",
    "import numpy as np\n",
    "import pandas as pd\n",
    "import matplotlib.pyplot as plt\n",
    "plt.style.use('seaborn-deep')\n",
    "import matplotlib.cm\n",
    "cmap = matplotlib.cm.get_cmap('plasma')"
   ]
  },
  {
   "cell_type": "code",
   "execution_count": 38,
   "metadata": {},
   "outputs": [],
   "source": [
    "## Reading in data\n",
    "data = pd.read_csv(\"C:/Users/MJ/Desktop/새 폴더 (2)/[2] 교재 data/Mall_Customers.csv\", \n",
    "                   encoding=\"UTF-8-sig\")\n",
    "X = data.iloc[:, [3,4]].values"
   ]
  },
  {
   "cell_type": "code",
   "execution_count": 40,
   "metadata": {},
   "outputs": [],
   "source": [
    "# Dendrogram to choose number of clusters (k)\n",
    "import scipy.cluster.hierarchy as sch"
   ]
  },
  {
   "cell_type": "code",
   "execution_count": 41,
   "metadata": {},
   "outputs": [
    {
     "name": "stderr",
     "output_type": "stream",
     "text": [
      "findfont: Font family ['Hancom Gothic Regular'] not found. Falling back to DejaVu Sans.\n"
     ]
    },
    {
     "data": {
      "image/png": "[encoded data removed]",
      "text/plain": [
       "<Figure size 432x288 with 1 Axes>"
      ]
     },
     "metadata": {
      "needs_background": "light"
     },
     "output_type": "display_data"
    }
   ],
   "source": [
    "plt.figure(1)\n",
    "z = sch.linkage(X, method = 'ward')\n",
    "dendrogram = sch.dendrogram(z)\n",
    "plt.title('Dendrogram')\n",
    "plt.xlabel('Customers')\n",
    "plt.ylabel('ward distances')\n",
    "plt.show()"
   ]
  },
  {
   "cell_type": "code",
   "execution_count": 43,
   "metadata": {},
   "outputs": [],
   "source": [
    "k = 5\n",
    "# Clustering\n",
    "from sklearn.cluster import AgglomerativeClustering\n",
    "hc = AgglomerativeClustering(n_clusters=k, affinity=\"euclidean\", linkage='ward')\n",
    "y_hc=hc.fit_predict(X)"
   ]
  },
  {
   "cell_type": "code",
   "execution_count": 44,
   "metadata": {},
   "outputs": [
    {
     "name": "stderr",
     "output_type": "stream",
     "text": [
      "'c' argument looks like a single numeric RGB or RGBA sequence, which should be avoided as value-mapping will have precedence in case its length matches with 'x' & 'y'.  Please use a 2-D array with a single row if you really want to specify the same RGB or RGBA value for all points.\n",
      "'c' argument looks like a single numeric RGB or RGBA sequence, which should be avoided as value-mapping will have precedence in case its length matches with 'x' & 'y'.  Please use a 2-D array with a single row if you really want to specify the same RGB or RGBA value for all points.\n",
      "'c' argument looks like a single numeric RGB or RGBA sequence, which should be avoided as value-mapping will have precedence in case its length matches with 'x' & 'y'.  Please use a 2-D array with a single row if you really want to specify the same RGB or RGBA value for all points.\n",
      "'c' argument looks like a single numeric RGB or RGBA sequence, which should be avoided as value-mapping will have precedence in case its length matches with 'x' & 'y'.  Please use a 2-D array with a single row if you really want to specify the same RGB or RGBA value for all points.\n",
      "'c' argument looks like a single numeric RGB or RGBA sequence, which should be avoided as value-mapping will have precedence in case its length matches with 'x' & 'y'.  Please use a 2-D array with a single row if you really want to specify the same RGB or RGBA value for all points.\n"
     ]
    },
    {
     "data": {
      "image/png": "[encoded data removed]",
      "text/plain": [
       "<Figure size 432x288 with 1 Axes>"
      ]
     },
     "metadata": {
      "needs_background": "light"
     },
     "output_type": "display_data"
    }
   ],
   "source": [
    "labels = [('Cluster' + str(i+1)) for i in range(k)]\n",
    "plt.figure(2)\n",
    "for i in range(k):\n",
    "    plt.scatter(X[y_hc == i, 0], X[y_hc == i, 1], s =20, c = cmap(i/k), label = labels[i])\n",
    "plt.xlabel('Age')\n",
    "plt.ylabel('Spending score')\n",
    "plt.title('HC cluster plot')\n",
    "plt.legend()\n",
    "plt.show()"
   ]
  },
  {
   "cell_type": "code",
   "execution_count": 45,
   "metadata": {},
   "outputs": [],
   "source": [
    "## Section 17 DBSCAN\n",
    "## 17.1 핵심 개념\n",
    "## 밀도기반 클러스터링 기법 \n",
    "## 이 방법은 케이스가 집중되어 있는 밀도에 초점을 두어 밀도가 높은 그룹을 클러스터링 하는 방식이다.\n",
    "## 중심점을 기준으로 특정한 반경 이내에 케이스가 n개 이상 있을 경우 하나의 군집을 형성하는 알고리즘\n",
    "## epsilon 근접 이웃점을 찾기 위해 정의 내려야 하는 반경 거리 \n",
    "## minpts(최소점) 하나의 군집을 형성하기 위해 필요한 최소 케이스 \n",
    "## core point 엡실런 반경 내에 최소점 이상을 갖는 점 \n",
    "## Border point core point의 엡실런 반경 내에 있으나 그 자체로는 최소점을 갖지 못하는 점 \n",
    "## Noise point core point도 아니고 border point도 아닌 점 \n",
    "\n",
    "import warnings\n",
    "warnings.filterwarnings(\"ignore\")\n",
    "import numpy as np\n",
    "import pandas as pd\n",
    "import matplotlib.pyplot as plt"
   ]
  },
  {
   "cell_type": "code",
   "execution_count": 46,
   "metadata": {},
   "outputs": [
    {
     "data": {
      "text/html": [
       "<div>\n",
       "<style scoped>\n",
       "    .dataframe tbody tr th:only-of-type {\n",
       "        vertical-align: middle;\n",
       "    }\n",
       "\n",
       "    .dataframe tbody tr th {\n",
       "        vertical-align: top;\n",
       "    }\n",
       "\n",
       "    .dataframe thead th {\n",
       "        text-align: right;\n",
       "    }\n",
       "</style>\n",
       "<table border=\"1\" class=\"dataframe\">\n",
       "  <thead>\n",
       "    <tr style=\"text-align: right;\">\n",
       "      <th></th>\n",
       "      <th>sepal_length</th>\n",
       "      <th>sepal_width</th>\n",
       "      <th>petal_length</th>\n",
       "      <th>petal_width</th>\n",
       "    </tr>\n",
       "  </thead>\n",
       "  <tbody>\n",
       "    <tr>\n",
       "      <th>0</th>\n",
       "      <td>5.1</td>\n",
       "      <td>3.5</td>\n",
       "      <td>1.4</td>\n",
       "      <td>0.2</td>\n",
       "    </tr>\n",
       "    <tr>\n",
       "      <th>1</th>\n",
       "      <td>4.9</td>\n",
       "      <td>3.0</td>\n",
       "      <td>1.4</td>\n",
       "      <td>0.2</td>\n",
       "    </tr>\n",
       "    <tr>\n",
       "      <th>2</th>\n",
       "      <td>4.7</td>\n",
       "      <td>3.2</td>\n",
       "      <td>1.3</td>\n",
       "      <td>0.2</td>\n",
       "    </tr>\n",
       "    <tr>\n",
       "      <th>3</th>\n",
       "      <td>4.6</td>\n",
       "      <td>3.1</td>\n",
       "      <td>1.5</td>\n",
       "      <td>0.2</td>\n",
       "    </tr>\n",
       "    <tr>\n",
       "      <th>4</th>\n",
       "      <td>5.0</td>\n",
       "      <td>3.6</td>\n",
       "      <td>1.4</td>\n",
       "      <td>0.2</td>\n",
       "    </tr>\n",
       "  </tbody>\n",
       "</table>\n",
       "</div>"
      ],
      "text/plain": [
       "   sepal_length  sepal_width  petal_length  petal_width\n",
       "0           5.1          3.5           1.4          0.2\n",
       "1           4.9          3.0           1.4          0.2\n",
       "2           4.7          3.2           1.3          0.2\n",
       "3           4.6          3.1           1.5          0.2\n",
       "4           5.0          3.6           1.4          0.2"
      ]
     },
     "execution_count": 46,
     "metadata": {},
     "output_type": "execute_result"
    }
   ],
   "source": [
    "iris = pd.read_csv(\"C:/Users/MJ/Desktop/새 폴더 (2)/[2] 교재 data/iris.csv\", encoding=\"UTF-8-sig\")\n",
    "iris_data = iris[iris.columns[0:4]]\n",
    "iris_data.head()"
   ]
  },
  {
   "cell_type": "code",
   "execution_count": 47,
   "metadata": {},
   "outputs": [
    {
     "data": {
      "text/plain": [
       "DBSCAN()"
      ]
     },
     "execution_count": 47,
     "metadata": {},
     "output_type": "execute_result"
    }
   ],
   "source": [
    "## DBSCAN 모델 적용 \n",
    "from sklearn.cluster import DBSCAN\n",
    "dbscan = DBSCAN(eps=0.5, metric='euclidean', min_samples=5)\n",
    "dbscan"
   ]
  },
  {
   "cell_type": "code",
   "execution_count": 48,
   "metadata": {},
   "outputs": [
    {
     "data": {
      "text/plain": [
       "array([ 0,  0,  0,  0,  0,  0,  0,  0,  0,  0,  0,  0,  0,  0,  0,  0,  0,\n",
       "        0,  0,  0,  0,  0,  0,  0,  0,  0,  0,  0,  0,  0,  0,  0,  0,  0,\n",
       "        0,  0,  0,  0,  0,  0,  0, -1,  0,  0,  0,  0,  0,  0,  0,  0,  1,\n",
       "        1,  1,  1,  1,  1,  1, -1,  1,  1, -1,  1,  1,  1,  1,  1,  1,  1,\n",
       "       -1,  1,  1,  1,  1,  1,  1,  1,  1,  1,  1,  1,  1,  1,  1,  1,  1,\n",
       "        1,  1, -1,  1,  1,  1,  1,  1, -1,  1,  1,  1,  1, -1,  1,  1,  1,\n",
       "        1,  1,  1, -1, -1,  1, -1, -1,  1,  1,  1,  1,  1,  1,  1, -1, -1,\n",
       "        1,  1,  1, -1,  1,  1,  1,  1,  1,  1,  1,  1, -1,  1,  1, -1, -1,\n",
       "        1,  1,  1,  1,  1,  1,  1,  1,  1,  1,  1,  1,  1,  1],\n",
       "      dtype=int64)"
      ]
     },
     "execution_count": 48,
     "metadata": {},
     "output_type": "execute_result"
    }
   ],
   "source": [
    "dbscan.fit(iris_data)\n",
    "dbscan.labels_"
   ]
  },
  {
   "cell_type": "code",
   "execution_count": 49,
   "metadata": {},
   "outputs": [
    {
     "data": {
      "text/html": [
       "<div>\n",
       "<style scoped>\n",
       "    .dataframe tbody tr th:only-of-type {\n",
       "        vertical-align: middle;\n",
       "    }\n",
       "\n",
       "    .dataframe tbody tr th {\n",
       "        vertical-align: top;\n",
       "    }\n",
       "\n",
       "    .dataframe thead th {\n",
       "        text-align: right;\n",
       "    }\n",
       "</style>\n",
       "<table border=\"1\" class=\"dataframe\">\n",
       "  <thead>\n",
       "    <tr style=\"text-align: right;\">\n",
       "      <th></th>\n",
       "      <th>predict</th>\n",
       "    </tr>\n",
       "  </thead>\n",
       "  <tbody>\n",
       "    <tr>\n",
       "      <th>0</th>\n",
       "      <td>0</td>\n",
       "    </tr>\n",
       "    <tr>\n",
       "      <th>1</th>\n",
       "      <td>0</td>\n",
       "    </tr>\n",
       "    <tr>\n",
       "      <th>2</th>\n",
       "      <td>0</td>\n",
       "    </tr>\n",
       "    <tr>\n",
       "      <th>3</th>\n",
       "      <td>0</td>\n",
       "    </tr>\n",
       "    <tr>\n",
       "      <th>4</th>\n",
       "      <td>0</td>\n",
       "    </tr>\n",
       "  </tbody>\n",
       "</table>\n",
       "</div>"
      ],
      "text/plain": [
       "   predict\n",
       "0        0\n",
       "1        0\n",
       "2        0\n",
       "3        0\n",
       "4        0"
      ]
     },
     "execution_count": 49,
     "metadata": {},
     "output_type": "execute_result"
    }
   ],
   "source": [
    "pred=dbscan.fit_predict(iris_data)\n",
    "pred=pd.DataFrame(pred)\n",
    "pred.columns=['predict']\n",
    "pred.head()"
   ]
  },
  {
   "cell_type": "code",
   "execution_count": 50,
   "metadata": {},
   "outputs": [
    {
     "data": {
      "text/html": [
       "<div>\n",
       "<style scoped>\n",
       "    .dataframe tbody tr th:only-of-type {\n",
       "        vertical-align: middle;\n",
       "    }\n",
       "\n",
       "    .dataframe tbody tr th {\n",
       "        vertical-align: top;\n",
       "    }\n",
       "\n",
       "    .dataframe thead th {\n",
       "        text-align: right;\n",
       "    }\n",
       "</style>\n",
       "<table border=\"1\" class=\"dataframe\">\n",
       "  <thead>\n",
       "    <tr style=\"text-align: right;\">\n",
       "      <th></th>\n",
       "      <th>sepal_length</th>\n",
       "      <th>sepal_width</th>\n",
       "      <th>petal_length</th>\n",
       "      <th>petal_width</th>\n",
       "      <th>class</th>\n",
       "      <th>predict</th>\n",
       "    </tr>\n",
       "  </thead>\n",
       "  <tbody>\n",
       "    <tr>\n",
       "      <th>0</th>\n",
       "      <td>5.1</td>\n",
       "      <td>3.5</td>\n",
       "      <td>1.4</td>\n",
       "      <td>0.2</td>\n",
       "      <td>Iris-setosa</td>\n",
       "      <td>0</td>\n",
       "    </tr>\n",
       "    <tr>\n",
       "      <th>1</th>\n",
       "      <td>4.9</td>\n",
       "      <td>3.0</td>\n",
       "      <td>1.4</td>\n",
       "      <td>0.2</td>\n",
       "      <td>Iris-setosa</td>\n",
       "      <td>0</td>\n",
       "    </tr>\n",
       "    <tr>\n",
       "      <th>2</th>\n",
       "      <td>4.7</td>\n",
       "      <td>3.2</td>\n",
       "      <td>1.3</td>\n",
       "      <td>0.2</td>\n",
       "      <td>Iris-setosa</td>\n",
       "      <td>0</td>\n",
       "    </tr>\n",
       "    <tr>\n",
       "      <th>3</th>\n",
       "      <td>4.6</td>\n",
       "      <td>3.1</td>\n",
       "      <td>1.5</td>\n",
       "      <td>0.2</td>\n",
       "      <td>Iris-setosa</td>\n",
       "      <td>0</td>\n",
       "    </tr>\n",
       "    <tr>\n",
       "      <th>4</th>\n",
       "      <td>5.0</td>\n",
       "      <td>3.6</td>\n",
       "      <td>1.4</td>\n",
       "      <td>0.2</td>\n",
       "      <td>Iris-setosa</td>\n",
       "      <td>0</td>\n",
       "    </tr>\n",
       "  </tbody>\n",
       "</table>\n",
       "</div>"
      ],
      "text/plain": [
       "   sepal_length  sepal_width  petal_length  petal_width        class  predict\n",
       "0           5.1          3.5           1.4          0.2  Iris-setosa        0\n",
       "1           4.9          3.0           1.4          0.2  Iris-setosa        0\n",
       "2           4.7          3.2           1.3          0.2  Iris-setosa        0\n",
       "3           4.6          3.1           1.5          0.2  Iris-setosa        0\n",
       "4           5.0          3.6           1.4          0.2  Iris-setosa        0"
      ]
     },
     "execution_count": 50,
     "metadata": {},
     "output_type": "execute_result"
    }
   ],
   "source": [
    "match_data = pd.concat([iris,pred],axis=1)\n",
    "match_data.head()"
   ]
  },
  {
   "cell_type": "code",
   "execution_count": 51,
   "metadata": {},
   "outputs": [
    {
     "data": {
      "text/html": [
       "<div>\n",
       "<style scoped>\n",
       "    .dataframe tbody tr th:only-of-type {\n",
       "        vertical-align: middle;\n",
       "    }\n",
       "\n",
       "    .dataframe tbody tr th {\n",
       "        vertical-align: top;\n",
       "    }\n",
       "\n",
       "    .dataframe thead th {\n",
       "        text-align: right;\n",
       "    }\n",
       "</style>\n",
       "<table border=\"1\" class=\"dataframe\">\n",
       "  <thead>\n",
       "    <tr style=\"text-align: right;\">\n",
       "      <th>predict</th>\n",
       "      <th>-1</th>\n",
       "      <th>0</th>\n",
       "      <th>1</th>\n",
       "    </tr>\n",
       "    <tr>\n",
       "      <th>class</th>\n",
       "      <th></th>\n",
       "      <th></th>\n",
       "      <th></th>\n",
       "    </tr>\n",
       "  </thead>\n",
       "  <tbody>\n",
       "    <tr>\n",
       "      <th>Iris-setosa</th>\n",
       "      <td>1</td>\n",
       "      <td>49</td>\n",
       "      <td>0</td>\n",
       "    </tr>\n",
       "    <tr>\n",
       "      <th>Iris-versicolor</th>\n",
       "      <td>6</td>\n",
       "      <td>0</td>\n",
       "      <td>44</td>\n",
       "    </tr>\n",
       "    <tr>\n",
       "      <th>Iris-virginica</th>\n",
       "      <td>10</td>\n",
       "      <td>0</td>\n",
       "      <td>40</td>\n",
       "    </tr>\n",
       "  </tbody>\n",
       "</table>\n",
       "</div>"
      ],
      "text/plain": [
       "predict          -1   0   1\n",
       "class                      \n",
       "Iris-setosa       1  49   0\n",
       "Iris-versicolor   6   0  44\n",
       "Iris-virginica   10   0  40"
      ]
     },
     "execution_count": 51,
     "metadata": {},
     "output_type": "execute_result"
    }
   ],
   "source": [
    "cross = pd.crosstab(match_data['class'], match_data['predict'])\n",
    "cross"
   ]
  },
  {
   "cell_type": "code",
   "execution_count": 52,
   "metadata": {},
   "outputs": [],
   "source": [
    "from sklearn.decomposition import PCA\n",
    "pca = PCA(n_components=2).fit(iris_data)\n",
    "pca_2d = pca.transform(iris_data)"
   ]
  },
  {
   "cell_type": "code",
   "execution_count": 53,
   "metadata": {},
   "outputs": [
    {
     "data": {
      "image/png": "[encoded data removed]",
      "text/plain": [
       "<Figure size 432x288 with 1 Axes>"
      ]
     },
     "metadata": {
      "needs_background": "light"
     },
     "output_type": "display_data"
    }
   ],
   "source": [
    "for i in range(0, pca_2d.shape[0]):\n",
    "    if dbscan.labels_[i] == 0:\n",
    "        c1 = plt.scatter(pca_2d[i,0], pca_2d[i,1], c='r', marker='+')\n",
    "    elif dbscan.labels_[i] == 1:\n",
    "        c2 = plt.scatter(pca_2d[i,0], pca_2d[i,1], c='g', marker='o')\n",
    "    elif dbscan.labels_[i] == -1:\n",
    "        c3 = plt.scatter(pca_2d[i,0], pca_2d[i,1], c='b', marker='*')\n",
    "plt.legend([c1, c2, c3], ['Cluster 1', 'Cluster 2', 'Noise'])\n",
    "plt.title('DBSCAN finds 2 clusters and noise')\n",
    "plt.show()"
   ]
  },
  {
   "cell_type": "code",
   "execution_count": 54,
   "metadata": {},
   "outputs": [],
   "source": [
    "## Section18 연관규칙분석\n",
    "## 연관규칙은 Apriori Algorithm이라고도 하며, 대용량의 트랜잭션 데이터로부터 X면 Y이다 라는 식의 \n",
    "## 연관관계를 발견하는 기법이다. 장바구니 분석,\n",
    "import warnings\n",
    "warnings.filterwarnings(\"ignore\")\n",
    "import numpy as np\n",
    "import pandas as pd"
   ]
  },
  {
   "cell_type": "code",
   "execution_count": 55,
   "metadata": {},
   "outputs": [
    {
     "data": {
      "text/html": [
       "<div>\n",
       "<style scoped>\n",
       "    .dataframe tbody tr th:only-of-type {\n",
       "        vertical-align: middle;\n",
       "    }\n",
       "\n",
       "    .dataframe tbody tr th {\n",
       "        vertical-align: top;\n",
       "    }\n",
       "\n",
       "    .dataframe thead th {\n",
       "        text-align: right;\n",
       "    }\n",
       "</style>\n",
       "<table border=\"1\" class=\"dataframe\">\n",
       "  <thead>\n",
       "    <tr style=\"text-align: right;\">\n",
       "      <th></th>\n",
       "      <th>shrimp</th>\n",
       "      <th>almonds</th>\n",
       "      <th>avocado</th>\n",
       "      <th>vegetables mix</th>\n",
       "      <th>green grapes</th>\n",
       "      <th>whole weat flour</th>\n",
       "      <th>yams</th>\n",
       "      <th>cottage cheese</th>\n",
       "      <th>energy drink</th>\n",
       "      <th>tomato juice</th>\n",
       "      <th>low fat yogurt</th>\n",
       "      <th>green tea</th>\n",
       "      <th>honey</th>\n",
       "      <th>salad</th>\n",
       "      <th>mineral water</th>\n",
       "      <th>salmon</th>\n",
       "      <th>antioxydant juice</th>\n",
       "      <th>frozen smoothie</th>\n",
       "      <th>spinach</th>\n",
       "      <th>olive oil</th>\n",
       "    </tr>\n",
       "  </thead>\n",
       "  <tbody>\n",
       "    <tr>\n",
       "      <th>0</th>\n",
       "      <td>burgers</td>\n",
       "      <td>meatballs</td>\n",
       "      <td>eggs</td>\n",
       "      <td>NaN</td>\n",
       "      <td>NaN</td>\n",
       "      <td>NaN</td>\n",
       "      <td>NaN</td>\n",
       "      <td>NaN</td>\n",
       "      <td>NaN</td>\n",
       "      <td>NaN</td>\n",
       "      <td>NaN</td>\n",
       "      <td>NaN</td>\n",
       "      <td>NaN</td>\n",
       "      <td>NaN</td>\n",
       "      <td>NaN</td>\n",
       "      <td>NaN</td>\n",
       "      <td>NaN</td>\n",
       "      <td>NaN</td>\n",
       "      <td>NaN</td>\n",
       "      <td>NaN</td>\n",
       "    </tr>\n",
       "    <tr>\n",
       "      <th>1</th>\n",
       "      <td>chutney</td>\n",
       "      <td>NaN</td>\n",
       "      <td>NaN</td>\n",
       "      <td>NaN</td>\n",
       "      <td>NaN</td>\n",
       "      <td>NaN</td>\n",
       "      <td>NaN</td>\n",
       "      <td>NaN</td>\n",
       "      <td>NaN</td>\n",
       "      <td>NaN</td>\n",
       "      <td>NaN</td>\n",
       "      <td>NaN</td>\n",
       "      <td>NaN</td>\n",
       "      <td>NaN</td>\n",
       "      <td>NaN</td>\n",
       "      <td>NaN</td>\n",
       "      <td>NaN</td>\n",
       "      <td>NaN</td>\n",
       "      <td>NaN</td>\n",
       "      <td>NaN</td>\n",
       "    </tr>\n",
       "    <tr>\n",
       "      <th>2</th>\n",
       "      <td>turkey</td>\n",
       "      <td>avocado</td>\n",
       "      <td>NaN</td>\n",
       "      <td>NaN</td>\n",
       "      <td>NaN</td>\n",
       "      <td>NaN</td>\n",
       "      <td>NaN</td>\n",
       "      <td>NaN</td>\n",
       "      <td>NaN</td>\n",
       "      <td>NaN</td>\n",
       "      <td>NaN</td>\n",
       "      <td>NaN</td>\n",
       "      <td>NaN</td>\n",
       "      <td>NaN</td>\n",
       "      <td>NaN</td>\n",
       "      <td>NaN</td>\n",
       "      <td>NaN</td>\n",
       "      <td>NaN</td>\n",
       "      <td>NaN</td>\n",
       "      <td>NaN</td>\n",
       "    </tr>\n",
       "    <tr>\n",
       "      <th>3</th>\n",
       "      <td>mineral water</td>\n",
       "      <td>milk</td>\n",
       "      <td>energy bar</td>\n",
       "      <td>whole wheat rice</td>\n",
       "      <td>green tea</td>\n",
       "      <td>NaN</td>\n",
       "      <td>NaN</td>\n",
       "      <td>NaN</td>\n",
       "      <td>NaN</td>\n",
       "      <td>NaN</td>\n",
       "      <td>NaN</td>\n",
       "      <td>NaN</td>\n",
       "      <td>NaN</td>\n",
       "      <td>NaN</td>\n",
       "      <td>NaN</td>\n",
       "      <td>NaN</td>\n",
       "      <td>NaN</td>\n",
       "      <td>NaN</td>\n",
       "      <td>NaN</td>\n",
       "      <td>NaN</td>\n",
       "    </tr>\n",
       "    <tr>\n",
       "      <th>4</th>\n",
       "      <td>low fat yogurt</td>\n",
       "      <td>NaN</td>\n",
       "      <td>NaN</td>\n",
       "      <td>NaN</td>\n",
       "      <td>NaN</td>\n",
       "      <td>NaN</td>\n",
       "      <td>NaN</td>\n",
       "      <td>NaN</td>\n",
       "      <td>NaN</td>\n",
       "      <td>NaN</td>\n",
       "      <td>NaN</td>\n",
       "      <td>NaN</td>\n",
       "      <td>NaN</td>\n",
       "      <td>NaN</td>\n",
       "      <td>NaN</td>\n",
       "      <td>NaN</td>\n",
       "      <td>NaN</td>\n",
       "      <td>NaN</td>\n",
       "      <td>NaN</td>\n",
       "      <td>NaN</td>\n",
       "    </tr>\n",
       "  </tbody>\n",
       "</table>\n",
       "</div>"
      ],
      "text/plain": [
       "           shrimp    almonds     avocado    vegetables mix green grapes  \\\n",
       "0         burgers  meatballs        eggs               NaN          NaN   \n",
       "1         chutney        NaN         NaN               NaN          NaN   \n",
       "2          turkey    avocado         NaN               NaN          NaN   \n",
       "3   mineral water       milk  energy bar  whole wheat rice    green tea   \n",
       "4  low fat yogurt        NaN         NaN               NaN          NaN   \n",
       "\n",
       "  whole weat flour yams cottage cheese energy drink tomato juice  \\\n",
       "0              NaN  NaN            NaN          NaN          NaN   \n",
       "1              NaN  NaN            NaN          NaN          NaN   \n",
       "2              NaN  NaN            NaN          NaN          NaN   \n",
       "3              NaN  NaN            NaN          NaN          NaN   \n",
       "4              NaN  NaN            NaN          NaN          NaN   \n",
       "\n",
       "  low fat yogurt green tea honey salad mineral water salmon antioxydant juice  \\\n",
       "0            NaN       NaN   NaN   NaN           NaN    NaN               NaN   \n",
       "1            NaN       NaN   NaN   NaN           NaN    NaN               NaN   \n",
       "2            NaN       NaN   NaN   NaN           NaN    NaN               NaN   \n",
       "3            NaN       NaN   NaN   NaN           NaN    NaN               NaN   \n",
       "4            NaN       NaN   NaN   NaN           NaN    NaN               NaN   \n",
       "\n",
       "  frozen smoothie spinach  olive oil  \n",
       "0             NaN     NaN        NaN  \n",
       "1             NaN     NaN        NaN  \n",
       "2             NaN     NaN        NaN  \n",
       "3             NaN     NaN        NaN  \n",
       "4             NaN     NaN        NaN  "
      ]
     },
     "execution_count": 55,
     "metadata": {},
     "output_type": "execute_result"
    }
   ],
   "source": [
    "data = pd.read_csv('C:/Users/MJ/Desktop/새 폴더 (2)/[2] 교재 data/Market_Basket.csv',\n",
    "                  encoding='UTF-8-sig')\n",
    "data.head()"
   ]
  },
  {
   "cell_type": "code",
   "execution_count": 77,
   "metadata": {},
   "outputs": [
    {
     "name": "stdout",
     "output_type": "stream",
     "text": [
      "<class 'pandas.core.frame.DataFrame'>\n",
      "RangeIndex: 7500 entries, 0 to 7499\n",
      "Data columns (total 20 columns):\n",
      " #   Column             Non-Null Count  Dtype  \n",
      "---  ------             --------------  -----  \n",
      " 0   shrimp             7500 non-null   object \n",
      " 1   almonds            5746 non-null   object \n",
      " 2   avocado            4388 non-null   object \n",
      " 3   vegetables mix     3344 non-null   object \n",
      " 4   green grapes       2528 non-null   object \n",
      " 5   whole weat flour   1863 non-null   object \n",
      " 6   yams               1368 non-null   object \n",
      " 7   cottage cheese     980 non-null    object \n",
      " 8   energy drink       653 non-null    object \n",
      " 9   tomato juice       394 non-null    object \n",
      " 10  low fat yogurt     255 non-null    object \n",
      " 11  green tea          153 non-null    object \n",
      " 12  honey              86 non-null     object \n",
      " 13  salad              46 non-null     object \n",
      " 14  mineral water      24 non-null     object \n",
      " 15  salmon             7 non-null      object \n",
      " 16  antioxydant juice  3 non-null      object \n",
      " 17  frozen smoothie    3 non-null      object \n",
      " 18  spinach            2 non-null      object \n",
      " 19  olive oil          0 non-null      float64\n",
      "dtypes: float64(1), object(19)\n",
      "memory usage: 1.1+ MB\n"
     ]
    }
   ],
   "source": [
    "data.info()"
   ]
  },
  {
   "cell_type": "code",
   "execution_count": 78,
   "metadata": {},
   "outputs": [
    {
     "ename": "KeyError",
     "evalue": "0",
     "output_type": "error",
     "traceback": [
      "\u001b[1;31m---------------------------------------------------------------------------\u001b[0m",
      "\u001b[1;31mKeyError\u001b[0m                                  Traceback (most recent call last)",
      "\u001b[1;32m~\\anaconda3\\lib\\site-packages\\pandas\\core\\indexes\\base.py\u001b[0m in \u001b[0;36mget_loc\u001b[1;34m(self, key, method, tolerance)\u001b[0m\n\u001b[0;32m   2645\u001b[0m             \u001b[1;32mtry\u001b[0m\u001b[1;33m:\u001b[0m\u001b[1;33m\u001b[0m\u001b[1;33m\u001b[0m\u001b[0m\n\u001b[1;32m-> 2646\u001b[1;33m                 \u001b[1;32mreturn\u001b[0m \u001b[0mself\u001b[0m\u001b[1;33m.\u001b[0m\u001b[0m_engine\u001b[0m\u001b[1;33m.\u001b[0m\u001b[0mget_loc\u001b[0m\u001b[1;33m(\u001b[0m\u001b[0mkey\u001b[0m\u001b[1;33m)\u001b[0m\u001b[1;33m\u001b[0m\u001b[1;33m\u001b[0m\u001b[0m\n\u001b[0m\u001b[0;32m   2647\u001b[0m             \u001b[1;32mexcept\u001b[0m \u001b[0mKeyError\u001b[0m\u001b[1;33m:\u001b[0m\u001b[1;33m\u001b[0m\u001b[1;33m\u001b[0m\u001b[0m\n",
      "\u001b[1;32mpandas\\_libs\\index.pyx\u001b[0m in \u001b[0;36mpandas._libs.index.IndexEngine.get_loc\u001b[1;34m()\u001b[0m\n",
      "\u001b[1;32mpandas\\_libs\\index.pyx\u001b[0m in \u001b[0;36mpandas._libs.index.IndexEngine.get_loc\u001b[1;34m()\u001b[0m\n",
      "\u001b[1;32mpandas\\_libs\\hashtable_class_helper.pxi\u001b[0m in \u001b[0;36mpandas._libs.hashtable.PyObjectHashTable.get_item\u001b[1;34m()\u001b[0m\n",
      "\u001b[1;32mpandas\\_libs\\hashtable_class_helper.pxi\u001b[0m in \u001b[0;36mpandas._libs.hashtable.PyObjectHashTable.get_item\u001b[1;34m()\u001b[0m\n",
      "\u001b[1;31mKeyError\u001b[0m: 0",
      "\nDuring handling of the above exception, another exception occurred:\n",
      "\u001b[1;31mKeyError\u001b[0m                                  Traceback (most recent call last)",
      "\u001b[1;32m<ipython-input-78-2bb67aeaab05>\u001b[0m in \u001b[0;36m<module>\u001b[1;34m\u001b[0m\n\u001b[0;32m      2\u001b[0m \u001b[1;32mfor\u001b[0m \u001b[0mi\u001b[0m \u001b[1;32min\u001b[0m \u001b[0mrange\u001b[0m\u001b[1;33m(\u001b[0m\u001b[0mdata\u001b[0m\u001b[1;33m.\u001b[0m\u001b[0mshape\u001b[0m\u001b[1;33m[\u001b[0m\u001b[1;36m0\u001b[0m\u001b[1;33m]\u001b[0m\u001b[1;33m)\u001b[0m\u001b[1;33m:\u001b[0m\u001b[1;33m\u001b[0m\u001b[1;33m\u001b[0m\u001b[0m\n\u001b[0;32m      3\u001b[0m     \u001b[1;32mfor\u001b[0m \u001b[0mj\u001b[0m \u001b[1;32min\u001b[0m \u001b[0mrange\u001b[0m\u001b[1;33m(\u001b[0m\u001b[0mdata\u001b[0m\u001b[1;33m.\u001b[0m\u001b[0mshape\u001b[0m\u001b[1;33m[\u001b[0m\u001b[1;36m1\u001b[0m\u001b[1;33m]\u001b[0m\u001b[1;33m-\u001b[0m\u001b[0mdata\u001b[0m\u001b[1;33m.\u001b[0m\u001b[0misnull\u001b[0m\u001b[1;33m(\u001b[0m\u001b[1;33m)\u001b[0m\u001b[1;33m.\u001b[0m\u001b[0msum\u001b[0m\u001b[1;33m(\u001b[0m\u001b[0maxis\u001b[0m\u001b[1;33m=\u001b[0m\u001b[1;36m1\u001b[0m\u001b[1;33m)\u001b[0m\u001b[1;33m[\u001b[0m\u001b[0mi\u001b[0m\u001b[1;33m]\u001b[0m\u001b[1;33m)\u001b[0m\u001b[1;33m:\u001b[0m\u001b[1;33m\u001b[0m\u001b[1;33m\u001b[0m\u001b[0m\n\u001b[1;32m----> 4\u001b[1;33m         \u001b[0mtransactions\u001b[0m\u001b[1;33m.\u001b[0m\u001b[0mappend\u001b[0m\u001b[1;33m(\u001b[0m\u001b[1;33m[\u001b[0m\u001b[0mstr\u001b[0m\u001b[1;33m(\u001b[0m\u001b[0mdata\u001b[0m\u001b[1;33m[\u001b[0m\u001b[0mj\u001b[0m\u001b[1;33m]\u001b[0m\u001b[1;33m[\u001b[0m\u001b[0mi\u001b[0m\u001b[1;33m]\u001b[0m\u001b[1;33m)\u001b[0m\u001b[1;33m]\u001b[0m\u001b[1;33m)\u001b[0m\u001b[1;33m\u001b[0m\u001b[1;33m\u001b[0m\u001b[0m\n\u001b[0m\u001b[0;32m      5\u001b[0m \u001b[1;33m\u001b[0m\u001b[0m\n\u001b[0;32m      6\u001b[0m \u001b[0mtransactions\u001b[0m\u001b[1;33m\u001b[0m\u001b[1;33m\u001b[0m\u001b[0m\n",
      "\u001b[1;32m~\\anaconda3\\lib\\site-packages\\pandas\\core\\frame.py\u001b[0m in \u001b[0;36m__getitem__\u001b[1;34m(self, key)\u001b[0m\n\u001b[0;32m   2798\u001b[0m             \u001b[1;32mif\u001b[0m \u001b[0mself\u001b[0m\u001b[1;33m.\u001b[0m\u001b[0mcolumns\u001b[0m\u001b[1;33m.\u001b[0m\u001b[0mnlevels\u001b[0m \u001b[1;33m>\u001b[0m \u001b[1;36m1\u001b[0m\u001b[1;33m:\u001b[0m\u001b[1;33m\u001b[0m\u001b[1;33m\u001b[0m\u001b[0m\n\u001b[0;32m   2799\u001b[0m                 \u001b[1;32mreturn\u001b[0m \u001b[0mself\u001b[0m\u001b[1;33m.\u001b[0m\u001b[0m_getitem_multilevel\u001b[0m\u001b[1;33m(\u001b[0m\u001b[0mkey\u001b[0m\u001b[1;33m)\u001b[0m\u001b[1;33m\u001b[0m\u001b[1;33m\u001b[0m\u001b[0m\n\u001b[1;32m-> 2800\u001b[1;33m             \u001b[0mindexer\u001b[0m \u001b[1;33m=\u001b[0m \u001b[0mself\u001b[0m\u001b[1;33m.\u001b[0m\u001b[0mcolumns\u001b[0m\u001b[1;33m.\u001b[0m\u001b[0mget_loc\u001b[0m\u001b[1;33m(\u001b[0m\u001b[0mkey\u001b[0m\u001b[1;33m)\u001b[0m\u001b[1;33m\u001b[0m\u001b[1;33m\u001b[0m\u001b[0m\n\u001b[0m\u001b[0;32m   2801\u001b[0m             \u001b[1;32mif\u001b[0m \u001b[0mis_integer\u001b[0m\u001b[1;33m(\u001b[0m\u001b[0mindexer\u001b[0m\u001b[1;33m)\u001b[0m\u001b[1;33m:\u001b[0m\u001b[1;33m\u001b[0m\u001b[1;33m\u001b[0m\u001b[0m\n\u001b[0;32m   2802\u001b[0m                 \u001b[0mindexer\u001b[0m \u001b[1;33m=\u001b[0m \u001b[1;33m[\u001b[0m\u001b[0mindexer\u001b[0m\u001b[1;33m]\u001b[0m\u001b[1;33m\u001b[0m\u001b[1;33m\u001b[0m\u001b[0m\n",
      "\u001b[1;32m~\\anaconda3\\lib\\site-packages\\pandas\\core\\indexes\\base.py\u001b[0m in \u001b[0;36mget_loc\u001b[1;34m(self, key, method, tolerance)\u001b[0m\n\u001b[0;32m   2646\u001b[0m                 \u001b[1;32mreturn\u001b[0m \u001b[0mself\u001b[0m\u001b[1;33m.\u001b[0m\u001b[0m_engine\u001b[0m\u001b[1;33m.\u001b[0m\u001b[0mget_loc\u001b[0m\u001b[1;33m(\u001b[0m\u001b[0mkey\u001b[0m\u001b[1;33m)\u001b[0m\u001b[1;33m\u001b[0m\u001b[1;33m\u001b[0m\u001b[0m\n\u001b[0;32m   2647\u001b[0m             \u001b[1;32mexcept\u001b[0m \u001b[0mKeyError\u001b[0m\u001b[1;33m:\u001b[0m\u001b[1;33m\u001b[0m\u001b[1;33m\u001b[0m\u001b[0m\n\u001b[1;32m-> 2648\u001b[1;33m                 \u001b[1;32mreturn\u001b[0m \u001b[0mself\u001b[0m\u001b[1;33m.\u001b[0m\u001b[0m_engine\u001b[0m\u001b[1;33m.\u001b[0m\u001b[0mget_loc\u001b[0m\u001b[1;33m(\u001b[0m\u001b[0mself\u001b[0m\u001b[1;33m.\u001b[0m\u001b[0m_maybe_cast_indexer\u001b[0m\u001b[1;33m(\u001b[0m\u001b[0mkey\u001b[0m\u001b[1;33m)\u001b[0m\u001b[1;33m)\u001b[0m\u001b[1;33m\u001b[0m\u001b[1;33m\u001b[0m\u001b[0m\n\u001b[0m\u001b[0;32m   2649\u001b[0m         \u001b[0mindexer\u001b[0m \u001b[1;33m=\u001b[0m \u001b[0mself\u001b[0m\u001b[1;33m.\u001b[0m\u001b[0mget_indexer\u001b[0m\u001b[1;33m(\u001b[0m\u001b[1;33m[\u001b[0m\u001b[0mkey\u001b[0m\u001b[1;33m]\u001b[0m\u001b[1;33m,\u001b[0m \u001b[0mmethod\u001b[0m\u001b[1;33m=\u001b[0m\u001b[0mmethod\u001b[0m\u001b[1;33m,\u001b[0m \u001b[0mtolerance\u001b[0m\u001b[1;33m=\u001b[0m\u001b[0mtolerance\u001b[0m\u001b[1;33m)\u001b[0m\u001b[1;33m\u001b[0m\u001b[1;33m\u001b[0m\u001b[0m\n\u001b[0;32m   2650\u001b[0m         \u001b[1;32mif\u001b[0m \u001b[0mindexer\u001b[0m\u001b[1;33m.\u001b[0m\u001b[0mndim\u001b[0m \u001b[1;33m>\u001b[0m \u001b[1;36m1\u001b[0m \u001b[1;32mor\u001b[0m \u001b[0mindexer\u001b[0m\u001b[1;33m.\u001b[0m\u001b[0msize\u001b[0m \u001b[1;33m>\u001b[0m \u001b[1;36m1\u001b[0m\u001b[1;33m:\u001b[0m\u001b[1;33m\u001b[0m\u001b[1;33m\u001b[0m\u001b[0m\n",
      "\u001b[1;32mpandas\\_libs\\index.pyx\u001b[0m in \u001b[0;36mpandas._libs.index.IndexEngine.get_loc\u001b[1;34m()\u001b[0m\n",
      "\u001b[1;32mpandas\\_libs\\index.pyx\u001b[0m in \u001b[0;36mpandas._libs.index.IndexEngine.get_loc\u001b[1;34m()\u001b[0m\n",
      "\u001b[1;32mpandas\\_libs\\hashtable_class_helper.pxi\u001b[0m in \u001b[0;36mpandas._libs.hashtable.PyObjectHashTable.get_item\u001b[1;34m()\u001b[0m\n",
      "\u001b[1;32mpandas\\_libs\\hashtable_class_helper.pxi\u001b[0m in \u001b[0;36mpandas._libs.hashtable.PyObjectHashTable.get_item\u001b[1;34m()\u001b[0m\n",
      "\u001b[1;31mKeyError\u001b[0m: 0"
     ]
    }
   ],
   "source": [
    "transactions = []\n",
    "for i in range(data.shape[0]):\n",
    "    for j in range(data.shape[1]-data.isnull().sum(axis=1)[i]):\n",
    "        transactions.append([str(data[j][i])])\n",
    "                            \n",
    "transactions"
   ]
  },
  {
   "cell_type": "code",
   "execution_count": 67,
   "metadata": {},
   "outputs": [
    {
     "data": {
      "text/html": [
       "<div>\n",
       "<style scoped>\n",
       "    .dataframe tbody tr th:only-of-type {\n",
       "        vertical-align: middle;\n",
       "    }\n",
       "\n",
       "    .dataframe tbody tr th {\n",
       "        vertical-align: top;\n",
       "    }\n",
       "\n",
       "    .dataframe thead th {\n",
       "        text-align: right;\n",
       "    }\n",
       "</style>\n",
       "<table border=\"1\" class=\"dataframe\">\n",
       "  <thead>\n",
       "    <tr style=\"text-align: right;\">\n",
       "      <th></th>\n",
       "      <th>shrimp</th>\n",
       "      <th>almonds</th>\n",
       "      <th>avocado</th>\n",
       "      <th>vegetables mix</th>\n",
       "      <th>green grapes</th>\n",
       "      <th>whole weat flour</th>\n",
       "      <th>yams</th>\n",
       "      <th>cottage cheese</th>\n",
       "      <th>energy drink</th>\n",
       "      <th>tomato juice</th>\n",
       "      <th>low fat yogurt</th>\n",
       "      <th>green tea</th>\n",
       "      <th>honey</th>\n",
       "      <th>salad</th>\n",
       "      <th>mineral water</th>\n",
       "      <th>salmon</th>\n",
       "      <th>antioxydant juice</th>\n",
       "      <th>frozen smoothie</th>\n",
       "      <th>spinach</th>\n",
       "      <th>olive oil</th>\n",
       "    </tr>\n",
       "  </thead>\n",
       "  <tbody>\n",
       "    <tr>\n",
       "      <th>0</th>\n",
       "      <td>burgers</td>\n",
       "      <td>meatballs</td>\n",
       "      <td>eggs</td>\n",
       "      <td>NaN</td>\n",
       "      <td>NaN</td>\n",
       "      <td>NaN</td>\n",
       "      <td>NaN</td>\n",
       "      <td>NaN</td>\n",
       "      <td>NaN</td>\n",
       "      <td>NaN</td>\n",
       "      <td>NaN</td>\n",
       "      <td>NaN</td>\n",
       "      <td>NaN</td>\n",
       "      <td>NaN</td>\n",
       "      <td>NaN</td>\n",
       "      <td>NaN</td>\n",
       "      <td>NaN</td>\n",
       "      <td>NaN</td>\n",
       "      <td>NaN</td>\n",
       "      <td>NaN</td>\n",
       "    </tr>\n",
       "    <tr>\n",
       "      <th>1</th>\n",
       "      <td>chutney</td>\n",
       "      <td>NaN</td>\n",
       "      <td>NaN</td>\n",
       "      <td>NaN</td>\n",
       "      <td>NaN</td>\n",
       "      <td>NaN</td>\n",
       "      <td>NaN</td>\n",
       "      <td>NaN</td>\n",
       "      <td>NaN</td>\n",
       "      <td>NaN</td>\n",
       "      <td>NaN</td>\n",
       "      <td>NaN</td>\n",
       "      <td>NaN</td>\n",
       "      <td>NaN</td>\n",
       "      <td>NaN</td>\n",
       "      <td>NaN</td>\n",
       "      <td>NaN</td>\n",
       "      <td>NaN</td>\n",
       "      <td>NaN</td>\n",
       "      <td>NaN</td>\n",
       "    </tr>\n",
       "    <tr>\n",
       "      <th>2</th>\n",
       "      <td>turkey</td>\n",
       "      <td>avocado</td>\n",
       "      <td>NaN</td>\n",
       "      <td>NaN</td>\n",
       "      <td>NaN</td>\n",
       "      <td>NaN</td>\n",
       "      <td>NaN</td>\n",
       "      <td>NaN</td>\n",
       "      <td>NaN</td>\n",
       "      <td>NaN</td>\n",
       "      <td>NaN</td>\n",
       "      <td>NaN</td>\n",
       "      <td>NaN</td>\n",
       "      <td>NaN</td>\n",
       "      <td>NaN</td>\n",
       "      <td>NaN</td>\n",
       "      <td>NaN</td>\n",
       "      <td>NaN</td>\n",
       "      <td>NaN</td>\n",
       "      <td>NaN</td>\n",
       "    </tr>\n",
       "    <tr>\n",
       "      <th>3</th>\n",
       "      <td>mineral water</td>\n",
       "      <td>milk</td>\n",
       "      <td>energy bar</td>\n",
       "      <td>whole wheat rice</td>\n",
       "      <td>green tea</td>\n",
       "      <td>NaN</td>\n",
       "      <td>NaN</td>\n",
       "      <td>NaN</td>\n",
       "      <td>NaN</td>\n",
       "      <td>NaN</td>\n",
       "      <td>NaN</td>\n",
       "      <td>NaN</td>\n",
       "      <td>NaN</td>\n",
       "      <td>NaN</td>\n",
       "      <td>NaN</td>\n",
       "      <td>NaN</td>\n",
       "      <td>NaN</td>\n",
       "      <td>NaN</td>\n",
       "      <td>NaN</td>\n",
       "      <td>NaN</td>\n",
       "    </tr>\n",
       "    <tr>\n",
       "      <th>4</th>\n",
       "      <td>low fat yogurt</td>\n",
       "      <td>NaN</td>\n",
       "      <td>NaN</td>\n",
       "      <td>NaN</td>\n",
       "      <td>NaN</td>\n",
       "      <td>NaN</td>\n",
       "      <td>NaN</td>\n",
       "      <td>NaN</td>\n",
       "      <td>NaN</td>\n",
       "      <td>NaN</td>\n",
       "      <td>NaN</td>\n",
       "      <td>NaN</td>\n",
       "      <td>NaN</td>\n",
       "      <td>NaN</td>\n",
       "      <td>NaN</td>\n",
       "      <td>NaN</td>\n",
       "      <td>NaN</td>\n",
       "      <td>NaN</td>\n",
       "      <td>NaN</td>\n",
       "      <td>NaN</td>\n",
       "    </tr>\n",
       "  </tbody>\n",
       "</table>\n",
       "</div>"
      ],
      "text/plain": [
       "           shrimp    almonds     avocado    vegetables mix green grapes  \\\n",
       "0         burgers  meatballs        eggs               NaN          NaN   \n",
       "1         chutney        NaN         NaN               NaN          NaN   \n",
       "2          turkey    avocado         NaN               NaN          NaN   \n",
       "3   mineral water       milk  energy bar  whole wheat rice    green tea   \n",
       "4  low fat yogurt        NaN         NaN               NaN          NaN   \n",
       "\n",
       "  whole weat flour yams cottage cheese energy drink tomato juice  \\\n",
       "0              NaN  NaN            NaN          NaN          NaN   \n",
       "1              NaN  NaN            NaN          NaN          NaN   \n",
       "2              NaN  NaN            NaN          NaN          NaN   \n",
       "3              NaN  NaN            NaN          NaN          NaN   \n",
       "4              NaN  NaN            NaN          NaN          NaN   \n",
       "\n",
       "  low fat yogurt green tea honey salad mineral water salmon antioxydant juice  \\\n",
       "0            NaN       NaN   NaN   NaN           NaN    NaN               NaN   \n",
       "1            NaN       NaN   NaN   NaN           NaN    NaN               NaN   \n",
       "2            NaN       NaN   NaN   NaN           NaN    NaN               NaN   \n",
       "3            NaN       NaN   NaN   NaN           NaN    NaN               NaN   \n",
       "4            NaN       NaN   NaN   NaN           NaN    NaN               NaN   \n",
       "\n",
       "  frozen smoothie spinach  olive oil  \n",
       "0             NaN     NaN        NaN  \n",
       "1             NaN     NaN        NaN  \n",
       "2             NaN     NaN        NaN  \n",
       "3             NaN     NaN        NaN  \n",
       "4             NaN     NaN        NaN  "
      ]
     },
     "execution_count": 67,
     "metadata": {},
     "output_type": "execute_result"
    }
   ],
   "source": [
    "data.head()"
   ]
  },
  {
   "cell_type": "code",
   "execution_count": 72,
   "metadata": {},
   "outputs": [
    {
     "name": "stdout",
     "output_type": "stream",
     "text": [
      "Requirement already satisfied: apyori in c:\\users\\mj\\anaconda3\\lib\\site-packages (1.1.2)\n"
     ]
    }
   ],
   "source": [
    "!pip install apyori\n",
    "from apyori import apriori"
   ]
  },
  {
   "cell_type": "code",
   "execution_count": 65,
   "metadata": {},
   "outputs": [
    {
     "name": "stdout",
     "output_type": "stream",
     "text": [
      "Requirement already satisfied: pip in c:\\users\\mj\\anaconda3\\lib\\site-packages (22.3.1)\n"
     ]
    }
   ],
   "source": [
    "!pip install --upgrade pip --user"
   ]
  },
  {
   "cell_type": "code",
   "execution_count": 68,
   "metadata": {},
   "outputs": [],
   "source": [
    "rules = apriori(transactions, min_support = 0.015, min_confidence=0.2, min_lift=1, min_length=1)"
   ]
  },
  {
   "cell_type": "code",
   "execution_count": 70,
   "metadata": {},
   "outputs": [
    {
     "data": {
      "text/plain": [
       "[]"
      ]
     },
     "execution_count": 70,
     "metadata": {},
     "output_type": "execute_result"
    }
   ],
   "source": [
    "results = list(rules)\n",
    "results"
   ]
  },
  {
   "cell_type": "code",
   "execution_count": 71,
   "metadata": {},
   "outputs": [
    {
     "name": "stdout",
     "output_type": "stream",
     "text": [
      "0\n"
     ]
    }
   ],
   "source": [
    "print(len(results))"
   ]
  },
  {
   "cell_type": "code",
   "execution_count": null,
   "metadata": {},
   "outputs": [],
   "source": [
    "df=pd.DataFrame(results)\n",
    "df"
   ]
  },
  {
   "cell_type": "code",
   "execution_count": null,
   "metadata": {},
   "outputs": [],
   "source": [
    "df.to_csv('apriori_result.csv')\n",
    "print(df.iloc[6:19][['items', 'support']])"
   ]
  },
  {
   "cell_type": "code",
   "execution_count": null,
   "metadata": {},
   "outputs": [],
   "source": [
    "ar=(df.iloc[1:74]['items'])\n",
    "ar"
   ]
  },
  {
   "cell_type": "code",
   "execution_count": null,
   "metadata": {},
   "outputs": [],
   "source": [
    "import networkx as nx\n",
    "import matplotlib.pyplot as plt\n",
    "plt.style.use('ggplot')\n",
    "plt.figure(figsize=(9,6))\n",
    "G = nx.Graph()\n",
    "G.add_edges_from(ar)\n",
    "pos = nx.spring_layout(G)\n",
    "nx.draw(G, pos, font_size=16, with_labels=False, edge_color='green',\n",
    "       node_size=800, node_color=['red', 'green', 'blue', 'cyan', 'orange', 'magenta'])\n",
    "for p in pos:\n",
    "    pos[p][1] += 0.07\n",
    "nx.draw_networkx_labels(G, pos)\n",
    "plt.show()\n"
   ]
  }
 ],
 "metadata": {
  "kernelspec": {
   "display_name": "Python 3",
   "language": "python",
   "name": "python3"
  },
  "language_info": {
   "codemirror_mode": {
    "name": "ipython",
    "version": 3
   },
   "file_extension": ".py",
   "mimetype": "text/x-python",
   "name": "python",
   "nbconvert_exporter": "python",
   "pygments_lexer": "ipython3",
   "version": "3.7.6"
  }
 },
 "nbformat": 4,
 "nbformat_minor": 4
}
